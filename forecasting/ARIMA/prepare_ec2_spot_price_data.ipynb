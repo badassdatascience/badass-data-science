{
 "cells": [
  {
   "cell_type": "code",
   "execution_count": null,
   "id": "e69e22a3-7e72-458a-a48a-efe4e5c1ef1f",
   "metadata": {},
   "outputs": [],
   "source": []
  },
  {
   "cell_type": "code",
   "execution_count": null,
   "id": "88b8ecfc-23ef-4b1f-91c8-25e0880576b6",
   "metadata": {},
   "outputs": [],
   "source": []
  },
  {
   "cell_type": "markdown",
   "id": "3a504f3c-8cdf-4956-978f-6c34eb6c8311",
   "metadata": {},
   "source": [
    "## Load useful libraries"
   ]
  },
  {
   "cell_type": "code",
   "execution_count": 1,
   "id": "534011a8-82e9-47b3-996f-27d855e82fcd",
   "metadata": {},
   "outputs": [],
   "source": [
    "from ec2SpotPriceData import ec2SpotPriceData"
   ]
  },
  {
   "cell_type": "markdown",
   "id": "8446402c-0418-47b3-9763-0e73a3fea72d",
   "metadata": {},
   "source": [
    "## User settings"
   ]
  },
  {
   "cell_type": "code",
   "execution_count": 2,
   "id": "4196723f-ece7-4b55-bfad-30b2748b057e",
   "metadata": {},
   "outputs": [],
   "source": [
    "output_filename_root_directory = '/home/emily/Desktop/projects/BDS/forecasting/ARIMA/output'"
   ]
  },
  {
   "cell_type": "markdown",
   "id": "5eaf01bb-cb9d-47e2-9033-fa12ae677e39",
   "metadata": {},
   "source": [
    "## Retrieve ec2 spot price data"
   ]
  },
  {
   "cell_type": "code",
   "execution_count": 3,
   "id": "0f25a714-d0c4-42f8-86e8-8d19defc5d16",
   "metadata": {},
   "outputs": [],
   "source": [
    "ec2_spot_price_data_instance = ec2SpotPriceData(\n",
    "    output_directory = output_filename_root_directory,\n",
    ")"
   ]
  },
  {
   "cell_type": "code",
   "execution_count": 4,
   "id": "097f4eb3-60f8-4a24-aee7-0493acec8079",
   "metadata": {},
   "outputs": [],
   "source": [
    "ec2_spot_price_data_instance.fit()"
   ]
  },
  {
   "cell_type": "markdown",
   "id": "fa5b02f9-49d0-4124-a224-0763bb131d13",
   "metadata": {},
   "source": [
    "## QC"
   ]
  },
  {
   "cell_type": "code",
   "execution_count": 5,
   "id": "d8ed3a05-1b4c-496d-b724-5e6fdc159138",
   "metadata": {},
   "outputs": [],
   "source": [
    "df = ec2_spot_price_data_instance.df"
   ]
  },
  {
   "cell_type": "code",
   "execution_count": 6,
   "id": "792590b8-5059-48a2-8a13-bf2240a0bf2a",
   "metadata": {},
   "outputs": [
    {
     "data": {
      "text/html": [
       "<div>\n",
       "<style scoped>\n",
       "    .dataframe tbody tr th:only-of-type {\n",
       "        vertical-align: middle;\n",
       "    }\n",
       "\n",
       "    .dataframe tbody tr th {\n",
       "        vertical-align: top;\n",
       "    }\n",
       "\n",
       "    .dataframe thead th {\n",
       "        text-align: right;\n",
       "    }\n",
       "</style>\n",
       "<table border=\"1\" class=\"dataframe\">\n",
       "  <thead>\n",
       "    <tr style=\"text-align: right;\">\n",
       "      <th></th>\n",
       "      <th>spot_price</th>\n",
       "    </tr>\n",
       "    <tr>\n",
       "      <th>Timestamp</th>\n",
       "      <th></th>\n",
       "    </tr>\n",
       "  </thead>\n",
       "  <tbody>\n",
       "    <tr>\n",
       "      <th>2024-09-20 00:00:00+00:00</th>\n",
       "      <td>0.070750</td>\n",
       "    </tr>\n",
       "    <tr>\n",
       "      <th>2024-09-21 00:00:00+00:00</th>\n",
       "      <td>0.071200</td>\n",
       "    </tr>\n",
       "    <tr>\n",
       "      <th>2024-09-22 00:00:00+00:00</th>\n",
       "      <td>0.072000</td>\n",
       "    </tr>\n",
       "    <tr>\n",
       "      <th>2024-09-23 00:00:00+00:00</th>\n",
       "      <td>0.072300</td>\n",
       "    </tr>\n",
       "    <tr>\n",
       "      <th>2024-09-24 00:00:00+00:00</th>\n",
       "      <td>0.072267</td>\n",
       "    </tr>\n",
       "    <tr>\n",
       "      <th>...</th>\n",
       "      <td>...</td>\n",
       "    </tr>\n",
       "    <tr>\n",
       "      <th>2024-12-15 00:00:00+00:00</th>\n",
       "      <td>0.066200</td>\n",
       "    </tr>\n",
       "    <tr>\n",
       "      <th>2024-12-16 00:00:00+00:00</th>\n",
       "      <td>0.066300</td>\n",
       "    </tr>\n",
       "    <tr>\n",
       "      <th>2024-12-17 00:00:00+00:00</th>\n",
       "      <td>0.066150</td>\n",
       "    </tr>\n",
       "    <tr>\n",
       "      <th>2024-12-18 00:00:00+00:00</th>\n",
       "      <td>0.066075</td>\n",
       "    </tr>\n",
       "    <tr>\n",
       "      <th>2024-12-19 00:00:00+00:00</th>\n",
       "      <td>0.066300</td>\n",
       "    </tr>\n",
       "  </tbody>\n",
       "</table>\n",
       "<p>91 rows × 1 columns</p>\n",
       "</div>"
      ],
      "text/plain": [
       "                           spot_price\n",
       "Timestamp                            \n",
       "2024-09-20 00:00:00+00:00    0.070750\n",
       "2024-09-21 00:00:00+00:00    0.071200\n",
       "2024-09-22 00:00:00+00:00    0.072000\n",
       "2024-09-23 00:00:00+00:00    0.072300\n",
       "2024-09-24 00:00:00+00:00    0.072267\n",
       "...                               ...\n",
       "2024-12-15 00:00:00+00:00    0.066200\n",
       "2024-12-16 00:00:00+00:00    0.066300\n",
       "2024-12-17 00:00:00+00:00    0.066150\n",
       "2024-12-18 00:00:00+00:00    0.066075\n",
       "2024-12-19 00:00:00+00:00    0.066300\n",
       "\n",
       "[91 rows x 1 columns]"
      ]
     },
     "execution_count": 6,
     "metadata": {},
     "output_type": "execute_result"
    }
   ],
   "source": [
    "df"
   ]
  },
  {
   "cell_type": "code",
   "execution_count": 7,
   "id": "f322515d-3575-4e3a-9d70-39055c69dba1",
   "metadata": {},
   "outputs": [
    {
     "data": {
      "text/html": [
       "<div>\n",
       "<style scoped>\n",
       "    .dataframe tbody tr th:only-of-type {\n",
       "        vertical-align: middle;\n",
       "    }\n",
       "\n",
       "    .dataframe tbody tr th {\n",
       "        vertical-align: top;\n",
       "    }\n",
       "\n",
       "    .dataframe thead th {\n",
       "        text-align: right;\n",
       "    }\n",
       "</style>\n",
       "<table border=\"1\" class=\"dataframe\">\n",
       "  <thead>\n",
       "    <tr style=\"text-align: right;\">\n",
       "      <th></th>\n",
       "      <th>AvailabilityZone</th>\n",
       "      <th>InstanceType</th>\n",
       "      <th>ProductDescription</th>\n",
       "      <th>SpotPrice</th>\n",
       "      <th>Timestamp</th>\n",
       "    </tr>\n",
       "    <tr>\n",
       "      <th>Timestamp</th>\n",
       "      <th></th>\n",
       "      <th></th>\n",
       "      <th></th>\n",
       "      <th></th>\n",
       "      <th></th>\n",
       "    </tr>\n",
       "  </thead>\n",
       "  <tbody>\n",
       "    <tr>\n",
       "      <th>2024-09-20 17:33:37+00:00</th>\n",
       "      <td>us-west-2a</td>\n",
       "      <td>m2.xlarge</td>\n",
       "      <td>Linux/UNIX</td>\n",
       "      <td>0.070700</td>\n",
       "      <td>2024-09-20 17:33:37+00:00</td>\n",
       "    </tr>\n",
       "    <tr>\n",
       "      <th>2024-09-20 20:47:34+00:00</th>\n",
       "      <td>us-west-2a</td>\n",
       "      <td>m2.xlarge</td>\n",
       "      <td>Linux/UNIX</td>\n",
       "      <td>0.070800</td>\n",
       "      <td>2024-09-20 20:47:34+00:00</td>\n",
       "    </tr>\n",
       "    <tr>\n",
       "      <th>2024-09-21 01:33:35+00:00</th>\n",
       "      <td>us-west-2a</td>\n",
       "      <td>m2.xlarge</td>\n",
       "      <td>Linux/UNIX</td>\n",
       "      <td>0.071000</td>\n",
       "      <td>2024-09-21 01:33:35+00:00</td>\n",
       "    </tr>\n",
       "    <tr>\n",
       "      <th>2024-09-21 10:17:25+00:00</th>\n",
       "      <td>us-west-2a</td>\n",
       "      <td>m2.xlarge</td>\n",
       "      <td>Linux/UNIX</td>\n",
       "      <td>0.071100</td>\n",
       "      <td>2024-09-21 10:17:25+00:00</td>\n",
       "    </tr>\n",
       "    <tr>\n",
       "      <th>2024-09-21 13:48:33+00:00</th>\n",
       "      <td>us-west-2a</td>\n",
       "      <td>m2.xlarge</td>\n",
       "      <td>Linux/UNIX</td>\n",
       "      <td>0.071300</td>\n",
       "      <td>2024-09-21 13:48:33+00:00</td>\n",
       "    </tr>\n",
       "    <tr>\n",
       "      <th>...</th>\n",
       "      <td>...</td>\n",
       "      <td>...</td>\n",
       "      <td>...</td>\n",
       "      <td>...</td>\n",
       "      <td>...</td>\n",
       "    </tr>\n",
       "    <tr>\n",
       "      <th>2024-12-18 15:47:33+00:00</th>\n",
       "      <td>us-west-2a</td>\n",
       "      <td>m2.xlarge</td>\n",
       "      <td>Linux/UNIX</td>\n",
       "      <td>0.065700</td>\n",
       "      <td>2024-12-18 15:47:33+00:00</td>\n",
       "    </tr>\n",
       "    <tr>\n",
       "      <th>2024-12-18 19:03:41+00:00</th>\n",
       "      <td>us-west-2a</td>\n",
       "      <td>m2.xlarge</td>\n",
       "      <td>Linux/UNIX</td>\n",
       "      <td>0.066000</td>\n",
       "      <td>2024-12-18 19:03:41+00:00</td>\n",
       "    </tr>\n",
       "    <tr>\n",
       "      <th>2024-12-19 00:48:22+00:00</th>\n",
       "      <td>us-west-2a</td>\n",
       "      <td>m2.xlarge</td>\n",
       "      <td>Linux/UNIX</td>\n",
       "      <td>0.066400</td>\n",
       "      <td>2024-12-19 00:48:22+00:00</td>\n",
       "    </tr>\n",
       "    <tr>\n",
       "      <th>2024-12-19 05:48:27+00:00</th>\n",
       "      <td>us-west-2a</td>\n",
       "      <td>m2.xlarge</td>\n",
       "      <td>Linux/UNIX</td>\n",
       "      <td>0.066000</td>\n",
       "      <td>2024-12-19 05:48:27+00:00</td>\n",
       "    </tr>\n",
       "    <tr>\n",
       "      <th>2024-12-19 13:48:41+00:00</th>\n",
       "      <td>us-west-2a</td>\n",
       "      <td>m2.xlarge</td>\n",
       "      <td>Linux/UNIX</td>\n",
       "      <td>0.066500</td>\n",
       "      <td>2024-12-19 13:48:41+00:00</td>\n",
       "    </tr>\n",
       "  </tbody>\n",
       "</table>\n",
       "<p>288 rows × 5 columns</p>\n",
       "</div>"
      ],
      "text/plain": [
       "                          AvailabilityZone InstanceType ProductDescription  \\\n",
       "Timestamp                                                                    \n",
       "2024-09-20 17:33:37+00:00       us-west-2a    m2.xlarge         Linux/UNIX   \n",
       "2024-09-20 20:47:34+00:00       us-west-2a    m2.xlarge         Linux/UNIX   \n",
       "2024-09-21 01:33:35+00:00       us-west-2a    m2.xlarge         Linux/UNIX   \n",
       "2024-09-21 10:17:25+00:00       us-west-2a    m2.xlarge         Linux/UNIX   \n",
       "2024-09-21 13:48:33+00:00       us-west-2a    m2.xlarge         Linux/UNIX   \n",
       "...                                    ...          ...                ...   \n",
       "2024-12-18 15:47:33+00:00       us-west-2a    m2.xlarge         Linux/UNIX   \n",
       "2024-12-18 19:03:41+00:00       us-west-2a    m2.xlarge         Linux/UNIX   \n",
       "2024-12-19 00:48:22+00:00       us-west-2a    m2.xlarge         Linux/UNIX   \n",
       "2024-12-19 05:48:27+00:00       us-west-2a    m2.xlarge         Linux/UNIX   \n",
       "2024-12-19 13:48:41+00:00       us-west-2a    m2.xlarge         Linux/UNIX   \n",
       "\n",
       "                          SpotPrice                 Timestamp  \n",
       "Timestamp                                                      \n",
       "2024-09-20 17:33:37+00:00  0.070700 2024-09-20 17:33:37+00:00  \n",
       "2024-09-20 20:47:34+00:00  0.070800 2024-09-20 20:47:34+00:00  \n",
       "2024-09-21 01:33:35+00:00  0.071000 2024-09-21 01:33:35+00:00  \n",
       "2024-09-21 10:17:25+00:00  0.071100 2024-09-21 10:17:25+00:00  \n",
       "2024-09-21 13:48:33+00:00  0.071300 2024-09-21 13:48:33+00:00  \n",
       "...                             ...                       ...  \n",
       "2024-12-18 15:47:33+00:00  0.065700 2024-12-18 15:47:33+00:00  \n",
       "2024-12-18 19:03:41+00:00  0.066000 2024-12-18 19:03:41+00:00  \n",
       "2024-12-19 00:48:22+00:00  0.066400 2024-12-19 00:48:22+00:00  \n",
       "2024-12-19 05:48:27+00:00  0.066000 2024-12-19 05:48:27+00:00  \n",
       "2024-12-19 13:48:41+00:00  0.066500 2024-12-19 13:48:41+00:00  \n",
       "\n",
       "[288 rows x 5 columns]"
      ]
     },
     "execution_count": 7,
     "metadata": {},
     "output_type": "execute_result"
    }
   ],
   "source": [
    "ec2_spot_price_data_instance.df_pre_resample"
   ]
  },
  {
   "cell_type": "code",
   "execution_count": 8,
   "id": "0eb67147-8ea6-4dbe-b45d-0a787bec5b1e",
   "metadata": {},
   "outputs": [
    {
     "data": {
      "text/plain": [
       "Timestamp('2024-09-20 17:33:37+0000', tz='tzutc()')"
      ]
     },
     "execution_count": 8,
     "metadata": {},
     "output_type": "execute_result"
    }
   ],
   "source": [
    "min(ec2_spot_price_data_instance.df_pre_resample['Timestamp'])"
   ]
  },
  {
   "cell_type": "code",
   "execution_count": 9,
   "id": "3e0de764-54a9-45f8-a3c8-d94c480884b3",
   "metadata": {},
   "outputs": [
    {
     "data": {
      "text/plain": [
       "Timestamp('2024-12-19 13:48:41+0000', tz='tzutc()')"
      ]
     },
     "execution_count": 9,
     "metadata": {},
     "output_type": "execute_result"
    }
   ],
   "source": [
    "max(ec2_spot_price_data_instance.df_pre_resample['Timestamp'])"
   ]
  },
  {
   "cell_type": "markdown",
   "id": "63f4ce79-0ed7-4081-b209-5c39a49a2ee7",
   "metadata": {},
   "source": [
    "## Plot"
   ]
  },
  {
   "cell_type": "code",
   "execution_count": 10,
   "id": "42029aeb-1998-4cb1-9f69-189438ccf52b",
   "metadata": {
    "scrolled": true
   },
   "outputs": [
    {
     "data": {
      "image/png": "[encoded data removed]",
      "text/plain": [
       "<Figure size 640x480 with 1 Axes>"
      ]
     },
     "metadata": {},
     "output_type": "display_data"
    }
   ],
   "source": [
    "ec2_spot_price_data_instance.plot(save = True)"
   ]
  },
  {
   "cell_type": "markdown",
   "id": "99d82e0b-4e9b-42c1-aab5-0c62de8801bc",
   "metadata": {},
   "source": [
    "## Save"
   ]
  },
  {
   "cell_type": "code",
   "execution_count": 11,
   "id": "0f4a3000-959a-4796-ba7d-1681d9f4fd04",
   "metadata": {},
   "outputs": [],
   "source": [
    "ec2_spot_price_data_instance.save()"
   ]
  },
  {
   "cell_type": "code",
   "execution_count": null,
   "id": "8ae089ed-8eb4-4dd3-bed0-e327eb67da63",
   "metadata": {},
   "outputs": [],
   "source": []
  }
 ],
 "metadata": {
  "kernelspec": {
   "display_name": "Python 3 (ipykernel)",
   "language": "python",
   "name": "python3"
  },
  "language_info": {
   "codemirror_mode": {
    "name": "ipython",
    "version": 3
   },
   "file_extension": ".py",
   "mimetype": "text/x-python",
   "name": "python",
   "nbconvert_exporter": "python",
   "pygments_lexer": "ipython3",
   "version": "3.10.12"
  }
 },
 "nbformat": 4,
 "nbformat_minor": 5
}
