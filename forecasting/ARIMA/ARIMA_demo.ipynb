{
 "cells": [
  {
   "cell_type": "markdown",
   "id": "fefd8ed0-244f-4351-9cef-605b61006f55",
   "metadata": {},
   "source": [
    "# ARIMA Forecasting Demonstration\n",
    "\n",
    "This notebook forecasts AWS EC2 spot prices using ARIMA. Parameters are identified both manually and through a grid search, after which these two parameter-generating methods are compared.\n",
    "\n",
    "Beyond ARIMA, this code demonstrates multiprocess computing (for the ARIMA parameter grid search) and object-oriented programming in the \"prepare_data\" module."
   ]
  },
  {
   "cell_type": "markdown",
   "id": "bc157c54-8d4d-4f02-babc-0eeb5fb9709e",
   "metadata": {},
   "source": [
    "## Reduce the listing of warnings"
   ]
  },
  {
   "cell_type": "code",
   "execution_count": 1,
   "id": "2dc416fa-1a46-432c-8aeb-19970be98b41",
   "metadata": {},
   "outputs": [],
   "source": [
    "import warnings\n",
    "warnings.filterwarnings('ignore')\n",
    "warnings.simplefilter('ignore')"
   ]
  },
  {
   "cell_type": "markdown",
   "id": "a9076abf-6ba7-4e2a-8955-b6d7b620b521",
   "metadata": {},
   "source": [
    "## Load useful system modules"
   ]
  },
  {
   "cell_type": "code",
   "execution_count": 2,
   "id": "19e12571-865e-4b54-99b8-46168b145291",
   "metadata": {},
   "outputs": [],
   "source": [
    "import pandas as pd\n",
    "import pickle\n",
    "import matplotlib.pyplot as plt\n",
    "import numpy as np\n",
    "from itertools import product\n",
    "import datetime\n",
    "import json\n",
    "\n",
    "from statsmodels.graphics.tsaplots import plot_acf, plot_pacf\n",
    "from statsmodels.tsa.arima.model import ARIMA\n",
    "from statsmodels.tsa.stattools import adfuller\n",
    "\n",
    "from sklearn.metrics import mean_squared_error\n",
    "from multiprocessing import Pool"
   ]
  },
  {
   "cell_type": "markdown",
   "id": "4dd02bb1-f6c6-495e-941e-62a10bdf67bc",
   "metadata": {},
   "source": [
    "## Load repository modules"
   ]
  },
  {
   "cell_type": "code",
   "execution_count": 3,
   "id": "8d810091-339f-4e58-97a6-2b0939536971",
   "metadata": {},
   "outputs": [],
   "source": [
    "import sys\n",
    "import os\n",
    "\n",
    "bds_home = os.environ['BDS_HOME']\n",
    "sys.path.append(bds_home)\n",
    "from forecasting.prepare_AWS_EC2_spot_price_data.ec2SpotPriceData import ec2SpotPriceData"
   ]
  },
  {
   "cell_type": "code",
   "execution_count": null,
   "id": "f7c85605-631e-4c22-895d-1f69e0d49a61",
   "metadata": {},
   "outputs": [],
   "source": []
  },
  {
   "cell_type": "code",
   "execution_count": 4,
   "id": "744cd286-6c85-4604-ae4e-5e4f384d2a79",
   "metadata": {},
   "outputs": [
    {
     "name": "stdout",
     "output_type": "stream",
     "text": [
      "<class 'forecasting.prepare_AWS_EC2_spot_price_data.ec2SpotPriceData.ec2SpotPriceData'>\n"
     ]
    }
   ],
   "source": [
    "print(ec2SpotPriceData)"
   ]
  },
  {
   "cell_type": "code",
   "execution_count": null,
   "id": "aaafb55c-97eb-4734-aff1-13dfd9cab12b",
   "metadata": {},
   "outputs": [],
   "source": []
  },
  {
   "cell_type": "code",
   "execution_count": null,
   "id": "ef4bc2bc-060e-4d41-8f62-672f7dba33a1",
   "metadata": {},
   "outputs": [],
   "source": []
  },
  {
   "cell_type": "markdown",
   "id": "10ebf1df-7f2e-4a94-aae9-9e823e2a2444",
   "metadata": {},
   "source": [
    "## Specify user settings\n",
    "\n",
    "Ideally this would be loaded from a configuration file:"
   ]
  },
  {
   "cell_type": "code",
   "execution_count": 6,
   "id": "d168c8e0-2ac5-4fd4-80f3-6aef65106fe1",
   "metadata": {},
   "outputs": [],
   "source": [
    "proportion_of_timestamps_to_train_model_with = 0.9\n",
    "n_grid_search_p_d_q = 6\n",
    "time_series_frequency = 'D'\n",
    "\n",
    "input_pickle_file = (\n",
    "    bds_home + '/forecasting/prepare_AWS_EC2_spot_price_data/' + \n",
    "    'output/' +\n",
    "    'ec2_instance__' +\n",
    "    'e515beb5-9e4d-43e7-9727-24b3ae80296f675d14d8-865c-4a55-b985-68b3d1962a1d__' +\n",
    "    '1735090958.0603635.pickle'\n",
    ")\n",
    "\n",
    "configuration_json_filename = bds_home + '/forecasting/prepare_AWS_EC2_spot_price_data/configuration.json'"
   ]
  },
  {
   "cell_type": "markdown",
   "id": "b63e3f70-76b3-46d0-8f99-31200e158c27",
   "metadata": {},
   "source": [
    "## Get data\n",
    "\n",
    "We either pull spot price data from the AWS EC2 API or we load previously saved data"
   ]
  },
  {
   "cell_type": "code",
   "execution_count": 10,
   "id": "702dd7fa-9b6b-451c-86ba-6fcb1a9e7a70",
   "metadata": {},
   "outputs": [
    {
     "name": "stdout",
     "output_type": "stream",
     "text": [
      "{'output_filename_root_directory': 'output', 'product_description': 'Linux/UNIX', 'availability_zone': 'us-west-2a', 'instance_type': 'm2.xlarge', 'time_to_sleep_between_post_requests': 5, 'number_of_times_to_run_post_requests': 5, 'frequency_str': '1440min'}\n",
      "<class 'dict'>\n",
      "\n"
     ]
    },
    {
     "ename": "TypeError",
     "evalue": "expected str, bytes or os.PathLike object, not dict",
     "output_type": "error",
     "traceback": [
      "\u001b[0;31m---------------------------------------------------------------------------\u001b[0m",
      "\u001b[0;31mTypeError\u001b[0m                                 Traceback (most recent call last)",
      "Cell \u001b[0;32mIn[10], line 9\u001b[0m\n\u001b[1;32m      6\u001b[0m \u001b[38;5;28mprint\u001b[39m()\n\u001b[1;32m      8\u001b[0m \u001b[38;5;28;01mwith\u001b[39;00m \u001b[38;5;28mopen\u001b[39m(input_pickle_file, \u001b[38;5;124m'\u001b[39m\u001b[38;5;124mrb\u001b[39m\u001b[38;5;124m'\u001b[39m) \u001b[38;5;28;01mas\u001b[39;00m f:\n\u001b[0;32m----> 9\u001b[0m     instance \u001b[38;5;241m=\u001b[39m \u001b[43mec2SpotPriceData\u001b[49m\u001b[43m(\u001b[49m\u001b[43mconfig\u001b[49m\u001b[43m)\u001b[49m\n\u001b[1;32m     11\u001b[0m \u001b[38;5;66;03m#df = instance.df\u001b[39;00m\n\u001b[1;32m     12\u001b[0m \n\u001b[1;32m     13\u001b[0m \u001b[38;5;66;03m#df\u001b[39;00m\n",
      "File \u001b[0;32m~/Desktop/projects/test/bds/forecasting/prepare_AWS_EC2_spot_price_data/ec2SpotPriceData.py:28\u001b[0m, in \u001b[0;36mec2SpotPriceData.__init__\u001b[0;34m(self, configuration_json_filename)\u001b[0m\n\u001b[1;32m     23\u001b[0m \u001b[38;5;28;01mdef\u001b[39;00m \u001b[38;5;21m__init__\u001b[39m(\n\u001b[1;32m     24\u001b[0m         \u001b[38;5;28mself\u001b[39m,\n\u001b[1;32m     25\u001b[0m         configuration_json_filename,\n\u001b[1;32m     26\u001b[0m ):\n\u001b[0;32m---> 28\u001b[0m     \u001b[38;5;28;01mwith\u001b[39;00m \u001b[38;5;28;43mopen\u001b[39;49m\u001b[43m(\u001b[49m\u001b[43mconfiguration_json_filename\u001b[49m\u001b[43m)\u001b[49m \u001b[38;5;28;01mas\u001b[39;00m f:\n\u001b[1;32m     29\u001b[0m         \u001b[38;5;28mself\u001b[39m\u001b[38;5;241m.\u001b[39mconfig \u001b[38;5;241m=\u001b[39m json\u001b[38;5;241m.\u001b[39mload(f)\n\u001b[1;32m     31\u001b[0m     \u001b[38;5;28mself\u001b[39m\u001b[38;5;241m.\u001b[39mconfiguration_json_filename \u001b[38;5;241m=\u001b[39m configuration_json_filename\n",
      "\u001b[0;31mTypeError\u001b[0m: expected str, bytes or os.PathLike object, not dict"
     ]
    }
   ],
   "source": [
    "with open(configuration_json_filename) as f:\n",
    "    config = json.load(f)\n",
    "\n",
    "print(config)\n",
    "print(type(config))\n",
    "print()\n",
    "    \n",
    "with open(input_pickle_file, 'rb') as f:\n",
    "    instance = ec2SpotPriceData(config)\n",
    "\n",
    "#df = instance.df\n",
    "\n",
    "#df"
   ]
  },
  {
   "cell_type": "markdown",
   "id": "6af1c3fb-e1fa-4b34-ac0d-e601cebed662",
   "metadata": {},
   "source": [
    "## Visually inspect the data"
   ]
  },
  {
   "cell_type": "code",
   "execution_count": null,
   "id": "473cffdc-181a-44d3-a387-57f4b26f5f16",
   "metadata": {},
   "outputs": [],
   "source": [
    "df"
   ]
  },
  {
   "cell_type": "markdown",
   "id": "cf71901f-578a-401c-b14d-39bd8fa64a46",
   "metadata": {},
   "source": [
    "## Divide into training and test sets\n",
    "\n",
    "For time series work, it is important that the test set chronologically follows the training set:"
   ]
  },
  {
   "cell_type": "code",
   "execution_count": null,
   "id": "306daba0-0c7a-44f9-aade-ccb0906251e3",
   "metadata": {},
   "outputs": [],
   "source": [
    "n_train = np.int32(np.round(proportion_of_timestamps_to_train_model_with * len(df.index)))\n",
    "n_test = np.int32(np.round((1. - proportion_of_timestamps_to_train_model_with) * len(df.index)))"
   ]
  },
  {
   "cell_type": "code",
   "execution_count": null,
   "id": "881ad605-2904-435d-b767-7ca0cca7479f",
   "metadata": {},
   "outputs": [],
   "source": [
    "df_train = df.iloc[0:n_train, :]\n",
    "df_test = df.iloc[n_train:, :]\n",
    "\n",
    "# QA\n",
    "print(len(df_train.index) + len(df_test.index))"
   ]
  },
  {
   "cell_type": "markdown",
   "id": "cbe15875-c064-4a32-b724-ecd2a9cb6fcd",
   "metadata": {},
   "source": [
    "## Plot the time series we plan to model"
   ]
  },
  {
   "cell_type": "code",
   "execution_count": null,
   "id": "9a8ab110-41c8-4d89-8384-04d9d07f4295",
   "metadata": {},
   "outputs": [],
   "source": [
    "plt.figure()\n",
    "plt.plot(df_train.index, df_train['spot_price'], label = 'Historical Data')\n",
    "plt.plot(df_test.index, df_test['spot_price'], label = 'Known \"Future\"')\n",
    "plt.title('Mean Daily EC2 Spot Instance Price for ' + instance.config['availability_zone'])\n",
    "plt.xlabel('Date')\n",
    "plt.ylabel('Price (USD)')\n",
    "plt.xticks(rotation = 85)\n",
    "plt.legend()\n",
    "plt.tight_layout()\n",
    "plt.show()\n",
    "plt.close()"
   ]
  },
  {
   "cell_type": "markdown",
   "id": "f66a48e2-bc37-4abf-a07d-136a8b790fb9",
   "metadata": {},
   "source": [
    "## Plot the ACF and PACF of the training data"
   ]
  },
  {
   "cell_type": "code",
   "execution_count": null,
   "id": "5f99f556-7861-4d79-b636-5da8e425b07d",
   "metadata": {},
   "outputs": [],
   "source": [
    "plot_acf(df_train['spot_price'])\n",
    "plt.show()\n",
    "plt.close()\n",
    "\n",
    "plot_pacf(df_train['spot_price'])\n",
    "plt.show()\n",
    "plt.close()"
   ]
  },
  {
   "cell_type": "markdown",
   "id": "a7694962-1771-4c2a-813c-8fbaa4c7f6fa",
   "metadata": {},
   "source": [
    "# Visually inspect the ACF and PACF to estimate p and q values for the forthcoming ARIMA"
   ]
  },
  {
   "cell_type": "code",
   "execution_count": null,
   "id": "dfcb05f6-0a46-40db-acbd-200252c5b7d5",
   "metadata": {},
   "outputs": [],
   "source": [
    "p_visual = 2  # This is the count of lags on the ACF between lag zero and the first lag having a correlation value within the shaded area, exclusive.\n",
    "q_visual = 6  # This is the count of lags on the PACF between lag zero and the first lag having a correlation value within the shaded area, exclusive."
   ]
  },
  {
   "cell_type": "markdown",
   "id": "d6d732a4-625d-4c87-9437-a12b6cf79db3",
   "metadata": {},
   "source": [
    "# Difference the training time series to select a value for ARIMA parameter \"d\"\n",
    "\n",
    "This starts with d = 0 and iterates a differencing loop to find the first value of d that produces a Augmented Dickey–Fuller test having a p-value less or equal to 0.5:"
   ]
  },
  {
   "cell_type": "code",
   "execution_count": null,
   "id": "dbd76b45-d73b-4366-9d86-c688d57da76a",
   "metadata": {},
   "outputs": [],
   "source": [
    "# https://machinelearningmastery.com/time-series-data-stationary-python/\n",
    "\n",
    "p_value = 1.\n",
    "d_iterative_search = -1\n",
    "\n",
    "while p_value > 0.05:\n",
    "\n",
    "    d_iterative_search += 1\n",
    "    \n",
    "    if d_iterative_search == 0:\n",
    "        series_train_diff = df_train['spot_price'] - 0.\n",
    "    else:\n",
    "        series_train_diff = df_train['spot_price'] - df_train['spot_price'].shift(-1 * d_iterative_search)\n",
    "\n",
    "    result = adfuller(series_train_diff.dropna())\n",
    "\n",
    "    print('d = %i' % d_iterative_search)\n",
    "    print('ADF Statistic: %f' % result[0])\n",
    "    print('p-value: %f' % result[1])\n",
    "    print('Critical Values:')\n",
    "    for key, value in result[4].items():\n",
    "    \tprint('\\t%s: %.3f' % (key, value))\n",
    "\n",
    "    p_value = result[1]\n",
    "    print()\n",
    "\n",
    "print('Final differencing term: d = %i' % d_iterative_search)"
   ]
  },
  {
   "cell_type": "markdown",
   "id": "2a246804-a7ea-4674-83be-e254b1f32402",
   "metadata": {},
   "source": [
    "# Define a plotting function for reuse\n",
    "\n",
    "Given training data, testing data, an ARIMA model fit, this function plots known and forecast results:"
   ]
  },
  {
   "cell_type": "code",
   "execution_count": null,
   "id": "3732b3a7-2c2e-4b26-ab5d-d35775b90b31",
   "metadata": {},
   "outputs": [],
   "source": [
    "def plot_it_all(\n",
    "    df_train,\n",
    "    df_test,\n",
    "    fit,\n",
    "    column_name = 'spot_price',\n",
    "    label_historical = 'Historical Values',\n",
    "    label_model_of_historical = 'ARIMA Fit on Historical Values',\n",
    "    label_known_future = 'Known Future',\n",
    "    label_forecast_future = 'Forecast Future',   \n",
    "):\n",
    "\n",
    "    y_fit = fit.predict()\n",
    "    y_predicted = fit.forecast(steps = len(df_test.index))\n",
    "\n",
    "    full_index_as_date_list = [x.date for x in df_train.index]\n",
    "    full_index_as_date_list.extend([x.date for x in df_test.index])\n",
    "\n",
    "    plt.figure()\n",
    "    plt.plot(df_train.index, df_train[column_name], label = label_historical)\n",
    "    plt.plot(df_train.index[2:], y_fit[2:], label = label_model_of_historical)\n",
    "    plt.plot(df_test.index, df_test[column_name], label = label_known_future)\n",
    "    plt.plot(df_test.index, y_predicted, label = label_forecast_future)\n",
    "    plt.xticks(rotation = 85)\n",
    "    plt.legend()\n",
    "    plt.tight_layout()\n",
    "    plt.show()\n",
    "    plt.close()"
   ]
  },
  {
   "cell_type": "markdown",
   "id": "bc1e0c65-f191-4f92-8f52-c987c9628096",
   "metadata": {},
   "source": [
    "## Build an ARIMA model using the parameters derived from visual inspection (p and q) and from the differencing operation (d) \n",
    "\n",
    "...and plot it:"
   ]
  },
  {
   "cell_type": "code",
   "execution_count": null,
   "id": "e263ec27-5d24-4e4a-86de-ef45d2a5e127",
   "metadata": {},
   "outputs": [],
   "source": [
    "model = ARIMA(df_train['spot_price'], freq = time_series_frequency, order = (p_visual, d_iterative_search, q_visual))\n",
    "fit = model.fit()\n",
    "plot_it_all(df_train, df_test, fit)"
   ]
  },
  {
   "cell_type": "markdown",
   "id": "1db6748e-9d35-40b5-9127-b123b2acbb58",
   "metadata": {},
   "source": [
    "## Build an ARIMA model using an automated search for the best parameters\n",
    "\n",
    "We use a grid search to find the ARIMA parameters than minimize the MSE. A hill-climbing algorithm would be more elegant, but because we farm the calculations out to multiple processes, this procedure proves fast enough.\n",
    "\n",
    "...and we plot it:"
   ]
  },
  {
   "cell_type": "code",
   "execution_count": null,
   "id": "9aa40ed8-7056-4e35-83db-d777fb6b2ceb",
   "metadata": {},
   "outputs": [],
   "source": [
    "%%capture --no-stderr\n",
    "\n",
    "order_list = product(\n",
    "    list(\n",
    "        range(0, n_grid_search_p_d_q)\n",
    "    ), \n",
    "    list(\n",
    "        range(0, n_grid_search_p_d_q)\n",
    "    ),\n",
    "    list(\n",
    "        range(0, n_grid_search_p_d_q)\n",
    "    )\n",
    ")\n",
    "\n",
    "def compute_ARIMA_model_for_a_given_order(order):\n",
    "\n",
    "    try:\n",
    "        model = ARIMA(df_train['spot_price'], freq = time_series_frequency, order = order)\n",
    "        fit = model.fit()\n",
    "        mse = mean_squared_error(df_train['spot_price'], fit.fittedvalues)\n",
    "    except np.linalg.LinAlgError as e:\n",
    "        mse = None\n",
    "   \n",
    "    return mse, order\n",
    "\n",
    "with Pool(5) as pool:\n",
    "    results = pool.map(compute_ARIMA_model_for_a_given_order, list(order_list))\n",
    "\n",
    "mse_dict = {}\n",
    "for mse, order in results:\n",
    "    mse_f = float(mse)\n",
    "    if not mse_f in mse_dict:\n",
    "        mse_dict[mse_f] = []\n",
    "    mse_dict[mse_f].append(order)\n",
    "\n",
    "min_mse = min(mse_dict.keys())\n",
    "\n",
    "best_order = mse_dict[min_mse][0]"
   ]
  },
  {
   "cell_type": "code",
   "execution_count": null,
   "id": "5b846cb9-2bdd-409b-bfbe-b0d4cc01592c",
   "metadata": {},
   "outputs": [],
   "source": [
    "print(best_order)\n",
    "\n",
    "model_best = ARIMA(df_train['spot_price'], freq = time_series_frequency, order = best_order)\n",
    "fit_best = model_best.fit()\n",
    "plot_it_all(df_train, df_test, fit_best)"
   ]
  },
  {
   "cell_type": "markdown",
   "id": "453a8a96-4259-4d73-9e6c-e40cfd9335e1",
   "metadata": {},
   "source": [
    "## Compare the models\n",
    "\n",
    "We compare the model based on visually selected parameters to the model based on automatically selected \"best\" parameters.\n",
    "\n",
    "The fit generated using the grid search-identified parameters has a lower AIC than the fit generated from visual inspection. By contrast, the fit generated from visual inspection has a lower BIC than the fit using the grid search-identified parameters. So I conclude that both sets of parameters are defendible."
   ]
  },
  {
   "cell_type": "code",
   "execution_count": null,
   "id": "bb478cb5-ecc8-4978-9150-2d4ce1ecb236",
   "metadata": {},
   "outputs": [],
   "source": [
    "print(fit.aic, fit_best.aic)\n",
    "print(fit.bic, fit_best.bic)"
   ]
  },
  {
   "cell_type": "code",
   "execution_count": null,
   "id": "d516014d-de8e-4d65-aaff-983016386870",
   "metadata": {},
   "outputs": [],
   "source": [
    "def plot_it_all_compare(\n",
    "    df_train,\n",
    "    df_test,\n",
    "    fit,\n",
    "    fit_best,\n",
    "    column_name = 'spot_price',\n",
    "    label_historical = 'Historical Values',\n",
    "    label_model_of_historical = 'ARIMA Fit on Historical Values',\n",
    "    label_known_future = 'Known Future',\n",
    "    label_forecast_future = 'Forecast Future',\n",
    "    label_best_forecast_future = 'Best Forecast Future',\n",
    "):\n",
    "\n",
    "    y_fit = fit.predict()\n",
    "    y_predicted = fit.forecast(steps = len(df_test.index))\n",
    "    y_fit_best = fit_best.predict()\n",
    "    y_best_predicted = fit_best.forecast(steps = len(df_test.index))\n",
    "\n",
    "    full_index_as_date_list = [x.date for x in df_train.index]\n",
    "    full_index_as_date_list.extend([x.date for x in df_test.index])\n",
    "\n",
    "    plt.figure()\n",
    "    plt.plot(df_train.index, df_train[column_name], label = label_historical)\n",
    "    plt.plot(df_train.index[2:], y_fit[2:], label = label_model_of_historical)\n",
    "    plt.plot(df_test.index, df_test[column_name], label = label_known_future)\n",
    "    plt.plot(df_test.index, y_predicted, label = label_forecast_future)\n",
    "    plt.plot(df_test.index, y_best_predicted, label = label_best_forecast_future)\n",
    "    plt.xticks(rotation = 85)\n",
    "    plt.legend()\n",
    "    plt.tight_layout()\n",
    "    plt.show()\n",
    "    plt.close()"
   ]
  },
  {
   "cell_type": "code",
   "execution_count": null,
   "id": "0a294502-712c-4023-88e4-8be5176340d0",
   "metadata": {},
   "outputs": [],
   "source": [
    "plot_it_all_compare(df_train, df_test, fit, fit_best)"
   ]
  },
  {
   "cell_type": "code",
   "execution_count": null,
   "id": "77e65793-5201-4511-a5b3-2da0fa335b61",
   "metadata": {},
   "outputs": [],
   "source": []
  },
  {
   "cell_type": "code",
   "execution_count": null,
   "id": "a50cdf9b-e8dc-4bdd-a652-9c78af98bf4e",
   "metadata": {},
   "outputs": [],
   "source": []
  }
 ],
 "metadata": {
  "kernelspec": {
   "display_name": "Python 3 (ipykernel)",
   "language": "python",
   "name": "python3"
  },
  "language_info": {
   "codemirror_mode": {
    "name": "ipython",
    "version": 3
   },
   "file_extension": ".py",
   "mimetype": "text/x-python",
   "name": "python",
   "nbconvert_exporter": "python",
   "pygments_lexer": "ipython3",
   "version": "3.10.12"
  }
 },
 "nbformat": 4,
 "nbformat_minor": 5
}
