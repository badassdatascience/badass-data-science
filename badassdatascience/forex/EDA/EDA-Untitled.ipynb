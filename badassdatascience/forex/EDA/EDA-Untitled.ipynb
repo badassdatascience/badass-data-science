{
 "cells": [
  {
   "cell_type": "code",
   "execution_count": null,
   "id": "3194343c-056f-46cf-b707-8ed1d8b62989",
   "metadata": {},
   "outputs": [],
   "source": []
  },
  {
   "cell_type": "code",
   "execution_count": null,
   "id": "3e2004c6-5efc-41b6-aed1-5a8381996d4e",
   "metadata": {},
   "outputs": [],
   "source": []
  },
  {
   "cell_type": "markdown",
   "id": "718bf8f0-457e-44c7-8ffa-bbda47bdfdc2",
   "metadata": {},
   "source": [
    "## Load useful libraries"
   ]
  },
  {
   "cell_type": "code",
   "execution_count": 1,
   "id": "9b25d931-4ccd-4de0-9179-6a8b3b78f996",
   "metadata": {},
   "outputs": [],
   "source": [
    "import numpy as np\n",
    "import matplotlib.pyplot as plt"
   ]
  },
  {
   "cell_type": "code",
   "execution_count": 2,
   "id": "d2faadd7-920b-4c26-b1ac-a688d2294554",
   "metadata": {},
   "outputs": [],
   "source": [
    "from badassdatascience.forex.database.mongodb.pull_forex_data_from_database.pull_forex_data_from_database import query_single_instrument_and_single_granularity \n",
    "from badassdatascience.forex.EDA.BadassTimeSeries import BadassTimeSeries"
   ]
  },
  {
   "cell_type": "markdown",
   "id": "5715169d-5b65-4246-a127-e820c386b8ff",
   "metadata": {},
   "source": [
    "## User settings\n",
    "\n",
    "These are currently hard-coded for this effort, but should this analysis become part of a pipeline I'll convert these to runtime arguments."
   ]
  },
  {
   "cell_type": "code",
   "execution_count": 3,
   "id": "ad291235-f6ef-4b32-8986-4726c4466d90",
   "metadata": {},
   "outputs": [],
   "source": [
    "output_directory = 'output'\n",
    "instrument = 'EUR/USD'\n",
    "granularity = 'H1' # 'M15'"
   ]
  },
  {
   "cell_type": "markdown",
   "id": "4eded9ad-9fa5-4a99-9de4-0273fe95b55a",
   "metadata": {},
   "source": [
    "## Load the data\n",
    "\n",
    "This pulls data from either a recently saved file or from the source Mongo database."
   ]
  },
  {
   "cell_type": "code",
   "execution_count": 4,
   "id": "c9dbc192-4577-4e1e-84d2-d99499c7d9ad",
   "metadata": {},
   "outputs": [],
   "source": [
    "save_file = output_directory + '/df_' + instrument.replace('/', '_') + '__' + granularity + '.pickled'\n",
    "\n",
    "df = query_single_instrument_and_single_granularity(\n",
    "    instrument = instrument,\n",
    "    granularity = granularity,\n",
    "    pull_from_database = False,\n",
    "    save_file = save_file,\n",
    ")"
   ]
  },
  {
   "cell_type": "markdown",
   "id": "e4fb0af5-f7f5-4803-a147-6f4cf5ce7327",
   "metadata": {},
   "source": [
    "## Visual QA #1"
   ]
  },
  {
   "cell_type": "code",
   "execution_count": 5,
   "id": "9d8fc85e-1424-4a99-9377-101f72ce45fc",
   "metadata": {},
   "outputs": [
    {
     "data": {
      "text/html": [
       "<div>\n",
       "<style scoped>\n",
       "    .dataframe tbody tr th:only-of-type {\n",
       "        vertical-align: middle;\n",
       "    }\n",
       "\n",
       "    .dataframe tbody tr th {\n",
       "        vertical-align: top;\n",
       "    }\n",
       "\n",
       "    .dataframe thead th {\n",
       "        text-align: right;\n",
       "    }\n",
       "</style>\n",
       "<table border=\"1\" class=\"dataframe\">\n",
       "  <thead>\n",
       "    <tr style=\"text-align: right;\">\n",
       "      <th></th>\n",
       "      <th>_id</th>\n",
       "      <th>volume</th>\n",
       "      <th>time</th>\n",
       "      <th>instrument</th>\n",
       "      <th>granularity</th>\n",
       "      <th>time_iso</th>\n",
       "      <th>weekday</th>\n",
       "      <th>hour</th>\n",
       "      <th>bid_o</th>\n",
       "      <th>bid_h</th>\n",
       "      <th>...</th>\n",
       "      <th>ask_c</th>\n",
       "      <th>ask_return</th>\n",
       "      <th>ask_volatility</th>\n",
       "      <th>mid_o</th>\n",
       "      <th>mid_h</th>\n",
       "      <th>mid_l</th>\n",
       "      <th>mid_c</th>\n",
       "      <th>mid_return</th>\n",
       "      <th>mid_volatility</th>\n",
       "      <th>time_iso_pd_datetime</th>\n",
       "    </tr>\n",
       "  </thead>\n",
       "  <tbody>\n",
       "    <tr>\n",
       "      <th>0</th>\n",
       "      <td>68097c78da2b3e213f22f086</td>\n",
       "      <td>3</td>\n",
       "      <td>1262538000</td>\n",
       "      <td>EUR/USD</td>\n",
       "      <td>H1</td>\n",
       "      <td>2010-01-03T12:00:00-05:00</td>\n",
       "      <td>6</td>\n",
       "      <td>12</td>\n",
       "      <td>1.43070</td>\n",
       "      <td>1.43097</td>\n",
       "      <td>...</td>\n",
       "      <td>1.43247</td>\n",
       "      <td>0.00077</td>\n",
       "      <td>0.00077</td>\n",
       "      <td>1.43120</td>\n",
       "      <td>1.43172</td>\n",
       "      <td>1.43120</td>\n",
       "      <td>1.43172</td>\n",
       "      <td>0.00052</td>\n",
       "      <td>0.00052</td>\n",
       "      <td>2010-01-03 12:00:00-05:00</td>\n",
       "    </tr>\n",
       "    <tr>\n",
       "      <th>1</th>\n",
       "      <td>68097c78da2b3e213f22f087</td>\n",
       "      <td>137</td>\n",
       "      <td>1262541600</td>\n",
       "      <td>EUR/USD</td>\n",
       "      <td>H1</td>\n",
       "      <td>2010-01-03T13:00:00-05:00</td>\n",
       "      <td>6</td>\n",
       "      <td>13</td>\n",
       "      <td>1.43097</td>\n",
       "      <td>1.43325</td>\n",
       "      <td>...</td>\n",
       "      <td>1.43222</td>\n",
       "      <td>-0.00025</td>\n",
       "      <td>0.00348</td>\n",
       "      <td>1.43172</td>\n",
       "      <td>1.43425</td>\n",
       "      <td>1.43105</td>\n",
       "      <td>1.43157</td>\n",
       "      <td>-0.00015</td>\n",
       "      <td>0.00320</td>\n",
       "      <td>2010-01-03 13:00:00-05:00</td>\n",
       "    </tr>\n",
       "  </tbody>\n",
       "</table>\n",
       "<p>2 rows × 27 columns</p>\n",
       "</div>"
      ],
      "text/plain": [
       "                        _id  volume        time instrument granularity  \\\n",
       "0  68097c78da2b3e213f22f086       3  1262538000    EUR/USD          H1   \n",
       "1  68097c78da2b3e213f22f087     137  1262541600    EUR/USD          H1   \n",
       "\n",
       "                    time_iso  weekday  hour    bid_o    bid_h  ...    ask_c  \\\n",
       "0  2010-01-03T12:00:00-05:00        6    12  1.43070  1.43097  ...  1.43247   \n",
       "1  2010-01-03T13:00:00-05:00        6    13  1.43097  1.43325  ...  1.43222   \n",
       "\n",
       "   ask_return  ask_volatility    mid_o    mid_h    mid_l    mid_c  mid_return  \\\n",
       "0     0.00077         0.00077  1.43120  1.43172  1.43120  1.43172     0.00052   \n",
       "1    -0.00025         0.00348  1.43172  1.43425  1.43105  1.43157    -0.00015   \n",
       "\n",
       "   mid_volatility       time_iso_pd_datetime  \n",
       "0         0.00052  2010-01-03 12:00:00-05:00  \n",
       "1         0.00320  2010-01-03 13:00:00-05:00  \n",
       "\n",
       "[2 rows x 27 columns]"
      ]
     },
     "execution_count": 5,
     "metadata": {},
     "output_type": "execute_result"
    }
   ],
   "source": [
    "df.head(2)"
   ]
  },
  {
   "cell_type": "code",
   "execution_count": 6,
   "id": "77834f17-d9f5-4cb6-ba0e-2784ec8bf22c",
   "metadata": {},
   "outputs": [
    {
     "data": {
      "text/html": [
       "<div>\n",
       "<style scoped>\n",
       "    .dataframe tbody tr th:only-of-type {\n",
       "        vertical-align: middle;\n",
       "    }\n",
       "\n",
       "    .dataframe tbody tr th {\n",
       "        vertical-align: top;\n",
       "    }\n",
       "\n",
       "    .dataframe thead th {\n",
       "        text-align: right;\n",
       "    }\n",
       "</style>\n",
       "<table border=\"1\" class=\"dataframe\">\n",
       "  <thead>\n",
       "    <tr style=\"text-align: right;\">\n",
       "      <th></th>\n",
       "      <th>_id</th>\n",
       "      <th>volume</th>\n",
       "      <th>time</th>\n",
       "      <th>instrument</th>\n",
       "      <th>granularity</th>\n",
       "      <th>time_iso</th>\n",
       "      <th>weekday</th>\n",
       "      <th>hour</th>\n",
       "      <th>bid_o</th>\n",
       "      <th>bid_h</th>\n",
       "      <th>...</th>\n",
       "      <th>ask_c</th>\n",
       "      <th>ask_return</th>\n",
       "      <th>ask_volatility</th>\n",
       "      <th>mid_o</th>\n",
       "      <th>mid_h</th>\n",
       "      <th>mid_l</th>\n",
       "      <th>mid_c</th>\n",
       "      <th>mid_return</th>\n",
       "      <th>mid_volatility</th>\n",
       "      <th>time_iso_pd_datetime</th>\n",
       "    </tr>\n",
       "  </thead>\n",
       "  <tbody>\n",
       "    <tr>\n",
       "      <th>97953</th>\n",
       "      <td>6863c0e142919cd524d22b01</td>\n",
       "      <td>7700</td>\n",
       "      <td>1751364000</td>\n",
       "      <td>EUR/USD</td>\n",
       "      <td>H1</td>\n",
       "      <td>2025-07-01T06:00:00-04:00</td>\n",
       "      <td>1</td>\n",
       "      <td>6</td>\n",
       "      <td>1.18131</td>\n",
       "      <td>1.18227</td>\n",
       "      <td>...</td>\n",
       "      <td>1.18124</td>\n",
       "      <td>-0.00021</td>\n",
       "      <td>0.00125</td>\n",
       "      <td>1.18138</td>\n",
       "      <td>1.18234</td>\n",
       "      <td>1.18110</td>\n",
       "      <td>1.18116</td>\n",
       "      <td>-0.00022</td>\n",
       "      <td>0.00124</td>\n",
       "      <td>2025-07-01 06:00:00-04:00</td>\n",
       "    </tr>\n",
       "    <tr>\n",
       "      <th>97954</th>\n",
       "      <td>6863cef18b3fe0e82e5f9162</td>\n",
       "      <td>7564</td>\n",
       "      <td>1751367600</td>\n",
       "      <td>EUR/USD</td>\n",
       "      <td>H1</td>\n",
       "      <td>2025-07-01T07:00:00-04:00</td>\n",
       "      <td>1</td>\n",
       "      <td>7</td>\n",
       "      <td>1.18106</td>\n",
       "      <td>1.18187</td>\n",
       "      <td>...</td>\n",
       "      <td>1.18147</td>\n",
       "      <td>0.00025</td>\n",
       "      <td>0.00136</td>\n",
       "      <td>1.18114</td>\n",
       "      <td>1.18194</td>\n",
       "      <td>1.18058</td>\n",
       "      <td>1.18140</td>\n",
       "      <td>0.00026</td>\n",
       "      <td>0.00136</td>\n",
       "      <td>2025-07-01 07:00:00-04:00</td>\n",
       "    </tr>\n",
       "  </tbody>\n",
       "</table>\n",
       "<p>2 rows × 27 columns</p>\n",
       "</div>"
      ],
      "text/plain": [
       "                            _id  volume        time instrument granularity  \\\n",
       "97953  6863c0e142919cd524d22b01    7700  1751364000    EUR/USD          H1   \n",
       "97954  6863cef18b3fe0e82e5f9162    7564  1751367600    EUR/USD          H1   \n",
       "\n",
       "                        time_iso  weekday  hour    bid_o    bid_h  ...  \\\n",
       "97953  2025-07-01T06:00:00-04:00        1     6  1.18131  1.18227  ...   \n",
       "97954  2025-07-01T07:00:00-04:00        1     7  1.18106  1.18187  ...   \n",
       "\n",
       "         ask_c  ask_return  ask_volatility    mid_o    mid_h    mid_l  \\\n",
       "97953  1.18124    -0.00021         0.00125  1.18138  1.18234  1.18110   \n",
       "97954  1.18147     0.00025         0.00136  1.18114  1.18194  1.18058   \n",
       "\n",
       "         mid_c  mid_return  mid_volatility       time_iso_pd_datetime  \n",
       "97953  1.18116    -0.00022         0.00124  2025-07-01 06:00:00-04:00  \n",
       "97954  1.18140     0.00026         0.00136  2025-07-01 07:00:00-04:00  \n",
       "\n",
       "[2 rows x 27 columns]"
      ]
     },
     "execution_count": 6,
     "metadata": {},
     "output_type": "execute_result"
    }
   ],
   "source": [
    "df.tail(2)"
   ]
  },
  {
   "cell_type": "markdown",
   "id": "498bce7c-9fc4-4f97-a666-87c3beb4c680",
   "metadata": {},
   "source": [
    "## Run additional configuration and time series processing"
   ]
  },
  {
   "cell_type": "code",
   "execution_count": 7,
   "id": "e9d2ffe9-bc84-4216-b072-c4508db0fd33",
   "metadata": {},
   "outputs": [
    {
     "name": "stderr",
     "output_type": "stream",
     "text": [
      "/home/emily/Desktop/projects/test/badass-data-science/badassdatascience/utilities/badass_timeseries/stationarity_and_detrending.py:31: InterpolationWarning: The test statistic is outside of the range of p-values available in the\n",
      "look-up table. The actual p-value is smaller than the p-value returned.\n",
      "\n",
      "  kpsstest = kpss(timeseries, regression = regression, nlags = nlags)\n",
      "/home/emily/Desktop/projects/test/badass-data-science/badassdatascience/utilities/badass_timeseries/stationarity_and_detrending.py:31: InterpolationWarning: The test statistic is outside of the range of p-values available in the\n",
      "look-up table. The actual p-value is greater than the p-value returned.\n",
      "\n",
      "  kpsstest = kpss(timeseries, regression = regression, nlags = nlags)\n",
      "/home/emily/Desktop/projects/test/badass-data-science/badassdatascience/utilities/badass_timeseries/stationarity_and_detrending.py:31: InterpolationWarning: The test statistic is outside of the range of p-values available in the\n",
      "look-up table. The actual p-value is smaller than the p-value returned.\n",
      "\n",
      "  kpsstest = kpss(timeseries, regression = regression, nlags = nlags)\n",
      "/home/emily/Desktop/projects/test/badass-data-science/badassdatascience/utilities/badass_timeseries/stationarity_and_detrending.py:31: InterpolationWarning: The test statistic is outside of the range of p-values available in the\n",
      "look-up table. The actual p-value is greater than the p-value returned.\n",
      "\n",
      "  kpsstest = kpss(timeseries, regression = regression, nlags = nlags)\n"
     ]
    }
   ],
   "source": [
    "ts = BadassTimeSeries(df['time'], df['mid_c'])\n",
    "ts.fit()\n",
    "ts.fit_details()"
   ]
  },
  {
   "cell_type": "markdown",
   "id": "ed3613bd-3458-482d-bde6-8680446e662c",
   "metadata": {},
   "source": [
    "## Review stationarity test results\n",
    "\n",
    "The \"BadassTimeSeries\" object contains four time series, each of which are tested for stationarity using both ADF and KPSS tests.\n",
    "\n",
    "Augmented Dickey-Fuller (ADF) tests the null hypothesis that a time series has a unit root, while Kwiatkowski-Phillips-Schmidt-Shin (KPSS) tests whether the trend is stationary:"
   ]
  },
  {
   "cell_type": "code",
   "execution_count": 8,
   "id": "6a0ba0ca-4fad-4819-a452-c4e9a9e3810d",
   "metadata": {},
   "outputs": [
    {
     "data": {
      "text/html": [
       "<div>\n",
       "<style scoped>\n",
       "    .dataframe tbody tr th:only-of-type {\n",
       "        vertical-align: middle;\n",
       "    }\n",
       "\n",
       "    .dataframe tbody tr th {\n",
       "        vertical-align: top;\n",
       "    }\n",
       "\n",
       "    .dataframe thead th {\n",
       "        text-align: right;\n",
       "    }\n",
       "</style>\n",
       "<table border=\"1\" class=\"dataframe\">\n",
       "  <thead>\n",
       "    <tr style=\"text-align: right;\">\n",
       "      <th></th>\n",
       "      <th>DataFrame</th>\n",
       "      <th>test</th>\n",
       "      <th>p_value</th>\n",
       "      <th>decision</th>\n",
       "      <th>conclusion</th>\n",
       "    </tr>\n",
       "  </thead>\n",
       "  <tbody>\n",
       "    <tr>\n",
       "      <th>0</th>\n",
       "      <td>original</td>\n",
       "      <td>ADF</td>\n",
       "      <td>0.128834</td>\n",
       "      <td>Fail to reject the null</td>\n",
       "      <td>Evidence suggests that the series is non-stati...</td>\n",
       "    </tr>\n",
       "    <tr>\n",
       "      <th>1</th>\n",
       "      <td>diff_original</td>\n",
       "      <td>ADF</td>\n",
       "      <td>0.000000</td>\n",
       "      <td>Reject the null</td>\n",
       "      <td>Evidence suggests that the series is stationary</td>\n",
       "    </tr>\n",
       "    <tr>\n",
       "      <th>2</th>\n",
       "      <td>filled_forward</td>\n",
       "      <td>ADF</td>\n",
       "      <td>0.118906</td>\n",
       "      <td>Fail to reject the null</td>\n",
       "      <td>Evidence suggests that the series is non-stati...</td>\n",
       "    </tr>\n",
       "    <tr>\n",
       "      <th>3</th>\n",
       "      <td>diff_filled_forward</td>\n",
       "      <td>ADF</td>\n",
       "      <td>0.000000</td>\n",
       "      <td>Reject the null</td>\n",
       "      <td>Evidence suggests that the series is stationary</td>\n",
       "    </tr>\n",
       "    <tr>\n",
       "      <th>4</th>\n",
       "      <td>original</td>\n",
       "      <td>KPSS</td>\n",
       "      <td>0.010000</td>\n",
       "      <td>Reject the null</td>\n",
       "      <td>Evidence suggests that the series is non-stati...</td>\n",
       "    </tr>\n",
       "    <tr>\n",
       "      <th>5</th>\n",
       "      <td>diff_original</td>\n",
       "      <td>KPSS</td>\n",
       "      <td>0.100000</td>\n",
       "      <td>Fail to reject the null</td>\n",
       "      <td>Evidence suggests that the series is trend sta...</td>\n",
       "    </tr>\n",
       "    <tr>\n",
       "      <th>6</th>\n",
       "      <td>filled_forward</td>\n",
       "      <td>KPSS</td>\n",
       "      <td>0.010000</td>\n",
       "      <td>Reject the null</td>\n",
       "      <td>Evidence suggests that the series is non-stati...</td>\n",
       "    </tr>\n",
       "    <tr>\n",
       "      <th>7</th>\n",
       "      <td>diff_filled_forward</td>\n",
       "      <td>KPSS</td>\n",
       "      <td>0.100000</td>\n",
       "      <td>Fail to reject the null</td>\n",
       "      <td>Evidence suggests that the series is trend sta...</td>\n",
       "    </tr>\n",
       "  </tbody>\n",
       "</table>\n",
       "</div>"
      ],
      "text/plain": [
       "             DataFrame  test   p_value                 decision  \\\n",
       "0             original   ADF  0.128834  Fail to reject the null   \n",
       "1        diff_original   ADF  0.000000          Reject the null   \n",
       "2       filled_forward   ADF  0.118906  Fail to reject the null   \n",
       "3  diff_filled_forward   ADF  0.000000          Reject the null   \n",
       "4             original  KPSS  0.010000          Reject the null   \n",
       "5        diff_original  KPSS  0.100000  Fail to reject the null   \n",
       "6       filled_forward  KPSS  0.010000          Reject the null   \n",
       "7  diff_filled_forward  KPSS  0.100000  Fail to reject the null   \n",
       "\n",
       "                                          conclusion  \n",
       "0  Evidence suggests that the series is non-stati...  \n",
       "1    Evidence suggests that the series is stationary  \n",
       "2  Evidence suggests that the series is non-stati...  \n",
       "3    Evidence suggests that the series is stationary  \n",
       "4  Evidence suggests that the series is non-stati...  \n",
       "5  Evidence suggests that the series is trend sta...  \n",
       "6  Evidence suggests that the series is non-stati...  \n",
       "7  Evidence suggests that the series is trend sta...  "
      ]
     },
     "execution_count": 8,
     "metadata": {},
     "output_type": "execute_result"
    }
   ],
   "source": [
    "ts.df_stationarity_test_table"
   ]
  },
  {
   "cell_type": "markdown",
   "id": "baf47f7a-b35e-46e5-994b-9816b5555c4d",
   "metadata": {},
   "source": [
    "## Use Discrete Fourier Transform to Identify Fundamental Frequencies"
   ]
  },
  {
   "cell_type": "code",
   "execution_count": 9,
   "id": "c3743235-2bdc-4d61-b528-087d6da9a63a",
   "metadata": {},
   "outputs": [],
   "source": [
    "def use_dft_to_find_fundamental_frequencies(x, n_nearby = 200, n_order = 10):\n",
    "    fft_x = np.fft.fft(x)\n",
    "    N = len(x)\n",
    "    magnitudes = np.abs(fft_x)[0:(N // 2)]\n",
    "    \n",
    "    # we only care about frequency magnitudes within the reasonable length of the time series we will use to train the RNN\n",
    "    nearby = magnitudes[0:n_nearby] \n",
    "    \n",
    "    order = np.argsort(nearby)\n",
    "    return order[(-1 * n_order):]"
   ]
  },
  {
   "cell_type": "code",
   "execution_count": 10,
   "id": "f6ba6931-d059-4338-8467-7277774143d9",
   "metadata": {},
   "outputs": [
    {
     "name": "stdout",
     "output_type": "stream",
     "text": [
      "[166 122  41 165 161 145 191 124  57 189]\n",
      "[ 41 165 161 145 191 124  57 189 283 279]\n"
     ]
    }
   ],
   "source": [
    "frequencies_200 = use_dft_to_find_fundamental_frequencies(ts.df_diff_filled_forward['y'])\n",
    "frequencies_300 = use_dft_to_find_fundamental_frequencies(ts.df_diff_filled_forward['y'], n_nearby = 300)\n",
    "\n",
    "print(frequencies_200)\n",
    "print(frequencies_300)"
   ]
  },
  {
   "cell_type": "code",
   "execution_count": null,
   "id": "28783010-e015-4ff0-a4a9-cc3c124dc170",
   "metadata": {},
   "outputs": [],
   "source": []
  },
  {
   "cell_type": "code",
   "execution_count": null,
   "id": "04ea6400-d52e-4b65-8111-eb35ccb6605d",
   "metadata": {},
   "outputs": [],
   "source": []
  },
  {
   "cell_type": "code",
   "execution_count": null,
   "id": "432d703e-f4a2-43c1-9b12-12ad7345d909",
   "metadata": {},
   "outputs": [],
   "source": []
  },
  {
   "cell_type": "code",
   "execution_count": null,
   "id": "fb7c8f96-e9e1-412c-8991-0f9b20984b87",
   "metadata": {},
   "outputs": [],
   "source": []
  },
  {
   "cell_type": "code",
   "execution_count": null,
   "id": "db28de62-6f87-4b80-95e7-bc7758be2bdc",
   "metadata": {},
   "outputs": [],
   "source": []
  },
  {
   "cell_type": "code",
   "execution_count": 13,
   "id": "f3bde14a-747a-4381-ae40-efb6fc6f6fc6",
   "metadata": {},
   "outputs": [],
   "source": [
    "from badassdatascience.utilities.badass_timeseries.acf_and_pacf import center_the_ci_around_zero\n",
    "from badassdatascience.utilities.badass_timeseries.acf_and_pacf import compute_acf_the_way_emily_wants_it\n",
    "from badassdatascience.utilities.badass_timeseries.acf_and_pacf import compute_pacf_the_way_emily_wants_it\n",
    "\n",
    "a_cf, acf_ci = compute_acf_the_way_emily_wants_it(ts.df_diff_filled_forward['y'])\n",
    "pa_cf, pacf_ci = compute_pacf_the_way_emily_wants_it(ts.df_diff_filled_forward['y'])\n",
    "\n",
    "aCI = center_the_ci_around_zero(a_cf, acf_ci)\n",
    "paCI = center_the_ci_around_zero(pa_cf, pacf_ci)"
   ]
  },
  {
   "cell_type": "code",
   "execution_count": 14,
   "id": "e7fde804-89c8-48b1-9aae-eee194311a06",
   "metadata": {},
   "outputs": [
    {
     "data": {
      "image/png": "[encoded data removed]",
      "text/plain": [
       "<Figure size 640x480 with 1 Axes>"
      ]
     },
     "metadata": {},
     "output_type": "display_data"
    },
    {
     "data": {
      "image/png": "[encoded data removed]",
      "text/plain": [
       "<Figure size 640x480 with 1 Axes>"
      ]
     },
     "metadata": {},
     "output_type": "display_data"
    }
   ],
   "source": [
    "from badassdatascience.utilities.badass_timeseries.acf_and_pacf import plot_acf_and_pacf_the_way_emily_wants_it\n",
    "\n",
    "plot_acf_and_pacf_the_way_emily_wants_it(a_cf, aCI, 'ACF', first_lag = 1)\n",
    "plot_acf_and_pacf_the_way_emily_wants_it(pa_cf, paCI, 'PACF', first_lag = 1)"
   ]
  },
  {
   "cell_type": "code",
   "execution_count": null,
   "id": "089f3704-3743-475d-9b4c-47557f7e026a",
   "metadata": {},
   "outputs": [],
   "source": []
  },
  {
   "cell_type": "code",
   "execution_count": null,
   "id": "6aad5ba0-0cda-4346-b19b-919c4c3378bc",
   "metadata": {},
   "outputs": [],
   "source": []
  },
  {
   "cell_type": "code",
   "execution_count": null,
   "id": "a9fdb61a-94c3-4339-9087-ea60c69b88fa",
   "metadata": {},
   "outputs": [],
   "source": []
  },
  {
   "cell_type": "code",
   "execution_count": 15,
   "id": "43af0562-8338-47ea-9762-cd02c2ed2a7c",
   "metadata": {},
   "outputs": [
    {
     "data": {
      "image/png": "[encoded data removed]",
      "text/plain": [
       "<Figure size 640x480 with 1 Axes>"
      ]
     },
     "metadata": {},
     "output_type": "display_data"
    },
    {
     "data": {
      "image/png": "[encoded data removed]",
      "text/plain": [
       "<Figure size 640x480 with 1 Axes>"
      ]
     },
     "metadata": {},
     "output_type": "display_data"
    }
   ],
   "source": [
    "from scipy.stats import rankdata\n",
    "\n",
    "x = ts.df_diff_filled_forward['y'].values\n",
    "\n",
    "x_ranked = rankdata(x)\n",
    "\n",
    "r_a_cf, r_acf_ci = compute_acf_the_way_emily_wants_it(x_ranked, nlags = 200)\n",
    "r_pa_cf, r_pacf_ci = compute_pacf_the_way_emily_wants_it(x_ranked, nlags = 200)\n",
    "r_aCI = center_the_ci_around_zero(r_a_cf, r_acf_ci)\n",
    "r_paCI = center_the_ci_around_zero(r_pa_cf, r_pacf_ci)\n",
    "\n",
    "plot_acf_and_pacf_the_way_emily_wants_it(r_a_cf, r_aCI, 'Ranked ACF', first_lag = 2)\n",
    "plot_acf_and_pacf_the_way_emily_wants_it(r_pa_cf, r_paCI, 'Ranked PACF', first_lag = 2)"
   ]
  },
  {
   "cell_type": "code",
   "execution_count": null,
   "id": "52acf8ee-2ce1-4197-8754-0d221649865c",
   "metadata": {},
   "outputs": [],
   "source": []
  },
  {
   "cell_type": "code",
   "execution_count": null,
   "id": "a2018029-83a3-49b0-9c42-2e04391c87ee",
   "metadata": {},
   "outputs": [],
   "source": []
  },
  {
   "cell_type": "code",
   "execution_count": null,
   "id": "1089e7a2-5e8d-4a5f-bbc5-c65c57c1d5e3",
   "metadata": {},
   "outputs": [],
   "source": []
  },
  {
   "cell_type": "code",
   "execution_count": null,
   "id": "e0c2b488-5bd2-4250-bb04-750ae1fa2c7a",
   "metadata": {},
   "outputs": [],
   "source": []
  },
  {
   "cell_type": "code",
   "execution_count": null,
   "id": "5e4ea26e-6359-4d61-9bbc-d984fcda0c63",
   "metadata": {},
   "outputs": [],
   "source": []
  },
  {
   "cell_type": "code",
   "execution_count": null,
   "id": "7828504a-c915-46a4-8ada-82a1deaf444b",
   "metadata": {},
   "outputs": [],
   "source": []
  },
  {
   "cell_type": "code",
   "execution_count": null,
   "id": "16a9aed8-c715-4a6e-83dd-501a1b741072",
   "metadata": {},
   "outputs": [],
   "source": []
  },
  {
   "cell_type": "code",
   "execution_count": null,
   "id": "f42bf32a-be58-4a80-aefc-46e5c754d668",
   "metadata": {},
   "outputs": [],
   "source": []
  }
 ],
 "metadata": {
  "kernelspec": {
   "display_name": "Python 3 (ipykernel)",
   "language": "python",
   "name": "python3"
  },
  "language_info": {
   "codemirror_mode": {
    "name": "ipython",
    "version": 3
   },
   "file_extension": ".py",
   "mimetype": "text/x-python",
   "name": "python",
   "nbconvert_exporter": "python",
   "pygments_lexer": "ipython3",
   "version": "3.10.12"
  }
 },
 "nbformat": 4,
 "nbformat_minor": 5
}
