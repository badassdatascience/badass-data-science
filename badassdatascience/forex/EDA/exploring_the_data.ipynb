{
 "cells": [
  {
   "cell_type": "code",
   "execution_count": null,
   "id": "1e71d49d-8eed-454b-9664-46c95628433d",
   "metadata": {},
   "outputs": [],
   "source": []
  },
  {
   "cell_type": "code",
   "execution_count": null,
   "id": "b6af3d0f-d889-442a-938b-c4aef4a0ffa5",
   "metadata": {},
   "outputs": [],
   "source": []
  },
  {
   "cell_type": "markdown",
   "id": "8ea09e86-ebbf-4a1f-9aa7-5edef4380807",
   "metadata": {},
   "source": [
    "## User settings"
   ]
  },
  {
   "cell_type": "code",
   "execution_count": null,
   "id": "91faca79-4b67-4b00-ba9c-d82814c360b2",
   "metadata": {},
   "outputs": [],
   "source": []
  },
  {
   "cell_type": "markdown",
   "id": "cf06a9bd-8e4e-4eaa-830b-319eeaa1b19a",
   "metadata": {},
   "source": [
    "## Query"
   ]
  },
  {
   "cell_type": "code",
   "execution_count": 1,
   "id": "31d4d639-ff07-4e45-bf7c-d9f4a4f6dfb6",
   "metadata": {},
   "outputs": [],
   "source": [
    "from badassdatascience.forex.database.mongodb.pull_forex_data_from_database.pull_forex_data_from_database import query_single_instrument_and_single_granularity "
   ]
  },
  {
   "cell_type": "code",
   "execution_count": 2,
   "id": "3dde72e0-52ad-46f0-91b4-7db7d81bd927",
   "metadata": {},
   "outputs": [],
   "source": [
    "df = query_single_instrument_and_single_granularity(pull_from_database = False)"
   ]
  },
  {
   "cell_type": "code",
   "execution_count": 3,
   "id": "c16514b0-4f04-45fa-8253-9ef0854d85ea",
   "metadata": {},
   "outputs": [
    {
     "data": {
      "text/html": [
       "<div>\n",
       "<style scoped>\n",
       "    .dataframe tbody tr th:only-of-type {\n",
       "        vertical-align: middle;\n",
       "    }\n",
       "\n",
       "    .dataframe tbody tr th {\n",
       "        vertical-align: top;\n",
       "    }\n",
       "\n",
       "    .dataframe thead th {\n",
       "        text-align: right;\n",
       "    }\n",
       "</style>\n",
       "<table border=\"1\" class=\"dataframe\">\n",
       "  <thead>\n",
       "    <tr style=\"text-align: right;\">\n",
       "      <th></th>\n",
       "      <th>_id</th>\n",
       "      <th>volume</th>\n",
       "      <th>time</th>\n",
       "      <th>instrument</th>\n",
       "      <th>granularity</th>\n",
       "      <th>time_iso</th>\n",
       "      <th>weekday</th>\n",
       "      <th>hour</th>\n",
       "      <th>bid_o</th>\n",
       "      <th>bid_h</th>\n",
       "      <th>...</th>\n",
       "      <th>ask_c</th>\n",
       "      <th>ask_return</th>\n",
       "      <th>ask_volatility</th>\n",
       "      <th>mid_o</th>\n",
       "      <th>mid_h</th>\n",
       "      <th>mid_l</th>\n",
       "      <th>mid_c</th>\n",
       "      <th>mid_return</th>\n",
       "      <th>mid_volatility</th>\n",
       "      <th>time_iso_pd_datetime</th>\n",
       "    </tr>\n",
       "  </thead>\n",
       "  <tbody>\n",
       "    <tr>\n",
       "      <th>384457</th>\n",
       "      <td>68184250a57b2b64dce17105</td>\n",
       "      <td>946</td>\n",
       "      <td>1746419400</td>\n",
       "      <td>EUR/USD</td>\n",
       "      <td>M15</td>\n",
       "      <td>2025-05-05T00:30:00-04:00</td>\n",
       "      <td>0</td>\n",
       "      <td>0</td>\n",
       "      <td>1.13360</td>\n",
       "      <td>1.13365</td>\n",
       "      <td>...</td>\n",
       "      <td>1.13350</td>\n",
       "      <td>-0.00026</td>\n",
       "      <td>0.00086</td>\n",
       "      <td>1.13368</td>\n",
       "      <td>1.13374</td>\n",
       "      <td>1.13287</td>\n",
       "      <td>1.13342</td>\n",
       "      <td>-0.00026</td>\n",
       "      <td>0.00087</td>\n",
       "      <td>2025-05-05 00:30:00-04:00</td>\n",
       "    </tr>\n",
       "    <tr>\n",
       "      <th>384458</th>\n",
       "      <td>681845d47ea011061b4d30b0</td>\n",
       "      <td>960</td>\n",
       "      <td>1746420300</td>\n",
       "      <td>EUR/USD</td>\n",
       "      <td>M15</td>\n",
       "      <td>2025-05-05T00:45:00-04:00</td>\n",
       "      <td>0</td>\n",
       "      <td>0</td>\n",
       "      <td>1.13335</td>\n",
       "      <td>1.13382</td>\n",
       "      <td>...</td>\n",
       "      <td>1.13382</td>\n",
       "      <td>0.00031</td>\n",
       "      <td>0.00055</td>\n",
       "      <td>1.13343</td>\n",
       "      <td>1.13390</td>\n",
       "      <td>1.13336</td>\n",
       "      <td>1.13374</td>\n",
       "      <td>0.00031</td>\n",
       "      <td>0.00054</td>\n",
       "      <td>2025-05-05 00:45:00-04:00</td>\n",
       "    </tr>\n",
       "  </tbody>\n",
       "</table>\n",
       "<p>2 rows × 27 columns</p>\n",
       "</div>"
      ],
      "text/plain": [
       "                             _id  volume        time instrument granularity  \\\n",
       "384457  68184250a57b2b64dce17105     946  1746419400    EUR/USD         M15   \n",
       "384458  681845d47ea011061b4d30b0     960  1746420300    EUR/USD         M15   \n",
       "\n",
       "                         time_iso  weekday  hour    bid_o    bid_h  ...  \\\n",
       "384457  2025-05-05T00:30:00-04:00        0     0  1.13360  1.13365  ...   \n",
       "384458  2025-05-05T00:45:00-04:00        0     0  1.13335  1.13382  ...   \n",
       "\n",
       "          ask_c  ask_return  ask_volatility    mid_o    mid_h    mid_l  \\\n",
       "384457  1.13350    -0.00026         0.00086  1.13368  1.13374  1.13287   \n",
       "384458  1.13382     0.00031         0.00055  1.13343  1.13390  1.13336   \n",
       "\n",
       "          mid_c  mid_return  mid_volatility       time_iso_pd_datetime  \n",
       "384457  1.13342    -0.00026         0.00087  2025-05-05 00:30:00-04:00  \n",
       "384458  1.13374     0.00031         0.00054  2025-05-05 00:45:00-04:00  \n",
       "\n",
       "[2 rows x 27 columns]"
      ]
     },
     "execution_count": 3,
     "metadata": {},
     "output_type": "execute_result"
    }
   ],
   "source": [
    "df.tail(2)"
   ]
  },
  {
   "cell_type": "code",
   "execution_count": null,
   "id": "c3fa15f2-d2ce-4261-94f1-3841ef0c76b0",
   "metadata": {},
   "outputs": [],
   "source": []
  },
  {
   "cell_type": "markdown",
   "id": "ec14a195-115a-45d7-bdb9-ad2b83b7e555",
   "metadata": {},
   "source": [
    "## Find all timestamps, stepped by granularity, for the full timestamp range"
   ]
  },
  {
   "cell_type": "code",
   "execution_count": 4,
   "id": "68a537d9-6ca2-451d-8d5f-ed977a72bd12",
   "metadata": {},
   "outputs": [],
   "source": [
    "from badassdatascience.forex.utilities.granularities import get_df_merged_by_seconds_interval"
   ]
  },
  {
   "cell_type": "code",
   "execution_count": 5,
   "id": "c744cb01-5fa7-4361-a75b-6b9775fa507e",
   "metadata": {},
   "outputs": [],
   "source": [
    "df_full_even_timestamps = get_df_merged_by_seconds_interval(df)"
   ]
  },
  {
   "cell_type": "code",
   "execution_count": 6,
   "id": "0655c4aa-d181-44f6-a810-95c70efb7852",
   "metadata": {},
   "outputs": [
    {
     "data": {
      "text/html": [
       "<div>\n",
       "<style scoped>\n",
       "    .dataframe tbody tr th:only-of-type {\n",
       "        vertical-align: middle;\n",
       "    }\n",
       "\n",
       "    .dataframe tbody tr th {\n",
       "        vertical-align: top;\n",
       "    }\n",
       "\n",
       "    .dataframe thead th {\n",
       "        text-align: right;\n",
       "    }\n",
       "</style>\n",
       "<table border=\"1\" class=\"dataframe\">\n",
       "  <thead>\n",
       "    <tr style=\"text-align: right;\">\n",
       "      <th></th>\n",
       "      <th>time</th>\n",
       "      <th>_id</th>\n",
       "      <th>volume</th>\n",
       "      <th>instrument</th>\n",
       "      <th>granularity</th>\n",
       "      <th>time_iso</th>\n",
       "      <th>weekday</th>\n",
       "      <th>hour</th>\n",
       "      <th>bid_o</th>\n",
       "      <th>bid_h</th>\n",
       "      <th>...</th>\n",
       "      <th>ask_c</th>\n",
       "      <th>ask_return</th>\n",
       "      <th>ask_volatility</th>\n",
       "      <th>mid_o</th>\n",
       "      <th>mid_h</th>\n",
       "      <th>mid_l</th>\n",
       "      <th>mid_c</th>\n",
       "      <th>mid_return</th>\n",
       "      <th>mid_volatility</th>\n",
       "      <th>time_iso_pd_datetime</th>\n",
       "    </tr>\n",
       "  </thead>\n",
       "  <tbody>\n",
       "    <tr>\n",
       "      <th>537643</th>\n",
       "      <td>1746419400</td>\n",
       "      <td>68184250a57b2b64dce17105</td>\n",
       "      <td>946.0</td>\n",
       "      <td>EUR/USD</td>\n",
       "      <td>M15</td>\n",
       "      <td>2025-05-05T00:30:00-04:00</td>\n",
       "      <td>0.0</td>\n",
       "      <td>0.0</td>\n",
       "      <td>1.13360</td>\n",
       "      <td>1.13365</td>\n",
       "      <td>...</td>\n",
       "      <td>1.13350</td>\n",
       "      <td>-0.00026</td>\n",
       "      <td>0.00086</td>\n",
       "      <td>1.13368</td>\n",
       "      <td>1.13374</td>\n",
       "      <td>1.13287</td>\n",
       "      <td>1.13342</td>\n",
       "      <td>-0.00026</td>\n",
       "      <td>0.00087</td>\n",
       "      <td>2025-05-05 00:30:00-04:00</td>\n",
       "    </tr>\n",
       "    <tr>\n",
       "      <th>537644</th>\n",
       "      <td>1746420300</td>\n",
       "      <td>681845d47ea011061b4d30b0</td>\n",
       "      <td>960.0</td>\n",
       "      <td>EUR/USD</td>\n",
       "      <td>M15</td>\n",
       "      <td>2025-05-05T00:45:00-04:00</td>\n",
       "      <td>0.0</td>\n",
       "      <td>0.0</td>\n",
       "      <td>1.13335</td>\n",
       "      <td>1.13382</td>\n",
       "      <td>...</td>\n",
       "      <td>1.13382</td>\n",
       "      <td>0.00031</td>\n",
       "      <td>0.00055</td>\n",
       "      <td>1.13343</td>\n",
       "      <td>1.13390</td>\n",
       "      <td>1.13336</td>\n",
       "      <td>1.13374</td>\n",
       "      <td>0.00031</td>\n",
       "      <td>0.00054</td>\n",
       "      <td>2025-05-05 00:45:00-04:00</td>\n",
       "    </tr>\n",
       "  </tbody>\n",
       "</table>\n",
       "<p>2 rows × 27 columns</p>\n",
       "</div>"
      ],
      "text/plain": [
       "              time                       _id  volume instrument granularity  \\\n",
       "537643  1746419400  68184250a57b2b64dce17105   946.0    EUR/USD         M15   \n",
       "537644  1746420300  681845d47ea011061b4d30b0   960.0    EUR/USD         M15   \n",
       "\n",
       "                         time_iso  weekday  hour    bid_o    bid_h  ...  \\\n",
       "537643  2025-05-05T00:30:00-04:00      0.0   0.0  1.13360  1.13365  ...   \n",
       "537644  2025-05-05T00:45:00-04:00      0.0   0.0  1.13335  1.13382  ...   \n",
       "\n",
       "          ask_c  ask_return  ask_volatility    mid_o    mid_h    mid_l  \\\n",
       "537643  1.13350    -0.00026         0.00086  1.13368  1.13374  1.13287   \n",
       "537644  1.13382     0.00031         0.00055  1.13343  1.13390  1.13336   \n",
       "\n",
       "          mid_c  mid_return  mid_volatility       time_iso_pd_datetime  \n",
       "537643  1.13342    -0.00026         0.00087  2025-05-05 00:30:00-04:00  \n",
       "537644  1.13374     0.00031         0.00054  2025-05-05 00:45:00-04:00  \n",
       "\n",
       "[2 rows x 27 columns]"
      ]
     },
     "execution_count": 6,
     "metadata": {},
     "output_type": "execute_result"
    }
   ],
   "source": [
    "df_full_even_timestamps.tail(2)"
   ]
  },
  {
   "cell_type": "code",
   "execution_count": null,
   "id": "fcd7addb-ca92-4850-a53c-5f82d772aa57",
   "metadata": {},
   "outputs": [],
   "source": []
  },
  {
   "cell_type": "markdown",
   "id": "4594c95e-9d96-45d0-9902-6553f9dd5faa",
   "metadata": {},
   "source": [
    "## Get a df with no nulls and no intention of forward-filling"
   ]
  },
  {
   "cell_type": "code",
   "execution_count": 7,
   "id": "3292fc9f-5aa8-4b1d-9339-6459e6c4eee3",
   "metadata": {},
   "outputs": [],
   "source": [
    "df_NO_ff = df.dropna().copy()"
   ]
  },
  {
   "cell_type": "code",
   "execution_count": 8,
   "id": "67da38f1-c2eb-4b72-8373-3a67080016ec",
   "metadata": {},
   "outputs": [
    {
     "name": "stdout",
     "output_type": "stream",
     "text": [
      "True\n"
     ]
    }
   ],
   "source": [
    "print(len(df_NO_ff.index) == len(df.index))"
   ]
  },
  {
   "cell_type": "code",
   "execution_count": 9,
   "id": "555a6acb-5464-4bf7-b558-556fe5339044",
   "metadata": {},
   "outputs": [
    {
     "name": "stdout",
     "output_type": "stream",
     "text": [
      "384459 384459 537645\n"
     ]
    }
   ],
   "source": [
    "print(len(df_NO_ff), len(df.index), len(df_full_even_timestamps))"
   ]
  },
  {
   "cell_type": "code",
   "execution_count": null,
   "id": "76c4de74-a08f-4957-9857-7dc573323aec",
   "metadata": {},
   "outputs": [],
   "source": []
  },
  {
   "cell_type": "markdown",
   "id": "ac2f5d34-093b-46b5-a1dc-362cd970cb33",
   "metadata": {},
   "source": [
    "## Forward-fill"
   ]
  },
  {
   "cell_type": "code",
   "execution_count": 10,
   "id": "7268391d-a7a3-4e55-9a34-2e8ab824a3c0",
   "metadata": {},
   "outputs": [],
   "source": [
    "from badassdatascience.forex.utilities.forward_fill import ff\n",
    "from badassdatascience.forex.utilities.forward_fill import ff_test_plots"
   ]
  },
  {
   "cell_type": "code",
   "execution_count": 11,
   "id": "229d8252-b4fd-44d1-b37f-aa7141d985c2",
   "metadata": {},
   "outputs": [
    {
     "data": {
      "image/png": "[encoded data removed]",
      "text/plain": [
       "<Figure size 640x480 with 1 Axes>"
      ]
     },
     "metadata": {},
     "output_type": "display_data"
    },
    {
     "data": {
      "image/png": "[encoded data removed]",
      "text/plain": [
       "<Figure size 640x480 with 1 Axes>"
      ]
     },
     "metadata": {},
     "output_type": "display_data"
    },
    {
     "data": {
      "image/png": "[encoded data removed]",
      "text/plain": [
       "<Figure size 640x480 with 1 Axes>"
      ]
     },
     "metadata": {},
     "output_type": "display_data"
    }
   ],
   "source": [
    "df_post_ff = ff(df_full_even_timestamps)\n",
    "ff_test_plots(df_post_ff)"
   ]
  },
  {
   "cell_type": "code",
   "execution_count": null,
   "id": "f7f54056-299b-459d-8ed3-6ad41d9cff6c",
   "metadata": {},
   "outputs": [],
   "source": []
  },
  {
   "cell_type": "markdown",
   "id": "d7f90e2e-9912-4e33-b660-3867f7ca9a32",
   "metadata": {},
   "source": [
    "## TA-Lib"
   ]
  },
  {
   "cell_type": "code",
   "execution_count": 12,
   "id": "bb98d630-a79d-46e3-9169-76e99e2fb1c0",
   "metadata": {},
   "outputs": [],
   "source": [
    "import pandas as pd\n",
    "import talib"
   ]
  },
  {
   "cell_type": "code",
   "execution_count": 13,
   "id": "4762a19b-2885-4ac7-8b8f-df8ca57ca367",
   "metadata": {},
   "outputs": [],
   "source": [
    "def test_for_all_null(df, column_name):\n",
    "    return df[column_name].isna().value_counts().get(True) == len(df[column_name])\n",
    "\n",
    "def do_ta_calculations(df, column_name = 'mid_c', time_column_name = 'time'):\n",
    "    x = df[column_name].values\n",
    "    result_dict = {}\n",
    "    result_len_list = []\n",
    "    \n",
    "    for item in dir(talib):\n",
    "        if item.isupper() and item[0:2] != '__':\n",
    "\n",
    "            try:\n",
    "                # this gets the single-argument stuff\n",
    "                result = eval('talib.' + item + '(x)')\n",
    "            except:\n",
    "                continue\n",
    "\n",
    "            item_edited = item\n",
    "            \n",
    "            if str(type(result)) == \"<class 'numpy.ndarray'>\":\n",
    "                result_dict[item_edited] = result\n",
    "                result_len_list.append(len(result))\n",
    "            \n",
    "            elif str(type(result)) == \"<class 'tuple'>\":\n",
    "                for i, array in enumerate(result):\n",
    "                    item_edited = item + '_element_' + str(i)\n",
    "                    result_dict[item_edited] = array\n",
    "                    result_len_list.append(len(array))\n",
    "\n",
    "            else:\n",
    "                print()\n",
    "                print('Something else found...')\n",
    "                print(type(result))\n",
    "                print()\n",
    "                break\n",
    "    \n",
    "    df_new = pd.DataFrame(result_dict)\n",
    "\n",
    "    column_list = df_new.columns\n",
    "    columns_to_drop = []\n",
    "    for col in column_list:\n",
    "        if test_for_all_null(df_new, col):\n",
    "            columns_to_drop.append(col)\n",
    "    if len(columns_to_drop) > 0:\n",
    "        df_new = df_new.drop(columns = columns_to_drop)\n",
    "\n",
    "    df_new[time_column_name] = df[time_column_name]\n",
    "    df_new[column_name] = df[column_name]\n",
    "    df_new['instrument'] = df['instrument']\n",
    "    df_new['granularity'] = df['granularity']\n",
    "\n",
    "    final_column_list = [time_column_name, column_name, 'instrument', 'granularity']\n",
    "    final_column_list.extend(column_list)\n",
    "\n",
    "    return df_new[final_column_list], column_list"
   ]
  },
  {
   "cell_type": "code",
   "execution_count": 14,
   "id": "a044d303-9281-44ee-9a42-3054c9dc56b6",
   "metadata": {},
   "outputs": [],
   "source": [
    "df_full_ff_timestep_results, ta_full_ff_results_column_list = do_ta_calculations(df_post_ff)\n",
    "df_NO_ff_timestep_results, ta_NO_ff_results_column_list = do_ta_calculations(df_NO_ff)"
   ]
  },
  {
   "cell_type": "code",
   "execution_count": null,
   "id": "91f3772a-47c3-4478-a9d5-9ec319b90c8b",
   "metadata": {},
   "outputs": [],
   "source": []
  },
  {
   "cell_type": "code",
   "execution_count": 15,
   "id": "8e143a4b-dc9d-426a-b240-21c98048a6f1",
   "metadata": {},
   "outputs": [
    {
     "data": {
      "text/html": [
       "<div>\n",
       "<style scoped>\n",
       "    .dataframe tbody tr th:only-of-type {\n",
       "        vertical-align: middle;\n",
       "    }\n",
       "\n",
       "    .dataframe tbody tr th {\n",
       "        vertical-align: top;\n",
       "    }\n",
       "\n",
       "    .dataframe thead th {\n",
       "        text-align: right;\n",
       "    }\n",
       "</style>\n",
       "<table border=\"1\" class=\"dataframe\">\n",
       "  <thead>\n",
       "    <tr style=\"text-align: right;\">\n",
       "      <th></th>\n",
       "      <th>time</th>\n",
       "      <th>mid_c</th>\n",
       "      <th>instrument</th>\n",
       "      <th>granularity</th>\n",
       "      <th>ACOS</th>\n",
       "      <th>APO</th>\n",
       "      <th>ASIN</th>\n",
       "      <th>ATAN</th>\n",
       "      <th>AVGDEV</th>\n",
       "      <th>BBANDS_element_0</th>\n",
       "      <th>...</th>\n",
       "      <th>SUM</th>\n",
       "      <th>T3</th>\n",
       "      <th>TAN</th>\n",
       "      <th>TANH</th>\n",
       "      <th>TEMA</th>\n",
       "      <th>TRIMA</th>\n",
       "      <th>TRIX</th>\n",
       "      <th>TSF</th>\n",
       "      <th>VAR</th>\n",
       "      <th>WMA</th>\n",
       "    </tr>\n",
       "  </thead>\n",
       "  <tbody>\n",
       "    <tr>\n",
       "      <th>0</th>\n",
       "      <td>1262540700</td>\n",
       "      <td>1.43172</td>\n",
       "      <td>EUR/USD</td>\n",
       "      <td>M15</td>\n",
       "      <td>NaN</td>\n",
       "      <td>NaN</td>\n",
       "      <td>NaN</td>\n",
       "      <td>0.961104</td>\n",
       "      <td>NaN</td>\n",
       "      <td>NaN</td>\n",
       "      <td>...</td>\n",
       "      <td>NaN</td>\n",
       "      <td>NaN</td>\n",
       "      <td>7.143878</td>\n",
       "      <td>0.892019</td>\n",
       "      <td>NaN</td>\n",
       "      <td>NaN</td>\n",
       "      <td>NaN</td>\n",
       "      <td>NaN</td>\n",
       "      <td>NaN</td>\n",
       "      <td>NaN</td>\n",
       "    </tr>\n",
       "    <tr>\n",
       "      <th>1</th>\n",
       "      <td>1262541600</td>\n",
       "      <td>1.43110</td>\n",
       "      <td>EUR/USD</td>\n",
       "      <td>M15</td>\n",
       "      <td>NaN</td>\n",
       "      <td>NaN</td>\n",
       "      <td>NaN</td>\n",
       "      <td>0.960901</td>\n",
       "      <td>NaN</td>\n",
       "      <td>NaN</td>\n",
       "      <td>...</td>\n",
       "      <td>NaN</td>\n",
       "      <td>NaN</td>\n",
       "      <td>7.111758</td>\n",
       "      <td>0.891892</td>\n",
       "      <td>NaN</td>\n",
       "      <td>NaN</td>\n",
       "      <td>NaN</td>\n",
       "      <td>NaN</td>\n",
       "      <td>NaN</td>\n",
       "      <td>NaN</td>\n",
       "    </tr>\n",
       "    <tr>\n",
       "      <th>2</th>\n",
       "      <td>1262542500</td>\n",
       "      <td>1.43155</td>\n",
       "      <td>EUR/USD</td>\n",
       "      <td>M15</td>\n",
       "      <td>NaN</td>\n",
       "      <td>NaN</td>\n",
       "      <td>NaN</td>\n",
       "      <td>0.961049</td>\n",
       "      <td>NaN</td>\n",
       "      <td>NaN</td>\n",
       "      <td>...</td>\n",
       "      <td>NaN</td>\n",
       "      <td>NaN</td>\n",
       "      <td>7.135042</td>\n",
       "      <td>0.891984</td>\n",
       "      <td>NaN</td>\n",
       "      <td>NaN</td>\n",
       "      <td>NaN</td>\n",
       "      <td>NaN</td>\n",
       "      <td>NaN</td>\n",
       "      <td>NaN</td>\n",
       "    </tr>\n",
       "  </tbody>\n",
       "</table>\n",
       "<p>3 rows × 80 columns</p>\n",
       "</div>"
      ],
      "text/plain": [
       "         time    mid_c instrument granularity  ACOS  APO  ASIN      ATAN  \\\n",
       "0  1262540700  1.43172    EUR/USD         M15   NaN  NaN   NaN  0.961104   \n",
       "1  1262541600  1.43110    EUR/USD         M15   NaN  NaN   NaN  0.960901   \n",
       "2  1262542500  1.43155    EUR/USD         M15   NaN  NaN   NaN  0.961049   \n",
       "\n",
       "   AVGDEV  BBANDS_element_0  ...  SUM  T3       TAN      TANH  TEMA  TRIMA  \\\n",
       "0     NaN               NaN  ...  NaN NaN  7.143878  0.892019   NaN    NaN   \n",
       "1     NaN               NaN  ...  NaN NaN  7.111758  0.891892   NaN    NaN   \n",
       "2     NaN               NaN  ...  NaN NaN  7.135042  0.891984   NaN    NaN   \n",
       "\n",
       "   TRIX  TSF  VAR  WMA  \n",
       "0   NaN  NaN  NaN  NaN  \n",
       "1   NaN  NaN  NaN  NaN  \n",
       "2   NaN  NaN  NaN  NaN  \n",
       "\n",
       "[3 rows x 80 columns]"
      ]
     },
     "execution_count": 15,
     "metadata": {},
     "output_type": "execute_result"
    }
   ],
   "source": [
    "df_full_ff_timestep_results.head(3)"
   ]
  },
  {
   "cell_type": "code",
   "execution_count": 16,
   "id": "720b451b-418f-4476-8806-ccb6d00ed70c",
   "metadata": {},
   "outputs": [
    {
     "data": {
      "text/plain": [
       "Index(['ACOS', 'APO', 'ASIN', 'ATAN', 'AVGDEV', 'BBANDS_element_0',\n",
       "       'BBANDS_element_1', 'BBANDS_element_2', 'CEIL', 'CMO'],\n",
       "      dtype='object')"
      ]
     },
     "execution_count": 16,
     "metadata": {},
     "output_type": "execute_result"
    }
   ],
   "source": [
    "ta_full_ff_results_column_list[0:10]"
   ]
  },
  {
   "cell_type": "code",
   "execution_count": 17,
   "id": "c46a98c6-0896-4e26-a0d7-64be49af6c50",
   "metadata": {},
   "outputs": [
    {
     "data": {
      "text/html": [
       "<div>\n",
       "<style scoped>\n",
       "    .dataframe tbody tr th:only-of-type {\n",
       "        vertical-align: middle;\n",
       "    }\n",
       "\n",
       "    .dataframe tbody tr th {\n",
       "        vertical-align: top;\n",
       "    }\n",
       "\n",
       "    .dataframe thead th {\n",
       "        text-align: right;\n",
       "    }\n",
       "</style>\n",
       "<table border=\"1\" class=\"dataframe\">\n",
       "  <thead>\n",
       "    <tr style=\"text-align: right;\">\n",
       "      <th></th>\n",
       "      <th>time</th>\n",
       "      <th>mid_c</th>\n",
       "      <th>instrument</th>\n",
       "      <th>granularity</th>\n",
       "      <th>ACOS</th>\n",
       "      <th>APO</th>\n",
       "      <th>ASIN</th>\n",
       "      <th>ATAN</th>\n",
       "      <th>AVGDEV</th>\n",
       "      <th>BBANDS_element_0</th>\n",
       "      <th>...</th>\n",
       "      <th>SUM</th>\n",
       "      <th>T3</th>\n",
       "      <th>TAN</th>\n",
       "      <th>TANH</th>\n",
       "      <th>TEMA</th>\n",
       "      <th>TRIMA</th>\n",
       "      <th>TRIX</th>\n",
       "      <th>TSF</th>\n",
       "      <th>VAR</th>\n",
       "      <th>WMA</th>\n",
       "    </tr>\n",
       "  </thead>\n",
       "  <tbody>\n",
       "    <tr>\n",
       "      <th>0</th>\n",
       "      <td>1262540700</td>\n",
       "      <td>1.43172</td>\n",
       "      <td>EUR/USD</td>\n",
       "      <td>M15</td>\n",
       "      <td>NaN</td>\n",
       "      <td>NaN</td>\n",
       "      <td>NaN</td>\n",
       "      <td>0.961104</td>\n",
       "      <td>NaN</td>\n",
       "      <td>NaN</td>\n",
       "      <td>...</td>\n",
       "      <td>NaN</td>\n",
       "      <td>NaN</td>\n",
       "      <td>7.143878</td>\n",
       "      <td>0.892019</td>\n",
       "      <td>NaN</td>\n",
       "      <td>NaN</td>\n",
       "      <td>NaN</td>\n",
       "      <td>NaN</td>\n",
       "      <td>NaN</td>\n",
       "      <td>NaN</td>\n",
       "    </tr>\n",
       "    <tr>\n",
       "      <th>1</th>\n",
       "      <td>1262541600</td>\n",
       "      <td>1.43110</td>\n",
       "      <td>EUR/USD</td>\n",
       "      <td>M15</td>\n",
       "      <td>NaN</td>\n",
       "      <td>NaN</td>\n",
       "      <td>NaN</td>\n",
       "      <td>0.960901</td>\n",
       "      <td>NaN</td>\n",
       "      <td>NaN</td>\n",
       "      <td>...</td>\n",
       "      <td>NaN</td>\n",
       "      <td>NaN</td>\n",
       "      <td>7.111758</td>\n",
       "      <td>0.891892</td>\n",
       "      <td>NaN</td>\n",
       "      <td>NaN</td>\n",
       "      <td>NaN</td>\n",
       "      <td>NaN</td>\n",
       "      <td>NaN</td>\n",
       "      <td>NaN</td>\n",
       "    </tr>\n",
       "    <tr>\n",
       "      <th>2</th>\n",
       "      <td>1262542500</td>\n",
       "      <td>1.43155</td>\n",
       "      <td>EUR/USD</td>\n",
       "      <td>M15</td>\n",
       "      <td>NaN</td>\n",
       "      <td>NaN</td>\n",
       "      <td>NaN</td>\n",
       "      <td>0.961049</td>\n",
       "      <td>NaN</td>\n",
       "      <td>NaN</td>\n",
       "      <td>...</td>\n",
       "      <td>NaN</td>\n",
       "      <td>NaN</td>\n",
       "      <td>7.135042</td>\n",
       "      <td>0.891984</td>\n",
       "      <td>NaN</td>\n",
       "      <td>NaN</td>\n",
       "      <td>NaN</td>\n",
       "      <td>NaN</td>\n",
       "      <td>NaN</td>\n",
       "      <td>NaN</td>\n",
       "    </tr>\n",
       "  </tbody>\n",
       "</table>\n",
       "<p>3 rows × 80 columns</p>\n",
       "</div>"
      ],
      "text/plain": [
       "         time    mid_c instrument granularity  ACOS  APO  ASIN      ATAN  \\\n",
       "0  1262540700  1.43172    EUR/USD         M15   NaN  NaN   NaN  0.961104   \n",
       "1  1262541600  1.43110    EUR/USD         M15   NaN  NaN   NaN  0.960901   \n",
       "2  1262542500  1.43155    EUR/USD         M15   NaN  NaN   NaN  0.961049   \n",
       "\n",
       "   AVGDEV  BBANDS_element_0  ...  SUM  T3       TAN      TANH  TEMA  TRIMA  \\\n",
       "0     NaN               NaN  ...  NaN NaN  7.143878  0.892019   NaN    NaN   \n",
       "1     NaN               NaN  ...  NaN NaN  7.111758  0.891892   NaN    NaN   \n",
       "2     NaN               NaN  ...  NaN NaN  7.135042  0.891984   NaN    NaN   \n",
       "\n",
       "   TRIX  TSF  VAR  WMA  \n",
       "0   NaN  NaN  NaN  NaN  \n",
       "1   NaN  NaN  NaN  NaN  \n",
       "2   NaN  NaN  NaN  NaN  \n",
       "\n",
       "[3 rows x 80 columns]"
      ]
     },
     "execution_count": 17,
     "metadata": {},
     "output_type": "execute_result"
    }
   ],
   "source": [
    "df_NO_ff_timestep_results.head(3)"
   ]
  },
  {
   "cell_type": "code",
   "execution_count": 18,
   "id": "7ab51920-6603-486c-9b59-941a37d429ad",
   "metadata": {},
   "outputs": [
    {
     "data": {
      "text/plain": [
       "Index(['ACOS', 'APO', 'ASIN', 'ATAN', 'AVGDEV', 'BBANDS_element_0',\n",
       "       'BBANDS_element_1', 'BBANDS_element_2', 'CEIL', 'CMO'],\n",
       "      dtype='object')"
      ]
     },
     "execution_count": 18,
     "metadata": {},
     "output_type": "execute_result"
    }
   ],
   "source": [
    "ta_NO_ff_results_column_list[0:10]"
   ]
  },
  {
   "cell_type": "code",
   "execution_count": null,
   "id": "b26248d3-bcb2-444c-96a1-2afb5774bca4",
   "metadata": {},
   "outputs": [],
   "source": []
  },
  {
   "cell_type": "markdown",
   "id": "c2e1eafa-3414-4dbe-a359-e5221dff4c8d",
   "metadata": {},
   "source": [
    "## Transpose"
   ]
  },
  {
   "cell_type": "code",
   "execution_count": 19,
   "id": "36f04000-eb27-48e7-bda4-07d0e8f0e12e",
   "metadata": {},
   "outputs": [],
   "source": [
    "from badassdatascience.forex.utilities.transpose import transpose_it"
   ]
  },
  {
   "cell_type": "code",
   "execution_count": 20,
   "id": "5d95464e-75a0-4082-ab9f-adffbd1c79ef",
   "metadata": {},
   "outputs": [],
   "source": [
    "df_full_ff_timestamp_transposed = transpose_it(df_full_ff_timestep_results, ta_full_ff_results_column_list)"
   ]
  },
  {
   "cell_type": "code",
   "execution_count": 21,
   "id": "9e31d131-4bae-4612-9df9-7a2b3a61298c",
   "metadata": {},
   "outputs": [
    {
     "data": {
      "text/html": [
       "<div>\n",
       "<style scoped>\n",
       "    .dataframe tbody tr th:only-of-type {\n",
       "        vertical-align: middle;\n",
       "    }\n",
       "\n",
       "    .dataframe tbody tr th {\n",
       "        vertical-align: top;\n",
       "    }\n",
       "\n",
       "    .dataframe thead th {\n",
       "        text-align: right;\n",
       "    }\n",
       "</style>\n",
       "<table border=\"1\" class=\"dataframe\">\n",
       "  <thead>\n",
       "    <tr style=\"text-align: right;\">\n",
       "      <th></th>\n",
       "      <th>index</th>\n",
       "      <th>combined</th>\n",
       "      <th>mid_c</th>\n",
       "    </tr>\n",
       "  </thead>\n",
       "  <tbody>\n",
       "    <tr>\n",
       "      <th>4</th>\n",
       "      <td>ACOS</td>\n",
       "      <td>[nan, nan, nan, nan, nan, nan, nan, nan, nan, ...</td>\n",
       "      <td>[1.43172, 1.4311, 1.43155, 1.43106, 1.43157, 1...</td>\n",
       "    </tr>\n",
       "    <tr>\n",
       "      <th>5</th>\n",
       "      <td>APO</td>\n",
       "      <td>[nan, nan, nan, nan, nan, nan, nan, nan, nan, ...</td>\n",
       "      <td>[1.43172, 1.4311, 1.43155, 1.43106, 1.43157, 1...</td>\n",
       "    </tr>\n",
       "    <tr>\n",
       "      <th>6</th>\n",
       "      <td>ASIN</td>\n",
       "      <td>[nan, nan, nan, nan, nan, nan, nan, nan, nan, ...</td>\n",
       "      <td>[1.43172, 1.4311, 1.43155, 1.43106, 1.43157, 1...</td>\n",
       "    </tr>\n",
       "    <tr>\n",
       "      <th>7</th>\n",
       "      <td>ATAN</td>\n",
       "      <td>[0.9611042689293725, 0.9609009192040567, 0.961...</td>\n",
       "      <td>[1.43172, 1.4311, 1.43155, 1.43106, 1.43157, 1...</td>\n",
       "    </tr>\n",
       "    <tr>\n",
       "      <th>8</th>\n",
       "      <td>AVGDEV</td>\n",
       "      <td>[nan, nan, nan, nan, nan, nan, nan, nan, nan, ...</td>\n",
       "      <td>[1.43172, 1.4311, 1.43155, 1.43106, 1.43157, 1...</td>\n",
       "    </tr>\n",
       "    <tr>\n",
       "      <th>...</th>\n",
       "      <td>...</td>\n",
       "      <td>...</td>\n",
       "      <td>...</td>\n",
       "    </tr>\n",
       "    <tr>\n",
       "      <th>75</th>\n",
       "      <td>TRIMA</td>\n",
       "      <td>[nan, nan, nan, nan, nan, nan, nan, nan, nan, ...</td>\n",
       "      <td>[1.43172, 1.4311, 1.43155, 1.43106, 1.43157, 1...</td>\n",
       "    </tr>\n",
       "    <tr>\n",
       "      <th>76</th>\n",
       "      <td>TRIX</td>\n",
       "      <td>[nan, nan, nan, nan, nan, nan, nan, nan, nan, ...</td>\n",
       "      <td>[1.43172, 1.4311, 1.43155, 1.43106, 1.43157, 1...</td>\n",
       "    </tr>\n",
       "    <tr>\n",
       "      <th>77</th>\n",
       "      <td>TSF</td>\n",
       "      <td>[nan, nan, nan, nan, nan, nan, nan, nan, nan, ...</td>\n",
       "      <td>[1.43172, 1.4311, 1.43155, 1.43106, 1.43157, 1...</td>\n",
       "    </tr>\n",
       "    <tr>\n",
       "      <th>78</th>\n",
       "      <td>VAR</td>\n",
       "      <td>[nan, nan, nan, nan, 7.187999928603972e-08, 1....</td>\n",
       "      <td>[1.43172, 1.4311, 1.43155, 1.43106, 1.43157, 1...</td>\n",
       "    </tr>\n",
       "    <tr>\n",
       "      <th>79</th>\n",
       "      <td>WMA</td>\n",
       "      <td>[nan, nan, nan, nan, nan, nan, nan, nan, nan, ...</td>\n",
       "      <td>[1.43172, 1.4311, 1.43155, 1.43106, 1.43157, 1...</td>\n",
       "    </tr>\n",
       "  </tbody>\n",
       "</table>\n",
       "<p>76 rows × 3 columns</p>\n",
       "</div>"
      ],
      "text/plain": [
       "     index                                           combined  \\\n",
       "4     ACOS  [nan, nan, nan, nan, nan, nan, nan, nan, nan, ...   \n",
       "5      APO  [nan, nan, nan, nan, nan, nan, nan, nan, nan, ...   \n",
       "6     ASIN  [nan, nan, nan, nan, nan, nan, nan, nan, nan, ...   \n",
       "7     ATAN  [0.9611042689293725, 0.9609009192040567, 0.961...   \n",
       "8   AVGDEV  [nan, nan, nan, nan, nan, nan, nan, nan, nan, ...   \n",
       "..     ...                                                ...   \n",
       "75   TRIMA  [nan, nan, nan, nan, nan, nan, nan, nan, nan, ...   \n",
       "76    TRIX  [nan, nan, nan, nan, nan, nan, nan, nan, nan, ...   \n",
       "77     TSF  [nan, nan, nan, nan, nan, nan, nan, nan, nan, ...   \n",
       "78     VAR  [nan, nan, nan, nan, 7.187999928603972e-08, 1....   \n",
       "79     WMA  [nan, nan, nan, nan, nan, nan, nan, nan, nan, ...   \n",
       "\n",
       "                                                mid_c  \n",
       "4   [1.43172, 1.4311, 1.43155, 1.43106, 1.43157, 1...  \n",
       "5   [1.43172, 1.4311, 1.43155, 1.43106, 1.43157, 1...  \n",
       "6   [1.43172, 1.4311, 1.43155, 1.43106, 1.43157, 1...  \n",
       "7   [1.43172, 1.4311, 1.43155, 1.43106, 1.43157, 1...  \n",
       "8   [1.43172, 1.4311, 1.43155, 1.43106, 1.43157, 1...  \n",
       "..                                                ...  \n",
       "75  [1.43172, 1.4311, 1.43155, 1.43106, 1.43157, 1...  \n",
       "76  [1.43172, 1.4311, 1.43155, 1.43106, 1.43157, 1...  \n",
       "77  [1.43172, 1.4311, 1.43155, 1.43106, 1.43157, 1...  \n",
       "78  [1.43172, 1.4311, 1.43155, 1.43106, 1.43157, 1...  \n",
       "79  [1.43172, 1.4311, 1.43155, 1.43106, 1.43157, 1...  \n",
       "\n",
       "[76 rows x 3 columns]"
      ]
     },
     "execution_count": 21,
     "metadata": {},
     "output_type": "execute_result"
    }
   ],
   "source": [
    "df_full_ff_timestamp_transposed"
   ]
  },
  {
   "cell_type": "code",
   "execution_count": 22,
   "id": "1c468f1c-89e3-4168-9abb-898ff3b9ac1d",
   "metadata": {},
   "outputs": [],
   "source": [
    "df_NO_ff_timestamp_transposed = transpose_it(df_NO_ff_timestep_results, ta_NO_ff_results_column_list)"
   ]
  },
  {
   "cell_type": "code",
   "execution_count": 23,
   "id": "ff279118-f7c0-401d-87ad-d2522ea02421",
   "metadata": {},
   "outputs": [
    {
     "data": {
      "text/html": [
       "<div>\n",
       "<style scoped>\n",
       "    .dataframe tbody tr th:only-of-type {\n",
       "        vertical-align: middle;\n",
       "    }\n",
       "\n",
       "    .dataframe tbody tr th {\n",
       "        vertical-align: top;\n",
       "    }\n",
       "\n",
       "    .dataframe thead th {\n",
       "        text-align: right;\n",
       "    }\n",
       "</style>\n",
       "<table border=\"1\" class=\"dataframe\">\n",
       "  <thead>\n",
       "    <tr style=\"text-align: right;\">\n",
       "      <th></th>\n",
       "      <th>index</th>\n",
       "      <th>combined</th>\n",
       "      <th>mid_c</th>\n",
       "    </tr>\n",
       "  </thead>\n",
       "  <tbody>\n",
       "    <tr>\n",
       "      <th>4</th>\n",
       "      <td>ACOS</td>\n",
       "      <td>[nan, nan, nan, nan, nan, nan, nan, nan, nan, ...</td>\n",
       "      <td>[1.43172, 1.4311, 1.43155, 1.43106, 1.43157, 1...</td>\n",
       "    </tr>\n",
       "    <tr>\n",
       "      <th>5</th>\n",
       "      <td>APO</td>\n",
       "      <td>[nan, nan, nan, nan, nan, nan, nan, nan, nan, ...</td>\n",
       "      <td>[1.43172, 1.4311, 1.43155, 1.43106, 1.43157, 1...</td>\n",
       "    </tr>\n",
       "    <tr>\n",
       "      <th>6</th>\n",
       "      <td>ASIN</td>\n",
       "      <td>[nan, nan, nan, nan, nan, nan, nan, nan, nan, ...</td>\n",
       "      <td>[1.43172, 1.4311, 1.43155, 1.43106, 1.43157, 1...</td>\n",
       "    </tr>\n",
       "    <tr>\n",
       "      <th>7</th>\n",
       "      <td>ATAN</td>\n",
       "      <td>[0.9611042689293725, 0.9609009192040567, 0.961...</td>\n",
       "      <td>[1.43172, 1.4311, 1.43155, 1.43106, 1.43157, 1...</td>\n",
       "    </tr>\n",
       "    <tr>\n",
       "      <th>8</th>\n",
       "      <td>AVGDEV</td>\n",
       "      <td>[nan, nan, nan, nan, nan, nan, nan, nan, nan, ...</td>\n",
       "      <td>[1.43172, 1.4311, 1.43155, 1.43106, 1.43157, 1...</td>\n",
       "    </tr>\n",
       "    <tr>\n",
       "      <th>...</th>\n",
       "      <td>...</td>\n",
       "      <td>...</td>\n",
       "      <td>...</td>\n",
       "    </tr>\n",
       "    <tr>\n",
       "      <th>75</th>\n",
       "      <td>TRIMA</td>\n",
       "      <td>[nan, nan, nan, nan, nan, nan, nan, nan, nan, ...</td>\n",
       "      <td>[1.43172, 1.4311, 1.43155, 1.43106, 1.43157, 1...</td>\n",
       "    </tr>\n",
       "    <tr>\n",
       "      <th>76</th>\n",
       "      <td>TRIX</td>\n",
       "      <td>[nan, nan, nan, nan, nan, nan, nan, nan, nan, ...</td>\n",
       "      <td>[1.43172, 1.4311, 1.43155, 1.43106, 1.43157, 1...</td>\n",
       "    </tr>\n",
       "    <tr>\n",
       "      <th>77</th>\n",
       "      <td>TSF</td>\n",
       "      <td>[nan, nan, nan, nan, nan, nan, nan, nan, nan, ...</td>\n",
       "      <td>[1.43172, 1.4311, 1.43155, 1.43106, 1.43157, 1...</td>\n",
       "    </tr>\n",
       "    <tr>\n",
       "      <th>78</th>\n",
       "      <td>VAR</td>\n",
       "      <td>[nan, nan, nan, nan, 7.187999928603972e-08, 1....</td>\n",
       "      <td>[1.43172, 1.4311, 1.43155, 1.43106, 1.43157, 1...</td>\n",
       "    </tr>\n",
       "    <tr>\n",
       "      <th>79</th>\n",
       "      <td>WMA</td>\n",
       "      <td>[nan, nan, nan, nan, nan, nan, nan, nan, nan, ...</td>\n",
       "      <td>[1.43172, 1.4311, 1.43155, 1.43106, 1.43157, 1...</td>\n",
       "    </tr>\n",
       "  </tbody>\n",
       "</table>\n",
       "<p>76 rows × 3 columns</p>\n",
       "</div>"
      ],
      "text/plain": [
       "     index                                           combined  \\\n",
       "4     ACOS  [nan, nan, nan, nan, nan, nan, nan, nan, nan, ...   \n",
       "5      APO  [nan, nan, nan, nan, nan, nan, nan, nan, nan, ...   \n",
       "6     ASIN  [nan, nan, nan, nan, nan, nan, nan, nan, nan, ...   \n",
       "7     ATAN  [0.9611042689293725, 0.9609009192040567, 0.961...   \n",
       "8   AVGDEV  [nan, nan, nan, nan, nan, nan, nan, nan, nan, ...   \n",
       "..     ...                                                ...   \n",
       "75   TRIMA  [nan, nan, nan, nan, nan, nan, nan, nan, nan, ...   \n",
       "76    TRIX  [nan, nan, nan, nan, nan, nan, nan, nan, nan, ...   \n",
       "77     TSF  [nan, nan, nan, nan, nan, nan, nan, nan, nan, ...   \n",
       "78     VAR  [nan, nan, nan, nan, 7.187999928603972e-08, 1....   \n",
       "79     WMA  [nan, nan, nan, nan, nan, nan, nan, nan, nan, ...   \n",
       "\n",
       "                                                mid_c  \n",
       "4   [1.43172, 1.4311, 1.43155, 1.43106, 1.43157, 1...  \n",
       "5   [1.43172, 1.4311, 1.43155, 1.43106, 1.43157, 1...  \n",
       "6   [1.43172, 1.4311, 1.43155, 1.43106, 1.43157, 1...  \n",
       "7   [1.43172, 1.4311, 1.43155, 1.43106, 1.43157, 1...  \n",
       "8   [1.43172, 1.4311, 1.43155, 1.43106, 1.43157, 1...  \n",
       "..                                                ...  \n",
       "75  [1.43172, 1.4311, 1.43155, 1.43106, 1.43157, 1...  \n",
       "76  [1.43172, 1.4311, 1.43155, 1.43106, 1.43157, 1...  \n",
       "77  [1.43172, 1.4311, 1.43155, 1.43106, 1.43157, 1...  \n",
       "78  [1.43172, 1.4311, 1.43155, 1.43106, 1.43157, 1...  \n",
       "79  [1.43172, 1.4311, 1.43155, 1.43106, 1.43157, 1...  \n",
       "\n",
       "[76 rows x 3 columns]"
      ]
     },
     "execution_count": 23,
     "metadata": {},
     "output_type": "execute_result"
    }
   ],
   "source": [
    "df_NO_ff_timestamp_transposed"
   ]
  },
  {
   "cell_type": "markdown",
   "id": "fce16a74-889e-4783-aed9-a1dca063a7af",
   "metadata": {},
   "source": [
    "## Tag and stack the two dataframes"
   ]
  },
  {
   "cell_type": "code",
   "execution_count": 24,
   "id": "0fad758c-a9c0-418d-a748-5e50758485ad",
   "metadata": {},
   "outputs": [],
   "source": [
    "import pandas as pd"
   ]
  },
  {
   "cell_type": "code",
   "execution_count": 25,
   "id": "ff35a672-1cdc-4b45-a6ef-5182c02f405e",
   "metadata": {},
   "outputs": [],
   "source": [
    "df_full_ff_timestamp_transposed['group'] = 'full_ff_timestep'\n",
    "df_NO_ff_timestamp_transposed['group'] = 'no_ff_timestep'\n",
    "df_all = pd.concat([df_full_ff_timestamp_transposed, df_NO_ff_timestamp_transposed])"
   ]
  },
  {
   "cell_type": "code",
   "execution_count": 26,
   "id": "842209d7-fe45-4295-a7e9-017325d73849",
   "metadata": {},
   "outputs": [
    {
     "data": {
      "text/html": [
       "<div>\n",
       "<style scoped>\n",
       "    .dataframe tbody tr th:only-of-type {\n",
       "        vertical-align: middle;\n",
       "    }\n",
       "\n",
       "    .dataframe tbody tr th {\n",
       "        vertical-align: top;\n",
       "    }\n",
       "\n",
       "    .dataframe thead th {\n",
       "        text-align: right;\n",
       "    }\n",
       "</style>\n",
       "<table border=\"1\" class=\"dataframe\">\n",
       "  <thead>\n",
       "    <tr style=\"text-align: right;\">\n",
       "      <th></th>\n",
       "      <th>index</th>\n",
       "      <th>combined</th>\n",
       "      <th>mid_c</th>\n",
       "      <th>group</th>\n",
       "    </tr>\n",
       "  </thead>\n",
       "  <tbody>\n",
       "    <tr>\n",
       "      <th>4</th>\n",
       "      <td>ACOS</td>\n",
       "      <td>[nan, nan, nan, nan, nan, nan, nan, nan, nan, ...</td>\n",
       "      <td>[1.43172, 1.4311, 1.43155, 1.43106, 1.43157, 1...</td>\n",
       "      <td>full_ff_timestep</td>\n",
       "    </tr>\n",
       "    <tr>\n",
       "      <th>5</th>\n",
       "      <td>APO</td>\n",
       "      <td>[nan, nan, nan, nan, nan, nan, nan, nan, nan, ...</td>\n",
       "      <td>[1.43172, 1.4311, 1.43155, 1.43106, 1.43157, 1...</td>\n",
       "      <td>full_ff_timestep</td>\n",
       "    </tr>\n",
       "    <tr>\n",
       "      <th>6</th>\n",
       "      <td>ASIN</td>\n",
       "      <td>[nan, nan, nan, nan, nan, nan, nan, nan, nan, ...</td>\n",
       "      <td>[1.43172, 1.4311, 1.43155, 1.43106, 1.43157, 1...</td>\n",
       "      <td>full_ff_timestep</td>\n",
       "    </tr>\n",
       "    <tr>\n",
       "      <th>7</th>\n",
       "      <td>ATAN</td>\n",
       "      <td>[0.9611042689293725, 0.9609009192040567, 0.961...</td>\n",
       "      <td>[1.43172, 1.4311, 1.43155, 1.43106, 1.43157, 1...</td>\n",
       "      <td>full_ff_timestep</td>\n",
       "    </tr>\n",
       "    <tr>\n",
       "      <th>8</th>\n",
       "      <td>AVGDEV</td>\n",
       "      <td>[nan, nan, nan, nan, nan, nan, nan, nan, nan, ...</td>\n",
       "      <td>[1.43172, 1.4311, 1.43155, 1.43106, 1.43157, 1...</td>\n",
       "      <td>full_ff_timestep</td>\n",
       "    </tr>\n",
       "    <tr>\n",
       "      <th>...</th>\n",
       "      <td>...</td>\n",
       "      <td>...</td>\n",
       "      <td>...</td>\n",
       "      <td>...</td>\n",
       "    </tr>\n",
       "    <tr>\n",
       "      <th>75</th>\n",
       "      <td>TRIMA</td>\n",
       "      <td>[nan, nan, nan, nan, nan, nan, nan, nan, nan, ...</td>\n",
       "      <td>[1.43172, 1.4311, 1.43155, 1.43106, 1.43157, 1...</td>\n",
       "      <td>no_ff_timestep</td>\n",
       "    </tr>\n",
       "    <tr>\n",
       "      <th>76</th>\n",
       "      <td>TRIX</td>\n",
       "      <td>[nan, nan, nan, nan, nan, nan, nan, nan, nan, ...</td>\n",
       "      <td>[1.43172, 1.4311, 1.43155, 1.43106, 1.43157, 1...</td>\n",
       "      <td>no_ff_timestep</td>\n",
       "    </tr>\n",
       "    <tr>\n",
       "      <th>77</th>\n",
       "      <td>TSF</td>\n",
       "      <td>[nan, nan, nan, nan, nan, nan, nan, nan, nan, ...</td>\n",
       "      <td>[1.43172, 1.4311, 1.43155, 1.43106, 1.43157, 1...</td>\n",
       "      <td>no_ff_timestep</td>\n",
       "    </tr>\n",
       "    <tr>\n",
       "      <th>78</th>\n",
       "      <td>VAR</td>\n",
       "      <td>[nan, nan, nan, nan, 7.187999928603972e-08, 1....</td>\n",
       "      <td>[1.43172, 1.4311, 1.43155, 1.43106, 1.43157, 1...</td>\n",
       "      <td>no_ff_timestep</td>\n",
       "    </tr>\n",
       "    <tr>\n",
       "      <th>79</th>\n",
       "      <td>WMA</td>\n",
       "      <td>[nan, nan, nan, nan, nan, nan, nan, nan, nan, ...</td>\n",
       "      <td>[1.43172, 1.4311, 1.43155, 1.43106, 1.43157, 1...</td>\n",
       "      <td>no_ff_timestep</td>\n",
       "    </tr>\n",
       "  </tbody>\n",
       "</table>\n",
       "<p>152 rows × 4 columns</p>\n",
       "</div>"
      ],
      "text/plain": [
       "     index                                           combined  \\\n",
       "4     ACOS  [nan, nan, nan, nan, nan, nan, nan, nan, nan, ...   \n",
       "5      APO  [nan, nan, nan, nan, nan, nan, nan, nan, nan, ...   \n",
       "6     ASIN  [nan, nan, nan, nan, nan, nan, nan, nan, nan, ...   \n",
       "7     ATAN  [0.9611042689293725, 0.9609009192040567, 0.961...   \n",
       "8   AVGDEV  [nan, nan, nan, nan, nan, nan, nan, nan, nan, ...   \n",
       "..     ...                                                ...   \n",
       "75   TRIMA  [nan, nan, nan, nan, nan, nan, nan, nan, nan, ...   \n",
       "76    TRIX  [nan, nan, nan, nan, nan, nan, nan, nan, nan, ...   \n",
       "77     TSF  [nan, nan, nan, nan, nan, nan, nan, nan, nan, ...   \n",
       "78     VAR  [nan, nan, nan, nan, 7.187999928603972e-08, 1....   \n",
       "79     WMA  [nan, nan, nan, nan, nan, nan, nan, nan, nan, ...   \n",
       "\n",
       "                                                mid_c             group  \n",
       "4   [1.43172, 1.4311, 1.43155, 1.43106, 1.43157, 1...  full_ff_timestep  \n",
       "5   [1.43172, 1.4311, 1.43155, 1.43106, 1.43157, 1...  full_ff_timestep  \n",
       "6   [1.43172, 1.4311, 1.43155, 1.43106, 1.43157, 1...  full_ff_timestep  \n",
       "7   [1.43172, 1.4311, 1.43155, 1.43106, 1.43157, 1...  full_ff_timestep  \n",
       "8   [1.43172, 1.4311, 1.43155, 1.43106, 1.43157, 1...  full_ff_timestep  \n",
       "..                                                ...               ...  \n",
       "75  [1.43172, 1.4311, 1.43155, 1.43106, 1.43157, 1...    no_ff_timestep  \n",
       "76  [1.43172, 1.4311, 1.43155, 1.43106, 1.43157, 1...    no_ff_timestep  \n",
       "77  [1.43172, 1.4311, 1.43155, 1.43106, 1.43157, 1...    no_ff_timestep  \n",
       "78  [1.43172, 1.4311, 1.43155, 1.43106, 1.43157, 1...    no_ff_timestep  \n",
       "79  [1.43172, 1.4311, 1.43155, 1.43106, 1.43157, 1...    no_ff_timestep  \n",
       "\n",
       "[152 rows x 4 columns]"
      ]
     },
     "execution_count": 26,
     "metadata": {},
     "output_type": "execute_result"
    }
   ],
   "source": [
    "df_all"
   ]
  },
  {
   "cell_type": "markdown",
   "id": "96ada545-8a1c-4ccd-bbda-b2919c79aabc",
   "metadata": {},
   "source": [
    "## Get sparky"
   ]
  },
  {
   "cell_type": "code",
   "execution_count": 28,
   "id": "ae9c0e50-fbf9-4dfb-ba23-6d3e1a3788e7",
   "metadata": {},
   "outputs": [],
   "source": [
    "import pyspark\n",
    "import pyspark.sql.functions as f\n",
    "from pyspark.sql.types import FloatType\n",
    "\n",
    "from badassdatascience.utilities.badass_spark.spark_session import get_spark_session"
   ]
  },
  {
   "cell_type": "code",
   "execution_count": 29,
   "id": "ea379790-de04-4a45-b7d1-da264700dc7b",
   "metadata": {},
   "outputs": [
    {
     "name": "stderr",
     "output_type": "stream",
     "text": [
      "25/05/06 20:06:27 WARN Utils: Your hostname, emily-MS-7B96 resolves to a loopback address: 127.0.1.1; using 192.168.1.231 instead (on interface wlp5s0)\n",
      "25/05/06 20:06:27 WARN Utils: Set SPARK_LOCAL_IP if you need to bind to another address\n",
      "Setting default log level to \"WARN\".\n",
      "To adjust logging level use sc.setLogLevel(newLevel). For SparkR, use setLogLevel(newLevel).\n",
      "25/05/06 20:06:27 WARN NativeCodeLoader: Unable to load native-hadoop library for your platform... using builtin-java classes where applicable\n"
     ]
    }
   ],
   "source": [
    "config = {\n",
    "    'spark_config' : [\n",
    "        ('spark.executor.memory', '100g'),\n",
    "        ('spark.executor.cores', '20'),\n",
    "        ('spark.cores.max', '20'),\n",
    "        ('spark.driver.memory', '100g'),\n",
    "        ('spark.sql.execution.arrow.pyspark.enabled', 'true'),\n",
    "    ]\n",
    "}\n",
    "\n",
    "spark = get_spark_session(config['spark_config'])"
   ]
  },
  {
   "cell_type": "code",
   "execution_count": null,
   "id": "a97bf4a3-e584-4b0a-b1d9-6c92c6fe4f28",
   "metadata": {},
   "outputs": [],
   "source": []
  },
  {
   "cell_type": "code",
   "execution_count": null,
   "id": "72ee3e92-6d3a-44af-8e8d-61317475193f",
   "metadata": {},
   "outputs": [],
   "source": []
  },
  {
   "cell_type": "code",
   "execution_count": null,
   "id": "a7ab631a-39c6-4122-ad6b-b9d31bdd32e1",
   "metadata": {},
   "outputs": [],
   "source": []
  },
  {
   "cell_type": "code",
   "execution_count": 30,
   "id": "c5b9d1a8-46d8-47e2-af6c-b87c2cde60c2",
   "metadata": {},
   "outputs": [
    {
     "name": "stderr",
     "output_type": "stream",
     "text": [
      "25/05/06 20:06:55 WARN TaskSetManager: Stage 0 contains a task of very large size (1103566 KiB). The maximum recommended task size is 1000 KiB.\n",
      "                                                                                \r"
     ]
    },
    {
     "name": "stdout",
     "output_type": "stream",
     "text": [
      "+-----+--------------------+--------------------+----------------+\n",
      "|index|            combined|               mid_c|           group|\n",
      "+-----+--------------------+--------------------+----------------+\n",
      "| ACOS|[NULL, NULL, NULL...|[1.43172, 1.4311,...|full_ff_timestep|\n",
      "|  APO|[NULL, NULL, NULL...|[1.43172, 1.4311,...|full_ff_timestep|\n",
      "+-----+--------------------+--------------------+----------------+\n",
      "only showing top 2 rows\n",
      "\n"
     ]
    }
   ],
   "source": [
    "sdf = spark.createDataFrame(df_all)\n",
    "sdf.show(2)"
   ]
  },
  {
   "cell_type": "code",
   "execution_count": null,
   "id": "33c2bdae-b2b4-4c63-80fe-915a20ebb1c2",
   "metadata": {},
   "outputs": [],
   "source": []
  },
  {
   "cell_type": "code",
   "execution_count": 31,
   "id": "75fc5115-7a47-4fd4-a1eb-dcddb3011b51",
   "metadata": {},
   "outputs": [],
   "source": [
    "lag_max = 200  # set somewhere else\n",
    "y_column_name = 'mid_c'  # set somewhere else\n",
    "granger_causality_test_to_use = 'ssr_chi2test'  # set somewhere else"
   ]
  },
  {
   "cell_type": "code",
   "execution_count": 32,
   "id": "989532a8-1fe3-40de-98fd-d9155a8effab",
   "metadata": {},
   "outputs": [],
   "source": [
    "pdf_lags = pd.DataFrame({'lag' : range(1, lag_max + 1)})\n",
    "sdf_lags = spark.createDataFrame(pdf_lags)\n",
    "sdf_all_with_lags = sdf.crossJoin(sdf_lags).coalesce(15)"
   ]
  },
  {
   "cell_type": "code",
   "execution_count": 33,
   "id": "abe836ce-dbcc-4ae5-a42c-161dda2f4cb7",
   "metadata": {},
   "outputs": [
    {
     "name": "stderr",
     "output_type": "stream",
     "text": [
      "25/05/06 20:07:00 WARN TaskSetManager: Stage 2 contains a task of very large size (1103567 KiB). The maximum recommended task size is 1000 KiB.\n",
      "                                                                                \r"
     ]
    },
    {
     "name": "stdout",
     "output_type": "stream",
     "text": [
      "+-----+--------------------+--------------------+----------------+---+\n",
      "|index|            combined|               mid_c|           group|lag|\n",
      "+-----+--------------------+--------------------+----------------+---+\n",
      "| ACOS|[NULL, NULL, NULL...|[1.43172, 1.4311,...|full_ff_timestep|  1|\n",
      "| ACOS|[NULL, NULL, NULL...|[1.43172, 1.4311,...|full_ff_timestep|  2|\n",
      "| ACOS|[NULL, NULL, NULL...|[1.43172, 1.4311,...|full_ff_timestep|  3|\n",
      "| ACOS|[NULL, NULL, NULL...|[1.43172, 1.4311,...|full_ff_timestep|  4|\n",
      "+-----+--------------------+--------------------+----------------+---+\n",
      "only showing top 4 rows\n",
      "\n"
     ]
    }
   ],
   "source": [
    "sdf_all_with_lags.show(4)"
   ]
  },
  {
   "cell_type": "code",
   "execution_count": null,
   "id": "30c0813e-5e3a-4553-b0be-f0931ffa132e",
   "metadata": {},
   "outputs": [],
   "source": []
  },
  {
   "cell_type": "code",
   "execution_count": null,
   "id": "81673e7d-3574-45be-a371-8e099dd6e0e6",
   "metadata": {},
   "outputs": [],
   "source": []
  },
  {
   "cell_type": "code",
   "execution_count": 34,
   "id": "617212b9-972a-45f8-ac95-421690c2b051",
   "metadata": {},
   "outputs": [],
   "source": [
    "def gc_it(caused_by, causing, only_one_lag, test_name):\n",
    "    import pandas as pd\n",
    "    from statsmodels.tsa.stattools import grangercausalitytests\n",
    "\n",
    "    import warnings\n",
    "    warnings.filterwarnings('ignore')\n",
    "    \n",
    "    df = pd.DataFrame({'caused_by' : caused_by, 'causing' : causing}).dropna()\n",
    "    M = df.to_numpy()\n",
    "\n",
    "    test_result = grangercausalitytests(M, maxlag = [only_one_lag], verbose = False)\n",
    "    p_value = test_result[only_one_lag][0][test_name][1]\n",
    "\n",
    "    return float(p_value)\n",
    "\n",
    "udf_gc_it = f.udf(gc_it, FloatType())"
   ]
  },
  {
   "cell_type": "code",
   "execution_count": null,
   "id": "6f0e1a48-524d-4b1f-8bd9-be3ed660d9ec",
   "metadata": {},
   "outputs": [],
   "source": []
  },
  {
   "cell_type": "code",
   "execution_count": null,
   "id": "9e5c6659-110c-4a5a-bde3-0bb39f1503b4",
   "metadata": {},
   "outputs": [],
   "source": []
  },
  {
   "cell_type": "code",
   "execution_count": 35,
   "id": "d37944d0-5bce-4895-ba7d-31744f66296d",
   "metadata": {},
   "outputs": [],
   "source": [
    "sdf_granger_causality_test_p_computed = (\n",
    "    sdf_all_with_lags\n",
    "    .withColumn('test_name', f.lit(granger_causality_test_to_use))\n",
    "    .withColumn(\n",
    "        'p_value',\n",
    "        udf_gc_it(f.col(y_column_name), f.col('combined'), f.col('lag'), f.col('test_name'))\n",
    "    )\n",
    "    .drop('combined', y_column_name, 'test_name')\n",
    "    .withColumn('minus_log_10_p_value', -1. * f.log10(f.col('p_value')))\n",
    ")               "
   ]
  },
  {
   "cell_type": "code",
   "execution_count": 36,
   "id": "865184a2-c892-4062-9d11-a0acddc9b026",
   "metadata": {
    "scrolled": true
   },
   "outputs": [
    {
     "name": "stderr",
     "output_type": "stream",
     "text": [
      "25/05/06 20:07:07 WARN TaskSetManager: Stage 4 contains a task of very large size (1103567 KiB). The maximum recommended task size is 1000 KiB.\n",
      "[Stage 4:>                                                          (0 + 1) / 1]\r"
     ]
    },
    {
     "name": "stdout",
     "output_type": "stream",
     "text": [
      "+-----+----------------+---+-----------+--------------------+\n",
      "|index|           group|lag|    p_value|minus_log_10_p_value|\n",
      "+-----+----------------+---+-----------+--------------------+\n",
      "| ACOS|full_ff_timestep|  1|0.011923095|  1.9236109879908876|\n",
      "| ACOS|full_ff_timestep|  2|0.009127604|  2.0396432174265695|\n",
      "| ACOS|full_ff_timestep|  3|0.010455513|   1.980654638160048|\n",
      "| ACOS|full_ff_timestep|  4|  0.0205097|   1.688040705670221|\n",
      "| ACOS|full_ff_timestep|  5|0.020270672|  1.6931318601474805|\n",
      "| ACOS|full_ff_timestep|  6|0.011597349|  1.9356412618307162|\n",
      "| ACOS|full_ff_timestep|  7|0.021099797|  1.6757217329126897|\n",
      "| ACOS|full_ff_timestep|  8|0.040829346|  1.3890275809286299|\n",
      "| ACOS|full_ff_timestep|  9|0.002655837|   2.575798585211114|\n",
      "| ACOS|full_ff_timestep| 10|0.004200898|  2.3766578517695636|\n",
      "+-----+----------------+---+-----------+--------------------+\n",
      "only showing top 10 rows\n",
      "\n"
     ]
    },
    {
     "name": "stderr",
     "output_type": "stream",
     "text": [
      "                                                                                \r"
     ]
    }
   ],
   "source": [
    "sdf_granger_causality_test_p_computed.show(10)"
   ]
  },
  {
   "cell_type": "code",
   "execution_count": null,
   "id": "7dbe8055-6297-4caf-bf0a-a67664ec3dfe",
   "metadata": {},
   "outputs": [],
   "source": []
  },
  {
   "cell_type": "code",
   "execution_count": null,
   "id": "2c89acf9-d2e6-4e18-b21a-f578c11b71aa",
   "metadata": {},
   "outputs": [],
   "source": []
  },
  {
   "cell_type": "code",
   "execution_count": 37,
   "id": "9d471389-000c-4ed7-bcbd-5791b997e157",
   "metadata": {},
   "outputs": [
    {
     "name": "stderr",
     "output_type": "stream",
     "text": [
      "25/05/06 20:07:22 WARN TaskSetManager: Stage 6 contains a task of very large size (1103567 KiB). The maximum recommended task size is 1000 KiB.\n",
      "                                                                                \r"
     ]
    }
   ],
   "source": [
    "sdf_pivot_full_ff_timestep = (\n",
    "    sdf_granger_causality_test_p_computed\n",
    "    .select('index', 'group', 'lag', 'minus_log_10_p_value')\n",
    "    .where(f.col('group') == 'full_ff_timestep')\n",
    "    .where((f.col('index') == 'ACOS') | (f.col('index') == 'ATAN'))\n",
    "    .drop('group')\n",
    "    .groupBy('index')\n",
    "    .pivot('lag')\n",
    "    .max('minus_log_10_p_value')\n",
    "    .coalesce(15)\n",
    ")"
   ]
  },
  {
   "cell_type": "code",
   "execution_count": null,
   "id": "00514682-4e9f-4442-b369-41837722adb1",
   "metadata": {},
   "outputs": [
    {
     "name": "stderr",
     "output_type": "stream",
     "text": [
      "25/05/06 20:07:25 WARN SparkStringUtils: Truncated the string representation of a plan since it was too large. This behavior can be adjusted by setting 'spark.sql.debug.maxToStringFields'.\n",
      "25/05/06 20:07:25 WARN TaskSetManager: Stage 15 contains a task of very large size (1103567 KiB). The maximum recommended task size is 1000 KiB.\n",
      "[Stage 15:>                                                         (0 + 1) / 1]\r"
     ]
    }
   ],
   "source": [
    "sdf_pivot_full_ff_timestep.show(3)"
   ]
  },
  {
   "cell_type": "code",
   "execution_count": null,
   "id": "de91e74b-1233-4ee2-bc2a-25d5e79b5f5f",
   "metadata": {},
   "outputs": [],
   "source": []
  },
  {
   "cell_type": "code",
   "execution_count": null,
   "id": "bcb9a091-b67d-4e03-9d11-9e12de01c1ef",
   "metadata": {},
   "outputs": [],
   "source": []
  },
  {
   "cell_type": "code",
   "execution_count": null,
   "id": "6633e78a-b86e-4085-a6ab-35e6095802a0",
   "metadata": {},
   "outputs": [],
   "source": []
  },
  {
   "cell_type": "code",
   "execution_count": null,
   "id": "613716e7-1d5e-44ee-a931-5de162d7c898",
   "metadata": {},
   "outputs": [],
   "source": [
    "#full_ff_timestep\n",
    "#no_ff_timestep"
   ]
  },
  {
   "cell_type": "code",
   "execution_count": null,
   "id": "a8478f21-3f1d-4f7b-8f05-4726590e911d",
   "metadata": {},
   "outputs": [],
   "source": []
  },
  {
   "cell_type": "code",
   "execution_count": null,
   "id": "8b8671b2-677f-4c2a-a99e-2088b607853d",
   "metadata": {},
   "outputs": [],
   "source": []
  },
  {
   "cell_type": "code",
   "execution_count": null,
   "id": "5a8d1067-f21a-4db7-b62f-3e182d7b8796",
   "metadata": {},
   "outputs": [],
   "source": []
  }
 ],
 "metadata": {
  "kernelspec": {
   "display_name": "Python 3 (ipykernel)",
   "language": "python",
   "name": "python3"
  },
  "language_info": {
   "codemirror_mode": {
    "name": "ipython",
    "version": 3
   },
   "file_extension": ".py",
   "mimetype": "text/x-python",
   "name": "python",
   "nbconvert_exporter": "python",
   "pygments_lexer": "ipython3",
   "version": "3.10.12"
  }
 },
 "nbformat": 4,
 "nbformat_minor": 5
}
