{
 "cells": [
  {
   "cell_type": "code",
   "execution_count": 1,
   "id": "fbbf5775-ec6f-428e-ba40-b42c085d6151",
   "metadata": {},
   "outputs": [],
   "source": [
    "import numpy as np\n",
    "import pandas as pd\n",
    "import datetime\n",
    "import json\n",
    "import requests\n",
    "import pytz\n",
    "\n",
    "import pprint as pp"
   ]
  },
  {
   "cell_type": "code",
   "execution_count": null,
   "id": "a6ee24b7-28c1-4956-af48-d1057ec88810",
   "metadata": {},
   "outputs": [],
   "source": []
  },
  {
   "cell_type": "code",
   "execution_count": null,
   "id": "075eda7d-4e33-4bda-ae6c-d1635583a9fa",
   "metadata": {},
   "outputs": [],
   "source": []
  },
  {
   "cell_type": "code",
   "execution_count": null,
   "id": "ecadca27-4c93-4a8f-95b7-528062eac11f",
   "metadata": {},
   "outputs": [],
   "source": []
  },
  {
   "cell_type": "code",
   "execution_count": 2,
   "id": "922914bd-19b4-467e-a5f8-27a6fd145c37",
   "metadata": {},
   "outputs": [],
   "source": [
    "data_directory = '../database/populate_and_update/mongodb/output'\n",
    "granularity = 'M15' # This data contains currency pair closing prices in 15-minute intervals\n",
    "price_types = 'BAM'\n",
    "config_file = '/home/emily/Desktop/projects/test/badass-data-science/badassdatascience/forex/data/DEVELOPMENT.json'\n",
    "\n",
    "timezone = pytz.timezone('America/Toronto')"
   ]
  },
  {
   "cell_type": "code",
   "execution_count": null,
   "id": "475be5e5-0d38-48f1-9e1e-992b3e8a8fef",
   "metadata": {},
   "outputs": [],
   "source": []
  },
  {
   "cell_type": "code",
   "execution_count": 3,
   "id": "53921e60-8f19-4682-9b30-d97eda618c24",
   "metadata": {},
   "outputs": [
    {
     "data": {
      "text/html": [
       "<div>\n",
       "<style scoped>\n",
       "    .dataframe tbody tr th:only-of-type {\n",
       "        vertical-align: middle;\n",
       "    }\n",
       "\n",
       "    .dataframe tbody tr th {\n",
       "        vertical-align: top;\n",
       "    }\n",
       "\n",
       "    .dataframe thead th {\n",
       "        text-align: right;\n",
       "    }\n",
       "</style>\n",
       "<table border=\"1\" class=\"dataframe\">\n",
       "  <thead>\n",
       "    <tr style=\"text-align: right;\">\n",
       "      <th></th>\n",
       "      <th>instrument</th>\n",
       "      <th>time</th>\n",
       "    </tr>\n",
       "  </thead>\n",
       "  <tbody>\n",
       "    <tr>\n",
       "      <th>2553676</th>\n",
       "      <td>AUD_USD</td>\n",
       "      <td>1020717900</td>\n",
       "    </tr>\n",
       "    <tr>\n",
       "      <th>2553677</th>\n",
       "      <td>AUD_USD</td>\n",
       "      <td>1020804300</td>\n",
       "    </tr>\n",
       "    <tr>\n",
       "      <th>2553678</th>\n",
       "      <td>AUD_USD</td>\n",
       "      <td>1020890700</td>\n",
       "    </tr>\n",
       "    <tr>\n",
       "      <th>2553679</th>\n",
       "      <td>AUD_USD</td>\n",
       "      <td>1020977100</td>\n",
       "    </tr>\n",
       "    <tr>\n",
       "      <th>2553680</th>\n",
       "      <td>AUD_USD</td>\n",
       "      <td>1021063500</td>\n",
       "    </tr>\n",
       "  </tbody>\n",
       "</table>\n",
       "</div>"
      ],
      "text/plain": [
       "        instrument        time\n",
       "2553676    AUD_USD  1020717900\n",
       "2553677    AUD_USD  1020804300\n",
       "2553678    AUD_USD  1020890700\n",
       "2553679    AUD_USD  1020977100\n",
       "2553680    AUD_USD  1021063500"
      ]
     },
     "execution_count": 3,
     "metadata": {},
     "output_type": "execute_result"
    }
   ],
   "source": [
    "df_previous = pd.read_parquet(data_directory + '/' + granularity + '.parquet').sort_values(by = ['instrument', 'time'])\n",
    "df_previous = df_previous[df_previous['complete']].copy()\n",
    "\n",
    "df = df_previous[['instrument', 'time']].copy()\n",
    "df.head()"
   ]
  },
  {
   "cell_type": "code",
   "execution_count": 4,
   "id": "97a7d757-ffa8-45a7-a254-8c43de8a17db",
   "metadata": {},
   "outputs": [
    {
     "name": "stdout",
     "output_type": "stream",
     "text": [
      "{'AUD_USD': 1744385400,\n",
      " 'EUR_USD': 1744385400,\n",
      " 'GBP_USD': 1744385400,\n",
      " 'NZD_USD': 1744385400,\n",
      " 'USD_CAD': 1744385400,\n",
      " 'USD_CHF': 1744385400,\n",
      " 'USD_JPY': 1744385400}\n"
     ]
    }
   ],
   "source": [
    "dict_max_time_we_already_have_per_instrument = {}\n",
    "for item in df.groupby('instrument')['time'].agg('max').reset_index().to_dict(orient = 'records'):\n",
    "    dict_max_time_we_already_have_per_instrument[item['instrument']] = item['time']\n",
    "\n",
    "pp.pprint(dict_max_time_we_already_have_per_instrument)"
   ]
  },
  {
   "cell_type": "code",
   "execution_count": 5,
   "id": "4753231b-8af5-47ad-9fc6-f94ecd1c5576",
   "metadata": {},
   "outputs": [
    {
     "data": {
      "text/plain": [
       "1744976898"
      ]
     },
     "execution_count": 5,
     "metadata": {},
     "output_type": "execute_result"
    }
   ],
   "source": [
    "now = int(np.floor(datetime.datetime.now().timestamp()))\n",
    "now"
   ]
  },
  {
   "cell_type": "code",
   "execution_count": null,
   "id": "d677fb8e-f3c3-494d-8414-437ee83e0fc0",
   "metadata": {},
   "outputs": [],
   "source": []
  },
  {
   "cell_type": "code",
   "execution_count": null,
   "id": "2e9cdc93-b2de-474e-b7f0-afe1e68b645a",
   "metadata": {},
   "outputs": [],
   "source": []
  },
  {
   "cell_type": "code",
   "execution_count": null,
   "id": "7a547637-00a9-4ac5-8613-49b9cd3f92a2",
   "metadata": {},
   "outputs": [],
   "source": []
  },
  {
   "cell_type": "code",
   "execution_count": 6,
   "id": "333a0be1-0c1e-4026-be9f-3eaec8cc8ee6",
   "metadata": {},
   "outputs": [],
   "source": [
    "#\n",
    "# load config\n",
    "#\n",
    "with open(config_file) as f:\n",
    "    config = json.load(f)"
   ]
  },
  {
   "cell_type": "code",
   "execution_count": 7,
   "id": "851dde06-79ec-4e0a-8777-127f295edd5f",
   "metadata": {},
   "outputs": [],
   "source": [
    "#\n",
    "# define a function to produce the headers from the given config file\n",
    "#\n",
    "def get_oanda_headers(config):\n",
    "    headers = {\n",
    "        'Content-Type' : 'application/json',\n",
    "        'Authorization' : 'Bearer ' + config['token'],\n",
    "        'Accept-Datetime-Format' : config['oanda_date_time_format'],\n",
    "    }\n",
    "    return headers"
   ]
  },
  {
   "cell_type": "code",
   "execution_count": null,
   "id": "44c9a009-1987-464f-8abd-039eebc2617b",
   "metadata": {},
   "outputs": [],
   "source": []
  },
  {
   "cell_type": "code",
   "execution_count": null,
   "id": "3d309ed4-b279-4b09-8157-73e9e77be3bc",
   "metadata": {},
   "outputs": [],
   "source": []
  },
  {
   "cell_type": "code",
   "execution_count": 8,
   "id": "6d96e11f-604f-49e6-8873-0ef0f36f1b2c",
   "metadata": {},
   "outputs": [],
   "source": [
    "#\n",
    "# send a request to Oanda for historical candlestick values\n",
    "#\n",
    "def get_instrument_candlesticks(\n",
    "    instrument,\n",
    "    price_types,\n",
    "    granularity,\n",
    "    start_date,\n",
    "    end_date,\n",
    "    config,\n",
    "    error_retry_interval = 3,\n",
    "):\n",
    "    headers = get_oanda_headers(config)\n",
    "    url = config['server'] + '/v3/instruments/' + instrument + '/candles?price=' + price_types + '&granularity=' + granularity + '&from=' + str(start_date) + '&to=' + str(end_date)\n",
    "\n",
    "    worked = False\n",
    "    while not worked:\n",
    "        try:\n",
    "            r = requests.get(url, headers=headers)\n",
    "            worked = True\n",
    "        except:\n",
    "            time.sleep(error_retry_interval)\n",
    "    \n",
    "    rj = r.json()\n",
    "    return rj"
   ]
  },
  {
   "cell_type": "code",
   "execution_count": null,
   "id": "6422e548-f80e-49b5-ab0a-71f5219bc4d2",
   "metadata": {},
   "outputs": [],
   "source": []
  },
  {
   "cell_type": "code",
   "execution_count": null,
   "id": "2a5508bc-6df7-4f6e-96c6-ac2fac96d8bb",
   "metadata": {},
   "outputs": [],
   "source": []
  },
  {
   "cell_type": "code",
   "execution_count": 9,
   "id": "71eee85a-c228-4d61-ba62-a9af55e566d7",
   "metadata": {},
   "outputs": [],
   "source": [
    "def booger(\n",
    "    api_results\n",
    "):\n",
    "    candlesticks_temp = api_results['candles']\n",
    "    candlesticks = []\n",
    "    \n",
    "    for c in candlesticks_temp:\n",
    "        time_as_int = int(round(float(c['time']), 0))\n",
    "        if c['complete']:\n",
    "            if time_as_int != start_time:\n",
    "                c['time'] = time_as_int\n",
    "                candlesticks.append(c)\n",
    "\n",
    "    return candlesticks"
   ]
  },
  {
   "cell_type": "code",
   "execution_count": null,
   "id": "d233e733-e5cb-4c3f-9816-199d516fd03d",
   "metadata": {},
   "outputs": [],
   "source": []
  },
  {
   "cell_type": "code",
   "execution_count": 10,
   "id": "670eabaa-c5e8-4af8-b91b-8c61ab7e5810",
   "metadata": {},
   "outputs": [],
   "source": [
    "# from get_candles.py\n",
    "\n",
    "#\n",
    "# alters the dictionary in place; not my favorite design idiom\n",
    "#\n",
    "def deal_with_candlestick_format_and_time(candle):\n",
    "    candle['time'] = int(float(candle['time']))\n",
    "    time_dt = datetime.datetime.fromtimestamp(candle['time'], tz = timezone)\n",
    "    candle['time_iso'] = time_dt.isoformat()\n",
    "    candle['weekday'] = time_dt.weekday()\n",
    "    candle['hour'] = time_dt.hour\n",
    "\n",
    "    #\n",
    "    # deal with prices that are currently string values but need to be float\n",
    "    #\n",
    "    # and reorganize them\n",
    "    #\n",
    "    for price_type in ['bid', 'mid', 'ask']:\n",
    "        for candlestick_component in candle[price_type].keys():\n",
    "            candle[price_type + '_' + candlestick_component] = float(candle[price_type][candlestick_component])\n",
    "        candle[price_type + '_return'] = candle[price_type + '_c'] - candle[price_type + '_o']\n",
    "        candle[price_type + '_volatility'] = candle[price_type + '_h'] - candle[price_type + '_l']\n",
    "            \n",
    "    for price_type in ['bid', 'mid', 'ask']:\n",
    "        del(candle[price_type])\n",
    "            \n",
    "    return None\n"
   ]
  },
  {
   "cell_type": "code",
   "execution_count": null,
   "id": "65474a04-ea4d-4da7-9253-f61d6f7788e5",
   "metadata": {},
   "outputs": [],
   "source": []
  },
  {
   "cell_type": "code",
   "execution_count": null,
   "id": "7fb2aa3f-fa5b-4e84-a7eb-d2fb6d4497ae",
   "metadata": {},
   "outputs": [],
   "source": []
  },
  {
   "cell_type": "code",
   "execution_count": 11,
   "id": "792ea1a9-c0ee-48d4-ad5d-5152187caa0c",
   "metadata": {},
   "outputs": [],
   "source": [
    "to_dataframe = []\n",
    "\n",
    "for instrument in ['AUD_USD']:\n",
    "\n",
    "    start_time = dict_max_time_we_already_have_per_instrument[instrument]\n",
    "    end_time = now\n",
    "\n",
    "    results = get_instrument_candlesticks(instrument, price_types, granularity, start_time, end_time, config)\n",
    "    candlesticks = booger(results)\n",
    "\n",
    "    # deal with timestamps and time-related content\n",
    "    for candle in candlesticks:\n",
    "        deal_with_candlestick_format_and_time(candle)\n",
    "        candle['instrument'] = instrument\n",
    "        candle['granularity'] = granularity\n",
    "\n",
    "        to_dataframe.append(candle)\n",
    "    \n",
    "df_new = pd.DataFrame(to_dataframe)"
   ]
  },
  {
   "cell_type": "code",
   "execution_count": null,
   "id": "61fab77a-91cf-4638-8461-fbf1f280acfb",
   "metadata": {},
   "outputs": [],
   "source": []
  },
  {
   "cell_type": "code",
   "execution_count": 12,
   "id": "701886fb-eb24-4225-950c-d9b766f56d30",
   "metadata": {},
   "outputs": [],
   "source": [
    "columns_new = sorted(list(df_new.columns.values))\n",
    "columns_previous = sorted(list(df_previous.columns.values))\n",
    "\n",
    "\n",
    "df_previous = df_previous[columns_previous]\n",
    "df_new = df_new[columns_new]"
   ]
  },
  {
   "cell_type": "code",
   "execution_count": 13,
   "id": "00915f89-bb99-4e54-83cf-9e71016ca68a",
   "metadata": {},
   "outputs": [],
   "source": [
    "df_full = pd.concat([df_previous, df_new])"
   ]
  },
  {
   "cell_type": "code",
   "execution_count": 14,
   "id": "9ce491a9-f2dd-4a32-9cf2-c08923c1adb7",
   "metadata": {},
   "outputs": [
    {
     "data": {
      "text/html": [
       "<div>\n",
       "<style scoped>\n",
       "    .dataframe tbody tr th:only-of-type {\n",
       "        vertical-align: middle;\n",
       "    }\n",
       "\n",
       "    .dataframe tbody tr th {\n",
       "        vertical-align: top;\n",
       "    }\n",
       "\n",
       "    .dataframe thead th {\n",
       "        text-align: right;\n",
       "    }\n",
       "</style>\n",
       "<table border=\"1\" class=\"dataframe\">\n",
       "  <thead>\n",
       "    <tr style=\"text-align: right;\">\n",
       "      <th></th>\n",
       "      <th>ask_c</th>\n",
       "      <th>ask_h</th>\n",
       "      <th>ask_l</th>\n",
       "      <th>ask_o</th>\n",
       "      <th>ask_return</th>\n",
       "      <th>ask_volatility</th>\n",
       "      <th>bid_c</th>\n",
       "      <th>bid_h</th>\n",
       "      <th>bid_l</th>\n",
       "      <th>bid_o</th>\n",
       "      <th>...</th>\n",
       "      <th>mid_c</th>\n",
       "      <th>mid_h</th>\n",
       "      <th>mid_l</th>\n",
       "      <th>mid_o</th>\n",
       "      <th>mid_return</th>\n",
       "      <th>mid_volatility</th>\n",
       "      <th>time</th>\n",
       "      <th>time_iso</th>\n",
       "      <th>volume</th>\n",
       "      <th>weekday</th>\n",
       "    </tr>\n",
       "  </thead>\n",
       "  <tbody>\n",
       "    <tr>\n",
       "      <th>2553676</th>\n",
       "      <td>0.5399</td>\n",
       "      <td>0.5399</td>\n",
       "      <td>0.5399</td>\n",
       "      <td>0.5399</td>\n",
       "      <td>0.0</td>\n",
       "      <td>0.0</td>\n",
       "      <td>0.5395</td>\n",
       "      <td>0.5395</td>\n",
       "      <td>0.5395</td>\n",
       "      <td>0.5395</td>\n",
       "      <td>...</td>\n",
       "      <td>0.5397</td>\n",
       "      <td>0.5397</td>\n",
       "      <td>0.5397</td>\n",
       "      <td>0.5397</td>\n",
       "      <td>0.0</td>\n",
       "      <td>0.0</td>\n",
       "      <td>1020717900</td>\n",
       "      <td>2002-05-06T16:45:00-04:00</td>\n",
       "      <td>1</td>\n",
       "      <td>0</td>\n",
       "    </tr>\n",
       "    <tr>\n",
       "      <th>2553677</th>\n",
       "      <td>0.5397</td>\n",
       "      <td>0.5397</td>\n",
       "      <td>0.5397</td>\n",
       "      <td>0.5397</td>\n",
       "      <td>0.0</td>\n",
       "      <td>0.0</td>\n",
       "      <td>0.5393</td>\n",
       "      <td>0.5393</td>\n",
       "      <td>0.5393</td>\n",
       "      <td>0.5393</td>\n",
       "      <td>...</td>\n",
       "      <td>0.5395</td>\n",
       "      <td>0.5395</td>\n",
       "      <td>0.5395</td>\n",
       "      <td>0.5395</td>\n",
       "      <td>0.0</td>\n",
       "      <td>0.0</td>\n",
       "      <td>1020804300</td>\n",
       "      <td>2002-05-07T16:45:00-04:00</td>\n",
       "      <td>1</td>\n",
       "      <td>1</td>\n",
       "    </tr>\n",
       "    <tr>\n",
       "      <th>2553678</th>\n",
       "      <td>0.5399</td>\n",
       "      <td>0.5399</td>\n",
       "      <td>0.5399</td>\n",
       "      <td>0.5399</td>\n",
       "      <td>0.0</td>\n",
       "      <td>0.0</td>\n",
       "      <td>0.5395</td>\n",
       "      <td>0.5395</td>\n",
       "      <td>0.5395</td>\n",
       "      <td>0.5395</td>\n",
       "      <td>...</td>\n",
       "      <td>0.5397</td>\n",
       "      <td>0.5397</td>\n",
       "      <td>0.5397</td>\n",
       "      <td>0.5397</td>\n",
       "      <td>0.0</td>\n",
       "      <td>0.0</td>\n",
       "      <td>1020890700</td>\n",
       "      <td>2002-05-08T16:45:00-04:00</td>\n",
       "      <td>1</td>\n",
       "      <td>2</td>\n",
       "    </tr>\n",
       "    <tr>\n",
       "      <th>2553679</th>\n",
       "      <td>0.5442</td>\n",
       "      <td>0.5442</td>\n",
       "      <td>0.5442</td>\n",
       "      <td>0.5442</td>\n",
       "      <td>0.0</td>\n",
       "      <td>0.0</td>\n",
       "      <td>0.5438</td>\n",
       "      <td>0.5438</td>\n",
       "      <td>0.5438</td>\n",
       "      <td>0.5438</td>\n",
       "      <td>...</td>\n",
       "      <td>0.5440</td>\n",
       "      <td>0.5440</td>\n",
       "      <td>0.5440</td>\n",
       "      <td>0.5440</td>\n",
       "      <td>0.0</td>\n",
       "      <td>0.0</td>\n",
       "      <td>1020977100</td>\n",
       "      <td>2002-05-09T16:45:00-04:00</td>\n",
       "      <td>1</td>\n",
       "      <td>3</td>\n",
       "    </tr>\n",
       "    <tr>\n",
       "      <th>2553680</th>\n",
       "      <td>0.5453</td>\n",
       "      <td>0.5453</td>\n",
       "      <td>0.5453</td>\n",
       "      <td>0.5453</td>\n",
       "      <td>0.0</td>\n",
       "      <td>0.0</td>\n",
       "      <td>0.5443</td>\n",
       "      <td>0.5443</td>\n",
       "      <td>0.5443</td>\n",
       "      <td>0.5443</td>\n",
       "      <td>...</td>\n",
       "      <td>0.5448</td>\n",
       "      <td>0.5448</td>\n",
       "      <td>0.5448</td>\n",
       "      <td>0.5448</td>\n",
       "      <td>0.0</td>\n",
       "      <td>0.0</td>\n",
       "      <td>1021063500</td>\n",
       "      <td>2002-05-10T16:45:00-04:00</td>\n",
       "      <td>1</td>\n",
       "      <td>4</td>\n",
       "    </tr>\n",
       "  </tbody>\n",
       "</table>\n",
       "<p>5 rows × 26 columns</p>\n",
       "</div>"
      ],
      "text/plain": [
       "          ask_c   ask_h   ask_l   ask_o  ask_return  ask_volatility   bid_c  \\\n",
       "2553676  0.5399  0.5399  0.5399  0.5399         0.0             0.0  0.5395   \n",
       "2553677  0.5397  0.5397  0.5397  0.5397         0.0             0.0  0.5393   \n",
       "2553678  0.5399  0.5399  0.5399  0.5399         0.0             0.0  0.5395   \n",
       "2553679  0.5442  0.5442  0.5442  0.5442         0.0             0.0  0.5438   \n",
       "2553680  0.5453  0.5453  0.5453  0.5453         0.0             0.0  0.5443   \n",
       "\n",
       "          bid_h   bid_l   bid_o  ...   mid_c   mid_h   mid_l   mid_o  \\\n",
       "2553676  0.5395  0.5395  0.5395  ...  0.5397  0.5397  0.5397  0.5397   \n",
       "2553677  0.5393  0.5393  0.5393  ...  0.5395  0.5395  0.5395  0.5395   \n",
       "2553678  0.5395  0.5395  0.5395  ...  0.5397  0.5397  0.5397  0.5397   \n",
       "2553679  0.5438  0.5438  0.5438  ...  0.5440  0.5440  0.5440  0.5440   \n",
       "2553680  0.5443  0.5443  0.5443  ...  0.5448  0.5448  0.5448  0.5448   \n",
       "\n",
       "         mid_return mid_volatility        time                   time_iso  \\\n",
       "2553676         0.0            0.0  1020717900  2002-05-06T16:45:00-04:00   \n",
       "2553677         0.0            0.0  1020804300  2002-05-07T16:45:00-04:00   \n",
       "2553678         0.0            0.0  1020890700  2002-05-08T16:45:00-04:00   \n",
       "2553679         0.0            0.0  1020977100  2002-05-09T16:45:00-04:00   \n",
       "2553680         0.0            0.0  1021063500  2002-05-10T16:45:00-04:00   \n",
       "\n",
       "         volume  weekday  \n",
       "2553676       1        0  \n",
       "2553677       1        1  \n",
       "2553678       1        2  \n",
       "2553679       1        3  \n",
       "2553680       1        4  \n",
       "\n",
       "[5 rows x 26 columns]"
      ]
     },
     "execution_count": 14,
     "metadata": {},
     "output_type": "execute_result"
    }
   ],
   "source": [
    "df_full.head()"
   ]
  },
  {
   "cell_type": "code",
   "execution_count": null,
   "id": "fd194d87-a544-4e8b-ae52-04b9132fea29",
   "metadata": {},
   "outputs": [],
   "source": []
  },
  {
   "cell_type": "code",
   "execution_count": null,
   "id": "7af4b155-5103-4c59-9060-4585b701c6f8",
   "metadata": {},
   "outputs": [],
   "source": []
  },
  {
   "cell_type": "code",
   "execution_count": null,
   "id": "c79f1f6e-420a-4653-8456-584bb69cd035",
   "metadata": {},
   "outputs": [],
   "source": []
  },
  {
   "cell_type": "code",
   "execution_count": null,
   "id": "b1b55352-c8ee-404f-8a3c-a63baf336a96",
   "metadata": {},
   "outputs": [],
   "source": []
  },
  {
   "cell_type": "code",
   "execution_count": null,
   "id": "cb9e56ae-6c18-4a26-9b41-64dcba6dd18d",
   "metadata": {},
   "outputs": [],
   "source": []
  },
  {
   "cell_type": "code",
   "execution_count": null,
   "id": "905a9387-9435-4c01-8c18-41e1b28da3da",
   "metadata": {},
   "outputs": [],
   "source": []
  },
  {
   "cell_type": "code",
   "execution_count": null,
   "id": "cce524ee-c3ed-4a3f-87cc-bd51a2f4ef71",
   "metadata": {},
   "outputs": [],
   "source": []
  },
  {
   "cell_type": "code",
   "execution_count": null,
   "id": "17c77ab5-a14e-472e-af8a-917118375d4f",
   "metadata": {},
   "outputs": [],
   "source": []
  },
  {
   "cell_type": "code",
   "execution_count": 33,
   "id": "b819b02c-027e-4436-8c03-00aa0182c52c",
   "metadata": {},
   "outputs": [
    {
     "name": "stdout",
     "output_type": "stream",
     "text": [
      "900\n"
     ]
    }
   ],
   "source": [
    "df_test_previous = df_previous.groupby('instrument')['time'].agg('max').reset_index()\n",
    "df_test_new = df_new.groupby('instrument')['time'].agg('min').reset_index()\n",
    "\n",
    "print(\n",
    "    df_test_new[df_test_new['instrument'] == 'AUD_USD']['time'].values[0] - df_test_previous[df_test_previous['instrument'] == 'AUD_USD']['time'].values[0]\n",
    ")"
   ]
  },
  {
   "cell_type": "code",
   "execution_count": null,
   "id": "9a954a0b-ef47-460a-829c-46583050dfa1",
   "metadata": {},
   "outputs": [],
   "source": []
  },
  {
   "cell_type": "code",
   "execution_count": null,
   "id": "ab8b73b1-a2f9-47ea-af7f-aaf99346d5d2",
   "metadata": {},
   "outputs": [],
   "source": []
  },
  {
   "cell_type": "code",
   "execution_count": null,
   "id": "1dade83f-6021-45a5-92dc-3af837d5b68c",
   "metadata": {},
   "outputs": [],
   "source": []
  },
  {
   "cell_type": "code",
   "execution_count": null,
   "id": "830b54b1-080a-4f3c-99ed-a6b829796b84",
   "metadata": {},
   "outputs": [],
   "source": []
  },
  {
   "cell_type": "code",
   "execution_count": null,
   "id": "9fe92e96-5fb8-4e06-8ef8-0d048b023021",
   "metadata": {},
   "outputs": [],
   "source": []
  },
  {
   "cell_type": "code",
   "execution_count": null,
   "id": "9b01c6f9-58e6-4119-905d-e89ff497dc09",
   "metadata": {},
   "outputs": [],
   "source": []
  },
  {
   "cell_type": "code",
   "execution_count": null,
   "id": "ed0ef815-3da0-47c3-b5dd-5f5cea85e4a4",
   "metadata": {},
   "outputs": [],
   "source": []
  },
  {
   "cell_type": "code",
   "execution_count": 15,
   "id": "d0b3ab36-0c75-4b1d-bb1b-c29bab13d020",
   "metadata": {},
   "outputs": [
    {
     "data": {
      "text/plain": [
       "True"
      ]
     },
     "execution_count": 15,
     "metadata": {},
     "output_type": "execute_result"
    }
   ],
   "source": [
    "sorted(list(candlesticks[0].keys())) == sorted(list(df_previous.columns.values))"
   ]
  },
  {
   "cell_type": "code",
   "execution_count": null,
   "id": "ed149e44-7290-4054-a856-db83e40ba07d",
   "metadata": {},
   "outputs": [],
   "source": []
  },
  {
   "cell_type": "code",
   "execution_count": 16,
   "id": "15f33e32-41d8-49f9-83a3-de02bf7927e9",
   "metadata": {},
   "outputs": [
    {
     "data": {
      "text/plain": [
       "[('ask_c', 'ask_c'),\n",
       " ('ask_h', 'ask_h'),\n",
       " ('ask_l', 'ask_l'),\n",
       " ('ask_o', 'ask_o'),\n",
       " ('ask_return', 'ask_return'),\n",
       " ('ask_volatility', 'ask_volatility'),\n",
       " ('bid_c', 'bid_c'),\n",
       " ('bid_h', 'bid_h'),\n",
       " ('bid_l', 'bid_l'),\n",
       " ('bid_o', 'bid_o'),\n",
       " ('bid_return', 'bid_return'),\n",
       " ('bid_volatility', 'bid_volatility'),\n",
       " ('complete', 'complete'),\n",
       " ('granularity', 'granularity'),\n",
       " ('hour', 'hour'),\n",
       " ('instrument', 'instrument'),\n",
       " ('mid_c', 'mid_c'),\n",
       " ('mid_h', 'mid_h'),\n",
       " ('mid_l', 'mid_l'),\n",
       " ('mid_o', 'mid_o'),\n",
       " ('mid_return', 'mid_return'),\n",
       " ('mid_volatility', 'mid_volatility'),\n",
       " ('time', 'time'),\n",
       " ('time_iso', 'time_iso'),\n",
       " ('volume', 'volume'),\n",
       " ('weekday', 'weekday')]"
      ]
     },
     "execution_count": 16,
     "metadata": {},
     "output_type": "execute_result"
    }
   ],
   "source": [
    "[(x, y) for x, y in zip(sorted(list(candlesticks[0].keys())), sorted(list(df_previous.columns.values)))]"
   ]
  },
  {
   "cell_type": "code",
   "execution_count": null,
   "id": "a5e2e8ce-516c-49b7-a61f-5b3237cae2e2",
   "metadata": {},
   "outputs": [],
   "source": []
  },
  {
   "cell_type": "code",
   "execution_count": null,
   "id": "ddde2f79-2db4-4a26-b759-9f5d1915f7d1",
   "metadata": {},
   "outputs": [],
   "source": []
  },
  {
   "cell_type": "code",
   "execution_count": null,
   "id": "092ab901-1822-4ea0-b11a-c5418d737ace",
   "metadata": {},
   "outputs": [],
   "source": []
  },
  {
   "cell_type": "code",
   "execution_count": null,
   "id": "043b3a3f-fb6b-4503-9287-f75ce49206e3",
   "metadata": {},
   "outputs": [],
   "source": []
  },
  {
   "cell_type": "code",
   "execution_count": null,
   "id": "ea0da062-3895-4dd7-9d52-206a34669c10",
   "metadata": {},
   "outputs": [],
   "source": []
  },
  {
   "cell_type": "code",
   "execution_count": null,
   "id": "cea1629d-2ceb-471b-b270-18c3f27a145a",
   "metadata": {},
   "outputs": [],
   "source": []
  },
  {
   "cell_type": "code",
   "execution_count": null,
   "id": "c2135f72-3275-4c5b-8561-7947b791bf71",
   "metadata": {},
   "outputs": [],
   "source": []
  },
  {
   "cell_type": "code",
   "execution_count": null,
   "id": "4cc23615-02d4-44c2-8252-26c79a3e5d16",
   "metadata": {},
   "outputs": [],
   "source": []
  },
  {
   "cell_type": "code",
   "execution_count": null,
   "id": "6da43fa0-3ec7-45ba-9ba5-3f2b73125698",
   "metadata": {},
   "outputs": [],
   "source": []
  }
 ],
 "metadata": {
  "kernelspec": {
   "display_name": "Python 3 (ipykernel)",
   "language": "python",
   "name": "python3"
  },
  "language_info": {
   "codemirror_mode": {
    "name": "ipython",
    "version": 3
   },
   "file_extension": ".py",
   "mimetype": "text/x-python",
   "name": "python",
   "nbconvert_exporter": "python",
   "pygments_lexer": "ipython3",
   "version": "3.10.12"
  }
 },
 "nbformat": 4,
 "nbformat_minor": 5
}
