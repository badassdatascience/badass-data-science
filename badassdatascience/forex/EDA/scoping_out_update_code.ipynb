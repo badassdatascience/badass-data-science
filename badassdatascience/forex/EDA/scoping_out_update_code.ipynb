{
 "cells": [
  {
   "cell_type": "code",
   "execution_count": 1,
   "id": "fbbf5775-ec6f-428e-ba40-b42c085d6151",
   "metadata": {},
   "outputs": [],
   "source": [
    "import numpy as np\n",
    "import pandas as pd\n",
    "import datetime\n",
    "import json\n",
    "import requests\n",
    "\n",
    "import pprint as pp"
   ]
  },
  {
   "cell_type": "code",
   "execution_count": null,
   "id": "a6ee24b7-28c1-4956-af48-d1057ec88810",
   "metadata": {},
   "outputs": [],
   "source": []
  },
  {
   "cell_type": "code",
   "execution_count": 2,
   "id": "922914bd-19b4-467e-a5f8-27a6fd145c37",
   "metadata": {},
   "outputs": [],
   "source": [
    "data_directory = '../database/populate_and_update/mongodb/output'\n",
    "granularity = 'M15' # This data contains currency pair closing prices in 15-minute intervals\n",
    "price_types = 'BAM'\n",
    "config_file = '/home/emily/Desktop/projects/test/badass-data-science/badassdatascience/forex/data/DEVELOPMENT.json'"
   ]
  },
  {
   "cell_type": "code",
   "execution_count": null,
   "id": "475be5e5-0d38-48f1-9e1e-992b3e8a8fef",
   "metadata": {},
   "outputs": [],
   "source": []
  },
  {
   "cell_type": "code",
   "execution_count": 3,
   "id": "53921e60-8f19-4682-9b30-d97eda618c24",
   "metadata": {},
   "outputs": [
    {
     "data": {
      "text/html": [
       "<div>\n",
       "<style scoped>\n",
       "    .dataframe tbody tr th:only-of-type {\n",
       "        vertical-align: middle;\n",
       "    }\n",
       "\n",
       "    .dataframe tbody tr th {\n",
       "        vertical-align: top;\n",
       "    }\n",
       "\n",
       "    .dataframe thead th {\n",
       "        text-align: right;\n",
       "    }\n",
       "</style>\n",
       "<table border=\"1\" class=\"dataframe\">\n",
       "  <thead>\n",
       "    <tr style=\"text-align: right;\">\n",
       "      <th></th>\n",
       "      <th>instrument</th>\n",
       "      <th>time</th>\n",
       "    </tr>\n",
       "  </thead>\n",
       "  <tbody>\n",
       "    <tr>\n",
       "      <th>2553676</th>\n",
       "      <td>AUD_USD</td>\n",
       "      <td>1020717900</td>\n",
       "    </tr>\n",
       "    <tr>\n",
       "      <th>2553677</th>\n",
       "      <td>AUD_USD</td>\n",
       "      <td>1020804300</td>\n",
       "    </tr>\n",
       "    <tr>\n",
       "      <th>2553678</th>\n",
       "      <td>AUD_USD</td>\n",
       "      <td>1020890700</td>\n",
       "    </tr>\n",
       "    <tr>\n",
       "      <th>2553679</th>\n",
       "      <td>AUD_USD</td>\n",
       "      <td>1020977100</td>\n",
       "    </tr>\n",
       "    <tr>\n",
       "      <th>2553680</th>\n",
       "      <td>AUD_USD</td>\n",
       "      <td>1021063500</td>\n",
       "    </tr>\n",
       "  </tbody>\n",
       "</table>\n",
       "</div>"
      ],
      "text/plain": [
       "        instrument        time\n",
       "2553676    AUD_USD  1020717900\n",
       "2553677    AUD_USD  1020804300\n",
       "2553678    AUD_USD  1020890700\n",
       "2553679    AUD_USD  1020977100\n",
       "2553680    AUD_USD  1021063500"
      ]
     },
     "execution_count": 3,
     "metadata": {},
     "output_type": "execute_result"
    }
   ],
   "source": [
    "df_previous = pd.read_parquet(data_directory + '/' + granularity + '.parquet').sort_values(by = ['instrument', 'time'])\n",
    "df_previous = df_previous[df_previous['complete']].copy()\n",
    "\n",
    "df = df_previous[['instrument', 'time']].copy()\n",
    "df.head()"
   ]
  },
  {
   "cell_type": "code",
   "execution_count": 4,
   "id": "97a7d757-ffa8-45a7-a254-8c43de8a17db",
   "metadata": {},
   "outputs": [
    {
     "name": "stdout",
     "output_type": "stream",
     "text": [
      "{'AUD_USD': 1744385400,\n",
      " 'EUR_USD': 1744385400,\n",
      " 'GBP_USD': 1744385400,\n",
      " 'NZD_USD': 1744385400,\n",
      " 'USD_CAD': 1744385400,\n",
      " 'USD_CHF': 1744385400,\n",
      " 'USD_JPY': 1744385400}\n"
     ]
    }
   ],
   "source": [
    "dict_max_time_we_already_have_per_instrument = {}\n",
    "for item in df.groupby('instrument')['time'].agg('max').reset_index().to_dict(orient = 'records'):\n",
    "    dict_max_time_we_already_have_per_instrument[item['instrument']] = item['time']\n",
    "\n",
    "pp.pprint(dict_max_time_we_already_have_per_instrument)"
   ]
  },
  {
   "cell_type": "code",
   "execution_count": 5,
   "id": "4753231b-8af5-47ad-9fc6-f94ecd1c5576",
   "metadata": {},
   "outputs": [
    {
     "data": {
      "text/plain": [
       "1744974456"
      ]
     },
     "execution_count": 5,
     "metadata": {},
     "output_type": "execute_result"
    }
   ],
   "source": [
    "now = int(np.floor(datetime.datetime.now().timestamp()))\n",
    "now"
   ]
  },
  {
   "cell_type": "code",
   "execution_count": null,
   "id": "d677fb8e-f3c3-494d-8414-437ee83e0fc0",
   "metadata": {},
   "outputs": [],
   "source": []
  },
  {
   "cell_type": "code",
   "execution_count": null,
   "id": "2e9cdc93-b2de-474e-b7f0-afe1e68b645a",
   "metadata": {},
   "outputs": [],
   "source": []
  },
  {
   "cell_type": "code",
   "execution_count": null,
   "id": "7a547637-00a9-4ac5-8613-49b9cd3f92a2",
   "metadata": {},
   "outputs": [],
   "source": []
  },
  {
   "cell_type": "code",
   "execution_count": 6,
   "id": "333a0be1-0c1e-4026-be9f-3eaec8cc8ee6",
   "metadata": {},
   "outputs": [],
   "source": [
    "#\n",
    "# load config\n",
    "#\n",
    "with open(config_file) as f:\n",
    "    config = json.load(f)"
   ]
  },
  {
   "cell_type": "code",
   "execution_count": 7,
   "id": "851dde06-79ec-4e0a-8777-127f295edd5f",
   "metadata": {},
   "outputs": [],
   "source": [
    "#\n",
    "# define a function to produce the headers from the given config file\n",
    "#\n",
    "def get_oanda_headers(config):\n",
    "    headers = {\n",
    "        'Content-Type' : 'application/json',\n",
    "        'Authorization' : 'Bearer ' + config['token'],\n",
    "        'Accept-Datetime-Format' : config['oanda_date_time_format'],\n",
    "    }\n",
    "    return headers"
   ]
  },
  {
   "cell_type": "code",
   "execution_count": null,
   "id": "44c9a009-1987-464f-8abd-039eebc2617b",
   "metadata": {},
   "outputs": [],
   "source": []
  },
  {
   "cell_type": "code",
   "execution_count": null,
   "id": "3d309ed4-b279-4b09-8157-73e9e77be3bc",
   "metadata": {},
   "outputs": [],
   "source": []
  },
  {
   "cell_type": "code",
   "execution_count": 8,
   "id": "6d96e11f-604f-49e6-8873-0ef0f36f1b2c",
   "metadata": {},
   "outputs": [],
   "source": [
    "#\n",
    "# send a request to Oanda for historical candlestick values\n",
    "#\n",
    "def get_instrument_candlesticks(\n",
    "    instrument,\n",
    "    price_types,\n",
    "    granularity,\n",
    "    start_date,\n",
    "    end_date,\n",
    "    config,\n",
    "    error_retry_interval = 3,\n",
    "):\n",
    "    headers = get_oanda_headers(config)\n",
    "    url = config['server'] + '/v3/instruments/' + instrument + '/candles?price=' + price_types + '&granularity=' + granularity + '&from=' + str(start_date) + '&to=' + str(end_date)\n",
    "\n",
    "    worked = False\n",
    "    while not worked:\n",
    "        try:\n",
    "            r = requests.get(url, headers=headers)\n",
    "            worked = True\n",
    "        except:\n",
    "            time.sleep(error_retry_interval)\n",
    "    \n",
    "    rj = r.json()\n",
    "    return rj"
   ]
  },
  {
   "cell_type": "code",
   "execution_count": null,
   "id": "6422e548-f80e-49b5-ab0a-71f5219bc4d2",
   "metadata": {},
   "outputs": [],
   "source": []
  },
  {
   "cell_type": "code",
   "execution_count": null,
   "id": "2a5508bc-6df7-4f6e-96c6-ac2fac96d8bb",
   "metadata": {},
   "outputs": [],
   "source": []
  },
  {
   "cell_type": "code",
   "execution_count": null,
   "id": "71eee85a-c228-4d61-ba62-a9af55e566d7",
   "metadata": {},
   "outputs": [],
   "source": []
  },
  {
   "cell_type": "code",
   "execution_count": 10,
   "id": "792ea1a9-c0ee-48d4-ad5d-5152187caa0c",
   "metadata": {},
   "outputs": [
    {
     "name": "stdout",
     "output_type": "stream",
     "text": [
      "AUD_USD\n",
      "[{'ask': {'c': '0.62439', 'h': '0.62488', 'l': '0.62386', 'o': '0.62445'},\n",
      "  'bid': {'c': '0.62424', 'h': '0.62475', 'l': '0.62373', 'o': '0.62431'},\n",
      "  'complete': True,\n",
      "  'mid': {'c': '0.62432', 'h': '0.62481', 'l': '0.62380', 'o': '0.62438'},\n",
      "  'time': 1744386300,\n",
      "  'volume': 3929},\n",
      " {'ask': {'c': '0.62435', 'h': '0.62466', 'l': '0.62362', 'o': '0.62441'},\n",
      "  'bid': {'c': '0.62422', 'h': '0.62451', 'l': '0.62347', 'o': '0.62428'},\n",
      "  'complete': True,\n",
      "  'mid': {'c': '0.62428', 'h': '0.62458', 'l': '0.62355', 'o': '0.62434'},\n",
      "  'time': 1744387200,\n",
      "  'volume': 3394}]\n",
      "\n"
     ]
    }
   ],
   "source": [
    "for instrument in ['AUD_USD']:\n",
    "\n",
    "    start_time = dict_max_time_we_already_have_per_instrument[instrument]\n",
    "    end_time = now\n",
    "\n",
    "    results = get_instrument_candlesticks(instrument, price_types, granularity, start_time, end_time, config)\n",
    "    candlesticks_temp = results['candles']\n",
    "    \n",
    "    candlesticks = []\n",
    "    for c in candlesticks_temp:\n",
    "        time_as_int = int(round(float(c['time']), 0))\n",
    "        if c['complete']:\n",
    "            if time_as_int != start_time:\n",
    "                c['time'] = time_as_int\n",
    "                candlesticks.append(c)\n",
    "\n",
    "    print(instrument)\n",
    "    pp.pprint(candlesticks[0:2])\n",
    "    print()"
   ]
  },
  {
   "cell_type": "code",
   "execution_count": null,
   "id": "832c160c-446a-4e11-96bf-f4c6fd0ac475",
   "metadata": {},
   "outputs": [],
   "source": []
  },
  {
   "cell_type": "code",
   "execution_count": null,
   "id": "00915f89-bb99-4e54-83cf-9e71016ca68a",
   "metadata": {},
   "outputs": [],
   "source": []
  },
  {
   "cell_type": "code",
   "execution_count": null,
   "id": "4059b38d-9b62-4794-8ba5-c3c02f253c20",
   "metadata": {},
   "outputs": [],
   "source": []
  },
  {
   "cell_type": "code",
   "execution_count": null,
   "id": "d0b3ab36-0c75-4b1d-bb1b-c29bab13d020",
   "metadata": {},
   "outputs": [],
   "source": []
  },
  {
   "cell_type": "code",
   "execution_count": null,
   "id": "ed149e44-7290-4054-a856-db83e40ba07d",
   "metadata": {},
   "outputs": [],
   "source": []
  },
  {
   "cell_type": "code",
   "execution_count": null,
   "id": "15f33e32-41d8-49f9-83a3-de02bf7927e9",
   "metadata": {},
   "outputs": [],
   "source": []
  },
  {
   "cell_type": "code",
   "execution_count": null,
   "id": "a5e2e8ce-516c-49b7-a61f-5b3237cae2e2",
   "metadata": {},
   "outputs": [],
   "source": []
  },
  {
   "cell_type": "code",
   "execution_count": null,
   "id": "ddde2f79-2db4-4a26-b759-9f5d1915f7d1",
   "metadata": {},
   "outputs": [],
   "source": []
  },
  {
   "cell_type": "code",
   "execution_count": null,
   "id": "092ab901-1822-4ea0-b11a-c5418d737ace",
   "metadata": {},
   "outputs": [],
   "source": []
  },
  {
   "cell_type": "code",
   "execution_count": null,
   "id": "043b3a3f-fb6b-4503-9287-f75ce49206e3",
   "metadata": {},
   "outputs": [],
   "source": []
  },
  {
   "cell_type": "code",
   "execution_count": null,
   "id": "ea0da062-3895-4dd7-9d52-206a34669c10",
   "metadata": {},
   "outputs": [],
   "source": []
  },
  {
   "cell_type": "code",
   "execution_count": null,
   "id": "cea1629d-2ceb-471b-b270-18c3f27a145a",
   "metadata": {},
   "outputs": [],
   "source": []
  },
  {
   "cell_type": "code",
   "execution_count": null,
   "id": "c2135f72-3275-4c5b-8561-7947b791bf71",
   "metadata": {},
   "outputs": [],
   "source": []
  },
  {
   "cell_type": "code",
   "execution_count": null,
   "id": "4cc23615-02d4-44c2-8252-26c79a3e5d16",
   "metadata": {},
   "outputs": [],
   "source": []
  },
  {
   "cell_type": "code",
   "execution_count": null,
   "id": "6da43fa0-3ec7-45ba-9ba5-3f2b73125698",
   "metadata": {},
   "outputs": [],
   "source": []
  }
 ],
 "metadata": {
  "kernelspec": {
   "display_name": "Python 3 (ipykernel)",
   "language": "python",
   "name": "python3"
  },
  "language_info": {
   "codemirror_mode": {
    "name": "ipython",
    "version": 3
   },
   "file_extension": ".py",
   "mimetype": "text/x-python",
   "name": "python",
   "nbconvert_exporter": "python",
   "pygments_lexer": "ipython3",
   "version": "3.10.12"
  }
 },
 "nbformat": 4,
 "nbformat_minor": 5
}
