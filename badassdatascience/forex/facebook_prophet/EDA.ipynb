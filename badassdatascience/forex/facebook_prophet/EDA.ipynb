{
 "cells": [
  {
   "cell_type": "code",
   "execution_count": null,
   "id": "c7799351-90b9-4743-82e9-720587843168",
   "metadata": {},
   "outputs": [],
   "source": []
  },
  {
   "cell_type": "code",
   "execution_count": null,
   "id": "4d9d27b0-7cc3-4905-963f-8131dea02b36",
   "metadata": {},
   "outputs": [],
   "source": []
  },
  {
   "cell_type": "markdown",
   "id": "e5546070-f306-4746-9450-b4df7c04b43f",
   "metadata": {},
   "source": [
    "## Import useful libraries"
   ]
  },
  {
   "cell_type": "code",
   "execution_count": 1,
   "id": "a0d558cd-b297-4ca7-b4b3-33c271a446ff",
   "metadata": {},
   "outputs": [],
   "source": [
    "import pandas as pd\n",
    "import numpy as np\n",
    "import datetime\n",
    "import pytz\n",
    "import matplotlib.pyplot as plt\n",
    "\n",
    "from airflow.providers.mysql.hooks.mysql import MySqlHook"
   ]
  },
  {
   "cell_type": "markdown",
   "id": "8453eef1-b21c-4a77-834d-d305de66b84c",
   "metadata": {},
   "source": [
    "## User settings"
   ]
  },
  {
   "cell_type": "code",
   "execution_count": 2,
   "id": "6eb1cce6-15e2-4e01-8045-b3e284de03db",
   "metadata": {},
   "outputs": [],
   "source": [
    "#list_of_price_types = ['bid', 'mid', 'ask']\n",
    "#instrument_name = 'EUR/USD'\n",
    "#interval_name = 'Day'\n",
    "\n",
    "database_name = 'django'"
   ]
  },
  {
   "cell_type": "markdown",
   "id": "44033ecc-4e85-407a-9c2b-9f3e2fc27a54",
   "metadata": {},
   "source": [
    "## Connect to database"
   ]
  },
  {
   "cell_type": "code",
   "execution_count": 3,
   "id": "e42ce1a4-a228-42ee-bfc5-792e265ef347",
   "metadata": {},
   "outputs": [],
   "source": [
    "mysql_hook = MySqlHook(mysql_conn_id = database_name)"
   ]
  },
  {
   "cell_type": "markdown",
   "id": "0aa2941a-d5ad-4559-b532-bcbeedd69304",
   "metadata": {},
   "source": [
    "## Define a function to pull candlestick data\n",
    "\n",
    "This only works for a single (price type, instrument, interval) tuple."
   ]
  },
  {
   "cell_type": "code",
   "execution_count": 4,
   "id": "19929dd8-1755-41ba-9365-be82bb1fa9a8",
   "metadata": {},
   "outputs": [],
   "source": [
    "def get_candlestick_pull_query():\n",
    "    sql_query_for_candlestick_pull = \"\"\"SELECT\n",
    "\n",
    "    ts.timestamp, inst.name AS instrument_name, cs.o, cs.l, cs.h, cs.c, v.volume\n",
    "\n",
    "    FROM\n",
    "\n",
    "    timeseries_candlestick cs, timeseries_instrument inst,\n",
    "    timeseries_interval iv, timeseries_pricetype pt,\n",
    "    timeseries_volume v, timeseries_timestamp ts\n",
    "\n",
    "    WHERE\n",
    "\n",
    "    cs.instrument_id = inst.id\n",
    "    AND cs.interval_id = iv.id\n",
    "    AND cs.price_type_id = pt.id\n",
    "    AND cs.volume_id = v.id\n",
    "    AND cs.timestamp_id = ts.id\n",
    "\n",
    "    AND pt.name = '%s'\n",
    "    AND inst.name = '%s'\n",
    "    AND iv.name = '%s'\n",
    "\n",
    "    ORDER BY timestamp\n",
    "    ;\n",
    "    \"\"\"\n",
    "\n",
    "    return sql_query_for_candlestick_pull"
   ]
  },
  {
   "cell_type": "code",
   "execution_count": null,
   "id": "a3cd7eaa-99a4-4b51-b4ea-7e3b1c1d5e37",
   "metadata": {},
   "outputs": [],
   "source": []
  },
  {
   "cell_type": "code",
   "execution_count": null,
   "id": "8e74cd23-35a3-4a80-a4f8-badbb0bca30a",
   "metadata": {},
   "outputs": [],
   "source": [
    "class CandlestickDataFrame():\n",
    "\n",
    "    def __init__(\n",
    "        self,\n",
    "        instrument_name = 'EUR/USD',\n",
    "        interval_name = 'Day',\n",
    "        cut_before_year = 2014,\n",
    "        list_of_price_types = ['bid', 'mid', 'ask'],  # Don't change this!\n",
    "        timezone_to_use = 'US/Eastern',  # Don't change this!\n",
    "    ):\n",
    "        \n",
    "        self.list_of_price_types = list_of_price_types\n",
    "        self.instrument_name = instrument_name\n",
    "        self.interval_name = interval_name\n",
    "        self.timezone_to_use = timezone_to_use\n",
    "        self.cut_before_year = cut_before_year\n",
    "\n",
    "    def create_initial_dataframe(self):\n",
    "        \n",
    "        list_of_dataframes = []\n",
    "\n",
    "        for pt in self.list_of_price_types:\n",
    "            sql_to_run = get_candlestick_pull_query() % (pt, self.instrument_name, self.interval_name)\n",
    "            df_pt = mysql_hook.get_pandas_df(sql_to_run)\n",
    "    \n",
    "            column_name_map = {}\n",
    "            for col_name in ['o', 'l', 'h', 'c', 'volume']:\n",
    "                column_name_map[col_name] = pt + '_' + col_name\n",
    "\n",
    "            df_pt.rename(columns = column_name_map, inplace = True)\n",
    "\n",
    "            list_of_dataframes.append(df_pt)\n",
    "\n",
    "        df = list_of_dataframes[0]\n",
    "        for df_i in list_of_dataframes[1:]:\n",
    "            df = pd.merge(df, df_i, how = 'left', on = ['timestamp', 'instrument_name'])\n",
    "\n",
    "        self.df = df\n",
    "\n",
    "    def add_date_and_time_related_features(self):\n",
    "        tz = pytz.timezone(self.timezone_to_use)\n",
    "        self.df['timestamp_dt_Eastern'] = [datetime.datetime.fromtimestamp(x, tz = tz) for x in self.df['timestamp']]\n",
    "        self.df['weekday_Eastern'] = [x.weekday() for x in self.df['timestamp_dt_Eastern']]\n",
    "        self.df['hour_Eastern'] = [x.hour for x in self.df['timestamp_dt_Eastern']]\n",
    "        self.df['year_Eastern'] = [x.year for x in self.df['timestamp_dt_Eastern']]\n",
    "\n",
    "    def filter_by_date_and_time_related_features(self):\n",
    "        self.df = self.df[self.df['year_Eastern'] >= self.cut_before_year].copy()\n",
    "\n",
    "    def conduct_volume_test(self):\n",
    "        volume_test = np.min(\n",
    "            np.int8(\n",
    "                (self.df['ask_volume'].values == self.df['mid_volume']) &\n",
    "                (self.df['mid_volume'].values == self.df['bid_volume'])\n",
    "            )\n",
    "        )\n",
    "        \n",
    "        if volume_test == 1:\n",
    "            self.df['volume'] = self.df['mid_volume']\n",
    "            self.df.drop(columns = [x + '_volume' for x in self.list_of_price_types], inplace = True)\n",
    "            self.volume_test = True\n",
    "        else:\n",
    "            self.volume_test = False\n",
    "\n",
    "    def conduct_nan_test(self):\n",
    "        self.are_there_nans = (len(self.df.index) != len(self.df.dropna().index))\n",
    "\n",
    "    # https://www.investopedia.com/terms/s/spread.asp#toc-5-forex-spreads\n",
    "    def compute_spread(self):\n",
    "        for item in ['o', 'l', 'h', 'c']:\n",
    "            self.df['spread_' + item] = self.df['ask_' + item] - self.df['bid_' + item]\n",
    "\n",
    "    def is_mid_really_the_mid(self):\n",
    "        self.dict_max_abs_diff_in_mid_check = {}\n",
    "        columns_used_here = []\n",
    "        for item in ['o', 'l', 'h', 'c']:\n",
    "            self.df['mid_computed_' + item] = np.round((self.df['bid_' + item] + self.df['ask_' + item]) / 2., 5)\n",
    "            self.df['mid_compare_' + item] = self.df['mid_' + item] == self.df['mid_computed_' + item]\n",
    "            self.df['mid_diff_' + item] = np.abs(self.df['mid_' + item] - self.df['mid_computed_' + item])\n",
    "            \n",
    "            self.dict_max_abs_diff_in_mid_check[item] = np.max(self.df['mid_diff_' + item])\n",
    "\n",
    "            columns_used_here.append('mid_' + item)\n",
    "            columns_used_here.append('mid_computed_' + item)\n",
    "            columns_used_here.append('mid_compare_' + item)\n",
    "            columns_used_here.append('mid_diff_' + item)\n",
    "\n",
    "        self.df_mid_test = self.df[columns_used_here].copy()\n",
    "\n",
    "        for item in ['o', 'l', 'h', 'c']:\n",
    "            self.df.drop(\n",
    "                columns = [\n",
    "                    'mid_computed_' + item,\n",
    "                    'mid_compare_' + item,\n",
    "                    'mid_diff_' + item,\n",
    "                ],\n",
    "                inplace = True,\n",
    "            )\n",
    "\n",
    "\n",
    "    def compute_return_and_volatility(self):\n",
    "        for pt in self.list_of_price_types:\n",
    "            self.df[pt + '_return'] = self.df[pt + '_c'] - self.df[pt + '_o']\n",
    "            self.df[pt + '_volatility'] = self.df[pt + '_h'] - self.df[pt + '_l']\n",
    "\n",
    "    \n",
    "    def fit(self):\n",
    "        self.create_initial_dataframe()\n",
    "        self.conduct_volume_test()\n",
    "        self.add_date_and_time_related_features()\n",
    "        self.filter_by_date_and_time_related_features()\n",
    "        self.conduct_nan_test()\n",
    "        self.compute_spread()\n",
    "        self.is_mid_really_the_mid()\n",
    "        self.compute_return_and_volatility()"
   ]
  },
  {
   "cell_type": "code",
   "execution_count": null,
   "id": "09fd59a7-9a59-4e62-ac71-55c0a3cd7d86",
   "metadata": {},
   "outputs": [],
   "source": [
    "cdf = CandlestickDataFrame()\n",
    "cdf.fit()"
   ]
  },
  {
   "cell_type": "code",
   "execution_count": null,
   "id": "58ee2508-37ab-4f85-b392-cfaea1b44b9c",
   "metadata": {},
   "outputs": [],
   "source": [
    "cdf.df"
   ]
  },
  {
   "cell_type": "code",
   "execution_count": null,
   "id": "161b91ee-6318-48a7-8d33-d66d390ce1c4",
   "metadata": {},
   "outputs": [],
   "source": [
    "cdf.are_there_nans"
   ]
  },
  {
   "cell_type": "code",
   "execution_count": null,
   "id": "23c4ec1c-9dbf-4163-8320-3a2e1a0f2532",
   "metadata": {},
   "outputs": [],
   "source": [
    "cdf.volume_test"
   ]
  },
  {
   "cell_type": "code",
   "execution_count": null,
   "id": "a8112f4e-21ca-4f40-a746-60b23f5df67c",
   "metadata": {},
   "outputs": [],
   "source": [
    "import pprint as pp\n",
    "pp.pprint(cdf.dict_max_abs_diff_in_mid_check)"
   ]
  },
  {
   "cell_type": "code",
   "execution_count": null,
   "id": "c6fc5da2-19e0-4a82-ac58-94be506b60a3",
   "metadata": {},
   "outputs": [],
   "source": [
    "cdf.df_mid_test"
   ]
  },
  {
   "cell_type": "code",
   "execution_count": null,
   "id": "8e4d21ea-18e3-424c-a5bd-2468b87cd7b5",
   "metadata": {},
   "outputs": [],
   "source": []
  },
  {
   "cell_type": "code",
   "execution_count": null,
   "id": "d531f5d8-6210-4764-bf6f-289ab2acdd56",
   "metadata": {},
   "outputs": [],
   "source": []
  },
  {
   "cell_type": "code",
   "execution_count": null,
   "id": "5880eb03-539c-4b80-bcc4-446953d88c64",
   "metadata": {},
   "outputs": [],
   "source": []
  },
  {
   "cell_type": "code",
   "execution_count": null,
   "id": "3e809f99-24ef-4275-8c60-d4abb432766d",
   "metadata": {},
   "outputs": [],
   "source": []
  },
  {
   "cell_type": "code",
   "execution_count": null,
   "id": "2b6ed8f0-5828-49c5-859f-56b3378ad848",
   "metadata": {},
   "outputs": [],
   "source": [
    "cdf.df['mid_return'].values"
   ]
  },
  {
   "cell_type": "code",
   "execution_count": null,
   "id": "0f3b8b7b-c7c4-4edc-9067-189f7bf90dc5",
   "metadata": {},
   "outputs": [],
   "source": []
  },
  {
   "cell_type": "code",
   "execution_count": null,
   "id": "acf63676-11e4-4ca8-b9fb-f62ab57cc503",
   "metadata": {},
   "outputs": [],
   "source": []
  },
  {
   "cell_type": "code",
   "execution_count": null,
   "id": "0aa156b3-7a77-4296-9c93-4f167207d850",
   "metadata": {},
   "outputs": [],
   "source": []
  },
  {
   "cell_type": "code",
   "execution_count": null,
   "id": "0f6f9220-85b2-465c-bde5-0de93e8c373e",
   "metadata": {},
   "outputs": [],
   "source": []
  },
  {
   "cell_type": "code",
   "execution_count": null,
   "id": "dd5ffa0c-d625-421c-b0ab-93ba78b1e9d0",
   "metadata": {},
   "outputs": [],
   "source": []
  },
  {
   "cell_type": "code",
   "execution_count": null,
   "id": "77922873-4903-47d8-ad79-c168c071387f",
   "metadata": {},
   "outputs": [],
   "source": []
  },
  {
   "cell_type": "code",
   "execution_count": null,
   "id": "3594283d-627b-48f6-b0ac-d4f6b94c1c84",
   "metadata": {},
   "outputs": [],
   "source": []
  },
  {
   "cell_type": "code",
   "execution_count": null,
   "id": "0fabf79d-53d6-4e24-9929-cdb3ebda073d",
   "metadata": {},
   "outputs": [],
   "source": []
  },
  {
   "cell_type": "code",
   "execution_count": null,
   "id": "e7f96653-ccc6-4026-b3e9-756adfdc3ac4",
   "metadata": {},
   "outputs": [],
   "source": [
    "#(\n",
    "#    cdf.df\n",
    "#    .groupby('year_Eastern')\n",
    "#    ['timestamp']\n",
    "#    .agg('count')\n",
    "#)\n",
    "\n",
    "cdf.df.boxplot(column = 'volume', by = 'year_Eastern')\n",
    "plt.xticks(rotation = 80)\n",
    "plt.show()\n",
    "plt.close()"
   ]
  },
  {
   "cell_type": "code",
   "execution_count": null,
   "id": "a09feb42-13db-46dd-b4b9-943d599a33e1",
   "metadata": {},
   "outputs": [],
   "source": []
  },
  {
   "cell_type": "code",
   "execution_count": null,
   "id": "7d78e25a-6dce-4e6c-a838-3ed7c28b861b",
   "metadata": {},
   "outputs": [],
   "source": []
  },
  {
   "cell_type": "code",
   "execution_count": null,
   "id": "d14ba21b-3cfb-4bbb-a2ac-9d11c9abcd87",
   "metadata": {},
   "outputs": [],
   "source": [
    "def plot_something_and_diff(df, column):\n",
    "    plt.figure()\n",
    "    \n",
    "    to_plot = df[column].values\n",
    "    plt.subplot(2, 1, 1)\n",
    "    plt.plot(df['timestamp_dt_Eastern'].values, to_plot)\n",
    "    plt.tight_layout()\n",
    "    \n",
    "    to_plot = df[column].values[1:] - df[column].values[0:-1]\n",
    "    plt.subplot(2, 1, 2)\n",
    "    plt.plot(df['timestamp_dt_Eastern'].values[1:], to_plot)\n",
    "    plt.tight_layout()\n",
    "    \n",
    "    plt.show()\n",
    "    plt.close()\n",
    "\n",
    "plot_something_and_diff(cdf.df, 'mid_return')"
   ]
  },
  {
   "cell_type": "code",
   "execution_count": null,
   "id": "08714a46-3fce-48fa-8d26-c778f8b88763",
   "metadata": {},
   "outputs": [],
   "source": []
  },
  {
   "cell_type": "code",
   "execution_count": null,
   "id": "788469c8-3f67-4c47-8be7-a97773ba579c",
   "metadata": {},
   "outputs": [],
   "source": [
    "list_of_dates = [x.date() for x in cdf.df['timestamp_dt_Eastern']]\n",
    "\n",
    "df_to_fb_prophet = pd.DataFrame({'ds' : list_of_dates, 'y' : cdf.df['mid_return']})\n",
    "df_to_fb_prophet"
   ]
  },
  {
   "cell_type": "code",
   "execution_count": null,
   "id": "ddcfd550-e042-459f-b580-ee0529b5b639",
   "metadata": {},
   "outputs": [],
   "source": [
    "from prophet import Prophet\n",
    "m = Prophet()\n",
    "m.fit(df_to_fb_prophet)\n",
    "\n",
    "future = m.make_future_dataframe(periods = 10)\n",
    "forecast = m.predict(future)\n",
    "forecast[['ds', 'yhat', 'yhat_lower', 'yhat_upper']]"
   ]
  },
  {
   "cell_type": "code",
   "execution_count": null,
   "id": "b964a99e-2d40-46e0-b9b6-7cf420b8f69f",
   "metadata": {},
   "outputs": [],
   "source": [
    "plt.figure()\n",
    "m.plot(forecast)\n",
    "plt.show()\n",
    "plt.close()"
   ]
  },
  {
   "cell_type": "code",
   "execution_count": null,
   "id": "eb00ce5f-357d-4882-8470-8e94b7236f7b",
   "metadata": {},
   "outputs": [],
   "source": []
  },
  {
   "cell_type": "code",
   "execution_count": null,
   "id": "ae73f1dd-5377-4b2b-bc52-1c27b0a38321",
   "metadata": {},
   "outputs": [],
   "source": [
    "# \n",
    "# Forex spreads are the differences between the bid price (the price at which you can sell a currency pair) and the ask price (the price at which you can buy a currency pair). This spread is essentially the cost of trading and the primary way that forex brokers make money. The size of the spread depends on market liquidity, volatility, and the specific currency pair being traded.\n",
    "\n",
    "# Major currency pairs like EUR/USD typically have tighter spreads because of high liquidity, while exotic pairs may have wider spreads.7\n",
    "\n",
    "#For traders, especially those engaged in short-term strategies like day trading or scalping, the spread is a crucial consideration as it directly affects the profitability of each trade. Wider spreads mean a trade needs to move further in the trader's favor just to break even. Some brokers offer fixed spreads, while others provide variable spreads that fluctuate with market conditions. "
   ]
  },
  {
   "cell_type": "code",
   "execution_count": null,
   "id": "cf12f158-cc8e-41e6-99ae-a40bb91c38e4",
   "metadata": {},
   "outputs": [],
   "source": []
  },
  {
   "cell_type": "code",
   "execution_count": null,
   "id": "90ebaada-91ed-4712-92ce-db19a55a6e7d",
   "metadata": {},
   "outputs": [],
   "source": []
  },
  {
   "cell_type": "code",
   "execution_count": null,
   "id": "1c41fdaa-d407-4938-a42b-0049c9747a56",
   "metadata": {},
   "outputs": [],
   "source": [
    "start = np.min(cdf.df['timestamp_dt_Eastern']).date()\n",
    "end = np.max(cdf.df['timestamp_dt_Eastern']).date() #+ datetime.timedelta(days = 1)\n",
    "date_range = pd.date_range(start = start, end = end, freq = 'D')\n",
    "\n",
    "df_all_dates = pd.DataFrame({'ds' : date_range, 'dummy' : 1})\n",
    "\n",
    "df_to_fb_prophet = pd.DataFrame({'ds' : list_of_dates, 'y' : cdf.df['mid_return']})\n",
    "df_to_fb_prophet['ds'] = pd.to_datetime(df_to_fb_prophet['ds'])\n",
    "\n"
   ]
  },
  {
   "cell_type": "code",
   "execution_count": null,
   "id": "43afe6ac-a9f6-4c62-837e-63801bf0cb5f",
   "metadata": {},
   "outputs": [],
   "source": []
  },
  {
   "cell_type": "code",
   "execution_count": null,
   "id": "e137ab63-f768-4cbb-a746-0a7824b72237",
   "metadata": {},
   "outputs": [],
   "source": []
  },
  {
   "cell_type": "code",
   "execution_count": null,
   "id": "1d7510e9-792a-458b-92da-92c302370731",
   "metadata": {},
   "outputs": [],
   "source": [
    "q = np.array([1, 2, 3, 3, 3, 5, 7, 8, 8, 8, 9])\n",
    "window_size = 3\n",
    "\n",
    "def window_mean_std(an_array, window_size = 10):\n",
    "    the_mean = [np.nan] * (window_size - 2)\n",
    "    the_std = [np.nan] * (window_size - 2)\n",
    "    \n",
    "    the_mean.extend([np.nanmean(an_array[(i - window_size):i]) for i in range(window_size, len(an_array) + 1)])\n",
    "    the_std.extend([np.nanstd(an_array[(i - window_size):i]) for i in range(window_size, len(an_array) + 1)])\n",
    "    the_mean.append(np.nan)\n",
    "    the_std.append(np.nan)\n",
    "    return np.array(the_mean), np.array(the_std)\n",
    "\n",
    "df_booger = pd.merge(\n",
    "    df_all_dates,\n",
    "    df_to_fb_prophet,\n",
    "    how = 'left',\n",
    "    on = 'ds',\n",
    ").drop(columns = ['dummy'])\n",
    "\n",
    "df_booger['m'], df_booger['s'] = (window_mean_std(df_booger['y'], window_size = window_size))\n",
    "df_booger = df_booger.iloc[(window_size - 1):,:].copy()\n",
    "df_booger['y_original'] = df_booger['y']\n",
    "df_booger['y'] = (df_booger['y'] - df_booger['m']) / df_booger['s']\n",
    "\n",
    "\n",
    "df_booger"
   ]
  },
  {
   "cell_type": "code",
   "execution_count": null,
   "id": "7c0e3936-ab13-4bf0-85bc-e29bfb594e2a",
   "metadata": {},
   "outputs": [],
   "source": [
    "plt.figure()\n",
    "plt.plot(df_booger['ds'], df_booger['y'])\n",
    "plt.show()\n",
    "plt.close()"
   ]
  },
  {
   "cell_type": "code",
   "execution_count": null,
   "id": "8b256382-9c2c-4d2f-8612-d0fdeddf638a",
   "metadata": {},
   "outputs": [],
   "source": []
  },
  {
   "cell_type": "code",
   "execution_count": null,
   "id": "932db924-8a8a-4515-93c3-d7c97ccd7fda",
   "metadata": {},
   "outputs": [],
   "source": []
  }
 ],
 "metadata": {
  "kernelspec": {
   "display_name": "Python 3 (ipykernel)",
   "language": "python",
   "name": "python3"
  },
  "language_info": {
   "codemirror_mode": {
    "name": "ipython",
    "version": 3
   },
   "file_extension": ".py",
   "mimetype": "text/x-python",
   "name": "python",
   "nbconvert_exporter": "python",
   "pygments_lexer": "ipython3",
   "version": "3.10.12"
  }
 },
 "nbformat": 4,
 "nbformat_minor": 5
}
