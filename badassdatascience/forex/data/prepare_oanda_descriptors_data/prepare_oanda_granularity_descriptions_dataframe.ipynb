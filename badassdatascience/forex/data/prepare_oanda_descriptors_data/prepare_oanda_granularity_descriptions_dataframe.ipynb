{
 "cells": [
  {
   "cell_type": "markdown",
   "id": "3bef67a1-cde1-4d9b-8e5a-1d52a915fbea",
   "metadata": {},
   "source": [
    "# Convert Oanda's Granularity Information to Programmatically Useful Form"
   ]
  },
  {
   "cell_type": "markdown",
   "id": "28cc28e9-b078-4cfb-a486-de2652b96da3",
   "metadata": {},
   "source": [
    "## Load useful system libraries"
   ]
  },
  {
   "cell_type": "code",
   "execution_count": 1,
   "id": "7a022c27-4ce1-4109-8bfe-184e70342962",
   "metadata": {},
   "outputs": [],
   "source": [
    "import os\n",
    "import datetime\n",
    "import json\n",
    "import pandas as pd"
   ]
  },
  {
   "cell_type": "markdown",
   "id": "5439caf5-79ec-44a4-981c-12fdf8d1856a",
   "metadata": {},
   "source": [
    "## User settings"
   ]
  },
  {
   "cell_type": "code",
   "execution_count": 2,
   "id": "db591a4e-8a2a-4fc9-81cf-7f6d44d79258",
   "metadata": {},
   "outputs": [],
   "source": [
    "raw_source_data_filename = os.environ['BDS_HOME'] + '/badassdatascience/forex/data/oanda_granularities_raw.txt'\n",
    "output_filename_sans_extension = os.environ['BDS_HOME'] + '/badassdatascience/forex/data/prepare_data/output/granularity_details_dataframe'"
   ]
  },
  {
   "cell_type": "markdown",
   "id": "816f0a31-57cd-4d90-a956-d531bc851d77",
   "metadata": {},
   "source": [
    "## Load useful repository libraries"
   ]
  },
  {
   "cell_type": "code",
   "execution_count": 3,
   "id": "972075f9-ecd8-47ab-9d9d-d215b8e86edb",
   "metadata": {},
   "outputs": [],
   "source": [
    "from badassdatascience.forex.data.prepare_data.prepare_granularity_description_dataframe import process_oanda_granularity_listings\n",
    "from badassdatascience.forex.data.prepare_data.prepare_granularity_description_dataframe import dict_granularity_label_to_seconds_map"
   ]
  },
  {
   "cell_type": "markdown",
   "id": "4a79e385-3ec4-4024-b05c-f1583e2389a5",
   "metadata": {},
   "source": [
    "## Timestamp this notebook run"
   ]
  },
  {
   "cell_type": "code",
   "execution_count": 4,
   "id": "74e95276-cf79-4970-a557-fe4332518cde",
   "metadata": {},
   "outputs": [
    {
     "data": {
      "text/plain": [
       "datetime.datetime(2025, 4, 18, 10, 9, 45, 314980, tzinfo=datetime.timezone.utc)"
      ]
     },
     "execution_count": 4,
     "metadata": {},
     "output_type": "execute_result"
    }
   ],
   "source": [
    "now = datetime.datetime.now(datetime.timezone.utc)\n",
    "now"
   ]
  },
  {
   "cell_type": "markdown",
   "id": "c9ce193a-84d2-4922-ad3d-5e0cb9a9f3bb",
   "metadata": {},
   "source": [
    "## Process the raw data into something more easily used"
   ]
  },
  {
   "cell_type": "code",
   "execution_count": 5,
   "id": "f56cf16d-4701-4b26-8bef-93fd146a0106",
   "metadata": {},
   "outputs": [],
   "source": [
    "df = process_oanda_granularity_listings(\n",
    "    raw_source_data_filename,\n",
    "    dict_granularity_label_to_seconds_map,\n",
    ")\n",
    "\n",
    "df['timestamp'] = now"
   ]
  },
  {
   "cell_type": "markdown",
   "id": "55d810db-6802-4830-a414-2c823a48d7ca",
   "metadata": {},
   "source": [
    "The following sets the stage for import into MongoDB, which we are not doing yet:"
   ]
  },
  {
   "cell_type": "code",
   "execution_count": 6,
   "id": "506539a0-8a74-4b57-8e3c-61d1d4173607",
   "metadata": {},
   "outputs": [],
   "source": [
    "df_as_dict_list = []\n",
    "\n",
    "for record in df.to_dict(orient = 'records'):\n",
    "    record['timestamp'] = str(record['timestamp'])\n",
    "    df_as_dict_list.append(record)\n",
    "\n",
    "df_as_dict = {\n",
    "    'records' : df_as_dict_list,\n",
    "}"
   ]
  },
  {
   "cell_type": "markdown",
   "id": "25397406-9823-4366-9249-06a434fcdcd3",
   "metadata": {},
   "source": [
    "## QA:  The \"eyeball test\""
   ]
  },
  {
   "cell_type": "code",
   "execution_count": 7,
   "id": "5b53cfa9-3926-4781-bdb3-0361ce343048",
   "metadata": {},
   "outputs": [
    {
     "data": {
      "text/plain": [
       "[{'oanda_granularity': 'S5',\n",
       "  'description': '5 second candlesticks, minute alignment',\n",
       "  'hour_minute_or_second': 'S',\n",
       "  'seconds': 5.0,\n",
       "  'timestamp': '2025-04-18 10:09:45.314980+00:00'},\n",
       " {'oanda_granularity': 'S10',\n",
       "  'description': '10 second candlesticks, minute alignment',\n",
       "  'hour_minute_or_second': 'S',\n",
       "  'seconds': 10.0,\n",
       "  'timestamp': '2025-04-18 10:09:45.314980+00:00'}]"
      ]
     },
     "execution_count": 7,
     "metadata": {},
     "output_type": "execute_result"
    }
   ],
   "source": [
    "df_as_dict['records'][0:2]"
   ]
  },
  {
   "cell_type": "code",
   "execution_count": 8,
   "id": "80aa7da9-f393-464b-8e79-d5e1497917a5",
   "metadata": {},
   "outputs": [
    {
     "data": {
      "text/html": [
       "<div>\n",
       "<style scoped>\n",
       "    .dataframe tbody tr th:only-of-type {\n",
       "        vertical-align: middle;\n",
       "    }\n",
       "\n",
       "    .dataframe tbody tr th {\n",
       "        vertical-align: top;\n",
       "    }\n",
       "\n",
       "    .dataframe thead th {\n",
       "        text-align: right;\n",
       "    }\n",
       "</style>\n",
       "<table border=\"1\" class=\"dataframe\">\n",
       "  <thead>\n",
       "    <tr style=\"text-align: right;\">\n",
       "      <th></th>\n",
       "      <th>oanda_granularity</th>\n",
       "      <th>description</th>\n",
       "      <th>hour_minute_or_second</th>\n",
       "      <th>seconds</th>\n",
       "      <th>timestamp</th>\n",
       "    </tr>\n",
       "  </thead>\n",
       "  <tbody>\n",
       "    <tr>\n",
       "      <th>0</th>\n",
       "      <td>S5</td>\n",
       "      <td>5 second candlesticks, minute alignment</td>\n",
       "      <td>S</td>\n",
       "      <td>5.0</td>\n",
       "      <td>2025-04-18 10:09:45.314980+00:00</td>\n",
       "    </tr>\n",
       "    <tr>\n",
       "      <th>1</th>\n",
       "      <td>S10</td>\n",
       "      <td>10 second candlesticks, minute alignment</td>\n",
       "      <td>S</td>\n",
       "      <td>10.0</td>\n",
       "      <td>2025-04-18 10:09:45.314980+00:00</td>\n",
       "    </tr>\n",
       "    <tr>\n",
       "      <th>2</th>\n",
       "      <td>S15</td>\n",
       "      <td>15 second candlesticks, minute alignment</td>\n",
       "      <td>S</td>\n",
       "      <td>15.0</td>\n",
       "      <td>2025-04-18 10:09:45.314980+00:00</td>\n",
       "    </tr>\n",
       "    <tr>\n",
       "      <th>3</th>\n",
       "      <td>S30</td>\n",
       "      <td>30 second candlesticks, minute alignment</td>\n",
       "      <td>S</td>\n",
       "      <td>30.0</td>\n",
       "      <td>2025-04-18 10:09:45.314980+00:00</td>\n",
       "    </tr>\n",
       "    <tr>\n",
       "      <th>4</th>\n",
       "      <td>M1</td>\n",
       "      <td>1 minute candlesticks, minute alignment</td>\n",
       "      <td>M</td>\n",
       "      <td>60.0</td>\n",
       "      <td>2025-04-18 10:09:45.314980+00:00</td>\n",
       "    </tr>\n",
       "  </tbody>\n",
       "</table>\n",
       "</div>"
      ],
      "text/plain": [
       "  oanda_granularity                               description  \\\n",
       "0                S5   5 second candlesticks, minute alignment   \n",
       "1               S10  10 second candlesticks, minute alignment   \n",
       "2               S15  15 second candlesticks, minute alignment   \n",
       "3               S30  30 second candlesticks, minute alignment   \n",
       "4                M1   1 minute candlesticks, minute alignment   \n",
       "\n",
       "  hour_minute_or_second  seconds                        timestamp  \n",
       "0                     S      5.0 2025-04-18 10:09:45.314980+00:00  \n",
       "1                     S     10.0 2025-04-18 10:09:45.314980+00:00  \n",
       "2                     S     15.0 2025-04-18 10:09:45.314980+00:00  \n",
       "3                     S     30.0 2025-04-18 10:09:45.314980+00:00  \n",
       "4                     M     60.0 2025-04-18 10:09:45.314980+00:00  "
      ]
     },
     "execution_count": 8,
     "metadata": {},
     "output_type": "execute_result"
    }
   ],
   "source": [
    "df.head()"
   ]
  },
  {
   "cell_type": "markdown",
   "id": "cb93d8e9-3c81-4987-a7fc-597730c1ac6b",
   "metadata": {},
   "source": [
    "## Save results"
   ]
  },
  {
   "cell_type": "code",
   "execution_count": 9,
   "id": "c20ded81-6578-4398-86d5-334127c412e7",
   "metadata": {},
   "outputs": [],
   "source": [
    "df.to_parquet(output_filename_sans_extension + '.parquet')\n",
    "\n",
    "with open(output_filename_sans_extension + '.json', 'w') as fff:\n",
    "    json.dump(df_as_dict, fff, indent = 2)"
   ]
  },
  {
   "cell_type": "markdown",
   "id": "b218d403-5218-4d5e-a741-37c002e781cb",
   "metadata": {},
   "source": [
    "## Final QA"
   ]
  },
  {
   "cell_type": "code",
   "execution_count": 10,
   "id": "cf7c3064-993e-4ee2-8e88-8c4477df957e",
   "metadata": {},
   "outputs": [],
   "source": [
    "df_qa = pd.read_parquet(output_filename_sans_extension + '.parquet')\n",
    "\n",
    "with open(output_filename_sans_extension + '.json') as fff:\n",
    "    df_as_dict_qa = json.load(fff)"
   ]
  },
  {
   "cell_type": "code",
   "execution_count": 11,
   "id": "b1159a2e-b170-4bab-a613-4f0c9098ba97",
   "metadata": {},
   "outputs": [
    {
     "data": {
      "text/plain": [
       "[{'oanda_granularity': 'S5',\n",
       "  'description': '5 second candlesticks, minute alignment',\n",
       "  'hour_minute_or_second': 'S',\n",
       "  'seconds': 5.0,\n",
       "  'timestamp': '2025-04-18 10:09:45.314980+00:00'},\n",
       " {'oanda_granularity': 'S10',\n",
       "  'description': '10 second candlesticks, minute alignment',\n",
       "  'hour_minute_or_second': 'S',\n",
       "  'seconds': 10.0,\n",
       "  'timestamp': '2025-04-18 10:09:45.314980+00:00'}]"
      ]
     },
     "execution_count": 11,
     "metadata": {},
     "output_type": "execute_result"
    }
   ],
   "source": [
    "df_as_dict_qa['records'][0:2]"
   ]
  },
  {
   "cell_type": "code",
   "execution_count": 12,
   "id": "00a88de4-8a1a-4852-a77c-54537f1c665b",
   "metadata": {},
   "outputs": [
    {
     "data": {
      "text/html": [
       "<div>\n",
       "<style scoped>\n",
       "    .dataframe tbody tr th:only-of-type {\n",
       "        vertical-align: middle;\n",
       "    }\n",
       "\n",
       "    .dataframe tbody tr th {\n",
       "        vertical-align: top;\n",
       "    }\n",
       "\n",
       "    .dataframe thead th {\n",
       "        text-align: right;\n",
       "    }\n",
       "</style>\n",
       "<table border=\"1\" class=\"dataframe\">\n",
       "  <thead>\n",
       "    <tr style=\"text-align: right;\">\n",
       "      <th></th>\n",
       "      <th>oanda_granularity</th>\n",
       "      <th>description</th>\n",
       "      <th>hour_minute_or_second</th>\n",
       "      <th>seconds</th>\n",
       "      <th>timestamp</th>\n",
       "    </tr>\n",
       "  </thead>\n",
       "  <tbody>\n",
       "    <tr>\n",
       "      <th>0</th>\n",
       "      <td>S5</td>\n",
       "      <td>5 second candlesticks, minute alignment</td>\n",
       "      <td>S</td>\n",
       "      <td>5.0</td>\n",
       "      <td>2025-04-18 10:09:45.314980+00:00</td>\n",
       "    </tr>\n",
       "    <tr>\n",
       "      <th>1</th>\n",
       "      <td>S10</td>\n",
       "      <td>10 second candlesticks, minute alignment</td>\n",
       "      <td>S</td>\n",
       "      <td>10.0</td>\n",
       "      <td>2025-04-18 10:09:45.314980+00:00</td>\n",
       "    </tr>\n",
       "    <tr>\n",
       "      <th>2</th>\n",
       "      <td>S15</td>\n",
       "      <td>15 second candlesticks, minute alignment</td>\n",
       "      <td>S</td>\n",
       "      <td>15.0</td>\n",
       "      <td>2025-04-18 10:09:45.314980+00:00</td>\n",
       "    </tr>\n",
       "    <tr>\n",
       "      <th>3</th>\n",
       "      <td>S30</td>\n",
       "      <td>30 second candlesticks, minute alignment</td>\n",
       "      <td>S</td>\n",
       "      <td>30.0</td>\n",
       "      <td>2025-04-18 10:09:45.314980+00:00</td>\n",
       "    </tr>\n",
       "    <tr>\n",
       "      <th>4</th>\n",
       "      <td>M1</td>\n",
       "      <td>1 minute candlesticks, minute alignment</td>\n",
       "      <td>M</td>\n",
       "      <td>60.0</td>\n",
       "      <td>2025-04-18 10:09:45.314980+00:00</td>\n",
       "    </tr>\n",
       "    <tr>\n",
       "      <th>5</th>\n",
       "      <td>M2</td>\n",
       "      <td>2 minute candlesticks, hour alignment</td>\n",
       "      <td>M</td>\n",
       "      <td>120.0</td>\n",
       "      <td>2025-04-18 10:09:45.314980+00:00</td>\n",
       "    </tr>\n",
       "    <tr>\n",
       "      <th>6</th>\n",
       "      <td>M4</td>\n",
       "      <td>4 minute candlesticks, hour alignment</td>\n",
       "      <td>M</td>\n",
       "      <td>240.0</td>\n",
       "      <td>2025-04-18 10:09:45.314980+00:00</td>\n",
       "    </tr>\n",
       "    <tr>\n",
       "      <th>7</th>\n",
       "      <td>M5</td>\n",
       "      <td>5 minute candlesticks, hour alignment</td>\n",
       "      <td>M</td>\n",
       "      <td>300.0</td>\n",
       "      <td>2025-04-18 10:09:45.314980+00:00</td>\n",
       "    </tr>\n",
       "    <tr>\n",
       "      <th>8</th>\n",
       "      <td>M10</td>\n",
       "      <td>10 minute candlesticks, hour alignment</td>\n",
       "      <td>M</td>\n",
       "      <td>600.0</td>\n",
       "      <td>2025-04-18 10:09:45.314980+00:00</td>\n",
       "    </tr>\n",
       "    <tr>\n",
       "      <th>9</th>\n",
       "      <td>M15</td>\n",
       "      <td>15 minute candlesticks, hour alignment</td>\n",
       "      <td>M</td>\n",
       "      <td>900.0</td>\n",
       "      <td>2025-04-18 10:09:45.314980+00:00</td>\n",
       "    </tr>\n",
       "    <tr>\n",
       "      <th>10</th>\n",
       "      <td>M30</td>\n",
       "      <td>30 minute candlesticks, hour alignment</td>\n",
       "      <td>M</td>\n",
       "      <td>1800.0</td>\n",
       "      <td>2025-04-18 10:09:45.314980+00:00</td>\n",
       "    </tr>\n",
       "    <tr>\n",
       "      <th>11</th>\n",
       "      <td>H1</td>\n",
       "      <td>1 hour candlesticks, hour alignment</td>\n",
       "      <td>H</td>\n",
       "      <td>3600.0</td>\n",
       "      <td>2025-04-18 10:09:45.314980+00:00</td>\n",
       "    </tr>\n",
       "    <tr>\n",
       "      <th>12</th>\n",
       "      <td>H2</td>\n",
       "      <td>2 hour candlesticks, day alignment</td>\n",
       "      <td>H</td>\n",
       "      <td>7200.0</td>\n",
       "      <td>2025-04-18 10:09:45.314980+00:00</td>\n",
       "    </tr>\n",
       "    <tr>\n",
       "      <th>13</th>\n",
       "      <td>H3</td>\n",
       "      <td>3 hour candlesticks, day alignment</td>\n",
       "      <td>H</td>\n",
       "      <td>10800.0</td>\n",
       "      <td>2025-04-18 10:09:45.314980+00:00</td>\n",
       "    </tr>\n",
       "    <tr>\n",
       "      <th>14</th>\n",
       "      <td>H4</td>\n",
       "      <td>4 hour candlesticks, day alignment</td>\n",
       "      <td>H</td>\n",
       "      <td>14400.0</td>\n",
       "      <td>2025-04-18 10:09:45.314980+00:00</td>\n",
       "    </tr>\n",
       "    <tr>\n",
       "      <th>15</th>\n",
       "      <td>H6</td>\n",
       "      <td>6 hour candlesticks, day alignment</td>\n",
       "      <td>H</td>\n",
       "      <td>21600.0</td>\n",
       "      <td>2025-04-18 10:09:45.314980+00:00</td>\n",
       "    </tr>\n",
       "    <tr>\n",
       "      <th>16</th>\n",
       "      <td>H8</td>\n",
       "      <td>8 hour candlesticks, day alignment</td>\n",
       "      <td>H</td>\n",
       "      <td>28800.0</td>\n",
       "      <td>2025-04-18 10:09:45.314980+00:00</td>\n",
       "    </tr>\n",
       "    <tr>\n",
       "      <th>17</th>\n",
       "      <td>H12</td>\n",
       "      <td>12 hour candlesticks, day alignment</td>\n",
       "      <td>H</td>\n",
       "      <td>43200.0</td>\n",
       "      <td>2025-04-18 10:09:45.314980+00:00</td>\n",
       "    </tr>\n",
       "    <tr>\n",
       "      <th>18</th>\n",
       "      <td>D</td>\n",
       "      <td>1 day candlesticks, day alignment</td>\n",
       "      <td>None</td>\n",
       "      <td>NaN</td>\n",
       "      <td>2025-04-18 10:09:45.314980+00:00</td>\n",
       "    </tr>\n",
       "    <tr>\n",
       "      <th>19</th>\n",
       "      <td>W</td>\n",
       "      <td>1 week candlesticks, aligned to start of week</td>\n",
       "      <td>None</td>\n",
       "      <td>NaN</td>\n",
       "      <td>2025-04-18 10:09:45.314980+00:00</td>\n",
       "    </tr>\n",
       "    <tr>\n",
       "      <th>20</th>\n",
       "      <td>M</td>\n",
       "      <td>1 month candlesticks, aligned to first day of ...</td>\n",
       "      <td>None</td>\n",
       "      <td>NaN</td>\n",
       "      <td>2025-04-18 10:09:45.314980+00:00</td>\n",
       "    </tr>\n",
       "  </tbody>\n",
       "</table>\n",
       "</div>"
      ],
      "text/plain": [
       "   oanda_granularity                                        description  \\\n",
       "0                 S5            5 second candlesticks, minute alignment   \n",
       "1                S10           10 second candlesticks, minute alignment   \n",
       "2                S15           15 second candlesticks, minute alignment   \n",
       "3                S30           30 second candlesticks, minute alignment   \n",
       "4                 M1            1 minute candlesticks, minute alignment   \n",
       "5                 M2              2 minute candlesticks, hour alignment   \n",
       "6                 M4              4 minute candlesticks, hour alignment   \n",
       "7                 M5              5 minute candlesticks, hour alignment   \n",
       "8                M10             10 minute candlesticks, hour alignment   \n",
       "9                M15             15 minute candlesticks, hour alignment   \n",
       "10               M30             30 minute candlesticks, hour alignment   \n",
       "11                H1                1 hour candlesticks, hour alignment   \n",
       "12                H2                 2 hour candlesticks, day alignment   \n",
       "13                H3                 3 hour candlesticks, day alignment   \n",
       "14                H4                 4 hour candlesticks, day alignment   \n",
       "15                H6                 6 hour candlesticks, day alignment   \n",
       "16                H8                 8 hour candlesticks, day alignment   \n",
       "17               H12                12 hour candlesticks, day alignment   \n",
       "18                 D                  1 day candlesticks, day alignment   \n",
       "19                 W      1 week candlesticks, aligned to start of week   \n",
       "20                 M  1 month candlesticks, aligned to first day of ...   \n",
       "\n",
       "   hour_minute_or_second  seconds                        timestamp  \n",
       "0                      S      5.0 2025-04-18 10:09:45.314980+00:00  \n",
       "1                      S     10.0 2025-04-18 10:09:45.314980+00:00  \n",
       "2                      S     15.0 2025-04-18 10:09:45.314980+00:00  \n",
       "3                      S     30.0 2025-04-18 10:09:45.314980+00:00  \n",
       "4                      M     60.0 2025-04-18 10:09:45.314980+00:00  \n",
       "5                      M    120.0 2025-04-18 10:09:45.314980+00:00  \n",
       "6                      M    240.0 2025-04-18 10:09:45.314980+00:00  \n",
       "7                      M    300.0 2025-04-18 10:09:45.314980+00:00  \n",
       "8                      M    600.0 2025-04-18 10:09:45.314980+00:00  \n",
       "9                      M    900.0 2025-04-18 10:09:45.314980+00:00  \n",
       "10                     M   1800.0 2025-04-18 10:09:45.314980+00:00  \n",
       "11                     H   3600.0 2025-04-18 10:09:45.314980+00:00  \n",
       "12                     H   7200.0 2025-04-18 10:09:45.314980+00:00  \n",
       "13                     H  10800.0 2025-04-18 10:09:45.314980+00:00  \n",
       "14                     H  14400.0 2025-04-18 10:09:45.314980+00:00  \n",
       "15                     H  21600.0 2025-04-18 10:09:45.314980+00:00  \n",
       "16                     H  28800.0 2025-04-18 10:09:45.314980+00:00  \n",
       "17                     H  43200.0 2025-04-18 10:09:45.314980+00:00  \n",
       "18                  None      NaN 2025-04-18 10:09:45.314980+00:00  \n",
       "19                  None      NaN 2025-04-18 10:09:45.314980+00:00  \n",
       "20                  None      NaN 2025-04-18 10:09:45.314980+00:00  "
      ]
     },
     "execution_count": 12,
     "metadata": {},
     "output_type": "execute_result"
    }
   ],
   "source": [
    "df_qa"
   ]
  },
  {
   "cell_type": "markdown",
   "id": "b0bbe1ef-7556-4abb-bc9f-da4ee171b6f3",
   "metadata": {},
   "source": [
    "## Crude alternative that we won't use\n",
    "\n",
    "This relies on Oanda's documentation being stable, which we can never assume will be true.\n",
    "\n",
    "Also, there are far more elegant ways to parse HTML..."
   ]
  },
  {
   "cell_type": "code",
   "execution_count": 13,
   "id": "0baff810-166b-4373-a532-308cf1f4f988",
   "metadata": {},
   "outputs": [],
   "source": [
    "if False:\n",
    "    import requests\n",
    "\n",
    "    url = 'https://developer.oanda.com/rest-live-v20/instrument-df/#CandlestickGranularity'\n",
    "    response = requests.get(url)\n",
    "\n",
    "    # CRUDE CRUDE CRUDE\n",
    "    if response.status_code == 200:\n",
    "        html_content = response.text\n",
    "\n",
    "        # CRUDE CRUDE CRUDE\n",
    "        keep_line = False\n",
    "        lines_to_examine = []\n",
    "        for line in html_content.split('\\n'):\n",
    "            if line.find('<p><a name=\"CandlestickGranularity\"></a>') >= 0:\n",
    "                keep_line = True\n",
    "            if line.find('<p><a name=\"WeeklyAlignment\"></a>') >= 0:\n",
    "                keep_line = False\n",
    "            if keep_line:\n",
    "                lines_to_examine.append(line)\n",
    "\n",
    "        # CRUDE CRUDE CRUDE\n",
    "        item_list = []\n",
    "        for line in lines_to_examine:\n",
    "            if line.find('<tr>') >= 0:\n",
    "                stuff_list = []\n",
    "            if line.find('<td>') >= 0:\n",
    "                stuff_list.append(line.split('<td>')[1].split('</td>')[0])\n",
    "            if line.find('</tr>') >= 0:\n",
    "                item_list.append(stuff_list)\n",
    "\n",
    "        # CRUDE CRUDE CRUDE\n",
    "        item_list = [q for q in item_list if not len(q) == 0]\n",
    "    \n",
    "        # CRUDE CRUDE CRUDE\n",
    "        record_list = []\n",
    "        for item in item_list:\n",
    "            record_dict = {\n",
    "                'oanda_granularity' : item[0],\n",
    "                'description' : item[1],\n",
    "            }\n",
    "            record_list.append(record_dict)\n",
    "\n",
    "        df_granularity = pd.DataFrame(record_list)\n",
    "\n",
    "    else:\n",
    "        print(f\"Request failed with status code {response.status_code}\")\n",
    "\n",
    "    print(df_granularity.head())"
   ]
  }
 ],
 "metadata": {
  "kernelspec": {
   "display_name": "Python 3 (ipykernel)",
   "language": "python",
   "name": "python3"
  },
  "language_info": {
   "codemirror_mode": {
    "name": "ipython",
    "version": 3
   },
   "file_extension": ".py",
   "mimetype": "text/x-python",
   "name": "python",
   "nbconvert_exporter": "python",
   "pygments_lexer": "ipython3",
   "version": "3.10.12"
  }
 },
 "nbformat": 4,
 "nbformat_minor": 5
}
