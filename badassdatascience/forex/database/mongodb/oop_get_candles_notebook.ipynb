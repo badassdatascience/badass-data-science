{
 "cells": [
  {
   "cell_type": "code",
   "execution_count": null,
   "id": "fb7f38c8-3a88-4ad9-acd7-3ccf1d4191a6",
   "metadata": {
    "editable": true,
    "slideshow": {
     "slide_type": ""
    },
    "tags": []
   },
   "outputs": [],
   "source": []
  },
  {
   "cell_type": "markdown",
   "id": "61e905f0-fbe0-4cd0-9ec7-ca78b719ee3c",
   "metadata": {
    "editable": true,
    "slideshow": {
     "slide_type": ""
    },
    "tags": []
   },
   "source": [
    "## Load useful system libraries"
   ]
  },
  {
   "cell_type": "code",
   "execution_count": 1,
   "id": "0b22c610-4496-410a-8842-9ee43a3fcd9c",
   "metadata": {
    "editable": true,
    "slideshow": {
     "slide_type": ""
    },
    "tags": []
   },
   "outputs": [],
   "source": [
    "import datetime\n",
    "import pprint as pp"
   ]
  },
  {
   "cell_type": "markdown",
   "id": "1de29366-4eae-41e8-a4b3-f1a7c739ca96",
   "metadata": {
    "editable": true,
    "slideshow": {
     "slide_type": ""
    },
    "tags": []
   },
   "source": [
    "## Timestamp start"
   ]
  },
  {
   "cell_type": "code",
   "execution_count": 2,
   "id": "ff223924-9873-409c-bb4c-9530359c5499",
   "metadata": {
    "editable": true,
    "slideshow": {
     "slide_type": ""
    },
    "tags": []
   },
   "outputs": [
    {
     "name": "stdout",
     "output_type": "stream",
     "text": [
      "2025-04-23 23:54:16.334622\n",
      "1745477656.334622\n"
     ]
    }
   ],
   "source": [
    "time_start = datetime.datetime.utcnow()\n",
    "print(time_start)\n",
    "print(time_start.timestamp())"
   ]
  },
  {
   "cell_type": "markdown",
   "id": "277bc271-423d-45a6-9c4d-07dd5556abef",
   "metadata": {
    "editable": true,
    "slideshow": {
     "slide_type": ""
    },
    "tags": []
   },
   "source": [
    "## Load the class that manages the API-based data pull"
   ]
  },
  {
   "cell_type": "code",
   "execution_count": 3,
   "id": "70859f95-8511-4087-b171-ae64dddd1a7e",
   "metadata": {
    "editable": true,
    "slideshow": {
     "slide_type": ""
    },
    "tags": []
   },
   "outputs": [],
   "source": [
    "from badassdatascience.forex.database.populate_and_update.mongodb.oop_get_candles import CandlePull"
   ]
  },
  {
   "cell_type": "markdown",
   "id": "8991b091-c0c5-4517-a432-1ab4e79a2bf4",
   "metadata": {
    "editable": true,
    "slideshow": {
     "slide_type": ""
    },
    "tags": []
   },
   "source": [
    "## Parameterization with papermill"
   ]
  },
  {
   "cell_type": "code",
   "execution_count": 14,
   "id": "d12ff29d-1367-4ea7-a9a5-a05215cabf12",
   "metadata": {
    "editable": true,
    "slideshow": {
     "slide_type": ""
    },
    "tags": [
     "parameters"
    ]
   },
   "outputs": [],
   "source": [
    "# This cell is tagged `parameters`\n",
    "\n",
    "config_file = '/home/emily/Desktop/projects/test/badass-data-science/badassdatascience/forex/data/DEVELOPMENT.json'\n",
    "granularity = 'H1'\n",
    "instrument = 'EUR_USD'\n",
    "error_retry_interval = 2"
   ]
  },
  {
   "cell_type": "markdown",
   "id": "312b3fb9-0aa5-4d4b-ab54-99893d5cfbe1",
   "metadata": {
    "editable": true,
    "slideshow": {
     "slide_type": ""
    },
    "tags": []
   },
   "source": [
    "## Additional parameters (Do not change these!)"
   ]
  },
  {
   "cell_type": "code",
   "execution_count": 5,
   "id": "f058e0c8-0a4c-479e-8296-9865238de1af",
   "metadata": {
    "editable": true,
    "slideshow": {
     "slide_type": ""
    },
    "tags": []
   },
   "outputs": [],
   "source": [
    "count = 5000 \n",
    "price_types = 'BAM'"
   ]
  },
  {
   "cell_type": "markdown",
   "id": "7498b6a1-f292-4ede-8fb4-b8e3846d6272",
   "metadata": {
    "editable": true,
    "slideshow": {
     "slide_type": ""
    },
    "tags": []
   },
   "source": [
    "## Confirm the correct parameterization"
   ]
  },
  {
   "cell_type": "code",
   "execution_count": 6,
   "id": "af9e9466-edf9-4ab6-9eb3-05b9018123ea",
   "metadata": {
    "editable": true,
    "slideshow": {
     "slide_type": ""
    },
    "tags": []
   },
   "outputs": [
    {
     "name": "stdout",
     "output_type": "stream",
     "text": [
      "/home/emily/Desktop/projects/test/badass-data-science/badassdatascience/forex/data/DEVELOPMENT.json\n",
      "5000\n",
      "M15\n",
      "GBP_USD\n",
      "BAM\n",
      "2\n"
     ]
    }
   ],
   "source": [
    "print(config_file)\n",
    "print(count)\n",
    "print(granularity)\n",
    "print(instrument)\n",
    "print(price_types)\n",
    "print(error_retry_interval)"
   ]
  },
  {
   "cell_type": "markdown",
   "id": "cf29635c-4fd9-4ba5-8dee-15b188382e95",
   "metadata": {
    "editable": true,
    "slideshow": {
     "slide_type": ""
    },
    "tags": []
   },
   "source": [
    "## Pull the source data from Oanda using the API and deposit it into the database"
   ]
  },
  {
   "cell_type": "code",
   "execution_count": 7,
   "id": "487cf834-b91f-4610-afc6-d436c442a927",
   "metadata": {
    "editable": true,
    "scrolled": true,
    "slideshow": {
     "slide_type": ""
    },
    "tags": []
   },
   "outputs": [],
   "source": [
    "try:\n",
    "    pull = CandlePull(\n",
    "        config_file, count, granularity, instrument, price_types, error_retry_interval = error_retry_interval,\n",
    "    )\n",
    "except:\n",
    "    print('Class initiation error... add error details to this output later.')\n",
    "\n",
    "try:\n",
    "    pull.fit()\n",
    "except:\n",
    "    print('Fit error... add error details to to this output later.')"
   ]
  },
  {
   "cell_type": "code",
   "execution_count": 8,
   "id": "ca64bec0-d307-4aa1-a387-490c1187540f",
   "metadata": {
    "editable": true,
    "slideshow": {
     "slide_type": ""
    },
    "tags": []
   },
   "outputs": [],
   "source": [
    "pull.insert_into_mongoDB()"
   ]
  },
  {
   "cell_type": "markdown",
   "id": "06904e3d-e74e-456c-abf1-832695518639",
   "metadata": {
    "editable": true,
    "slideshow": {
     "slide_type": ""
    },
    "tags": []
   },
   "source": [
    "## QA"
   ]
  },
  {
   "cell_type": "code",
   "execution_count": 9,
   "id": "9810694e-63b4-4f73-b8d2-5e52aba5795f",
   "metadata": {
    "editable": true,
    "slideshow": {
     "slide_type": ""
    },
    "tags": []
   },
   "outputs": [
    {
     "data": {
      "text/plain": [
       "383481"
      ]
     },
     "execution_count": 9,
     "metadata": {},
     "output_type": "execute_result"
    }
   ],
   "source": [
    "len(pull.to_insert)"
   ]
  },
  {
   "cell_type": "code",
   "execution_count": 10,
   "id": "93f5e12d-a196-467c-8702-96dd673427b1",
   "metadata": {
    "editable": true,
    "slideshow": {
     "slide_type": ""
    },
    "tags": []
   },
   "outputs": [
    {
     "data": {
      "text/html": [
       "<div>\n",
       "<style scoped>\n",
       "    .dataframe tbody tr th:only-of-type {\n",
       "        vertical-align: middle;\n",
       "    }\n",
       "\n",
       "    .dataframe tbody tr th {\n",
       "        vertical-align: top;\n",
       "    }\n",
       "\n",
       "    .dataframe thead th {\n",
       "        text-align: right;\n",
       "    }\n",
       "</style>\n",
       "<table border=\"1\" class=\"dataframe\">\n",
       "  <thead>\n",
       "    <tr style=\"text-align: right;\">\n",
       "      <th></th>\n",
       "      <th>complete</th>\n",
       "      <th>volume</th>\n",
       "      <th>time</th>\n",
       "      <th>instrument</th>\n",
       "      <th>granularity</th>\n",
       "      <th>time_iso</th>\n",
       "      <th>weekday</th>\n",
       "      <th>hour</th>\n",
       "      <th>bid_o</th>\n",
       "      <th>bid_h</th>\n",
       "      <th>...</th>\n",
       "      <th>ask_l</th>\n",
       "      <th>ask_c</th>\n",
       "      <th>ask_return</th>\n",
       "      <th>ask_volatility</th>\n",
       "      <th>mid_o</th>\n",
       "      <th>mid_h</th>\n",
       "      <th>mid_l</th>\n",
       "      <th>mid_c</th>\n",
       "      <th>mid_return</th>\n",
       "      <th>mid_volatility</th>\n",
       "    </tr>\n",
       "  </thead>\n",
       "  <tbody>\n",
       "    <tr>\n",
       "      <th>0</th>\n",
       "      <td>True</td>\n",
       "      <td>3</td>\n",
       "      <td>1262541600</td>\n",
       "      <td>GBP/USD</td>\n",
       "      <td>M15</td>\n",
       "      <td>2010-01-03T13:00:00-05:00</td>\n",
       "      <td>6</td>\n",
       "      <td>13</td>\n",
       "      <td>1.61542</td>\n",
       "      <td>1.61542</td>\n",
       "      <td>...</td>\n",
       "      <td>1.61628</td>\n",
       "      <td>1.61642</td>\n",
       "      <td>0.00000</td>\n",
       "      <td>0.00014</td>\n",
       "      <td>1.61592</td>\n",
       "      <td>1.61592</td>\n",
       "      <td>1.61578</td>\n",
       "      <td>1.61592</td>\n",
       "      <td>0.00000</td>\n",
       "      <td>0.00014</td>\n",
       "    </tr>\n",
       "    <tr>\n",
       "      <th>1</th>\n",
       "      <td>True</td>\n",
       "      <td>7</td>\n",
       "      <td>1262542500</td>\n",
       "      <td>GBP/USD</td>\n",
       "      <td>M15</td>\n",
       "      <td>2010-01-03T13:15:00-05:00</td>\n",
       "      <td>6</td>\n",
       "      <td>13</td>\n",
       "      <td>1.61551</td>\n",
       "      <td>1.61635</td>\n",
       "      <td>...</td>\n",
       "      <td>1.61617</td>\n",
       "      <td>1.61685</td>\n",
       "      <td>0.00034</td>\n",
       "      <td>0.00118</td>\n",
       "      <td>1.61601</td>\n",
       "      <td>1.61685</td>\n",
       "      <td>1.61567</td>\n",
       "      <td>1.61635</td>\n",
       "      <td>0.00034</td>\n",
       "      <td>0.00118</td>\n",
       "    </tr>\n",
       "    <tr>\n",
       "      <th>2</th>\n",
       "      <td>True</td>\n",
       "      <td>11</td>\n",
       "      <td>1262543400</td>\n",
       "      <td>GBP/USD</td>\n",
       "      <td>M15</td>\n",
       "      <td>2010-01-03T13:30:00-05:00</td>\n",
       "      <td>6</td>\n",
       "      <td>13</td>\n",
       "      <td>1.61510</td>\n",
       "      <td>1.61585</td>\n",
       "      <td>...</td>\n",
       "      <td>1.61585</td>\n",
       "      <td>1.61585</td>\n",
       "      <td>-0.00025</td>\n",
       "      <td>0.00100</td>\n",
       "      <td>1.61560</td>\n",
       "      <td>1.61635</td>\n",
       "      <td>1.61535</td>\n",
       "      <td>1.61535</td>\n",
       "      <td>-0.00025</td>\n",
       "      <td>0.00100</td>\n",
       "    </tr>\n",
       "    <tr>\n",
       "      <th>3</th>\n",
       "      <td>True</td>\n",
       "      <td>25</td>\n",
       "      <td>1262544300</td>\n",
       "      <td>GBP/USD</td>\n",
       "      <td>M15</td>\n",
       "      <td>2010-01-03T13:45:00-05:00</td>\n",
       "      <td>6</td>\n",
       "      <td>13</td>\n",
       "      <td>1.61480</td>\n",
       "      <td>1.61518</td>\n",
       "      <td>...</td>\n",
       "      <td>1.61564</td>\n",
       "      <td>1.61611</td>\n",
       "      <td>0.00031</td>\n",
       "      <td>0.00054</td>\n",
       "      <td>1.61530</td>\n",
       "      <td>1.61568</td>\n",
       "      <td>1.61514</td>\n",
       "      <td>1.61561</td>\n",
       "      <td>0.00031</td>\n",
       "      <td>0.00054</td>\n",
       "    </tr>\n",
       "    <tr>\n",
       "      <th>4</th>\n",
       "      <td>True</td>\n",
       "      <td>22</td>\n",
       "      <td>1262545200</td>\n",
       "      <td>GBP/USD</td>\n",
       "      <td>M15</td>\n",
       "      <td>2010-01-03T14:00:00-05:00</td>\n",
       "      <td>6</td>\n",
       "      <td>14</td>\n",
       "      <td>1.61500</td>\n",
       "      <td>1.61513</td>\n",
       "      <td>...</td>\n",
       "      <td>1.61586</td>\n",
       "      <td>1.61594</td>\n",
       "      <td>-0.00006</td>\n",
       "      <td>0.00027</td>\n",
       "      <td>1.61550</td>\n",
       "      <td>1.61563</td>\n",
       "      <td>1.61536</td>\n",
       "      <td>1.61544</td>\n",
       "      <td>-0.00006</td>\n",
       "      <td>0.00027</td>\n",
       "    </tr>\n",
       "    <tr>\n",
       "      <th>...</th>\n",
       "      <td>...</td>\n",
       "      <td>...</td>\n",
       "      <td>...</td>\n",
       "      <td>...</td>\n",
       "      <td>...</td>\n",
       "      <td>...</td>\n",
       "      <td>...</td>\n",
       "      <td>...</td>\n",
       "      <td>...</td>\n",
       "      <td>...</td>\n",
       "      <td>...</td>\n",
       "      <td>...</td>\n",
       "      <td>...</td>\n",
       "      <td>...</td>\n",
       "      <td>...</td>\n",
       "      <td>...</td>\n",
       "      <td>...</td>\n",
       "      <td>...</td>\n",
       "      <td>...</td>\n",
       "      <td>...</td>\n",
       "      <td>...</td>\n",
       "    </tr>\n",
       "    <tr>\n",
       "      <th>383476</th>\n",
       "      <td>True</td>\n",
       "      <td>1072</td>\n",
       "      <td>1745447400</td>\n",
       "      <td>GBP/USD</td>\n",
       "      <td>M15</td>\n",
       "      <td>2025-04-23T18:30:00-04:00</td>\n",
       "      <td>2</td>\n",
       "      <td>18</td>\n",
       "      <td>1.32664</td>\n",
       "      <td>1.32721</td>\n",
       "      <td>...</td>\n",
       "      <td>1.32661</td>\n",
       "      <td>1.32722</td>\n",
       "      <td>0.00035</td>\n",
       "      <td>0.00080</td>\n",
       "      <td>1.32676</td>\n",
       "      <td>1.32731</td>\n",
       "      <td>1.32649</td>\n",
       "      <td>1.32711</td>\n",
       "      <td>0.00035</td>\n",
       "      <td>0.00082</td>\n",
       "    </tr>\n",
       "    <tr>\n",
       "      <th>383477</th>\n",
       "      <td>True</td>\n",
       "      <td>911</td>\n",
       "      <td>1745448300</td>\n",
       "      <td>GBP/USD</td>\n",
       "      <td>M15</td>\n",
       "      <td>2025-04-23T18:45:00-04:00</td>\n",
       "      <td>2</td>\n",
       "      <td>18</td>\n",
       "      <td>1.32703</td>\n",
       "      <td>1.32712</td>\n",
       "      <td>...</td>\n",
       "      <td>1.32684</td>\n",
       "      <td>1.32688</td>\n",
       "      <td>-0.00034</td>\n",
       "      <td>0.00049</td>\n",
       "      <td>1.32712</td>\n",
       "      <td>1.32722</td>\n",
       "      <td>1.32674</td>\n",
       "      <td>1.32678</td>\n",
       "      <td>-0.00034</td>\n",
       "      <td>0.00048</td>\n",
       "    </tr>\n",
       "    <tr>\n",
       "      <th>383478</th>\n",
       "      <td>True</td>\n",
       "      <td>1135</td>\n",
       "      <td>1745449200</td>\n",
       "      <td>GBP/USD</td>\n",
       "      <td>M15</td>\n",
       "      <td>2025-04-23T19:00:00-04:00</td>\n",
       "      <td>2</td>\n",
       "      <td>19</td>\n",
       "      <td>1.32668</td>\n",
       "      <td>1.32728</td>\n",
       "      <td>...</td>\n",
       "      <td>1.32678</td>\n",
       "      <td>1.32717</td>\n",
       "      <td>0.00034</td>\n",
       "      <td>0.00070</td>\n",
       "      <td>1.32676</td>\n",
       "      <td>1.32738</td>\n",
       "      <td>1.32668</td>\n",
       "      <td>1.32704</td>\n",
       "      <td>0.00028</td>\n",
       "      <td>0.00070</td>\n",
       "    </tr>\n",
       "    <tr>\n",
       "      <th>383479</th>\n",
       "      <td>True</td>\n",
       "      <td>1177</td>\n",
       "      <td>1745450100</td>\n",
       "      <td>GBP/USD</td>\n",
       "      <td>M15</td>\n",
       "      <td>2025-04-23T19:15:00-04:00</td>\n",
       "      <td>2</td>\n",
       "      <td>19</td>\n",
       "      <td>1.32693</td>\n",
       "      <td>1.32709</td>\n",
       "      <td>...</td>\n",
       "      <td>1.32678</td>\n",
       "      <td>1.32686</td>\n",
       "      <td>-0.00033</td>\n",
       "      <td>0.00050</td>\n",
       "      <td>1.32706</td>\n",
       "      <td>1.32718</td>\n",
       "      <td>1.32668</td>\n",
       "      <td>1.32676</td>\n",
       "      <td>-0.00030</td>\n",
       "      <td>0.00050</td>\n",
       "    </tr>\n",
       "    <tr>\n",
       "      <th>383480</th>\n",
       "      <td>True</td>\n",
       "      <td>823</td>\n",
       "      <td>1745451000</td>\n",
       "      <td>GBP/USD</td>\n",
       "      <td>M15</td>\n",
       "      <td>2025-04-23T19:30:00-04:00</td>\n",
       "      <td>2</td>\n",
       "      <td>19</td>\n",
       "      <td>1.32664</td>\n",
       "      <td>1.32696</td>\n",
       "      <td>...</td>\n",
       "      <td>1.32676</td>\n",
       "      <td>1.32712</td>\n",
       "      <td>0.00032</td>\n",
       "      <td>0.00039</td>\n",
       "      <td>1.32672</td>\n",
       "      <td>1.32706</td>\n",
       "      <td>1.32666</td>\n",
       "      <td>1.32702</td>\n",
       "      <td>0.00030</td>\n",
       "      <td>0.00040</td>\n",
       "    </tr>\n",
       "  </tbody>\n",
       "</table>\n",
       "<p>383481 rows × 26 columns</p>\n",
       "</div>"
      ],
      "text/plain": [
       "        complete  volume        time instrument granularity  \\\n",
       "0           True       3  1262541600    GBP/USD         M15   \n",
       "1           True       7  1262542500    GBP/USD         M15   \n",
       "2           True      11  1262543400    GBP/USD         M15   \n",
       "3           True      25  1262544300    GBP/USD         M15   \n",
       "4           True      22  1262545200    GBP/USD         M15   \n",
       "...          ...     ...         ...        ...         ...   \n",
       "383476      True    1072  1745447400    GBP/USD         M15   \n",
       "383477      True     911  1745448300    GBP/USD         M15   \n",
       "383478      True    1135  1745449200    GBP/USD         M15   \n",
       "383479      True    1177  1745450100    GBP/USD         M15   \n",
       "383480      True     823  1745451000    GBP/USD         M15   \n",
       "\n",
       "                         time_iso  weekday  hour    bid_o    bid_h  ...  \\\n",
       "0       2010-01-03T13:00:00-05:00        6    13  1.61542  1.61542  ...   \n",
       "1       2010-01-03T13:15:00-05:00        6    13  1.61551  1.61635  ...   \n",
       "2       2010-01-03T13:30:00-05:00        6    13  1.61510  1.61585  ...   \n",
       "3       2010-01-03T13:45:00-05:00        6    13  1.61480  1.61518  ...   \n",
       "4       2010-01-03T14:00:00-05:00        6    14  1.61500  1.61513  ...   \n",
       "...                           ...      ...   ...      ...      ...  ...   \n",
       "383476  2025-04-23T18:30:00-04:00        2    18  1.32664  1.32721  ...   \n",
       "383477  2025-04-23T18:45:00-04:00        2    18  1.32703  1.32712  ...   \n",
       "383478  2025-04-23T19:00:00-04:00        2    19  1.32668  1.32728  ...   \n",
       "383479  2025-04-23T19:15:00-04:00        2    19  1.32693  1.32709  ...   \n",
       "383480  2025-04-23T19:30:00-04:00        2    19  1.32664  1.32696  ...   \n",
       "\n",
       "          ask_l    ask_c  ask_return  ask_volatility    mid_o    mid_h  \\\n",
       "0       1.61628  1.61642     0.00000         0.00014  1.61592  1.61592   \n",
       "1       1.61617  1.61685     0.00034         0.00118  1.61601  1.61685   \n",
       "2       1.61585  1.61585    -0.00025         0.00100  1.61560  1.61635   \n",
       "3       1.61564  1.61611     0.00031         0.00054  1.61530  1.61568   \n",
       "4       1.61586  1.61594    -0.00006         0.00027  1.61550  1.61563   \n",
       "...         ...      ...         ...             ...      ...      ...   \n",
       "383476  1.32661  1.32722     0.00035         0.00080  1.32676  1.32731   \n",
       "383477  1.32684  1.32688    -0.00034         0.00049  1.32712  1.32722   \n",
       "383478  1.32678  1.32717     0.00034         0.00070  1.32676  1.32738   \n",
       "383479  1.32678  1.32686    -0.00033         0.00050  1.32706  1.32718   \n",
       "383480  1.32676  1.32712     0.00032         0.00039  1.32672  1.32706   \n",
       "\n",
       "          mid_l    mid_c  mid_return  mid_volatility  \n",
       "0       1.61578  1.61592     0.00000         0.00014  \n",
       "1       1.61567  1.61635     0.00034         0.00118  \n",
       "2       1.61535  1.61535    -0.00025         0.00100  \n",
       "3       1.61514  1.61561     0.00031         0.00054  \n",
       "4       1.61536  1.61544    -0.00006         0.00027  \n",
       "...         ...      ...         ...             ...  \n",
       "383476  1.32649  1.32711     0.00035         0.00082  \n",
       "383477  1.32674  1.32678    -0.00034         0.00048  \n",
       "383478  1.32668  1.32704     0.00028         0.00070  \n",
       "383479  1.32668  1.32676    -0.00030         0.00050  \n",
       "383480  1.32666  1.32702     0.00030         0.00040  \n",
       "\n",
       "[383481 rows x 26 columns]"
      ]
     },
     "execution_count": 10,
     "metadata": {},
     "output_type": "execute_result"
    }
   ],
   "source": [
    "pull.df"
   ]
  },
  {
   "cell_type": "code",
   "execution_count": 11,
   "id": "a7b513dc-ea43-4f75-bf99-85fb0cddc3a3",
   "metadata": {
    "editable": true,
    "slideshow": {
     "slide_type": ""
    },
    "tags": []
   },
   "outputs": [
    {
     "data": {
      "text/html": [
       "<div>\n",
       "<style scoped>\n",
       "    .dataframe tbody tr th:only-of-type {\n",
       "        vertical-align: middle;\n",
       "    }\n",
       "\n",
       "    .dataframe tbody tr th {\n",
       "        vertical-align: top;\n",
       "    }\n",
       "\n",
       "    .dataframe thead th {\n",
       "        text-align: right;\n",
       "    }\n",
       "</style>\n",
       "<table border=\"1\" class=\"dataframe\">\n",
       "  <thead>\n",
       "    <tr style=\"text-align: right;\">\n",
       "      <th></th>\n",
       "      <th>complete</th>\n",
       "      <th>volume</th>\n",
       "      <th>time</th>\n",
       "      <th>instrument</th>\n",
       "      <th>granularity</th>\n",
       "      <th>time_iso</th>\n",
       "      <th>weekday</th>\n",
       "      <th>hour</th>\n",
       "      <th>bid_o</th>\n",
       "      <th>bid_h</th>\n",
       "      <th>...</th>\n",
       "      <th>ask_l</th>\n",
       "      <th>ask_c</th>\n",
       "      <th>ask_return</th>\n",
       "      <th>ask_volatility</th>\n",
       "      <th>mid_o</th>\n",
       "      <th>mid_h</th>\n",
       "      <th>mid_l</th>\n",
       "      <th>mid_c</th>\n",
       "      <th>mid_return</th>\n",
       "      <th>mid_volatility</th>\n",
       "    </tr>\n",
       "  </thead>\n",
       "  <tbody>\n",
       "    <tr>\n",
       "      <th>0</th>\n",
       "      <td>True</td>\n",
       "      <td>3</td>\n",
       "      <td>1262541600</td>\n",
       "      <td>GBP/USD</td>\n",
       "      <td>M15</td>\n",
       "      <td>2010-01-03T13:00:00-05:00</td>\n",
       "      <td>6</td>\n",
       "      <td>13</td>\n",
       "      <td>1.61542</td>\n",
       "      <td>1.61542</td>\n",
       "      <td>...</td>\n",
       "      <td>1.61628</td>\n",
       "      <td>1.61642</td>\n",
       "      <td>0.00000</td>\n",
       "      <td>0.00014</td>\n",
       "      <td>1.61592</td>\n",
       "      <td>1.61592</td>\n",
       "      <td>1.61578</td>\n",
       "      <td>1.61592</td>\n",
       "      <td>0.00000</td>\n",
       "      <td>0.00014</td>\n",
       "    </tr>\n",
       "    <tr>\n",
       "      <th>1</th>\n",
       "      <td>True</td>\n",
       "      <td>7</td>\n",
       "      <td>1262542500</td>\n",
       "      <td>GBP/USD</td>\n",
       "      <td>M15</td>\n",
       "      <td>2010-01-03T13:15:00-05:00</td>\n",
       "      <td>6</td>\n",
       "      <td>13</td>\n",
       "      <td>1.61551</td>\n",
       "      <td>1.61635</td>\n",
       "      <td>...</td>\n",
       "      <td>1.61617</td>\n",
       "      <td>1.61685</td>\n",
       "      <td>0.00034</td>\n",
       "      <td>0.00118</td>\n",
       "      <td>1.61601</td>\n",
       "      <td>1.61685</td>\n",
       "      <td>1.61567</td>\n",
       "      <td>1.61635</td>\n",
       "      <td>0.00034</td>\n",
       "      <td>0.00118</td>\n",
       "    </tr>\n",
       "    <tr>\n",
       "      <th>2</th>\n",
       "      <td>True</td>\n",
       "      <td>11</td>\n",
       "      <td>1262543400</td>\n",
       "      <td>GBP/USD</td>\n",
       "      <td>M15</td>\n",
       "      <td>2010-01-03T13:30:00-05:00</td>\n",
       "      <td>6</td>\n",
       "      <td>13</td>\n",
       "      <td>1.61510</td>\n",
       "      <td>1.61585</td>\n",
       "      <td>...</td>\n",
       "      <td>1.61585</td>\n",
       "      <td>1.61585</td>\n",
       "      <td>-0.00025</td>\n",
       "      <td>0.00100</td>\n",
       "      <td>1.61560</td>\n",
       "      <td>1.61635</td>\n",
       "      <td>1.61535</td>\n",
       "      <td>1.61535</td>\n",
       "      <td>-0.00025</td>\n",
       "      <td>0.00100</td>\n",
       "    </tr>\n",
       "    <tr>\n",
       "      <th>3</th>\n",
       "      <td>True</td>\n",
       "      <td>25</td>\n",
       "      <td>1262544300</td>\n",
       "      <td>GBP/USD</td>\n",
       "      <td>M15</td>\n",
       "      <td>2010-01-03T13:45:00-05:00</td>\n",
       "      <td>6</td>\n",
       "      <td>13</td>\n",
       "      <td>1.61480</td>\n",
       "      <td>1.61518</td>\n",
       "      <td>...</td>\n",
       "      <td>1.61564</td>\n",
       "      <td>1.61611</td>\n",
       "      <td>0.00031</td>\n",
       "      <td>0.00054</td>\n",
       "      <td>1.61530</td>\n",
       "      <td>1.61568</td>\n",
       "      <td>1.61514</td>\n",
       "      <td>1.61561</td>\n",
       "      <td>0.00031</td>\n",
       "      <td>0.00054</td>\n",
       "    </tr>\n",
       "    <tr>\n",
       "      <th>4</th>\n",
       "      <td>True</td>\n",
       "      <td>22</td>\n",
       "      <td>1262545200</td>\n",
       "      <td>GBP/USD</td>\n",
       "      <td>M15</td>\n",
       "      <td>2010-01-03T14:00:00-05:00</td>\n",
       "      <td>6</td>\n",
       "      <td>14</td>\n",
       "      <td>1.61500</td>\n",
       "      <td>1.61513</td>\n",
       "      <td>...</td>\n",
       "      <td>1.61586</td>\n",
       "      <td>1.61594</td>\n",
       "      <td>-0.00006</td>\n",
       "      <td>0.00027</td>\n",
       "      <td>1.61550</td>\n",
       "      <td>1.61563</td>\n",
       "      <td>1.61536</td>\n",
       "      <td>1.61544</td>\n",
       "      <td>-0.00006</td>\n",
       "      <td>0.00027</td>\n",
       "    </tr>\n",
       "    <tr>\n",
       "      <th>...</th>\n",
       "      <td>...</td>\n",
       "      <td>...</td>\n",
       "      <td>...</td>\n",
       "      <td>...</td>\n",
       "      <td>...</td>\n",
       "      <td>...</td>\n",
       "      <td>...</td>\n",
       "      <td>...</td>\n",
       "      <td>...</td>\n",
       "      <td>...</td>\n",
       "      <td>...</td>\n",
       "      <td>...</td>\n",
       "      <td>...</td>\n",
       "      <td>...</td>\n",
       "      <td>...</td>\n",
       "      <td>...</td>\n",
       "      <td>...</td>\n",
       "      <td>...</td>\n",
       "      <td>...</td>\n",
       "      <td>...</td>\n",
       "      <td>...</td>\n",
       "    </tr>\n",
       "    <tr>\n",
       "      <th>383476</th>\n",
       "      <td>True</td>\n",
       "      <td>1072</td>\n",
       "      <td>1745447400</td>\n",
       "      <td>GBP/USD</td>\n",
       "      <td>M15</td>\n",
       "      <td>2025-04-23T18:30:00-04:00</td>\n",
       "      <td>2</td>\n",
       "      <td>18</td>\n",
       "      <td>1.32664</td>\n",
       "      <td>1.32721</td>\n",
       "      <td>...</td>\n",
       "      <td>1.32661</td>\n",
       "      <td>1.32722</td>\n",
       "      <td>0.00035</td>\n",
       "      <td>0.00080</td>\n",
       "      <td>1.32676</td>\n",
       "      <td>1.32731</td>\n",
       "      <td>1.32649</td>\n",
       "      <td>1.32711</td>\n",
       "      <td>0.00035</td>\n",
       "      <td>0.00082</td>\n",
       "    </tr>\n",
       "    <tr>\n",
       "      <th>383477</th>\n",
       "      <td>True</td>\n",
       "      <td>911</td>\n",
       "      <td>1745448300</td>\n",
       "      <td>GBP/USD</td>\n",
       "      <td>M15</td>\n",
       "      <td>2025-04-23T18:45:00-04:00</td>\n",
       "      <td>2</td>\n",
       "      <td>18</td>\n",
       "      <td>1.32703</td>\n",
       "      <td>1.32712</td>\n",
       "      <td>...</td>\n",
       "      <td>1.32684</td>\n",
       "      <td>1.32688</td>\n",
       "      <td>-0.00034</td>\n",
       "      <td>0.00049</td>\n",
       "      <td>1.32712</td>\n",
       "      <td>1.32722</td>\n",
       "      <td>1.32674</td>\n",
       "      <td>1.32678</td>\n",
       "      <td>-0.00034</td>\n",
       "      <td>0.00048</td>\n",
       "    </tr>\n",
       "    <tr>\n",
       "      <th>383478</th>\n",
       "      <td>True</td>\n",
       "      <td>1135</td>\n",
       "      <td>1745449200</td>\n",
       "      <td>GBP/USD</td>\n",
       "      <td>M15</td>\n",
       "      <td>2025-04-23T19:00:00-04:00</td>\n",
       "      <td>2</td>\n",
       "      <td>19</td>\n",
       "      <td>1.32668</td>\n",
       "      <td>1.32728</td>\n",
       "      <td>...</td>\n",
       "      <td>1.32678</td>\n",
       "      <td>1.32717</td>\n",
       "      <td>0.00034</td>\n",
       "      <td>0.00070</td>\n",
       "      <td>1.32676</td>\n",
       "      <td>1.32738</td>\n",
       "      <td>1.32668</td>\n",
       "      <td>1.32704</td>\n",
       "      <td>0.00028</td>\n",
       "      <td>0.00070</td>\n",
       "    </tr>\n",
       "    <tr>\n",
       "      <th>383479</th>\n",
       "      <td>True</td>\n",
       "      <td>1177</td>\n",
       "      <td>1745450100</td>\n",
       "      <td>GBP/USD</td>\n",
       "      <td>M15</td>\n",
       "      <td>2025-04-23T19:15:00-04:00</td>\n",
       "      <td>2</td>\n",
       "      <td>19</td>\n",
       "      <td>1.32693</td>\n",
       "      <td>1.32709</td>\n",
       "      <td>...</td>\n",
       "      <td>1.32678</td>\n",
       "      <td>1.32686</td>\n",
       "      <td>-0.00033</td>\n",
       "      <td>0.00050</td>\n",
       "      <td>1.32706</td>\n",
       "      <td>1.32718</td>\n",
       "      <td>1.32668</td>\n",
       "      <td>1.32676</td>\n",
       "      <td>-0.00030</td>\n",
       "      <td>0.00050</td>\n",
       "    </tr>\n",
       "    <tr>\n",
       "      <th>383480</th>\n",
       "      <td>True</td>\n",
       "      <td>823</td>\n",
       "      <td>1745451000</td>\n",
       "      <td>GBP/USD</td>\n",
       "      <td>M15</td>\n",
       "      <td>2025-04-23T19:30:00-04:00</td>\n",
       "      <td>2</td>\n",
       "      <td>19</td>\n",
       "      <td>1.32664</td>\n",
       "      <td>1.32696</td>\n",
       "      <td>...</td>\n",
       "      <td>1.32676</td>\n",
       "      <td>1.32712</td>\n",
       "      <td>0.00032</td>\n",
       "      <td>0.00039</td>\n",
       "      <td>1.32672</td>\n",
       "      <td>1.32706</td>\n",
       "      <td>1.32666</td>\n",
       "      <td>1.32702</td>\n",
       "      <td>0.00030</td>\n",
       "      <td>0.00040</td>\n",
       "    </tr>\n",
       "  </tbody>\n",
       "</table>\n",
       "<p>383481 rows × 26 columns</p>\n",
       "</div>"
      ],
      "text/plain": [
       "        complete  volume        time instrument granularity  \\\n",
       "0           True       3  1262541600    GBP/USD         M15   \n",
       "1           True       7  1262542500    GBP/USD         M15   \n",
       "2           True      11  1262543400    GBP/USD         M15   \n",
       "3           True      25  1262544300    GBP/USD         M15   \n",
       "4           True      22  1262545200    GBP/USD         M15   \n",
       "...          ...     ...         ...        ...         ...   \n",
       "383476      True    1072  1745447400    GBP/USD         M15   \n",
       "383477      True     911  1745448300    GBP/USD         M15   \n",
       "383478      True    1135  1745449200    GBP/USD         M15   \n",
       "383479      True    1177  1745450100    GBP/USD         M15   \n",
       "383480      True     823  1745451000    GBP/USD         M15   \n",
       "\n",
       "                         time_iso  weekday  hour    bid_o    bid_h  ...  \\\n",
       "0       2010-01-03T13:00:00-05:00        6    13  1.61542  1.61542  ...   \n",
       "1       2010-01-03T13:15:00-05:00        6    13  1.61551  1.61635  ...   \n",
       "2       2010-01-03T13:30:00-05:00        6    13  1.61510  1.61585  ...   \n",
       "3       2010-01-03T13:45:00-05:00        6    13  1.61480  1.61518  ...   \n",
       "4       2010-01-03T14:00:00-05:00        6    14  1.61500  1.61513  ...   \n",
       "...                           ...      ...   ...      ...      ...  ...   \n",
       "383476  2025-04-23T18:30:00-04:00        2    18  1.32664  1.32721  ...   \n",
       "383477  2025-04-23T18:45:00-04:00        2    18  1.32703  1.32712  ...   \n",
       "383478  2025-04-23T19:00:00-04:00        2    19  1.32668  1.32728  ...   \n",
       "383479  2025-04-23T19:15:00-04:00        2    19  1.32693  1.32709  ...   \n",
       "383480  2025-04-23T19:30:00-04:00        2    19  1.32664  1.32696  ...   \n",
       "\n",
       "          ask_l    ask_c  ask_return  ask_volatility    mid_o    mid_h  \\\n",
       "0       1.61628  1.61642     0.00000         0.00014  1.61592  1.61592   \n",
       "1       1.61617  1.61685     0.00034         0.00118  1.61601  1.61685   \n",
       "2       1.61585  1.61585    -0.00025         0.00100  1.61560  1.61635   \n",
       "3       1.61564  1.61611     0.00031         0.00054  1.61530  1.61568   \n",
       "4       1.61586  1.61594    -0.00006         0.00027  1.61550  1.61563   \n",
       "...         ...      ...         ...             ...      ...      ...   \n",
       "383476  1.32661  1.32722     0.00035         0.00080  1.32676  1.32731   \n",
       "383477  1.32684  1.32688    -0.00034         0.00049  1.32712  1.32722   \n",
       "383478  1.32678  1.32717     0.00034         0.00070  1.32676  1.32738   \n",
       "383479  1.32678  1.32686    -0.00033         0.00050  1.32706  1.32718   \n",
       "383480  1.32676  1.32712     0.00032         0.00039  1.32672  1.32706   \n",
       "\n",
       "          mid_l    mid_c  mid_return  mid_volatility  \n",
       "0       1.61578  1.61592     0.00000         0.00014  \n",
       "1       1.61567  1.61635     0.00034         0.00118  \n",
       "2       1.61535  1.61535    -0.00025         0.00100  \n",
       "3       1.61514  1.61561     0.00031         0.00054  \n",
       "4       1.61536  1.61544    -0.00006         0.00027  \n",
       "...         ...      ...         ...             ...  \n",
       "383476  1.32649  1.32711     0.00035         0.00082  \n",
       "383477  1.32674  1.32678    -0.00034         0.00048  \n",
       "383478  1.32668  1.32704     0.00028         0.00070  \n",
       "383479  1.32668  1.32676    -0.00030         0.00050  \n",
       "383480  1.32666  1.32702     0.00030         0.00040  \n",
       "\n",
       "[383481 rows x 26 columns]"
      ]
     },
     "execution_count": 11,
     "metadata": {},
     "output_type": "execute_result"
    }
   ],
   "source": [
    "pull.time_filtered_df"
   ]
  },
  {
   "cell_type": "markdown",
   "id": "3ad082da-af0b-4a8d-aad2-2b3369deda0a",
   "metadata": {
    "editable": true,
    "slideshow": {
     "slide_type": ""
    },
    "tags": []
   },
   "source": [
    "## Timestamp end"
   ]
  },
  {
   "cell_type": "code",
   "execution_count": 12,
   "id": "4131d543-232a-4083-8462-5ba5ed96ea1d",
   "metadata": {
    "editable": true,
    "slideshow": {
     "slide_type": ""
    },
    "tags": []
   },
   "outputs": [
    {
     "name": "stdout",
     "output_type": "stream",
     "text": [
      "2025-04-23 23:55:37.664290\n",
      "1745477737.66429\n"
     ]
    }
   ],
   "source": [
    "time_end = datetime.datetime.utcnow()\n",
    "print(time_end)\n",
    "print(time_end.timestamp())"
   ]
  }
 ],
 "metadata": {
  "kernelspec": {
   "display_name": "Python 3 (ipykernel)",
   "language": "python",
   "name": "python3"
  },
  "language_info": {
   "codemirror_mode": {
    "name": "ipython",
    "version": 3
   },
   "file_extension": ".py",
   "mimetype": "text/x-python",
   "name": "python",
   "nbconvert_exporter": "python",
   "pygments_lexer": "ipython3",
   "version": "3.10.12"
  }
 },
 "nbformat": 4,
 "nbformat_minor": 5
}
