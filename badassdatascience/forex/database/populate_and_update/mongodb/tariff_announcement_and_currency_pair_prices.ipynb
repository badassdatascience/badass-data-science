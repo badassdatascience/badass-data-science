{
 "cells": [
  {
   "cell_type": "code",
   "execution_count": null,
   "id": "23f898af-05f5-4a7a-832f-d572c668363b",
   "metadata": {},
   "outputs": [],
   "source": []
  },
  {
   "cell_type": "code",
   "execution_count": null,
   "id": "b601ab5f-0ff7-44fe-a2c0-4f61d0ac82f9",
   "metadata": {},
   "outputs": [],
   "source": []
  },
  {
   "cell_type": "code",
   "execution_count": null,
   "id": "6b175d48-a86b-4f7d-bff3-4660b0410586",
   "metadata": {},
   "outputs": [],
   "source": []
  },
  {
   "cell_type": "markdown",
   "id": "3abab955-20af-46e4-9caa-b4f9f65e7738",
   "metadata": {},
   "source": [
    "## Load useful libraries"
   ]
  },
  {
   "cell_type": "code",
   "execution_count": null,
   "id": "60131013-7193-4676-95c6-c5e89dd4db38",
   "metadata": {},
   "outputs": [],
   "source": [
    "import numpy as np\n",
    "import pandas as pd\n",
    "import matplotlib.pyplot as plt\n",
    "import datetime\n",
    "from pytz import timezone\n",
    "from statsmodels.tsa.stattools import grangercausalitytests"
   ]
  },
  {
   "cell_type": "markdown",
   "id": "db410949-f453-4b9d-a547-73c40a7ac954",
   "metadata": {},
   "source": [
    "## User settings"
   ]
  },
  {
   "cell_type": "code",
   "execution_count": null,
   "id": "3cf1ae8b-4894-466a-a60f-76cdb9eed68c",
   "metadata": {},
   "outputs": [],
   "source": [
    "data_directory = 'output'\n",
    "granularity = 'M15' # This data contains currency pair closing prices in 15-minute intervals\n",
    "\n",
    "tz_to_use = timezone('US/Eastern')  # because Trump's announcement occurred in Washington D.C.\n",
    "\n",
    "epoch_start = datetime.datetime(2024, 1, 1, 0, 0, 0, tzinfo = tz_to_use).timestamp()\n",
    "\n",
    "# 4 p.m. ET was the time the announcement began\n",
    "epoch_liberation_day = datetime.datetime(2025, 4, 2, 16, 0, 0, tzinfo = tz_to_use).timestamp() \n",
    "\n",
    "# Granger causality parameters\n",
    "maxlag = 50\n",
    "test = 'ssr_chi2test'"
   ]
  },
  {
   "cell_type": "code",
   "execution_count": null,
   "id": "5ffcdce6-d5e3-413b-9f2a-e06013f67d70",
   "metadata": {},
   "outputs": [],
   "source": []
  },
  {
   "cell_type": "code",
   "execution_count": null,
   "id": "ed1a138a-0a4f-4ef3-a828-8cc6be415875",
   "metadata": {},
   "outputs": [],
   "source": []
  },
  {
   "cell_type": "code",
   "execution_count": null,
   "id": "218e82ed-a243-40f5-83a3-cd210bd071d0",
   "metadata": {},
   "outputs": [],
   "source": []
  },
  {
   "cell_type": "code",
   "execution_count": null,
   "id": "31a9c0e3-19c3-4af7-aed0-01d54d6dcb1d",
   "metadata": {},
   "outputs": [],
   "source": [
    "df = pd.read_parquet(data_directory + '/' + granularity + '.parquet').sort_values(by = ['instrument', 'time_iso'])\n",
    "df = df[df['time'] >= epoch_start]\n",
    "df = df.copy()"
   ]
  },
  {
   "cell_type": "code",
   "execution_count": null,
   "id": "9ac3b227-e5b4-4742-aa20-0baefd0bc0b5",
   "metadata": {},
   "outputs": [],
   "source": [
    "df.columns"
   ]
  },
  {
   "cell_type": "code",
   "execution_count": null,
   "id": "4c193874-e4ba-422c-97af-de814b4a8da8",
   "metadata": {},
   "outputs": [],
   "source": [
    "instrument_list = list(df['instrument'].unique())"
   ]
  },
  {
   "cell_type": "code",
   "execution_count": null,
   "id": "d0bf1829-9023-4129-9b09-64a0639423b9",
   "metadata": {},
   "outputs": [],
   "source": [
    "ylabel_dict = {}\n",
    "ylabel_dict['AUD_USD'] = 'US Dollars per Australian Dollar'\n",
    "ylabel_dict['EUR_USD'] = 'US Dollars per Euro'\n",
    "ylabel_dict['GBP_USD'] = 'US Dollars per British Pound'\n",
    "ylabel_dict['NZD_USD'] = 'US Dollars per New Zealand Dollar'\n",
    "ylabel_dict['USD_CAD'] = 'Canadian Dollars per US Dollar'\n",
    "ylabel_dict['USD_CHF'] = 'Swiss Francs per US Dollar'\n",
    "ylabel_dict['USD_JPY'] = 'Japanese Yen per US Dollar'"
   ]
  },
  {
   "cell_type": "code",
   "execution_count": null,
   "id": "a5cb4fa8-e87e-421d-80f5-3b9b5f5c6dd4",
   "metadata": {},
   "outputs": [],
   "source": [
    "causality_test_lags_p_values = {}\n",
    "\n",
    "for i, instrument in enumerate(instrument_list):\n",
    "    df_to_use = df[df['instrument'] == instrument].sort_values(by = 'time').copy()\n",
    "    x = df_to_use['mid_c'].values\n",
    "    dummy_variable_time_series = [int(q) for q in df_to_use['time'].values > epoch_liberation_day]\n",
    "\n",
    "    df_temp = pd.DataFrame({'x' : x, 'dummy' : dummy_variable_time_series})\n",
    "    X = df_temp.to_numpy()\n",
    "    \n",
    "    # https://www.statsmodels.org/dev/generated/statsmodels.tsa.stattools.grangercausalitytests.html\n",
    "    #\n",
    "    # The Null hypothesis for grangercausalitytests is that the time series in \n",
    "    # the second column, x2, does NOT Granger cause the time series in the \n",
    "    # first column, x1. Grange causality means that past values of x2 have \n",
    "    # a statistically significant effect on the current value of x1, taking \n",
    "    # past values of x1 into account as regressors. We reject the null \n",
    "    # hypothesis that x2 does not Granger cause x1 if the pvalues are \n",
    "    # below a desired size of the test.\n",
    "\n",
    "    \n",
    "    test_result = grangercausalitytests(X, maxlag = maxlag, verbose = False)\n",
    "    p_values = [test_result[i+1][0][test][1] for i in range(maxlag)]\n",
    "    causality_test_lags_p_values[instrument] = p_values"
   ]
  },
  {
   "cell_type": "code",
   "execution_count": null,
   "id": "e3c14458-6485-4d81-b731-ea788c3b37e3",
   "metadata": {},
   "outputs": [],
   "source": [
    "plt.figure(figsize = [14, 40])\n",
    "for i, instrument in enumerate(instrument_list):\n",
    "    df_to_use = df[df['instrument'] == instrument].sort_values(by = 'time').copy()\n",
    "    \n",
    "    plt.subplot(len(instrument_list), 2, (i * 2) + 1)\n",
    "    plt.plot(df_to_use['time'], df_to_use['mid_c'], label = instrument.replace('_', '/'))\n",
    "    plt.axvline(epoch_liberation_day, linestyle = 'dashed', color = 'red', label = '\"Liberation Day\" at 16:00 ET')\n",
    "    x_ticks_epoch = plt.xticks()[0]\n",
    "    x_ticks_date = [str(datetime.datetime.fromtimestamp(q).date()) for q in x_ticks_epoch]\n",
    "    plt.xticks(x_ticks_epoch[1:-1], x_ticks_date[1:-1], rotation = 80)\n",
    "    plt.ylabel(ylabel_dict[instrument])\n",
    "    \n",
    "    plt.title(\n",
    "        ylabel_dict[instrument]\n",
    "    )\n",
    "    \n",
    "    plt.legend()\n",
    "    plt.tight_layout()\n",
    "\n",
    "    n = len(causality_test_lags_p_values[instrument])\n",
    "    order_of_magnitude = np.log10(causality_test_lags_p_values[instrument])\n",
    "    \n",
    "    plt.subplot(len(instrument_list), 2, (i * 2) + 2)\n",
    "    plt.boxplot(order_of_magnitude, widths = 0.8)\n",
    "    plt.ylabel('Order of Magnitude')\n",
    "    \n",
    "    plt.title(\n",
    "        ylabel_dict[instrument] + '\\n'\n",
    "        + 'log10(p-value) for ' + str(n) + ' Granger Causality Test Lags'\n",
    "    )\n",
    "    \n",
    "    plt.xticks([1], [''])\n",
    "    plt.tight_layout()\n",
    "    \n",
    "\n",
    "\n",
    "plt.show()\n",
    "plt.close()"
   ]
  },
  {
   "cell_type": "code",
   "execution_count": null,
   "id": "52343442-77e5-40be-bd12-1549b7313e05",
   "metadata": {},
   "outputs": [],
   "source": []
  },
  {
   "cell_type": "code",
   "execution_count": null,
   "id": "a14046dd-76e8-4ec3-a881-fababe2cf02b",
   "metadata": {},
   "outputs": [],
   "source": []
  }
 ],
 "metadata": {
  "kernelspec": {
   "display_name": "Python 3 (ipykernel)",
   "language": "python",
   "name": "python3"
  },
  "language_info": {
   "codemirror_mode": {
    "name": "ipython",
    "version": 3
   },
   "file_extension": ".py",
   "mimetype": "text/x-python",
   "name": "python",
   "nbconvert_exporter": "python",
   "pygments_lexer": "ipython3",
   "version": "3.10.12"
  }
 },
 "nbformat": 4,
 "nbformat_minor": 5
}
