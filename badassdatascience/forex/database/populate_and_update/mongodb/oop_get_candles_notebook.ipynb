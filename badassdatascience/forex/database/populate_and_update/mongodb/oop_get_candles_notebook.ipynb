{
 "cells": [
  {
   "cell_type": "code",
   "execution_count": null,
   "id": "fb7f38c8-3a88-4ad9-acd7-3ccf1d4191a6",
   "metadata": {
    "editable": true,
    "slideshow": {
     "slide_type": ""
    },
    "tags": []
   },
   "outputs": [],
   "source": []
  },
  {
   "cell_type": "code",
   "execution_count": null,
   "id": "3ecd1b00-0a29-411d-8314-6c0357c9ea83",
   "metadata": {
    "editable": true,
    "slideshow": {
     "slide_type": ""
    },
    "tags": []
   },
   "outputs": [],
   "source": []
  },
  {
   "cell_type": "code",
   "execution_count": 1,
   "id": "36cf5165-4d9c-4256-935a-3523537e23a0",
   "metadata": {
    "editable": true,
    "slideshow": {
     "slide_type": ""
    },
    "tags": []
   },
   "outputs": [],
   "source": [
    "#import json\n",
    "#import requests\n",
    "#import datetime\n",
    "#import time\n",
    "#import pytz\n",
    "#import pandas as pd\n",
    "#import pprint as pp\n",
    "#import matplotlib.pyplot as plt"
   ]
  },
  {
   "cell_type": "code",
   "execution_count": 2,
   "id": "6a3865ce-df6e-4975-acf1-c75fc559d51a",
   "metadata": {
    "editable": true,
    "slideshow": {
     "slide_type": ""
    },
    "tags": []
   },
   "outputs": [],
   "source": [
    "#from badassdatascience.forex.utilities.oanda_tools import get_oanda_headers\n",
    "#from badassdatascience.forex.utilities.oanda_tools import price_type_map\n",
    "\n",
    "from badassdatascience.forex.database.populate_and_update.mongodb.oop_get_candles import CandlePull"
   ]
  },
  {
   "cell_type": "code",
   "execution_count": 3,
   "id": "d12ff29d-1367-4ea7-a9a5-a05215cabf12",
   "metadata": {
    "editable": true,
    "slideshow": {
     "slide_type": ""
    },
    "tags": [
     "parameters"
    ]
   },
   "outputs": [],
   "source": [
    "# This cell is tagged `parameters`\n",
    "\n",
    "config_file = '/home/emily/Desktop/projects/test/badass-data-science/badassdatascience/forex/data/DEVELOPMENT.json'\n",
    "count = 5000 \n",
    "granularity = 'D'\n",
    "\n",
    "#instruments = 'EUR_USD,USD_CAD,USD_JPY,USD_CHF,AUD_USD,GBP_USD,NZD_USD'\n",
    "instrument = 'EUR_USD'\n",
    "\n",
    "price_types = 'BAM'\n",
    "error_retry_interval = 5"
   ]
  },
  {
   "cell_type": "code",
   "execution_count": null,
   "id": "e81f2d8d-2142-4148-942d-cbc5b471c8dc",
   "metadata": {
    "editable": true,
    "slideshow": {
     "slide_type": ""
    },
    "tags": []
   },
   "outputs": [],
   "source": []
  },
  {
   "cell_type": "code",
   "execution_count": 4,
   "id": "af9e9466-edf9-4ab6-9eb3-05b9018123ea",
   "metadata": {
    "editable": true,
    "slideshow": {
     "slide_type": ""
    },
    "tags": []
   },
   "outputs": [
    {
     "name": "stdout",
     "output_type": "stream",
     "text": [
      "5000\n",
      "D\n"
     ]
    }
   ],
   "source": [
    "print(count)\n",
    "print(granularity)"
   ]
  },
  {
   "cell_type": "code",
   "execution_count": null,
   "id": "fd0a3242-2e3f-4858-8416-b70b8fe668a2",
   "metadata": {
    "editable": true,
    "slideshow": {
     "slide_type": ""
    },
    "tags": []
   },
   "outputs": [],
   "source": []
  },
  {
   "cell_type": "code",
   "execution_count": null,
   "id": "1a4e8ae6-836a-4ed1-ae09-ed90ae8c0238",
   "metadata": {
    "editable": true,
    "slideshow": {
     "slide_type": ""
    },
    "tags": []
   },
   "outputs": [],
   "source": [
    "class CandlePull():\n",
    "\n",
    "    #\n",
    "    # Constructor\n",
    "    #\n",
    "    def __init__(\n",
    "        self,\n",
    "        config_file,\n",
    "        count,\n",
    "        granularity,\n",
    "        instrument,\n",
    "        price_types,\n",
    "        error_retry_interval = 5,\n",
    "        keep_complete_only = True\n",
    "    ):\n",
    "\n",
    "        #\n",
    "        # command line arguments\n",
    "        #\n",
    "        self.config_file = config_file\n",
    "        self.count = count\n",
    "        self.granularity = granularity\n",
    "        self.instrument = instrument\n",
    "        self.price_types = price_types\n",
    "        self.error_retry_interval = error_retry_interval\n",
    "        self.keep_complete_only = keep_complete_only\n",
    "\n",
    "        #\n",
    "        # initialize (hard-coded)\n",
    "        #\n",
    "        self.timezone_to_use = 'America/Toronto'   # Don't change this!\n",
    "        self.start_time = int(datetime.datetime(2010, 1, 1, 0, 0, 0, tzinfo=datetime.timezone.utc).timestamp())\n",
    "        \n",
    "        #\n",
    "        # additional initialization\n",
    "        #\n",
    "        self.timezone = pytz.timezone(self.timezone_to_use)  # not sure we are using this... check later\n",
    "        self.price_type_list = [price_type_map[q] for q in self.price_types]\n",
    "        self.end_date_original = int(time.mktime(datetime.datetime.now().timetuple()))\n",
    "\n",
    "    #\n",
    "    # Get the header information needed for Oanda requests\n",
    "    #\n",
    "    def get_headers(self):\n",
    "        with open(self.config_file) as f:\n",
    "            self.config = json.load(f)\n",
    "        self.headers = get_oanda_headers(self.config)\n",
    "\n",
    "    #\n",
    "    # request forex price/volume candlesticks from Oanda\n",
    "    #\n",
    "    def get_instrument_candlesticks(self, end_date):\n",
    "        url = (\n",
    "            self.config['server']\n",
    "            + '/v3/instruments/' + self.instrument\n",
    "            + '/candles?count=' + str(self.count)\n",
    "            + '&price=' + self.price_types\n",
    "            + '&granularity=' + self.granularity\n",
    "            + '&to=' + str(end_date)\n",
    "        )\n",
    "        \n",
    "        worked = False\n",
    "        while not worked:\n",
    "            try:\n",
    "                r = requests.get(url, headers = self.headers)\n",
    "                worked = True\n",
    "            except:\n",
    "                time.sleep(error_retry_interval)\n",
    "        \n",
    "        rj = r.json()\n",
    "        return rj\n",
    "\n",
    "    #\n",
    "    # compute additional forex candlestick features\n",
    "    #\n",
    "    def compute_candle_features(self):\n",
    "        \n",
    "        finished = False\n",
    "        end_date = self.end_date_original\n",
    "\n",
    "        self.insert_many_list = []\n",
    "\n",
    "        # loop through the timestamp ranges for each set of n=count values\n",
    "        while not finished:\n",
    "\n",
    "            # retrieve the instrument candlesticks from the Oanda server\n",
    "            rj = self.get_instrument_candlesticks(end_date) # instrument, count, price_types, granularity, end_date)        \n",
    "            candlesticks = rj['candles']\n",
    "\n",
    "            #\n",
    "            # deal with timestamps and time-related content\n",
    "            #\n",
    "            date_list = []\n",
    "            for candle in candlesticks:\n",
    "\n",
    "                candle['instrument'] = self.instrument.replace('_', '/')\n",
    "                candle['granularity'] = self.granularity\n",
    "                candle['time'] = int(float(candle['time']))\n",
    "                time_dt = datetime.datetime.fromtimestamp(candle['time'], tz = self.timezone)\n",
    "                candle['time_iso'] = time_dt.isoformat()\n",
    "                candle['weekday'] = time_dt.weekday()\n",
    "                candle['hour'] = time_dt.hour\n",
    "\n",
    "                for price_type in self.price_type_list:\n",
    "                    for candlestick_component in candle[price_type].keys():\n",
    "                        candle[price_type + '_' + candlestick_component] = float(candle[price_type][candlestick_component])\n",
    "                    candle[price_type + '_return'] = candle[price_type + '_c'] - candle[price_type + '_o']\n",
    "                    candle[price_type + '_volatility'] = candle[price_type + '_h'] - candle[price_type + '_l']\n",
    "            \n",
    "                for price_type in self.price_type_list:\n",
    "                    del(candle[price_type])\n",
    "\n",
    "                \n",
    "                if self.keep_complete_only:\n",
    "                    if candle['complete']:    \n",
    "                        self.insert_many_list.append(candle)\n",
    "                else:\n",
    "                    self.insert_many_list.append(candle)\n",
    "\n",
    "                date_list.append(candle['time'])\n",
    "\n",
    "\n",
    "            # Are we done?\n",
    "            if (len(date_list) < count) or (min(date_list) < self.start_time):\n",
    "                finished = True\n",
    "            else:\n",
    "                # prepare for the next iteration\n",
    "                end_date = min(date_list) - 0.1\n",
    "\n",
    "    #\n",
    "    # Create a dataframe\n",
    "    #\n",
    "    def create_dataframe(self):\n",
    "        self.df = pd.DataFrame(self.insert_many_list).sort_values(by = ['instrument', 'time'])\n",
    "        self.df = self.df[self.df['time'] >= int(self.start_time)]\n",
    "        self.df = self.df.reset_index().copy()\n",
    "\n",
    "    #\n",
    "    # QA\n",
    "    #\n",
    "    def qa(self):\n",
    "        print(len(self.df.index) == len(self.df[['time']].drop_duplicates()))\n",
    "        print(len(t.df.index) == len(t.df['time'].unique()))\n",
    "\n",
    "    #\n",
    "    # Compute everything\n",
    "    #\n",
    "    def fit(self):\n",
    "        self.get_headers()\n",
    "        self.compute_candle_features()\n",
    "        self.create_dataframe()\n",
    "        self.qa()\n",
    "\n",
    "    #\n",
    "    # plot\n",
    "    #\n",
    "    def plot(self, savepath = None):\n",
    "        plt.figure()\n",
    "        plt.plot(self.df['time'], self.df['mid_c'])\n",
    "\n",
    "        if savepath == None:\n",
    "            plt.show()\n",
    "        else:\n",
    "            plt.savefig(savepath)\n",
    "\n",
    "        plt.close()"
   ]
  },
  {
   "cell_type": "code",
   "execution_count": null,
   "id": "487cf834-b91f-4610-afc6-d436c442a927",
   "metadata": {
    "editable": true,
    "slideshow": {
     "slide_type": ""
    },
    "tags": []
   },
   "outputs": [],
   "source": [
    "t = CandlePull(config_file, count, granularity, instrument, price_types)\n",
    "t.fit()"
   ]
  },
  {
   "cell_type": "code",
   "execution_count": null,
   "id": "b941e58b-98ce-4ee6-9685-52bbdc110b21",
   "metadata": {
    "editable": true,
    "slideshow": {
     "slide_type": ""
    },
    "tags": []
   },
   "outputs": [],
   "source": [
    "t.df"
   ]
  },
  {
   "cell_type": "code",
   "execution_count": null,
   "id": "0eea1481-ce5d-405d-b5a0-a5a8a62dc0b2",
   "metadata": {
    "editable": true,
    "slideshow": {
     "slide_type": ""
    },
    "tags": []
   },
   "outputs": [],
   "source": [
    "t.plot()"
   ]
  },
  {
   "cell_type": "code",
   "execution_count": null,
   "id": "4454c61b-5315-425c-8b7c-44dbcb11d2bb",
   "metadata": {
    "editable": true,
    "slideshow": {
     "slide_type": ""
    },
    "tags": []
   },
   "outputs": [],
   "source": []
  }
 ],
 "metadata": {
  "kernelspec": {
   "display_name": "Python 3 (ipykernel)",
   "language": "python",
   "name": "python3"
  },
  "language_info": {
   "codemirror_mode": {
    "name": "ipython",
    "version": 3
   },
   "file_extension": ".py",
   "mimetype": "text/x-python",
   "name": "python",
   "nbconvert_exporter": "python",
   "pygments_lexer": "ipython3",
   "version": "3.10.12"
  }
 },
 "nbformat": 4,
 "nbformat_minor": 5
}
