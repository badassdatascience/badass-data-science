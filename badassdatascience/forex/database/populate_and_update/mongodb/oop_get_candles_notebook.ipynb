{
 "cells": [
  {
   "cell_type": "code",
   "execution_count": null,
   "id": "fb7f38c8-3a88-4ad9-acd7-3ccf1d4191a6",
   "metadata": {
    "editable": true,
    "slideshow": {
     "slide_type": ""
    },
    "tags": []
   },
   "outputs": [],
   "source": []
  },
  {
   "cell_type": "code",
   "execution_count": 1,
   "id": "3ecd1b00-0a29-411d-8314-6c0357c9ea83",
   "metadata": {
    "editable": true,
    "slideshow": {
     "slide_type": ""
    },
    "tags": []
   },
   "outputs": [],
   "source": [
    "import pprint as pp"
   ]
  },
  {
   "cell_type": "code",
   "execution_count": 2,
   "id": "70859f95-8511-4087-b171-ae64dddd1a7e",
   "metadata": {
    "editable": true,
    "slideshow": {
     "slide_type": ""
    },
    "tags": []
   },
   "outputs": [],
   "source": [
    "#from badassdatascience.forex.database.populate_and_update.mongodb.oop_get_candles import CandlePull"
   ]
  },
  {
   "cell_type": "code",
   "execution_count": 38,
   "id": "6a3865ce-df6e-4975-acf1-c75fc559d51a",
   "metadata": {
    "editable": true,
    "slideshow": {
     "slide_type": ""
    },
    "tags": []
   },
   "outputs": [],
   "source": [
    "import json\n",
    "import requests\n",
    "import datetime\n",
    "import time\n",
    "import pytz\n",
    "import pandas as pd\n",
    "import matplotlib.pyplot as plt\n",
    "from pymongo import MongoClient\n",
    "\n",
    "from badassdatascience.forex.utilities.oanda_tools import get_oanda_headers\n",
    "from badassdatascience.forex.utilities.oanda_tools import price_type_map\n",
    "\n",
    "class CandlePull():\n",
    "\n",
    "    #\n",
    "    # Constructor\n",
    "    #\n",
    "    def __init__(\n",
    "        self,\n",
    "        config_file,\n",
    "        count,\n",
    "        granularity,\n",
    "        instrument,\n",
    "        price_types,\n",
    "        error_retry_interval = 5,\n",
    "        keep_complete_only = True,\n",
    "        verbose = False,\n",
    "    ):\n",
    "\n",
    "        #\n",
    "        # command line arguments\n",
    "        #\n",
    "        self.config_file = config_file\n",
    "        self.count = count\n",
    "        self.granularity = granularity\n",
    "        self.instrument = instrument\n",
    "        self.price_types = price_types\n",
    "        self.error_retry_interval = error_retry_interval\n",
    "        self.keep_complete_only = keep_complete_only\n",
    "        self.verbose = verbose\n",
    "\n",
    "        #\n",
    "        # initialize (hard-coded)\n",
    "        #\n",
    "        self.timezone_to_use = 'America/Toronto'   # Don't change this!\n",
    "        self.start_time = int(datetime.datetime(2009, 12, 31, 23, 59, 59, tzinfo=datetime.timezone.utc).timestamp())\n",
    "        \n",
    "        #\n",
    "        # additional initialization\n",
    "        #\n",
    "        self.timezone = pytz.timezone(self.timezone_to_use)  # not sure we are using this... check later\n",
    "        self.price_type_list = [price_type_map[q] for q in self.price_types]\n",
    "        self.end_date_original = int(time.mktime(datetime.datetime.now().timetuple()))\n",
    "\n",
    "        #\n",
    "        # MongoDB\n",
    "        #\n",
    "        client = MongoClient()\n",
    "        self.db = client.forex\n",
    "    \n",
    "    #\n",
    "    # Get the header information needed for Oanda requests\n",
    "    #\n",
    "    def get_headers(self):\n",
    "        with open(self.config_file) as f:\n",
    "            self.config = json.load(f)\n",
    "        self.headers = get_oanda_headers(self.config)\n",
    "\n",
    "    #\n",
    "    # request forex price/volume candlesticks from Oanda\n",
    "    #\n",
    "    def get_instrument_candlesticks(self, end_date):\n",
    "        url = (\n",
    "            self.config['server']\n",
    "            + '/v3/instruments/' + self.instrument\n",
    "            + '/candles?count=' + str(self.count)\n",
    "            + '&price=' + self.price_types\n",
    "            + '&granularity=' + self.granularity\n",
    "            + '&to=' + str(end_date)\n",
    "        )\n",
    "        \n",
    "        worked = False\n",
    "        while not worked:\n",
    "            try:\n",
    "                r = requests.get(url, headers = self.headers)\n",
    "                worked = True\n",
    "            except:\n",
    "                time.sleep(error_retry_interval)\n",
    "        \n",
    "        rj = r.json()\n",
    "        return rj\n",
    "\n",
    "    #\n",
    "    # compute additional forex candlestick features\n",
    "    #\n",
    "    def compute_candle_features(self):\n",
    "        \n",
    "        finished = False\n",
    "        end_date = self.end_date_original\n",
    "\n",
    "        self.insert_many_list = []\n",
    "\n",
    "        # loop through the timestamp ranges for each set of n=count values\n",
    "        while not finished:\n",
    "\n",
    "            # retrieve the instrument candlesticks from the Oanda server\n",
    "            rj = self.get_instrument_candlesticks(end_date) # instrument, count, price_types, granularity, end_date)        \n",
    "            candlesticks = rj['candles']\n",
    "\n",
    "            #\n",
    "            # deal with timestamps and time-related content\n",
    "            #\n",
    "            date_list = []\n",
    "            for candle in candlesticks:\n",
    "\n",
    "                candle['instrument'] = self.instrument.replace('_', '/')\n",
    "                candle['granularity'] = self.granularity\n",
    "                candle['time'] = int(float(candle['time']))\n",
    "                time_dt = datetime.datetime.fromtimestamp(candle['time'], tz = self.timezone)\n",
    "                candle['time_iso'] = time_dt.isoformat()\n",
    "                candle['weekday'] = time_dt.weekday()\n",
    "                candle['hour'] = time_dt.hour\n",
    "\n",
    "                for price_type in self.price_type_list:\n",
    "                    for candlestick_component in candle[price_type].keys():\n",
    "                        candle[price_type + '_' + candlestick_component] = float(candle[price_type][candlestick_component])\n",
    "                    candle[price_type + '_return'] = candle[price_type + '_c'] - candle[price_type + '_o']\n",
    "                    candle[price_type + '_volatility'] = candle[price_type + '_h'] - candle[price_type + '_l']\n",
    "            \n",
    "                for price_type in self.price_type_list:\n",
    "                    del(candle[price_type])\n",
    "\n",
    "                \n",
    "                if self.keep_complete_only:\n",
    "                    if candle['complete']:    \n",
    "                        self.insert_many_list.append(candle)\n",
    "                else:\n",
    "                    self.insert_many_list.append(candle)\n",
    "\n",
    "                date_list.append(candle['time'])\n",
    "\n",
    "\n",
    "            # Are we done?\n",
    "            if (len(date_list) < self.count) or (min(date_list) < self.start_time):\n",
    "                finished = True\n",
    "            else:\n",
    "                # prepare for the next iteration\n",
    "                end_date = min(date_list) - 0.1\n",
    "\n",
    "    #\n",
    "    # Create a dataframe\n",
    "    #\n",
    "    def create_dataframe(self):\n",
    "        self.df = pd.DataFrame(self.insert_many_list).sort_values(by = ['instrument', 'time'])\n",
    "        self.df = self.df[self.df['time'] >= int(self.start_time)]\n",
    "        self.df = self.df.reset_index().drop(columns = ['index']).copy()\n",
    "\n",
    "        self.time_filtered_df = self.df[self.df['time'] > self.start_time].sort_values(by = ['time']).copy()\n",
    "        self.to_insert = self.time_filtered_df.to_dict(orient = 'records')\n",
    "\n",
    "    #\n",
    "    # QA\n",
    "    #\n",
    "    # Change this to include assert statements\n",
    "    #\n",
    "    def qa(self):\n",
    "        if self.verbose:\n",
    "            print(len(self.df.index) == len(self.df[['time']].drop_duplicates()))\n",
    "            print(len(self.df.index) == len(self.df['time'].unique()))\n",
    "    \n",
    "    #\n",
    "    # See what is already in the database\n",
    "    #\n",
    "    def get_max_previous_time(self):\n",
    "        candlesticks = self.db.candlesticks\n",
    "        \n",
    "        result = candlesticks.aggregate(\n",
    "            [\n",
    "                {\n",
    "                    '$match': {'instrument' : self.instrument.replace('_', '/') },\n",
    "                },\n",
    "                {\n",
    "                    '$group': {\n",
    "                        '_id': None,\n",
    "                        'max_time' : {'$max': '$time'},\n",
    "                    },\n",
    "                },\n",
    "            ]\n",
    "        )\n",
    "        result_list = [q for q in result]\n",
    "        if len(result_list) > 0:\n",
    "            self.start_time = result_list[0]['max_time']\n",
    "\n",
    "    #\n",
    "    # insert into database\n",
    "    #\n",
    "    def insert_into_mongoDB(self):\n",
    "        if len(self.to_insert) > 0:\n",
    "            candlesticks = self.db.candlesticks\n",
    "            self.insert_result = candlesticks.insert_many(self.to_insert)\n",
    "    \n",
    "    #\n",
    "    # Compute everything\n",
    "    #\n",
    "    def fit(self):\n",
    "        self.get_max_previous_time()\n",
    "        self.get_headers()\n",
    "        self.compute_candle_features()\n",
    "        self.create_dataframe()\n",
    "        self.qa()\n",
    "        #self.insert_into_mongoDB\n",
    "\n",
    "    #\n",
    "    # plot\n",
    "    #\n",
    "    def plot(self, savepath = None):\n",
    "        plt.figure()\n",
    "        plt.plot(self.df['time'], self.df['mid_c'])  # we may want to have the plot column be flexible (defaulting to 'mid_c' though)\n",
    "        plt.title(self.instrument)\n",
    "\n",
    "        if savepath == None:\n",
    "            plt.show()\n",
    "        else:\n",
    "            plt.savefig(savepath)\n",
    "\n",
    "        plt.close()"
   ]
  },
  {
   "cell_type": "code",
   "execution_count": null,
   "id": "d929f196-d6eb-4ad3-ac74-3709dc55cbc3",
   "metadata": {
    "editable": true,
    "slideshow": {
     "slide_type": ""
    },
    "tags": []
   },
   "outputs": [],
   "source": []
  },
  {
   "cell_type": "code",
   "execution_count": null,
   "id": "714c13b2-082d-444c-b665-1375f2d25b14",
   "metadata": {
    "editable": true,
    "slideshow": {
     "slide_type": ""
    },
    "tags": []
   },
   "outputs": [],
   "source": []
  },
  {
   "cell_type": "code",
   "execution_count": null,
   "id": "3f2acdda-75f8-42bc-9621-c57ec7a58b6c",
   "metadata": {
    "editable": true,
    "slideshow": {
     "slide_type": ""
    },
    "tags": []
   },
   "outputs": [],
   "source": []
  },
  {
   "cell_type": "code",
   "execution_count": null,
   "id": "2a4b889c-b9ee-4eb2-8c46-4c676bb15f16",
   "metadata": {
    "editable": true,
    "slideshow": {
     "slide_type": ""
    },
    "tags": []
   },
   "outputs": [],
   "source": []
  },
  {
   "cell_type": "code",
   "execution_count": null,
   "id": "553e7018-3345-4b3b-8dd5-9f34ae18b56d",
   "metadata": {
    "editable": true,
    "slideshow": {
     "slide_type": ""
    },
    "tags": []
   },
   "outputs": [],
   "source": []
  },
  {
   "cell_type": "code",
   "execution_count": null,
   "id": "d2166049-f93d-4816-b674-3345f24df288",
   "metadata": {
    "editable": true,
    "slideshow": {
     "slide_type": ""
    },
    "tags": []
   },
   "outputs": [],
   "source": []
  },
  {
   "cell_type": "code",
   "execution_count": 39,
   "id": "d12ff29d-1367-4ea7-a9a5-a05215cabf12",
   "metadata": {
    "editable": true,
    "slideshow": {
     "slide_type": ""
    },
    "tags": [
     "parameters"
    ]
   },
   "outputs": [],
   "source": [
    "# This cell is tagged `parameters`\n",
    "\n",
    "config_file = '/home/emily/Desktop/projects/test/badass-data-science/badassdatascience/forex/data/DEVELOPMENT.json'\n",
    "count = 5000 \n",
    "granularity = 'M15'\n",
    "\n",
    "instruments = 'EUR_USD,USD_CAD,USD_JPY,USD_CHF,AUD_USD,GBP_USD,NZD_USD'\n",
    "\n",
    "price_types = 'BAM'\n",
    "error_retry_interval = 2"
   ]
  },
  {
   "cell_type": "code",
   "execution_count": 40,
   "id": "e81f2d8d-2142-4148-942d-cbc5b471c8dc",
   "metadata": {
    "editable": true,
    "slideshow": {
     "slide_type": ""
    },
    "tags": []
   },
   "outputs": [],
   "source": [
    "instrument_list = [q.strip() for q in instruments.split(',') if not q.strip() == '']"
   ]
  },
  {
   "cell_type": "code",
   "execution_count": null,
   "id": "7c5a074a-9214-4c3c-aabc-9c1ac439a10c",
   "metadata": {
    "editable": true,
    "slideshow": {
     "slide_type": ""
    },
    "tags": []
   },
   "outputs": [],
   "source": []
  },
  {
   "cell_type": "code",
   "execution_count": 41,
   "id": "af9e9466-edf9-4ab6-9eb3-05b9018123ea",
   "metadata": {
    "editable": true,
    "slideshow": {
     "slide_type": ""
    },
    "tags": []
   },
   "outputs": [
    {
     "name": "stdout",
     "output_type": "stream",
     "text": [
      "5000\n",
      "M15\n",
      "['EUR_USD', 'USD_CAD', 'USD_JPY', 'USD_CHF', 'AUD_USD', 'GBP_USD', 'NZD_USD']\n"
     ]
    }
   ],
   "source": [
    "print(count)\n",
    "print(granularity)\n",
    "print(instrument_list)"
   ]
  },
  {
   "cell_type": "code",
   "execution_count": null,
   "id": "fd0a3242-2e3f-4858-8416-b70b8fe668a2",
   "metadata": {
    "editable": true,
    "slideshow": {
     "slide_type": ""
    },
    "tags": []
   },
   "outputs": [],
   "source": []
  },
  {
   "cell_type": "code",
   "execution_count": 42,
   "id": "487cf834-b91f-4610-afc6-d436c442a927",
   "metadata": {
    "editable": true,
    "slideshow": {
     "slide_type": ""
    },
    "tags": []
   },
   "outputs": [
    {
     "name": "stdout",
     "output_type": "stream",
     "text": [
      "EUR_USD is complete.\n"
     ]
    }
   ],
   "source": [
    "instrument_dict = {}\n",
    "for instrument in instrument_list:\n",
    "    instrument_dict[instrument] = CandlePull(\n",
    "        config_file, count, granularity, instrument, price_types, error_retry_interval = error_retry_interval,\n",
    "    )\n",
    "    instrument_dict[instrument].fit()\n",
    "\n",
    "    print(instrument + ' is complete.')\n",
    "\n",
    "    break"
   ]
  },
  {
   "cell_type": "code",
   "execution_count": 43,
   "id": "b0e4dc3c-3d8b-462f-b0d3-c867ba801f45",
   "metadata": {
    "editable": true,
    "slideshow": {
     "slide_type": ""
    },
    "tags": []
   },
   "outputs": [],
   "source": [
    "#pp.pprint(instrument_dict['EUR_USD'].to_insert[0:2])"
   ]
  },
  {
   "cell_type": "code",
   "execution_count": 44,
   "id": "9810694e-63b4-4f73-b8d2-5e52aba5795f",
   "metadata": {
    "editable": true,
    "slideshow": {
     "slide_type": ""
    },
    "tags": []
   },
   "outputs": [
    {
     "data": {
      "text/plain": [
       "1"
      ]
     },
     "execution_count": 44,
     "metadata": {},
     "output_type": "execute_result"
    }
   ],
   "source": [
    "len(instrument_dict['EUR_USD'].to_insert)"
   ]
  },
  {
   "cell_type": "code",
   "execution_count": 45,
   "id": "93f5e12d-a196-467c-8702-96dd673427b1",
   "metadata": {
    "editable": true,
    "slideshow": {
     "slide_type": ""
    },
    "tags": []
   },
   "outputs": [],
   "source": [
    "#instrument_dict['EUR_USD'].df"
   ]
  },
  {
   "cell_type": "code",
   "execution_count": 46,
   "id": "a7b513dc-ea43-4f75-bf99-85fb0cddc3a3",
   "metadata": {
    "editable": true,
    "slideshow": {
     "slide_type": ""
    },
    "tags": []
   },
   "outputs": [
    {
     "data": {
      "text/html": [
       "<div>\n",
       "<style scoped>\n",
       "    .dataframe tbody tr th:only-of-type {\n",
       "        vertical-align: middle;\n",
       "    }\n",
       "\n",
       "    .dataframe tbody tr th {\n",
       "        vertical-align: top;\n",
       "    }\n",
       "\n",
       "    .dataframe thead th {\n",
       "        text-align: right;\n",
       "    }\n",
       "</style>\n",
       "<table border=\"1\" class=\"dataframe\">\n",
       "  <thead>\n",
       "    <tr style=\"text-align: right;\">\n",
       "      <th></th>\n",
       "      <th>complete</th>\n",
       "      <th>volume</th>\n",
       "      <th>time</th>\n",
       "      <th>instrument</th>\n",
       "      <th>granularity</th>\n",
       "      <th>time_iso</th>\n",
       "      <th>weekday</th>\n",
       "      <th>hour</th>\n",
       "      <th>bid_o</th>\n",
       "      <th>bid_h</th>\n",
       "      <th>...</th>\n",
       "      <th>ask_l</th>\n",
       "      <th>ask_c</th>\n",
       "      <th>ask_return</th>\n",
       "      <th>ask_volatility</th>\n",
       "      <th>mid_o</th>\n",
       "      <th>mid_h</th>\n",
       "      <th>mid_l</th>\n",
       "      <th>mid_c</th>\n",
       "      <th>mid_return</th>\n",
       "      <th>mid_volatility</th>\n",
       "    </tr>\n",
       "  </thead>\n",
       "  <tbody>\n",
       "    <tr>\n",
       "      <th>1</th>\n",
       "      <td>True</td>\n",
       "      <td>1645</td>\n",
       "      <td>1745296200</td>\n",
       "      <td>EUR/USD</td>\n",
       "      <td>M15</td>\n",
       "      <td>2025-04-22T00:30:00-04:00</td>\n",
       "      <td>1</td>\n",
       "      <td>0</td>\n",
       "      <td>1.15371</td>\n",
       "      <td>1.15395</td>\n",
       "      <td>...</td>\n",
       "      <td>1.15283</td>\n",
       "      <td>1.153</td>\n",
       "      <td>-0.00086</td>\n",
       "      <td>0.00128</td>\n",
       "      <td>1.15378</td>\n",
       "      <td>1.15403</td>\n",
       "      <td>1.15274</td>\n",
       "      <td>1.15292</td>\n",
       "      <td>-0.00086</td>\n",
       "      <td>0.00129</td>\n",
       "    </tr>\n",
       "  </tbody>\n",
       "</table>\n",
       "<p>1 rows × 26 columns</p>\n",
       "</div>"
      ],
      "text/plain": [
       "   complete  volume        time instrument granularity  \\\n",
       "1      True    1645  1745296200    EUR/USD         M15   \n",
       "\n",
       "                    time_iso  weekday  hour    bid_o    bid_h  ...    ask_l  \\\n",
       "1  2025-04-22T00:30:00-04:00        1     0  1.15371  1.15395  ...  1.15283   \n",
       "\n",
       "   ask_c  ask_return  ask_volatility    mid_o    mid_h    mid_l    mid_c  \\\n",
       "1  1.153    -0.00086         0.00128  1.15378  1.15403  1.15274  1.15292   \n",
       "\n",
       "   mid_return  mid_volatility  \n",
       "1    -0.00086         0.00129  \n",
       "\n",
       "[1 rows x 26 columns]"
      ]
     },
     "execution_count": 46,
     "metadata": {},
     "output_type": "execute_result"
    }
   ],
   "source": [
    "instrument_dict['EUR_USD'].time_filtered_df"
   ]
  },
  {
   "cell_type": "code",
   "execution_count": null,
   "id": "e23277dd-5bde-4276-a5b2-b3fb2ce28171",
   "metadata": {
    "editable": true,
    "slideshow": {
     "slide_type": ""
    },
    "tags": []
   },
   "outputs": [],
   "source": []
  },
  {
   "cell_type": "code",
   "execution_count": null,
   "id": "411ed9b8-ec78-4a04-b448-1bbd09ee674f",
   "metadata": {
    "editable": true,
    "slideshow": {
     "slide_type": ""
    },
    "tags": []
   },
   "outputs": [],
   "source": []
  },
  {
   "cell_type": "code",
   "execution_count": 32,
   "id": "b941e58b-98ce-4ee6-9685-52bbdc110b21",
   "metadata": {
    "editable": true,
    "slideshow": {
     "slide_type": ""
    },
    "tags": []
   },
   "outputs": [],
   "source": [
    "#for instrument in instrument_list:\n",
    "#    #print(instrument_dict[instrument].df.head())\n",
    "#    instrument_dict[instrument].plot()"
   ]
  },
  {
   "cell_type": "code",
   "execution_count": null,
   "id": "4454c61b-5315-425c-8b7c-44dbcb11d2bb",
   "metadata": {
    "editable": true,
    "slideshow": {
     "slide_type": ""
    },
    "tags": []
   },
   "outputs": [],
   "source": []
  },
  {
   "cell_type": "code",
   "execution_count": 33,
   "id": "fdeb2748-7ada-4479-bd4c-7f4dc5a014aa",
   "metadata": {
    "editable": true,
    "slideshow": {
     "slide_type": ""
    },
    "tags": []
   },
   "outputs": [],
   "source": [
    "#import pickle\n",
    "#with open('output/temp_M15.pickled', 'wb') as fff:\n",
    "#    pickle.dump(instrument_dict, fff)"
   ]
  },
  {
   "cell_type": "code",
   "execution_count": 34,
   "id": "785b5ef0-f385-4aa2-b4cb-c2a00da48359",
   "metadata": {
    "editable": true,
    "slideshow": {
     "slide_type": ""
    },
    "tags": []
   },
   "outputs": [],
   "source": [
    "#import pickle\n",
    "#with open('output/temp_M15.pickled', 'rb') as fff:\n",
    "#    instrument_dict = pickle.load(fff)"
   ]
  },
  {
   "cell_type": "code",
   "execution_count": null,
   "id": "c108bfe7-880e-4d1b-9f4c-8c2178ae2e12",
   "metadata": {
    "editable": true,
    "slideshow": {
     "slide_type": ""
    },
    "tags": []
   },
   "outputs": [],
   "source": []
  },
  {
   "cell_type": "code",
   "execution_count": null,
   "id": "e8cd95a0-c745-47ce-8b9e-6863734091d5",
   "metadata": {
    "editable": true,
    "slideshow": {
     "slide_type": ""
    },
    "tags": []
   },
   "outputs": [],
   "source": []
  },
  {
   "cell_type": "code",
   "execution_count": null,
   "id": "00a15078-1d72-48d7-b1d5-641f0a4d79cf",
   "metadata": {
    "editable": true,
    "slideshow": {
     "slide_type": ""
    },
    "tags": []
   },
   "outputs": [],
   "source": []
  },
  {
   "cell_type": "code",
   "execution_count": 35,
   "id": "8a5324e2-15b5-4c37-b541-7ec637157ace",
   "metadata": {
    "editable": true,
    "slideshow": {
     "slide_type": ""
    },
    "tags": []
   },
   "outputs": [],
   "source": [
    "#import pymongo\n",
    "from pymongo import MongoClient\n",
    "\n",
    "client = MongoClient()\n",
    "db = client.forex\n",
    "candlesticks = db.candlesticks"
   ]
  },
  {
   "cell_type": "code",
   "execution_count": 36,
   "id": "4efc90a8-5c27-4ad2-93d9-8f9f5c6ee6b9",
   "metadata": {
    "editable": true,
    "slideshow": {
     "slide_type": ""
    },
    "tags": []
   },
   "outputs": [],
   "source": [
    "#candlesticks.delete_many({})"
   ]
  },
  {
   "cell_type": "code",
   "execution_count": 37,
   "id": "43ea29e7-f994-437f-9769-fa5536bce38f",
   "metadata": {
    "editable": true,
    "slideshow": {
     "slide_type": ""
    },
    "tags": []
   },
   "outputs": [
    {
     "ename": "TypeError",
     "evalue": "documents must be a non-empty list",
     "output_type": "error",
     "traceback": [
      "\u001b[0;31m---------------------------------------------------------------------------\u001b[0m",
      "\u001b[0;31mTypeError\u001b[0m                                 Traceback (most recent call last)",
      "Cell \u001b[0;32mIn[37], line 2\u001b[0m\n\u001b[1;32m      1\u001b[0m \u001b[38;5;28;01mfor\u001b[39;00m instrument \u001b[38;5;129;01min\u001b[39;00m instrument_list:\n\u001b[0;32m----> 2\u001b[0m     result \u001b[38;5;241m=\u001b[39m \u001b[43mcandlesticks\u001b[49m\u001b[38;5;241;43m.\u001b[39;49m\u001b[43minsert_many\u001b[49m\u001b[43m(\u001b[49m\u001b[43minstrument_dict\u001b[49m\u001b[43m[\u001b[49m\u001b[43minstrument\u001b[49m\u001b[43m]\u001b[49m\u001b[38;5;241;43m.\u001b[39;49m\u001b[43mto_insert\u001b[49m\u001b[43m)\u001b[49m\n\u001b[1;32m      4\u001b[0m     \u001b[38;5;28;01mbreak\u001b[39;00m\n\u001b[1;32m      6\u001b[0m \u001b[38;5;66;03m#print(result)\u001b[39;00m\n",
      "File \u001b[0;32m~/venvs/ml/lib/python3.10/site-packages/pymongo/_csot.py:119\u001b[0m, in \u001b[0;36mapply.<locals>.csot_wrapper\u001b[0;34m(self, *args, **kwargs)\u001b[0m\n\u001b[1;32m    117\u001b[0m         \u001b[38;5;28;01mwith\u001b[39;00m _TimeoutContext(timeout):\n\u001b[1;32m    118\u001b[0m             \u001b[38;5;28;01mreturn\u001b[39;00m func(\u001b[38;5;28mself\u001b[39m, \u001b[38;5;241m*\u001b[39margs, \u001b[38;5;241m*\u001b[39m\u001b[38;5;241m*\u001b[39mkwargs)\n\u001b[0;32m--> 119\u001b[0m \u001b[38;5;28;01mreturn\u001b[39;00m \u001b[43mfunc\u001b[49m\u001b[43m(\u001b[49m\u001b[38;5;28;43mself\u001b[39;49m\u001b[43m,\u001b[49m\u001b[43m \u001b[49m\u001b[38;5;241;43m*\u001b[39;49m\u001b[43margs\u001b[49m\u001b[43m,\u001b[49m\u001b[43m \u001b[49m\u001b[38;5;241;43m*\u001b[39;49m\u001b[38;5;241;43m*\u001b[39;49m\u001b[43mkwargs\u001b[49m\u001b[43m)\u001b[49m\n",
      "File \u001b[0;32m~/venvs/ml/lib/python3.10/site-packages/pymongo/synchronous/collection.py:959\u001b[0m, in \u001b[0;36mCollection.insert_many\u001b[0;34m(self, documents, ordered, bypass_document_validation, session, comment)\u001b[0m\n\u001b[1;32m    912\u001b[0m \u001b[38;5;250m\u001b[39m\u001b[38;5;124;03m\"\"\"Insert an iterable of documents.\u001b[39;00m\n\u001b[1;32m    913\u001b[0m \n\u001b[1;32m    914\u001b[0m \u001b[38;5;124;03m  >>> db.test.count_documents({})\u001b[39;00m\n\u001b[0;32m   (...)\u001b[0m\n\u001b[1;32m    952\u001b[0m \u001b[38;5;124;03m.. versionadded:: 3.0\u001b[39;00m\n\u001b[1;32m    953\u001b[0m \u001b[38;5;124;03m\"\"\"\u001b[39;00m\n\u001b[1;32m    954\u001b[0m \u001b[38;5;28;01mif\u001b[39;00m (\n\u001b[1;32m    955\u001b[0m     \u001b[38;5;129;01mnot\u001b[39;00m \u001b[38;5;28misinstance\u001b[39m(documents, abc\u001b[38;5;241m.\u001b[39mIterable)\n\u001b[1;32m    956\u001b[0m     \u001b[38;5;129;01mor\u001b[39;00m \u001b[38;5;28misinstance\u001b[39m(documents, abc\u001b[38;5;241m.\u001b[39mMapping)\n\u001b[1;32m    957\u001b[0m     \u001b[38;5;129;01mor\u001b[39;00m \u001b[38;5;129;01mnot\u001b[39;00m documents\n\u001b[1;32m    958\u001b[0m ):\n\u001b[0;32m--> 959\u001b[0m     \u001b[38;5;28;01mraise\u001b[39;00m \u001b[38;5;167;01mTypeError\u001b[39;00m(\u001b[38;5;124m\"\u001b[39m\u001b[38;5;124mdocuments must be a non-empty list\u001b[39m\u001b[38;5;124m\"\u001b[39m)\n\u001b[1;32m    960\u001b[0m inserted_ids: \u001b[38;5;28mlist\u001b[39m[ObjectId] \u001b[38;5;241m=\u001b[39m []\n\u001b[1;32m    962\u001b[0m \u001b[38;5;28;01mdef\u001b[39;00m \u001b[38;5;21mgen\u001b[39m() \u001b[38;5;241m-\u001b[39m\u001b[38;5;241m>\u001b[39m Iterator[\u001b[38;5;28mtuple\u001b[39m[\u001b[38;5;28mint\u001b[39m, Mapping[\u001b[38;5;28mstr\u001b[39m, Any]]]:\n",
      "\u001b[0;31mTypeError\u001b[0m: documents must be a non-empty list"
     ]
    }
   ],
   "source": [
    "for instrument in instrument_list:\n",
    "    result = candlesticks.insert_many(instrument_dict[instrument].to_insert)\n",
    "\n",
    "    break\n",
    "    \n",
    "#print(result)"
   ]
  },
  {
   "cell_type": "code",
   "execution_count": null,
   "id": "869e19d2-b848-424b-b72c-28e6432b0000",
   "metadata": {
    "editable": true,
    "slideshow": {
     "slide_type": ""
    },
    "tags": []
   },
   "outputs": [],
   "source": []
  },
  {
   "cell_type": "code",
   "execution_count": null,
   "id": "e6301c50-87ba-4761-9b6f-408cd7f22b7f",
   "metadata": {
    "editable": true,
    "slideshow": {
     "slide_type": ""
    },
    "tags": []
   },
   "outputs": [],
   "source": []
  },
  {
   "cell_type": "code",
   "execution_count": null,
   "id": "e79cafc3-d7fa-44bc-a7a8-b18fdc77ea01",
   "metadata": {
    "editable": true,
    "slideshow": {
     "slide_type": ""
    },
    "tags": []
   },
   "outputs": [],
   "source": []
  },
  {
   "cell_type": "code",
   "execution_count": null,
   "id": "8d4216e5-4a32-4f43-b0b8-222fb469a5db",
   "metadata": {
    "editable": true,
    "slideshow": {
     "slide_type": ""
    },
    "tags": []
   },
   "outputs": [],
   "source": []
  },
  {
   "cell_type": "code",
   "execution_count": null,
   "id": "2dfc8b60-345c-4cb5-9d84-d8b09c7d9231",
   "metadata": {
    "editable": true,
    "slideshow": {
     "slide_type": ""
    },
    "tags": []
   },
   "outputs": [],
   "source": [
    "instrument = 'EUR/USD'\n",
    "#stuff = db.candlesticks.find( { 'instrument' : instrument }, { 'time' : 1 } )\n",
    "\n",
    "#times_dict = {}\n",
    "#for t in stuff:\n",
    "#    times_dict[t['time']] = None\n",
    "\n",
    "#the_times = sorted([q['time'] for q in stuff])\n",
    "\n",
    "result = candlesticks.aggregate([\n",
    "    {\n",
    "        '$match': {'instrument' : instrument}  # Filter documents\n",
    "    },\n",
    "    {\n",
    "        '$group': {\n",
    "            '_id': None,\n",
    "            'max_time' : {'$max': '$time'},\n",
    "            'min_time' : {'$min' : '$time'},\n",
    "        }\n",
    "    }\n",
    "])\n",
    "\n",
    "#for i in result: \n",
    "#    print(i)\n",
    "\n",
    "[q for q in result][0]['max_time']"
   ]
  },
  {
   "cell_type": "code",
   "execution_count": null,
   "id": "bbf1a9c7-3378-4fbe-9f01-4d74bde193cf",
   "metadata": {
    "editable": true,
    "slideshow": {
     "slide_type": ""
    },
    "tags": []
   },
   "outputs": [],
   "source": []
  }
 ],
 "metadata": {
  "kernelspec": {
   "display_name": "Python 3 (ipykernel)",
   "language": "python",
   "name": "python3"
  },
  "language_info": {
   "codemirror_mode": {
    "name": "ipython",
    "version": 3
   },
   "file_extension": ".py",
   "mimetype": "text/x-python",
   "name": "python",
   "nbconvert_exporter": "python",
   "pygments_lexer": "ipython3",
   "version": "3.10.12"
  }
 },
 "nbformat": 4,
 "nbformat_minor": 5
}
