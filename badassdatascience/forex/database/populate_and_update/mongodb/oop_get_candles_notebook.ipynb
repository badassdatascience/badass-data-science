{
 "cells": [
  {
   "cell_type": "code",
   "execution_count": null,
   "id": "fb7f38c8-3a88-4ad9-acd7-3ccf1d4191a6",
   "metadata": {
    "editable": true,
    "slideshow": {
     "slide_type": ""
    },
    "tags": []
   },
   "outputs": [],
   "source": []
  },
  {
   "cell_type": "code",
   "execution_count": null,
   "id": "3ecd1b00-0a29-411d-8314-6c0357c9ea83",
   "metadata": {
    "editable": true,
    "slideshow": {
     "slide_type": ""
    },
    "tags": []
   },
   "outputs": [],
   "source": []
  },
  {
   "cell_type": "code",
   "execution_count": 1,
   "id": "36cf5165-4d9c-4256-935a-3523537e23a0",
   "metadata": {
    "editable": true,
    "slideshow": {
     "slide_type": ""
    },
    "tags": []
   },
   "outputs": [],
   "source": [
    "import json\n",
    "import requests\n",
    "import datetime\n",
    "import time\n",
    "import pytz\n",
    "import pandas as pd\n",
    "import pprint as pp\n",
    "import matplotlib.pyplot as plt"
   ]
  },
  {
   "cell_type": "code",
   "execution_count": null,
   "id": "6a3865ce-df6e-4975-acf1-c75fc559d51a",
   "metadata": {
    "editable": true,
    "slideshow": {
     "slide_type": ""
    },
    "tags": []
   },
   "outputs": [],
   "source": []
  },
  {
   "cell_type": "code",
   "execution_count": 14,
   "id": "d12ff29d-1367-4ea7-a9a5-a05215cabf12",
   "metadata": {
    "editable": true,
    "slideshow": {
     "slide_type": ""
    },
    "tags": [
     "parameters"
    ]
   },
   "outputs": [],
   "source": [
    "# This cell is tagged `parameters`\n",
    "\n",
    "config_file = '/home/emily/Desktop/projects/test/badass-data-science/badassdatascience/forex/data/DEVELOPMENT.json'\n",
    "count = 5000 \n",
    "granularity = 'D'\n",
    "now = True\n",
    "\n",
    "#instruments = 'EUR_USD,USD_CAD,USD_JPY,USD_CHF,AUD_USD,GBP_USD,NZD_USD'\n",
    "instrument = 'EUR_USD'\n",
    "\n",
    "price_types = 'BAM'\n",
    "error_retry_interval = 5"
   ]
  },
  {
   "cell_type": "code",
   "execution_count": null,
   "id": "e81f2d8d-2142-4148-942d-cbc5b471c8dc",
   "metadata": {
    "editable": true,
    "slideshow": {
     "slide_type": ""
    },
    "tags": []
   },
   "outputs": [],
   "source": []
  },
  {
   "cell_type": "code",
   "execution_count": 4,
   "id": "af9e9466-edf9-4ab6-9eb3-05b9018123ea",
   "metadata": {
    "editable": true,
    "slideshow": {
     "slide_type": ""
    },
    "tags": []
   },
   "outputs": [
    {
     "name": "stdout",
     "output_type": "stream",
     "text": [
      "5000\n",
      "D\n"
     ]
    }
   ],
   "source": [
    "print(count)\n",
    "print(granularity)"
   ]
  },
  {
   "cell_type": "code",
   "execution_count": null,
   "id": "4b960b2c-4909-40d7-942e-1b03331246c9",
   "metadata": {
    "editable": true,
    "slideshow": {
     "slide_type": ""
    },
    "tags": []
   },
   "outputs": [],
   "source": []
  },
  {
   "cell_type": "code",
   "execution_count": 17,
   "id": "f8311ae4-42a9-492e-9fd4-c90c01fb724c",
   "metadata": {
    "editable": true,
    "slideshow": {
     "slide_type": ""
    },
    "tags": []
   },
   "outputs": [],
   "source": [
    "def get_oanda_headers(config):\n",
    "    headers = {\n",
    "        'Content-Type' : 'application/json',\n",
    "        'Authorization' : 'Bearer ' + config['token'],\n",
    "        'Accept-Datetime-Format' : config['oanda_date_time_format'],\n",
    "    }\n",
    "    return headers"
   ]
  },
  {
   "cell_type": "code",
   "execution_count": null,
   "id": "467df699-0577-4c20-a25f-6efd0cc29221",
   "metadata": {
    "editable": true,
    "slideshow": {
     "slide_type": ""
    },
    "tags": []
   },
   "outputs": [],
   "source": []
  },
  {
   "cell_type": "code",
   "execution_count": 10,
   "id": "259b3ebe-6ccb-4401-bf7b-ca86a9f56fd7",
   "metadata": {
    "editable": true,
    "slideshow": {
     "slide_type": ""
    },
    "tags": []
   },
   "outputs": [],
   "source": [
    "if True:\n",
    "    def deal_with_candlestick_format_and_time(candle, timezone):\n",
    "        candle['time'] = int(float(candle['time']))\n",
    "        time_dt = datetime.datetime.fromtimestamp(candle['time'], tz = timezone)\n",
    "        candle['time_iso'] = time_dt.isoformat()\n",
    "        candle['weekday'] = time_dt.weekday()\n",
    "        candle['hour'] = time_dt.hour\n",
    "\n",
    "        #\n",
    "        # deal with prices that are currently string values but need to be float\n",
    "        #\n",
    "        # and reorganize them\n",
    "        #\n",
    "        for price_type in ['bid', 'mid', 'ask']:  # what about BAM ?\n",
    "            for candlestick_component in candle[price_type].keys():\n",
    "                candle[price_type + '_' + candlestick_component] = float(candle[price_type][candlestick_component])\n",
    "            candle[price_type + '_return'] = candle[price_type + '_c'] - candle[price_type + '_o']\n",
    "            candle[price_type + '_volatility'] = candle[price_type + '_h'] - candle[price_type + '_l']\n",
    "            \n",
    "        for price_type in ['bid', 'mid', 'ask']:\n",
    "            del(candle[price_type])\n",
    "            \n",
    "        #return None"
   ]
  },
  {
   "cell_type": "code",
   "execution_count": null,
   "id": "fd0a3242-2e3f-4858-8416-b70b8fe668a2",
   "metadata": {
    "editable": true,
    "slideshow": {
     "slide_type": ""
    },
    "tags": []
   },
   "outputs": [],
   "source": []
  },
  {
   "cell_type": "code",
   "execution_count": 43,
   "id": "1a4e8ae6-836a-4ed1-ae09-ed90ae8c0238",
   "metadata": {
    "editable": true,
    "slideshow": {
     "slide_type": ""
    },
    "tags": []
   },
   "outputs": [],
   "source": [
    "# no previous\n",
    "\n",
    "class test():\n",
    "    def __init__(\n",
    "        self,\n",
    "        config_file,\n",
    "        count,\n",
    "        granularity,\n",
    "        now,\n",
    "        instrument,\n",
    "        price_types,\n",
    "        error_retry_interval = 5,\n",
    "        keep_complete_only = True\n",
    "    ):\n",
    "\n",
    "        # command line arguments\n",
    "        self.config_file = config_file\n",
    "        self.count = count\n",
    "        self.granularity = granularity\n",
    "        self.now = now\n",
    "        self.instrument = instrument\n",
    "        self.price_types = price_types\n",
    "        self.error_retry_interval = error_retry_interval\n",
    "        self.keep_complete_only = keep_complete_only\n",
    "\n",
    "        # initialize\n",
    "        self.timezone_to_use = 'America/Toronto'   # Don't change this!    # not sure we are using this... check later\n",
    "        self.end_date = None\n",
    "        self.output_file_sans_extension = 'output/' + granularity\n",
    "        self.start_time = datetime.datetime(2010, 1, 1, 0, 0, 0, tzinfo=datetime.timezone.utc).timestamp()\n",
    "        self.timezone = pytz.timezone(self.timezone_to_use)  # not sure we are using this... check later\n",
    "\n",
    "\n",
    "        self.end_date_original = int(time.mktime(datetime.datetime.now().timetuple()))\n",
    "        \n",
    "\n",
    "    def load_config(self):\n",
    "        with open(self.config_file) as f:\n",
    "            self.config = json.load(f)\n",
    "\n",
    "    def get_headers(self):\n",
    "        self.headers = get_oanda_headers(self.config)\n",
    "\n",
    "\n",
    "    def get_instrument_candlesticks(self, end_date):\n",
    "        url = (\n",
    "            self.config['server']\n",
    "            + '/v3/instruments/' + self.instrument\n",
    "            + '/candles?count=' + str(self.count)\n",
    "            + '&price=' + self.price_types\n",
    "            + '&granularity=' + self.granularity\n",
    "            + '&to=' + str(end_date)\n",
    "        )\n",
    "        \n",
    "        worked = False\n",
    "        while not worked:\n",
    "            try:\n",
    "                r = requests.get(url, headers = self.headers)\n",
    "                worked = True\n",
    "            except:\n",
    "                time.sleep(error_retry_interval)\n",
    "        \n",
    "        rj = r.json()\n",
    "        return rj\n",
    "\n",
    "\n",
    "\n",
    "\n",
    "\n",
    "    def booger(self):\n",
    "        \n",
    "        finished = False\n",
    "        end_date = self.end_date_original\n",
    "\n",
    "        self.insert_many_list = []\n",
    "\n",
    "        # loop through the timestamp ranges for each set of n=count values\n",
    "        while not finished:\n",
    "\n",
    "            # retrieve the instrument candlesticks from the Oanda server\n",
    "            rj = self.get_instrument_candlesticks(end_date) # instrument, count, price_types, granularity, end_date)        \n",
    "            candlesticks = rj['candles']\n",
    "            \n",
    "            # deal with timestamps and time-related content\n",
    "            date_list = []\n",
    "            for candle in candlesticks:\n",
    "                deal_with_candlestick_format_and_time(candle, self.timezone)\n",
    "                date_list.append(candle['time'])\n",
    "                \n",
    "            rj['timestamp_int_min'] = min(date_list)\n",
    "            rj['timestamp_int_max'] = max(date_list)\n",
    "\n",
    "\n",
    "            for candle in rj['candles']:\n",
    "                candle['instrument'] = self.instrument\n",
    "                candle['granularity'] = self.granularity\n",
    "\n",
    "                if self.keep_complete_only:\n",
    "                    if candle['complete']:    \n",
    "                        self.insert_many_list.append(candle)\n",
    "                else:\n",
    "                    self.insert_many_list.append(candle)\n",
    "            \n",
    "\n",
    "            # Are we done?\n",
    "            if len(date_list) < count:\n",
    "                finished = True\n",
    "\n",
    "            if min(date_list) < self.start_time:\n",
    "                finished = True\n",
    "            \n",
    "            # prepare for the next iteration\n",
    "            end_date = rj['timestamp_int_min'] - 0.1\n",
    "\n",
    "\n",
    "    def fit(self):\n",
    "        self.load_config()\n",
    "        self.get_headers()\n",
    "        self.booger()\n",
    "        "
   ]
  },
  {
   "cell_type": "code",
   "execution_count": 44,
   "id": "487cf834-b91f-4610-afc6-d436c442a927",
   "metadata": {
    "editable": true,
    "slideshow": {
     "slide_type": ""
    },
    "tags": []
   },
   "outputs": [],
   "source": [
    "t = test(config_file, count, granularity, now, instrument, price_types, error_retry_interval = 5)\n",
    "t.fit()"
   ]
  },
  {
   "cell_type": "code",
   "execution_count": 45,
   "id": "b941e58b-98ce-4ee6-9685-52bbdc110b21",
   "metadata": {
    "editable": true,
    "slideshow": {
     "slide_type": ""
    },
    "tags": []
   },
   "outputs": [
    {
     "name": "stdout",
     "output_type": "stream",
     "text": [
      "[{'ask_c': 1.41837,\n",
      "  'ask_h': 1.41934,\n",
      "  'ask_l': 1.41837,\n",
      "  'ask_o': 1.41934,\n",
      "  'ask_return': -0.0009700000000001374,\n",
      "  'ask_volatility': 0.0009700000000001374,\n",
      "  'bid_c': 1.41737,\n",
      "  'bid_h': 1.41834,\n",
      "  'bid_l': 1.41737,\n",
      "  'bid_o': 1.41834,\n",
      "  'bid_return': -0.0009699999999999154,\n",
      "  'bid_volatility': 0.0009699999999999154,\n",
      "  'complete': True,\n",
      "  'granularity': 'D',\n",
      "  'hour': 17,\n",
      "  'instrument': 'EUR_USD',\n",
      "  'mid_c': 1.41787,\n",
      "  'mid_h': 1.41884,\n",
      "  'mid_l': 1.41787,\n",
      "  'mid_o': 1.41884,\n",
      "  'mid_return': -0.0009700000000001374,\n",
      "  'mid_volatility': 0.0009700000000001374,\n",
      "  'time': 1192222800,\n",
      "  'time_iso': '2007-10-12T17:00:00-04:00',\n",
      "  'volume': 3,\n",
      "  'weekday': 4},\n",
      " {'ask_c': 1.4181,\n",
      "  'ask_h': 1.41862,\n",
      "  'ask_l': 1.4171,\n",
      "  'ask_o': 1.41862,\n",
      "  'ask_return': -0.000520000000000076,\n",
      "  'ask_volatility': 0.0015199999999999658,\n",
      "  'bid_c': 1.4171,\n",
      "  'bid_h': 1.41725,\n",
      "  'bid_l': 1.4161,\n",
      "  'bid_o': 1.41712,\n",
      "  'bid_return': -1.999999999990898e-05,\n",
      "  'bid_volatility': 0.0011499999999999844,\n",
      "  'complete': True,\n",
      "  'granularity': 'D',\n",
      "  'hour': 17,\n",
      "  'instrument': 'EUR_USD',\n",
      "  'mid_c': 1.4176,\n",
      "  'mid_h': 1.41787,\n",
      "  'mid_l': 1.4166,\n",
      "  'mid_o': 1.41787,\n",
      "  'mid_return': -0.00026999999999999247,\n",
      "  'mid_volatility': 0.0012699999999998823,\n",
      "  'time': 1192309200,\n",
      "  'time_iso': '2007-10-13T17:00:00-04:00',\n",
      "  'volume': 381,\n",
      "  'weekday': 5},\n",
      " {'ask_c': 1.42055,\n",
      "  'ask_h': 1.4244,\n",
      "  'ask_l': 1.41629,\n",
      "  'ask_o': 1.4181,\n",
      "  'ask_return': 0.0024500000000000632,\n",
      "  'ask_volatility': 0.008110000000000062,\n",
      "  'bid_c': 1.42046,\n",
      "  'bid_h': 1.42431,\n",
      "  'bid_l': 1.416,\n",
      "  'bid_o': 1.4171,\n",
      "  'bid_return': 0.0033600000000000296,\n",
      "  'bid_volatility': 0.00831000000000004,\n",
      "  'complete': True,\n",
      "  'granularity': 'D',\n",
      "  'hour': 17,\n",
      "  'instrument': 'EUR_USD',\n",
      "  'mid_c': 1.4205,\n",
      "  'mid_h': 1.42436,\n",
      "  'mid_l': 1.41619,\n",
      "  'mid_o': 1.4176,\n",
      "  'mid_return': 0.0029000000000001247,\n",
      "  'mid_volatility': 0.00817000000000001,\n",
      "  'time': 1192395600,\n",
      "  'time_iso': '2007-10-14T17:00:00-04:00',\n",
      "  'volume': 16300,\n",
      "  'weekday': 6}]\n"
     ]
    }
   ],
   "source": [
    "pp.pprint(t.insert_many_list[0:3])"
   ]
  },
  {
   "cell_type": "code",
   "execution_count": null,
   "id": "a0e6e4a2-64a3-4305-bb12-a7611721a856",
   "metadata": {
    "editable": true,
    "slideshow": {
     "slide_type": ""
    },
    "tags": []
   },
   "outputs": [],
   "source": []
  }
 ],
 "metadata": {
  "kernelspec": {
   "display_name": "Python 3 (ipykernel)",
   "language": "python",
   "name": "python3"
  },
  "language_info": {
   "codemirror_mode": {
    "name": "ipython",
    "version": 3
   },
   "file_extension": ".py",
   "mimetype": "text/x-python",
   "name": "python",
   "nbconvert_exporter": "python",
   "pygments_lexer": "ipython3",
   "version": "3.10.12"
  }
 },
 "nbformat": 4,
 "nbformat_minor": 5
}
