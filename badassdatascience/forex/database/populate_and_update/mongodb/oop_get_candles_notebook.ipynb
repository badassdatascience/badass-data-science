{
 "cells": [
  {
   "cell_type": "code",
   "execution_count": null,
   "id": "fb7f38c8-3a88-4ad9-acd7-3ccf1d4191a6",
   "metadata": {
    "editable": true,
    "slideshow": {
     "slide_type": ""
    },
    "tags": []
   },
   "outputs": [],
   "source": []
  },
  {
   "cell_type": "markdown",
   "id": "61e905f0-fbe0-4cd0-9ec7-ca78b719ee3c",
   "metadata": {
    "editable": true,
    "slideshow": {
     "slide_type": ""
    },
    "tags": []
   },
   "source": [
    "## Load useful system libraries"
   ]
  },
  {
   "cell_type": "code",
   "execution_count": 1,
   "id": "0b22c610-4496-410a-8842-9ee43a3fcd9c",
   "metadata": {
    "editable": true,
    "slideshow": {
     "slide_type": ""
    },
    "tags": []
   },
   "outputs": [],
   "source": [
    "import datetime"
   ]
  },
  {
   "cell_type": "markdown",
   "id": "1de29366-4eae-41e8-a4b3-f1a7c739ca96",
   "metadata": {
    "editable": true,
    "slideshow": {
     "slide_type": ""
    },
    "tags": []
   },
   "source": [
    "## Timestamp start"
   ]
  },
  {
   "cell_type": "code",
   "execution_count": 2,
   "id": "ff223924-9873-409c-bb4c-9530359c5499",
   "metadata": {
    "editable": true,
    "slideshow": {
     "slide_type": ""
    },
    "tags": []
   },
   "outputs": [
    {
     "name": "stdout",
     "output_type": "stream",
     "text": [
      "2025-04-23 14:55:38.619499\n",
      "1745445338.619499\n"
     ]
    }
   ],
   "source": [
    "time_start = datetime.datetime.utcnow()\n",
    "print(time_start)\n",
    "print(time_start.timestamp())"
   ]
  },
  {
   "cell_type": "markdown",
   "id": "277bc271-423d-45a6-9c4d-07dd5556abef",
   "metadata": {
    "editable": true,
    "slideshow": {
     "slide_type": ""
    },
    "tags": []
   },
   "source": [
    "## Load the class that manages the API-based data pull"
   ]
  },
  {
   "cell_type": "code",
   "execution_count": 3,
   "id": "70859f95-8511-4087-b171-ae64dddd1a7e",
   "metadata": {
    "editable": true,
    "slideshow": {
     "slide_type": ""
    },
    "tags": []
   },
   "outputs": [],
   "source": [
    "from badassdatascience.forex.database.populate_and_update.mongodb.oop_get_candles import CandlePull"
   ]
  },
  {
   "cell_type": "markdown",
   "id": "8991b091-c0c5-4517-a432-1ab4e79a2bf4",
   "metadata": {
    "editable": true,
    "slideshow": {
     "slide_type": ""
    },
    "tags": []
   },
   "source": [
    "## Parameterization with papermill"
   ]
  },
  {
   "cell_type": "code",
   "execution_count": 4,
   "id": "d12ff29d-1367-4ea7-a9a5-a05215cabf12",
   "metadata": {
    "editable": true,
    "slideshow": {
     "slide_type": ""
    },
    "tags": [
     "parameters"
    ]
   },
   "outputs": [],
   "source": [
    "# This cell is tagged `parameters`\n",
    "\n",
    "config_file = '/home/emily/Desktop/projects/test/badass-data-science/badassdatascience/forex/data/DEVELOPMENT.json'\n",
    "granularity = 'H1'\n",
    "instrument = 'AUD_USD'\n",
    "error_retry_interval = 2"
   ]
  },
  {
   "cell_type": "markdown",
   "id": "312b3fb9-0aa5-4d4b-ab54-99893d5cfbe1",
   "metadata": {
    "editable": true,
    "slideshow": {
     "slide_type": ""
    },
    "tags": []
   },
   "source": [
    "## Additional parameters (Do not change these!)"
   ]
  },
  {
   "cell_type": "code",
   "execution_count": 5,
   "id": "f058e0c8-0a4c-479e-8296-9865238de1af",
   "metadata": {
    "editable": true,
    "slideshow": {
     "slide_type": ""
    },
    "tags": []
   },
   "outputs": [],
   "source": [
    "count = 5000 \n",
    "price_types = 'BAM'"
   ]
  },
  {
   "cell_type": "markdown",
   "id": "7498b6a1-f292-4ede-8fb4-b8e3846d6272",
   "metadata": {
    "editable": true,
    "slideshow": {
     "slide_type": ""
    },
    "tags": []
   },
   "source": [
    "## Confirm the correct parameterization"
   ]
  },
  {
   "cell_type": "code",
   "execution_count": 6,
   "id": "af9e9466-edf9-4ab6-9eb3-05b9018123ea",
   "metadata": {
    "editable": true,
    "slideshow": {
     "slide_type": ""
    },
    "tags": []
   },
   "outputs": [
    {
     "name": "stdout",
     "output_type": "stream",
     "text": [
      "/home/emily/Desktop/projects/test/badass-data-science/badassdatascience/forex/data/DEVELOPMENT.json\n",
      "5000\n",
      "H1\n",
      "AUD_USD\n",
      "BAM\n",
      "2\n"
     ]
    }
   ],
   "source": [
    "print(config_file)\n",
    "print(count)\n",
    "print(granularity)\n",
    "print(instrument)\n",
    "print(price_types)\n",
    "print(error_retry_interval)"
   ]
  },
  {
   "cell_type": "markdown",
   "id": "cf29635c-4fd9-4ba5-8dee-15b188382e95",
   "metadata": {
    "editable": true,
    "slideshow": {
     "slide_type": ""
    },
    "tags": []
   },
   "source": [
    "## Pull the source data from Oanda using the API and deposit it into the database"
   ]
  },
  {
   "cell_type": "code",
   "execution_count": 7,
   "id": "487cf834-b91f-4610-afc6-d436c442a927",
   "metadata": {
    "editable": true,
    "scrolled": true,
    "slideshow": {
     "slide_type": ""
    },
    "tags": []
   },
   "outputs": [],
   "source": [
    "try:\n",
    "    pull = CandlePull(\n",
    "        config_file, count, granularity, instrument, price_types, error_retry_interval = error_retry_interval,\n",
    "    )\n",
    "    pull.fit()\n",
    "except:\n",
    "    print('Something went wrong... add error content later to this output.')"
   ]
  },
  {
   "cell_type": "markdown",
   "id": "06904e3d-e74e-456c-abf1-832695518639",
   "metadata": {
    "editable": true,
    "slideshow": {
     "slide_type": ""
    },
    "tags": []
   },
   "source": [
    "## QA"
   ]
  },
  {
   "cell_type": "code",
   "execution_count": null,
   "id": "9810694e-63b4-4f73-b8d2-5e52aba5795f",
   "metadata": {
    "editable": true,
    "slideshow": {
     "slide_type": ""
    },
    "tags": []
   },
   "outputs": [],
   "source": [
    "len(pull.to_insert)"
   ]
  },
  {
   "cell_type": "code",
   "execution_count": null,
   "id": "93f5e12d-a196-467c-8702-96dd673427b1",
   "metadata": {
    "editable": true,
    "slideshow": {
     "slide_type": ""
    },
    "tags": []
   },
   "outputs": [],
   "source": [
    "pull.df"
   ]
  },
  {
   "cell_type": "code",
   "execution_count": null,
   "id": "a7b513dc-ea43-4f75-bf99-85fb0cddc3a3",
   "metadata": {
    "editable": true,
    "slideshow": {
     "slide_type": ""
    },
    "tags": []
   },
   "outputs": [],
   "source": [
    "pull.time_filtered_df"
   ]
  },
  {
   "cell_type": "markdown",
   "id": "3ad082da-af0b-4a8d-aad2-2b3369deda0a",
   "metadata": {
    "editable": true,
    "slideshow": {
     "slide_type": ""
    },
    "tags": []
   },
   "source": [
    "## Timestamp end"
   ]
  },
  {
   "cell_type": "code",
   "execution_count": null,
   "id": "4131d543-232a-4083-8462-5ba5ed96ea1d",
   "metadata": {
    "editable": true,
    "slideshow": {
     "slide_type": ""
    },
    "tags": []
   },
   "outputs": [],
   "source": [
    "time_end = datetime.datetime.utcnow()\n",
    "print(time_end)\n",
    "print(time_end.timestamp())"
   ]
  }
 ],
 "metadata": {
  "kernelspec": {
   "display_name": "Python 3 (ipykernel)",
   "language": "python",
   "name": "python3"
  },
  "language_info": {
   "codemirror_mode": {
    "name": "ipython",
    "version": 3
   },
   "file_extension": ".py",
   "mimetype": "text/x-python",
   "name": "python",
   "nbconvert_exporter": "python",
   "pygments_lexer": "ipython3",
   "version": "3.10.12"
  }
 },
 "nbformat": 4,
 "nbformat_minor": 5
}
