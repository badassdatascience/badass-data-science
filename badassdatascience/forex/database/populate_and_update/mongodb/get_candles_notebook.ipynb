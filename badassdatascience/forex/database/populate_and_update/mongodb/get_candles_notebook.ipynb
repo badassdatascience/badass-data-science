{
 "cells": [
  {
   "cell_type": "code",
   "execution_count": null,
   "id": "26c7e3b9-a77e-4c0f-9bba-d7606339f22f",
   "metadata": {},
   "outputs": [],
   "source": []
  },
  {
   "cell_type": "code",
   "execution_count": null,
   "id": "05e72503-5903-4f84-8c79-a39a13262e37",
   "metadata": {},
   "outputs": [],
   "source": []
  },
  {
   "cell_type": "markdown",
   "id": "65082a9c-b5e8-4400-a373-3f68ebb37960",
   "metadata": {},
   "source": [
    "## Load useful libraries"
   ]
  },
  {
   "cell_type": "code",
   "execution_count": 1,
   "id": "eea5dd1d-7050-4e11-87f9-76fe87e5e9ed",
   "metadata": {
    "editable": true,
    "slideshow": {
     "slide_type": ""
    },
    "tags": []
   },
   "outputs": [],
   "source": [
    "import json\n",
    "import requests\n",
    "import datetime\n",
    "import time\n",
    "import pytz\n",
    "import pandas as pd\n",
    "\n",
    "import pprint as pp"
   ]
  },
  {
   "cell_type": "markdown",
   "id": "55cb4617-11c6-4bc3-86e9-eb24ab6494f5",
   "metadata": {
    "editable": true,
    "slideshow": {
     "slide_type": ""
    },
    "tags": []
   },
   "source": [
    "## User settings\n",
    "\n",
    "Using papermill, we can change this with command line arguments:"
   ]
  },
  {
   "cell_type": "code",
   "execution_count": 5,
   "id": "bc0256d5-c479-4d7e-97d8-893aea18d5c6",
   "metadata": {
    "editable": true,
    "slideshow": {
     "slide_type": ""
    },
    "tags": [
     "parameters"
    ]
   },
   "outputs": [],
   "source": [
    "# This cell is tagged `parameters`\n",
    "\n",
    "config_file = '/home/emily/Desktop/projects/test/badass-data-science/badassdatascience/forex/data/DEVELOPMENT.json'\n",
    "count = 5000 \n",
    "granularity = 'H1'\n",
    "output_file_sans_extension = 'output/H1'\n",
    "now = True\n",
    "instruments = 'EUR_USD,USD_CAD,USD_JPY,USD_CHF,AUD_USD,GBP_USD,NZD_USD'\n",
    "price_types = 'BAM'\n",
    "error_retry_interval = 5\n",
    "timezone_to_use = 'America/Toronto'   # Don't change this!\n",
    "\n",
    "end_date = None"
   ]
  },
  {
   "cell_type": "markdown",
   "id": "90e48e86-75ce-4c00-be90-048101ccf674",
   "metadata": {
    "editable": true,
    "slideshow": {
     "slide_type": ""
    },
    "tags": []
   },
   "source": [
    "## Convert the given instrument names to a list"
   ]
  },
  {
   "cell_type": "code",
   "execution_count": 6,
   "id": "656b694c-2fb4-4dc8-8dc6-6bd9a04fe0d4",
   "metadata": {
    "editable": true,
    "slideshow": {
     "slide_type": ""
    },
    "tags": []
   },
   "outputs": [],
   "source": [
    "instrument_list = instruments.split(',')"
   ]
  },
  {
   "cell_type": "markdown",
   "id": "8c751006-aad5-444c-8fe4-dcf0b47e099b",
   "metadata": {
    "editable": true,
    "slideshow": {
     "slide_type": ""
    },
    "tags": []
   },
   "source": [
    "## Quick QA of papermill's argument fill"
   ]
  },
  {
   "cell_type": "code",
   "execution_count": 7,
   "id": "05009d1e-b19a-4e2e-8cae-6e10bf791d39",
   "metadata": {
    "editable": true,
    "slideshow": {
     "slide_type": ""
    },
    "tags": []
   },
   "outputs": [
    {
     "name": "stdout",
     "output_type": "stream",
     "text": [
      "5000\n",
      "H1\n"
     ]
    }
   ],
   "source": [
    "print(count)\n",
    "print(granularity)"
   ]
  },
  {
   "cell_type": "markdown",
   "id": "ff9c5892-f295-41b4-8dfc-459129561948",
   "metadata": {
    "editable": true,
    "slideshow": {
     "slide_type": ""
    },
    "tags": []
   },
   "source": [
    "## See if we already have prior data"
   ]
  },
  {
   "cell_type": "code",
   "execution_count": 8,
   "id": "223df9da-d222-404b-af40-aca611eb3765",
   "metadata": {
    "editable": true,
    "slideshow": {
     "slide_type": ""
    },
    "tags": []
   },
   "outputs": [],
   "source": [
    "have_prior_data = True\n",
    "try:\n",
    "    df = pd.read_parquet(output_file_sans_extension + '.parquet')\n",
    "    df = df[df['complete']].copy()\n",
    "    df.head()\n",
    "except:\n",
    "    have_prior_data = False"
   ]
  },
  {
   "cell_type": "markdown",
   "id": "fc63ed25-0594-431b-97e3-d36ae9da401a",
   "metadata": {
    "editable": true,
    "slideshow": {
     "slide_type": ""
    },
    "tags": []
   },
   "source": [
    "## Define a function to pull min/max times per instrument"
   ]
  },
  {
   "cell_type": "code",
   "execution_count": 9,
   "id": "5df19653-c8bc-4c0e-a647-eb71c9800ca1",
   "metadata": {
    "editable": true,
    "slideshow": {
     "slide_type": ""
    },
    "tags": []
   },
   "outputs": [],
   "source": [
    "def get_min_max_times(df):\n",
    "\n",
    "    df_agg_min = df[['instrument', 'time']].groupby(['instrument'])['time'].agg('min').reset_index()\n",
    "    df_agg_min.index = df_agg_min['instrument']\n",
    "    df_agg_min.drop(columns = ['instrument'], inplace = True)\n",
    "    dict_instrument_to_min_time = df_agg_min.to_dict(orient = 'index')\n",
    "    pp.pprint(dict_instrument_to_min_time)\n",
    "\n",
    "    print()\n",
    "\n",
    "    df_agg_max = df[['instrument', 'time']].groupby(['instrument'])['time'].agg('max').reset_index()\n",
    "    df_agg_max.index = df_agg_max['instrument']\n",
    "    df_agg_max.drop(columns = ['instrument'], inplace = True)\n",
    "    dict_instrument_to_max_time = df_agg_max.to_dict(orient = 'index')\n",
    "    pp.pprint(dict_instrument_to_max_time)\n",
    "\n",
    "    print()\n",
    "\n",
    "    print(datetime.datetime.fromtimestamp(dict_instrument_to_min_time['AUD_USD']['time']))\n",
    "    print(datetime.datetime.fromtimestamp(dict_instrument_to_max_time['AUD_USD']['time']))\n",
    "\n",
    "    return dict_instrument_to_min_time, dict_instrument_to_max_time"
   ]
  },
  {
   "cell_type": "markdown",
   "id": "f739f1aa-5c3e-4c98-8361-67a7f0693136",
   "metadata": {
    "editable": true,
    "slideshow": {
     "slide_type": ""
    },
    "tags": []
   },
   "source": [
    "## See where we are at:"
   ]
  },
  {
   "cell_type": "code",
   "execution_count": 10,
   "id": "eb58ca77-0c35-429c-902e-0c9830e8cbc0",
   "metadata": {
    "editable": true,
    "slideshow": {
     "slide_type": ""
    },
    "tags": []
   },
   "outputs": [
    {
     "name": "stdout",
     "output_type": "stream",
     "text": [
      "{'AUD_USD': {'time': 1020715200},\n",
      " 'EUR_USD': {'time': 1020715200},\n",
      " 'GBP_USD': {'time': 1020715200},\n",
      " 'NZD_USD': {'time': 1032811200},\n",
      " 'USD_CAD': {'time': 1020801600},\n",
      " 'USD_CHF': {'time': 1020715200},\n",
      " 'USD_JPY': {'time': 1020715200}}\n",
      "\n",
      "{'AUD_USD': {'time': 1744977600},\n",
      " 'EUR_USD': {'time': 1744977600},\n",
      " 'GBP_USD': {'time': 1744977600},\n",
      " 'NZD_USD': {'time': 1744977600},\n",
      " 'USD_CAD': {'time': 1744977600},\n",
      " 'USD_CHF': {'time': 1744977600},\n",
      " 'USD_JPY': {'time': 1744977600}}\n",
      "\n",
      "2002-05-06 13:00:00\n",
      "2025-04-18 05:00:00\n"
     ]
    }
   ],
   "source": [
    "if have_prior_data:\n",
    "    dict_instrument_to_min_time, dict_instrument_to_max_time = get_min_max_times(df)"
   ]
  },
  {
   "cell_type": "markdown",
   "id": "353a25bd-9ea9-44ee-aa53-2ab8d9fb0c02",
   "metadata": {
    "editable": true,
    "slideshow": {
     "slide_type": ""
    },
    "tags": []
   },
   "source": [
    "## Specify the timezone\n",
    "\n",
    "Not sure this is needed..."
   ]
  },
  {
   "cell_type": "code",
   "execution_count": 11,
   "id": "60d52ed5-7943-4d8d-a466-e37d7c126bb0",
   "metadata": {
    "editable": true,
    "slideshow": {
     "slide_type": ""
    },
    "tags": []
   },
   "outputs": [],
   "source": [
    "timezone = pytz.timezone(timezone_to_use)"
   ]
  },
  {
   "cell_type": "markdown",
   "id": "2d045527-661b-41ff-9094-19c4b56728cb",
   "metadata": {
    "editable": true,
    "slideshow": {
     "slide_type": ""
    },
    "tags": []
   },
   "source": [
    "## Specify the end time for the loop"
   ]
  },
  {
   "cell_type": "code",
   "execution_count": 12,
   "id": "f73d4ae8-057d-4812-b7fe-7f3434f5f918",
   "metadata": {
    "editable": true,
    "slideshow": {
     "slide_type": ""
    },
    "tags": []
   },
   "outputs": [],
   "source": [
    "end_date_original = int(time.mktime(datetime.datetime.now().timetuple()))\n",
    "end_date = end_date_original"
   ]
  },
  {
   "cell_type": "markdown",
   "id": "a9ea3be5-b73d-4701-aec2-2d75e032f95b",
   "metadata": {
    "editable": true,
    "slideshow": {
     "slide_type": ""
    },
    "tags": []
   },
   "source": [
    "## Load the configuration file"
   ]
  },
  {
   "cell_type": "code",
   "execution_count": 14,
   "id": "b4205a9e-435c-44bc-8c29-7b4b41c08d62",
   "metadata": {
    "editable": true,
    "slideshow": {
     "slide_type": ""
    },
    "tags": []
   },
   "outputs": [],
   "source": [
    "with open(config_file) as f:\n",
    "    config = json.load(f)"
   ]
  },
  {
   "cell_type": "markdown",
   "id": "fc0cc274-5e60-437d-a596-73265ca3f7b0",
   "metadata": {
    "editable": true,
    "slideshow": {
     "slide_type": ""
    },
    "tags": []
   },
   "source": [
    "## Define a function to obtain the Oanda headers\n",
    "\n",
    "Later:  Move this into a library module or something..."
   ]
  },
  {
   "cell_type": "code",
   "execution_count": 15,
   "id": "d8162445-dee4-4890-982a-64e5aace9397",
   "metadata": {
    "editable": true,
    "slideshow": {
     "slide_type": ""
    },
    "tags": []
   },
   "outputs": [],
   "source": [
    "def get_oanda_headers():\n",
    "    headers = {\n",
    "        'Content-Type' : 'application/json',\n",
    "        'Authorization' : 'Bearer ' + config['token'],\n",
    "        'Accept-Datetime-Format' : config['oanda_date_time_format'],\n",
    "    }\n",
    "    return headers"
   ]
  },
  {
   "cell_type": "markdown",
   "id": "74a8d5b7-e567-4c01-b4cf-b4ad4a017773",
   "metadata": {
    "editable": true,
    "slideshow": {
     "slide_type": ""
    },
    "tags": []
   },
   "source": [
    "## Get the Oanda headers"
   ]
  },
  {
   "cell_type": "code",
   "execution_count": 16,
   "id": "5ada482b-a94d-499a-a7a8-334908616a63",
   "metadata": {
    "editable": true,
    "slideshow": {
     "slide_type": ""
    },
    "tags": []
   },
   "outputs": [],
   "source": [
    "headers = get_oanda_headers()"
   ]
  },
  {
   "cell_type": "markdown",
   "id": "38b72398-d6b1-435c-91f5-2b5999665eee",
   "metadata": {
    "editable": true,
    "slideshow": {
     "slide_type": ""
    },
    "tags": []
   },
   "source": [
    "## Define a function send a request to Oanda for historical candlestick values"
   ]
  },
  {
   "cell_type": "code",
   "execution_count": 17,
   "id": "d552c8cd-c34e-44fe-b1bd-407c4925c01c",
   "metadata": {
    "editable": true,
    "slideshow": {
     "slide_type": ""
    },
    "tags": []
   },
   "outputs": [],
   "source": [
    "def get_instrument_candlesticks(instrument, count, price_types, granularity, end_date):\n",
    "    url = config['server'] + '/v3/instruments/' + instrument + '/candles?count=' + str(count) + '&price=' + price_types + '&granularity=' + granularity + '&to=' + str(end_date)\n",
    "\n",
    "    worked = False\n",
    "    while not worked:\n",
    "        try:\n",
    "            r = requests.get(url, headers=headers)\n",
    "            worked = True\n",
    "        except:\n",
    "            time.sleep(error_retry_interval)\n",
    "        \n",
    "    rj = r.json()\n",
    "    return rj"
   ]
  },
  {
   "cell_type": "markdown",
   "id": "54b1c013-115f-48cf-bee0-2008a87ef88a",
   "metadata": {
    "editable": true,
    "slideshow": {
     "slide_type": ""
    },
    "tags": []
   },
   "source": [
    "## Process the candlestick data\n",
    "\n",
    "Here we add additional features.\n",
    "\n",
    "This alters the dictionary in place; not my favorite design idiom:"
   ]
  },
  {
   "cell_type": "code",
   "execution_count": 18,
   "id": "a70d33d9-ab40-4c09-92f6-1b1f4b04cec2",
   "metadata": {
    "editable": true,
    "slideshow": {
     "slide_type": ""
    },
    "tags": []
   },
   "outputs": [],
   "source": [
    "def deal_with_candlestick_format_and_time(candle):\n",
    "    candle['time'] = int(float(candle['time']))\n",
    "    time_dt = datetime.datetime.fromtimestamp(candle['time'], tz = timezone)\n",
    "    candle['time_iso'] = time_dt.isoformat()\n",
    "    candle['weekday'] = time_dt.weekday()\n",
    "    candle['hour'] = time_dt.hour\n",
    "\n",
    "    #\n",
    "    # deal with prices that are currently string values but need to be float\n",
    "    #\n",
    "    # and reorganize them\n",
    "    #\n",
    "    for price_type in ['bid', 'mid', 'ask']:\n",
    "        for candlestick_component in candle[price_type].keys():\n",
    "            candle[price_type + '_' + candlestick_component] = float(candle[price_type][candlestick_component])\n",
    "        candle[price_type + '_return'] = candle[price_type + '_c'] - candle[price_type + '_o']\n",
    "        candle[price_type + '_volatility'] = candle[price_type + '_h'] - candle[price_type + '_l']\n",
    "            \n",
    "    for price_type in ['bid', 'mid', 'ask']:\n",
    "        del(candle[price_type])\n",
    "            \n",
    "    return None"
   ]
  },
  {
   "cell_type": "markdown",
   "id": "5f895299-ae29-4ff0-aa92-13feff183134",
   "metadata": {
    "editable": true,
    "slideshow": {
     "slide_type": ""
    },
    "tags": []
   },
   "source": [
    "## Iterate through the instruments while pulling Oanda data for each instrument"
   ]
  },
  {
   "cell_type": "code",
   "execution_count": 19,
   "id": "f12a06aa-11d5-4188-b81c-481ce4964031",
   "metadata": {
    "editable": true,
    "slideshow": {
     "slide_type": ""
    },
    "tags": []
   },
   "outputs": [],
   "source": [
    "if True:  # Might make this a function later... setting up proper indentation to do so:\n",
    "    \n",
    "    insert_many_list = []\n",
    "    for instrument in instrument_list:\n",
    "\n",
    "        if have_prior_data:\n",
    "            try:\n",
    "                start_time = dict_instrument_to_max_time[instrument]['time']\n",
    "            except:\n",
    "                start_time = datetime.datetime(2010, 1, 1, 0, 0, 0, tzinfo=datetime.timezone.utc)\n",
    "\n",
    "\n",
    "        \n",
    "        # initialize per instrument\n",
    "        finished = False\n",
    "        end_date = end_date_original\n",
    "\n",
    "        # loop through the timestamp ranges for each set of n=count values\n",
    "        while not finished:\n",
    "\n",
    "            # retrieve the instrument candlesticks from the Oanda server\n",
    "            rj = get_instrument_candlesticks(instrument, count, price_types, granularity, end_date)        \n",
    "\n",
    "\n",
    "            candlesticks = rj['candles']\n",
    "            \n",
    "            # deal with timestamps and time-related content\n",
    "            date_list = []\n",
    "            for candle in candlesticks:\n",
    "                deal_with_candlestick_format_and_time(candle)\n",
    "                date_list.append(candle['time'])\n",
    "                \n",
    "            rj['timestamp_int_min'] = min(date_list)\n",
    "            rj['timestamp_int_max'] = max(date_list)\n",
    "\n",
    "            insert_many_list.append(rj)\n",
    "\n",
    "            # Are we done with the current instrument?\n",
    "            if len(date_list) < count:\n",
    "                finished = True\n",
    "\n",
    "            if min(date_list) < start_time:\n",
    "                finished = True\n",
    "            \n",
    "            # prepare for the next iteration\n",
    "            end_date = rj['timestamp_int_min'] - 0.1"
   ]
  },
  {
   "cell_type": "markdown",
   "id": "5ca95358-358b-41fb-8d3d-cf21bf0eec35",
   "metadata": {
    "editable": true,
    "slideshow": {
     "slide_type": ""
    },
    "tags": []
   },
   "source": [
    "## Finalize each record's data (annotation)"
   ]
  },
  {
   "cell_type": "code",
   "execution_count": 21,
   "id": "46d8b151-ebf5-4b8d-b837-4c35d3bd73ca",
   "metadata": {
    "editable": true,
    "slideshow": {
     "slide_type": ""
    },
    "tags": []
   },
   "outputs": [],
   "source": [
    "if True:\n",
    "    candlestick_dict_list = []\n",
    "    for item in insert_many_list:\n",
    "        instrument = item['instrument']\n",
    "        granularity = item['granularity']\n",
    "        candles_list = item['candles']\n",
    "        for candle in candles_list:\n",
    "\n",
    "            candle['instrument'] = instrument\n",
    "            candle['granularity'] = granularity\n",
    "\n",
    "            # we check this again later in the final assembly\n",
    "            if candle['complete']:\n",
    "                candlestick_dict_list.append(candle)"
   ]
  },
  {
   "cell_type": "markdown",
   "id": "5c8692a6-301e-4acf-bbf8-5375c63c74c9",
   "metadata": {
    "editable": true,
    "slideshow": {
     "slide_type": ""
    },
    "tags": []
   },
   "source": [
    "## Create a new dataframe using the newly obtained data"
   ]
  },
  {
   "cell_type": "code",
   "execution_count": 22,
   "id": "db2c2e46-b43d-469e-a464-10c5b64f0f0c",
   "metadata": {
    "editable": true,
    "slideshow": {
     "slide_type": ""
    },
    "tags": []
   },
   "outputs": [
    {
     "data": {
      "text/html": [
       "<div>\n",
       "<style scoped>\n",
       "    .dataframe tbody tr th:only-of-type {\n",
       "        vertical-align: middle;\n",
       "    }\n",
       "\n",
       "    .dataframe tbody tr th {\n",
       "        vertical-align: top;\n",
       "    }\n",
       "\n",
       "    .dataframe thead th {\n",
       "        text-align: right;\n",
       "    }\n",
       "</style>\n",
       "<table border=\"1\" class=\"dataframe\">\n",
       "  <thead>\n",
       "    <tr style=\"text-align: right;\">\n",
       "      <th></th>\n",
       "      <th>complete</th>\n",
       "      <th>volume</th>\n",
       "      <th>time</th>\n",
       "      <th>time_iso</th>\n",
       "      <th>weekday</th>\n",
       "      <th>hour</th>\n",
       "      <th>bid_o</th>\n",
       "      <th>bid_h</th>\n",
       "      <th>bid_l</th>\n",
       "      <th>bid_c</th>\n",
       "      <th>...</th>\n",
       "      <th>mid_return</th>\n",
       "      <th>mid_volatility</th>\n",
       "      <th>ask_o</th>\n",
       "      <th>ask_h</th>\n",
       "      <th>ask_l</th>\n",
       "      <th>ask_c</th>\n",
       "      <th>ask_return</th>\n",
       "      <th>ask_volatility</th>\n",
       "      <th>instrument</th>\n",
       "      <th>granularity</th>\n",
       "    </tr>\n",
       "  </thead>\n",
       "  <tbody>\n",
       "    <tr>\n",
       "      <th>0</th>\n",
       "      <td>True</td>\n",
       "      <td>8045</td>\n",
       "      <td>1719842400</td>\n",
       "      <td>2024-07-01T10:00:00-04:00</td>\n",
       "      <td>0</td>\n",
       "      <td>10</td>\n",
       "      <td>1.07553</td>\n",
       "      <td>1.07692</td>\n",
       "      <td>1.07278</td>\n",
       "      <td>1.07294</td>\n",
       "      <td>...</td>\n",
       "      <td>-0.00259</td>\n",
       "      <td>0.00414</td>\n",
       "      <td>1.07567</td>\n",
       "      <td>1.07716</td>\n",
       "      <td>1.07293</td>\n",
       "      <td>1.07308</td>\n",
       "      <td>-0.00259</td>\n",
       "      <td>0.00423</td>\n",
       "      <td>EUR_USD</td>\n",
       "      <td>H1</td>\n",
       "    </tr>\n",
       "    <tr>\n",
       "      <th>1</th>\n",
       "      <td>True</td>\n",
       "      <td>4910</td>\n",
       "      <td>1719846000</td>\n",
       "      <td>2024-07-01T11:00:00-04:00</td>\n",
       "      <td>0</td>\n",
       "      <td>11</td>\n",
       "      <td>1.07295</td>\n",
       "      <td>1.07298</td>\n",
       "      <td>1.07189</td>\n",
       "      <td>1.07262</td>\n",
       "      <td>...</td>\n",
       "      <td>-0.00033</td>\n",
       "      <td>0.00109</td>\n",
       "      <td>1.07309</td>\n",
       "      <td>1.07312</td>\n",
       "      <td>1.07203</td>\n",
       "      <td>1.07276</td>\n",
       "      <td>-0.00033</td>\n",
       "      <td>0.00109</td>\n",
       "      <td>EUR_USD</td>\n",
       "      <td>H1</td>\n",
       "    </tr>\n",
       "    <tr>\n",
       "      <th>2</th>\n",
       "      <td>True</td>\n",
       "      <td>2600</td>\n",
       "      <td>1719849600</td>\n",
       "      <td>2024-07-01T12:00:00-04:00</td>\n",
       "      <td>0</td>\n",
       "      <td>12</td>\n",
       "      <td>1.07263</td>\n",
       "      <td>1.07324</td>\n",
       "      <td>1.07235</td>\n",
       "      <td>1.07307</td>\n",
       "      <td>...</td>\n",
       "      <td>0.00045</td>\n",
       "      <td>0.00090</td>\n",
       "      <td>1.07278</td>\n",
       "      <td>1.07340</td>\n",
       "      <td>1.07250</td>\n",
       "      <td>1.07323</td>\n",
       "      <td>0.00045</td>\n",
       "      <td>0.00090</td>\n",
       "      <td>EUR_USD</td>\n",
       "      <td>H1</td>\n",
       "    </tr>\n",
       "    <tr>\n",
       "      <th>3</th>\n",
       "      <td>True</td>\n",
       "      <td>2099</td>\n",
       "      <td>1719853200</td>\n",
       "      <td>2024-07-01T13:00:00-04:00</td>\n",
       "      <td>0</td>\n",
       "      <td>13</td>\n",
       "      <td>1.07308</td>\n",
       "      <td>1.07328</td>\n",
       "      <td>1.07272</td>\n",
       "      <td>1.07286</td>\n",
       "      <td>...</td>\n",
       "      <td>-0.00022</td>\n",
       "      <td>0.00055</td>\n",
       "      <td>1.07323</td>\n",
       "      <td>1.07343</td>\n",
       "      <td>1.07288</td>\n",
       "      <td>1.07301</td>\n",
       "      <td>-0.00022</td>\n",
       "      <td>0.00055</td>\n",
       "      <td>EUR_USD</td>\n",
       "      <td>H1</td>\n",
       "    </tr>\n",
       "    <tr>\n",
       "      <th>4</th>\n",
       "      <td>True</td>\n",
       "      <td>2151</td>\n",
       "      <td>1719856800</td>\n",
       "      <td>2024-07-01T14:00:00-04:00</td>\n",
       "      <td>0</td>\n",
       "      <td>14</td>\n",
       "      <td>1.07287</td>\n",
       "      <td>1.07295</td>\n",
       "      <td>1.07234</td>\n",
       "      <td>1.07289</td>\n",
       "      <td>...</td>\n",
       "      <td>0.00001</td>\n",
       "      <td>0.00060</td>\n",
       "      <td>1.07303</td>\n",
       "      <td>1.07309</td>\n",
       "      <td>1.07250</td>\n",
       "      <td>1.07303</td>\n",
       "      <td>0.00000</td>\n",
       "      <td>0.00059</td>\n",
       "      <td>EUR_USD</td>\n",
       "      <td>H1</td>\n",
       "    </tr>\n",
       "  </tbody>\n",
       "</table>\n",
       "<p>5 rows × 26 columns</p>\n",
       "</div>"
      ],
      "text/plain": [
       "   complete  volume        time                   time_iso  weekday  hour  \\\n",
       "0      True    8045  1719842400  2024-07-01T10:00:00-04:00        0    10   \n",
       "1      True    4910  1719846000  2024-07-01T11:00:00-04:00        0    11   \n",
       "2      True    2600  1719849600  2024-07-01T12:00:00-04:00        0    12   \n",
       "3      True    2099  1719853200  2024-07-01T13:00:00-04:00        0    13   \n",
       "4      True    2151  1719856800  2024-07-01T14:00:00-04:00        0    14   \n",
       "\n",
       "     bid_o    bid_h    bid_l    bid_c  ...  mid_return  mid_volatility  \\\n",
       "0  1.07553  1.07692  1.07278  1.07294  ...    -0.00259         0.00414   \n",
       "1  1.07295  1.07298  1.07189  1.07262  ...    -0.00033         0.00109   \n",
       "2  1.07263  1.07324  1.07235  1.07307  ...     0.00045         0.00090   \n",
       "3  1.07308  1.07328  1.07272  1.07286  ...    -0.00022         0.00055   \n",
       "4  1.07287  1.07295  1.07234  1.07289  ...     0.00001         0.00060   \n",
       "\n",
       "     ask_o    ask_h    ask_l    ask_c  ask_return  ask_volatility  instrument  \\\n",
       "0  1.07567  1.07716  1.07293  1.07308    -0.00259         0.00423     EUR_USD   \n",
       "1  1.07309  1.07312  1.07203  1.07276    -0.00033         0.00109     EUR_USD   \n",
       "2  1.07278  1.07340  1.07250  1.07323     0.00045         0.00090     EUR_USD   \n",
       "3  1.07323  1.07343  1.07288  1.07301    -0.00022         0.00055     EUR_USD   \n",
       "4  1.07303  1.07309  1.07250  1.07303     0.00000         0.00059     EUR_USD   \n",
       "\n",
       "   granularity  \n",
       "0           H1  \n",
       "1           H1  \n",
       "2           H1  \n",
       "3           H1  \n",
       "4           H1  \n",
       "\n",
       "[5 rows x 26 columns]"
      ]
     },
     "execution_count": 22,
     "metadata": {},
     "output_type": "execute_result"
    }
   ],
   "source": [
    "df_new = pd.DataFrame(candlestick_dict_list)\n",
    "df_new = df_new[df_new['complete']].copy()\n",
    "\n",
    "df_new.head()"
   ]
  },
  {
   "cell_type": "markdown",
   "id": "c0fe2c2f-632a-4222-82cd-85422397a869",
   "metadata": {
    "editable": true,
    "slideshow": {
     "slide_type": ""
    },
    "tags": []
   },
   "source": [
    "## Calculate the newly pulled min and max times\n",
    "\n",
    "This only includes newly pulled data, not any previous data we may have loaded above:"
   ]
  },
  {
   "cell_type": "code",
   "execution_count": 23,
   "id": "68354852-6eba-497e-962d-c4eb2385398f",
   "metadata": {
    "editable": true,
    "slideshow": {
     "slide_type": ""
    },
    "tags": []
   },
   "outputs": [
    {
     "name": "stdout",
     "output_type": "stream",
     "text": [
      "{'AUD_USD': {'time': 1719842400},\n",
      " 'EUR_USD': {'time': 1719842400},\n",
      " 'GBP_USD': {'time': 1719842400},\n",
      " 'NZD_USD': {'time': 1719842400},\n",
      " 'USD_CAD': {'time': 1719842400},\n",
      " 'USD_CHF': {'time': 1719842400},\n",
      " 'USD_JPY': {'time': 1719842400}}\n",
      "\n",
      "{'AUD_USD': {'time': 1745269200},\n",
      " 'EUR_USD': {'time': 1745269200},\n",
      " 'GBP_USD': {'time': 1745269200},\n",
      " 'NZD_USD': {'time': 1745269200},\n",
      " 'USD_CAD': {'time': 1745269200},\n",
      " 'USD_CHF': {'time': 1745269200},\n",
      " 'USD_JPY': {'time': 1745269200}}\n",
      "\n",
      "2024-07-01 07:00:00\n",
      "2025-04-21 14:00:00\n"
     ]
    }
   ],
   "source": [
    "dict_instrument_to_min_time, dict_instrument_to_max_time = get_min_max_times(df_new)"
   ]
  },
  {
   "cell_type": "markdown",
   "id": "ac944e61-c24d-4063-8122-d58b4cffb158",
   "metadata": {
    "editable": true,
    "slideshow": {
     "slide_type": ""
    },
    "tags": []
   },
   "source": [
    "## QA #2"
   ]
  },
  {
   "cell_type": "code",
   "execution_count": 25,
   "id": "5307618d-0694-4ace-8e2c-eea06ff35c76",
   "metadata": {
    "editable": true,
    "slideshow": {
     "slide_type": ""
    },
    "tags": []
   },
   "outputs": [
    {
     "name": "stdout",
     "output_type": "stream",
     "text": [
      "907007\n",
      "35000\n"
     ]
    }
   ],
   "source": [
    "print(len(df.index))\n",
    "print(len(df_new.index))"
   ]
  },
  {
   "cell_type": "code",
   "execution_count": 26,
   "id": "60284e16-1368-457d-ad12-983d63be756c",
   "metadata": {
    "editable": true,
    "slideshow": {
     "slide_type": ""
    },
    "tags": []
   },
   "outputs": [
    {
     "data": {
      "text/html": [
       "<div>\n",
       "<style scoped>\n",
       "    .dataframe tbody tr th:only-of-type {\n",
       "        vertical-align: middle;\n",
       "    }\n",
       "\n",
       "    .dataframe tbody tr th {\n",
       "        vertical-align: top;\n",
       "    }\n",
       "\n",
       "    .dataframe thead th {\n",
       "        text-align: right;\n",
       "    }\n",
       "</style>\n",
       "<table border=\"1\" class=\"dataframe\">\n",
       "  <thead>\n",
       "    <tr style=\"text-align: right;\">\n",
       "      <th></th>\n",
       "      <th>complete</th>\n",
       "      <th>volume</th>\n",
       "      <th>time</th>\n",
       "      <th>time_iso</th>\n",
       "      <th>weekday</th>\n",
       "      <th>hour</th>\n",
       "      <th>bid_o</th>\n",
       "      <th>bid_h</th>\n",
       "      <th>bid_l</th>\n",
       "      <th>bid_c</th>\n",
       "      <th>...</th>\n",
       "      <th>mid_return</th>\n",
       "      <th>mid_volatility</th>\n",
       "      <th>ask_o</th>\n",
       "      <th>ask_h</th>\n",
       "      <th>ask_l</th>\n",
       "      <th>ask_c</th>\n",
       "      <th>ask_return</th>\n",
       "      <th>ask_volatility</th>\n",
       "      <th>instrument</th>\n",
       "      <th>granularity</th>\n",
       "    </tr>\n",
       "  </thead>\n",
       "  <tbody>\n",
       "    <tr>\n",
       "      <th>0</th>\n",
       "      <td>True</td>\n",
       "      <td>2921</td>\n",
       "      <td>1719554400</td>\n",
       "      <td>2024-06-28T02:00:00-04:00</td>\n",
       "      <td>4</td>\n",
       "      <td>2</td>\n",
       "      <td>1.06898</td>\n",
       "      <td>1.06976</td>\n",
       "      <td>1.06891</td>\n",
       "      <td>1.06963</td>\n",
       "      <td>...</td>\n",
       "      <td>0.00065</td>\n",
       "      <td>0.00085</td>\n",
       "      <td>1.06912</td>\n",
       "      <td>1.06990</td>\n",
       "      <td>1.06906</td>\n",
       "      <td>1.06978</td>\n",
       "      <td>0.00066</td>\n",
       "      <td>0.00084</td>\n",
       "      <td>EUR_USD</td>\n",
       "      <td>H1</td>\n",
       "    </tr>\n",
       "    <tr>\n",
       "      <th>1</th>\n",
       "      <td>True</td>\n",
       "      <td>4242</td>\n",
       "      <td>1719558000</td>\n",
       "      <td>2024-06-28T03:00:00-04:00</td>\n",
       "      <td>4</td>\n",
       "      <td>3</td>\n",
       "      <td>1.06965</td>\n",
       "      <td>1.07032</td>\n",
       "      <td>1.06908</td>\n",
       "      <td>1.06963</td>\n",
       "      <td>...</td>\n",
       "      <td>-0.00002</td>\n",
       "      <td>0.00124</td>\n",
       "      <td>1.06979</td>\n",
       "      <td>1.07047</td>\n",
       "      <td>1.06924</td>\n",
       "      <td>1.06977</td>\n",
       "      <td>-0.00002</td>\n",
       "      <td>0.00123</td>\n",
       "      <td>EUR_USD</td>\n",
       "      <td>H1</td>\n",
       "    </tr>\n",
       "    <tr>\n",
       "      <th>2</th>\n",
       "      <td>True</td>\n",
       "      <td>3510</td>\n",
       "      <td>1719561600</td>\n",
       "      <td>2024-06-28T04:00:00-04:00</td>\n",
       "      <td>4</td>\n",
       "      <td>4</td>\n",
       "      <td>1.06961</td>\n",
       "      <td>1.06994</td>\n",
       "      <td>1.06914</td>\n",
       "      <td>1.06971</td>\n",
       "      <td>...</td>\n",
       "      <td>0.00009</td>\n",
       "      <td>0.00079</td>\n",
       "      <td>1.06977</td>\n",
       "      <td>1.07008</td>\n",
       "      <td>1.06930</td>\n",
       "      <td>1.06986</td>\n",
       "      <td>0.00009</td>\n",
       "      <td>0.00078</td>\n",
       "      <td>EUR_USD</td>\n",
       "      <td>H1</td>\n",
       "    </tr>\n",
       "    <tr>\n",
       "      <th>3</th>\n",
       "      <td>True</td>\n",
       "      <td>3072</td>\n",
       "      <td>1719565200</td>\n",
       "      <td>2024-06-28T05:00:00-04:00</td>\n",
       "      <td>4</td>\n",
       "      <td>5</td>\n",
       "      <td>1.06969</td>\n",
       "      <td>1.07087</td>\n",
       "      <td>1.06926</td>\n",
       "      <td>1.07087</td>\n",
       "      <td>...</td>\n",
       "      <td>0.00117</td>\n",
       "      <td>0.00161</td>\n",
       "      <td>1.06985</td>\n",
       "      <td>1.07103</td>\n",
       "      <td>1.06941</td>\n",
       "      <td>1.07101</td>\n",
       "      <td>0.00116</td>\n",
       "      <td>0.00162</td>\n",
       "      <td>EUR_USD</td>\n",
       "      <td>H1</td>\n",
       "    </tr>\n",
       "    <tr>\n",
       "      <th>4</th>\n",
       "      <td>True</td>\n",
       "      <td>2862</td>\n",
       "      <td>1719568800</td>\n",
       "      <td>2024-06-28T06:00:00-04:00</td>\n",
       "      <td>4</td>\n",
       "      <td>6</td>\n",
       "      <td>1.07085</td>\n",
       "      <td>1.07097</td>\n",
       "      <td>1.07037</td>\n",
       "      <td>1.07089</td>\n",
       "      <td>...</td>\n",
       "      <td>0.00004</td>\n",
       "      <td>0.00060</td>\n",
       "      <td>1.07099</td>\n",
       "      <td>1.07112</td>\n",
       "      <td>1.07051</td>\n",
       "      <td>1.07103</td>\n",
       "      <td>0.00004</td>\n",
       "      <td>0.00061</td>\n",
       "      <td>EUR_USD</td>\n",
       "      <td>H1</td>\n",
       "    </tr>\n",
       "  </tbody>\n",
       "</table>\n",
       "<p>5 rows × 26 columns</p>\n",
       "</div>"
      ],
      "text/plain": [
       "   complete  volume        time                   time_iso  weekday  hour  \\\n",
       "0      True    2921  1719554400  2024-06-28T02:00:00-04:00        4     2   \n",
       "1      True    4242  1719558000  2024-06-28T03:00:00-04:00        4     3   \n",
       "2      True    3510  1719561600  2024-06-28T04:00:00-04:00        4     4   \n",
       "3      True    3072  1719565200  2024-06-28T05:00:00-04:00        4     5   \n",
       "4      True    2862  1719568800  2024-06-28T06:00:00-04:00        4     6   \n",
       "\n",
       "     bid_o    bid_h    bid_l    bid_c  ...  mid_return  mid_volatility  \\\n",
       "0  1.06898  1.06976  1.06891  1.06963  ...     0.00065         0.00085   \n",
       "1  1.06965  1.07032  1.06908  1.06963  ...    -0.00002         0.00124   \n",
       "2  1.06961  1.06994  1.06914  1.06971  ...     0.00009         0.00079   \n",
       "3  1.06969  1.07087  1.06926  1.07087  ...     0.00117         0.00161   \n",
       "4  1.07085  1.07097  1.07037  1.07089  ...     0.00004         0.00060   \n",
       "\n",
       "     ask_o    ask_h    ask_l    ask_c  ask_return  ask_volatility  instrument  \\\n",
       "0  1.06912  1.06990  1.06906  1.06978     0.00066         0.00084     EUR_USD   \n",
       "1  1.06979  1.07047  1.06924  1.06977    -0.00002         0.00123     EUR_USD   \n",
       "2  1.06977  1.07008  1.06930  1.06986     0.00009         0.00078     EUR_USD   \n",
       "3  1.06985  1.07103  1.06941  1.07101     0.00116         0.00162     EUR_USD   \n",
       "4  1.07099  1.07112  1.07051  1.07103     0.00004         0.00061     EUR_USD   \n",
       "\n",
       "   granularity  \n",
       "0           H1  \n",
       "1           H1  \n",
       "2           H1  \n",
       "3           H1  \n",
       "4           H1  \n",
       "\n",
       "[5 rows x 26 columns]"
      ]
     },
     "execution_count": 26,
     "metadata": {},
     "output_type": "execute_result"
    }
   ],
   "source": [
    "df.head()"
   ]
  },
  {
   "cell_type": "code",
   "execution_count": 27,
   "id": "0af5b836-8e88-4586-be90-3ace0cae3f2e",
   "metadata": {
    "editable": true,
    "slideshow": {
     "slide_type": ""
    },
    "tags": []
   },
   "outputs": [
    {
     "data": {
      "text/html": [
       "<div>\n",
       "<style scoped>\n",
       "    .dataframe tbody tr th:only-of-type {\n",
       "        vertical-align: middle;\n",
       "    }\n",
       "\n",
       "    .dataframe tbody tr th {\n",
       "        vertical-align: top;\n",
       "    }\n",
       "\n",
       "    .dataframe thead th {\n",
       "        text-align: right;\n",
       "    }\n",
       "</style>\n",
       "<table border=\"1\" class=\"dataframe\">\n",
       "  <thead>\n",
       "    <tr style=\"text-align: right;\">\n",
       "      <th></th>\n",
       "      <th>complete</th>\n",
       "      <th>volume</th>\n",
       "      <th>time</th>\n",
       "      <th>time_iso</th>\n",
       "      <th>weekday</th>\n",
       "      <th>hour</th>\n",
       "      <th>bid_o</th>\n",
       "      <th>bid_h</th>\n",
       "      <th>bid_l</th>\n",
       "      <th>bid_c</th>\n",
       "      <th>...</th>\n",
       "      <th>mid_return</th>\n",
       "      <th>mid_volatility</th>\n",
       "      <th>ask_o</th>\n",
       "      <th>ask_h</th>\n",
       "      <th>ask_l</th>\n",
       "      <th>ask_c</th>\n",
       "      <th>ask_return</th>\n",
       "      <th>ask_volatility</th>\n",
       "      <th>instrument</th>\n",
       "      <th>granularity</th>\n",
       "    </tr>\n",
       "  </thead>\n",
       "  <tbody>\n",
       "    <tr>\n",
       "      <th>0</th>\n",
       "      <td>True</td>\n",
       "      <td>8045</td>\n",
       "      <td>1719842400</td>\n",
       "      <td>2024-07-01T10:00:00-04:00</td>\n",
       "      <td>0</td>\n",
       "      <td>10</td>\n",
       "      <td>1.07553</td>\n",
       "      <td>1.07692</td>\n",
       "      <td>1.07278</td>\n",
       "      <td>1.07294</td>\n",
       "      <td>...</td>\n",
       "      <td>-0.00259</td>\n",
       "      <td>0.00414</td>\n",
       "      <td>1.07567</td>\n",
       "      <td>1.07716</td>\n",
       "      <td>1.07293</td>\n",
       "      <td>1.07308</td>\n",
       "      <td>-0.00259</td>\n",
       "      <td>0.00423</td>\n",
       "      <td>EUR_USD</td>\n",
       "      <td>H1</td>\n",
       "    </tr>\n",
       "    <tr>\n",
       "      <th>1</th>\n",
       "      <td>True</td>\n",
       "      <td>4910</td>\n",
       "      <td>1719846000</td>\n",
       "      <td>2024-07-01T11:00:00-04:00</td>\n",
       "      <td>0</td>\n",
       "      <td>11</td>\n",
       "      <td>1.07295</td>\n",
       "      <td>1.07298</td>\n",
       "      <td>1.07189</td>\n",
       "      <td>1.07262</td>\n",
       "      <td>...</td>\n",
       "      <td>-0.00033</td>\n",
       "      <td>0.00109</td>\n",
       "      <td>1.07309</td>\n",
       "      <td>1.07312</td>\n",
       "      <td>1.07203</td>\n",
       "      <td>1.07276</td>\n",
       "      <td>-0.00033</td>\n",
       "      <td>0.00109</td>\n",
       "      <td>EUR_USD</td>\n",
       "      <td>H1</td>\n",
       "    </tr>\n",
       "    <tr>\n",
       "      <th>2</th>\n",
       "      <td>True</td>\n",
       "      <td>2600</td>\n",
       "      <td>1719849600</td>\n",
       "      <td>2024-07-01T12:00:00-04:00</td>\n",
       "      <td>0</td>\n",
       "      <td>12</td>\n",
       "      <td>1.07263</td>\n",
       "      <td>1.07324</td>\n",
       "      <td>1.07235</td>\n",
       "      <td>1.07307</td>\n",
       "      <td>...</td>\n",
       "      <td>0.00045</td>\n",
       "      <td>0.00090</td>\n",
       "      <td>1.07278</td>\n",
       "      <td>1.07340</td>\n",
       "      <td>1.07250</td>\n",
       "      <td>1.07323</td>\n",
       "      <td>0.00045</td>\n",
       "      <td>0.00090</td>\n",
       "      <td>EUR_USD</td>\n",
       "      <td>H1</td>\n",
       "    </tr>\n",
       "    <tr>\n",
       "      <th>3</th>\n",
       "      <td>True</td>\n",
       "      <td>2099</td>\n",
       "      <td>1719853200</td>\n",
       "      <td>2024-07-01T13:00:00-04:00</td>\n",
       "      <td>0</td>\n",
       "      <td>13</td>\n",
       "      <td>1.07308</td>\n",
       "      <td>1.07328</td>\n",
       "      <td>1.07272</td>\n",
       "      <td>1.07286</td>\n",
       "      <td>...</td>\n",
       "      <td>-0.00022</td>\n",
       "      <td>0.00055</td>\n",
       "      <td>1.07323</td>\n",
       "      <td>1.07343</td>\n",
       "      <td>1.07288</td>\n",
       "      <td>1.07301</td>\n",
       "      <td>-0.00022</td>\n",
       "      <td>0.00055</td>\n",
       "      <td>EUR_USD</td>\n",
       "      <td>H1</td>\n",
       "    </tr>\n",
       "    <tr>\n",
       "      <th>4</th>\n",
       "      <td>True</td>\n",
       "      <td>2151</td>\n",
       "      <td>1719856800</td>\n",
       "      <td>2024-07-01T14:00:00-04:00</td>\n",
       "      <td>0</td>\n",
       "      <td>14</td>\n",
       "      <td>1.07287</td>\n",
       "      <td>1.07295</td>\n",
       "      <td>1.07234</td>\n",
       "      <td>1.07289</td>\n",
       "      <td>...</td>\n",
       "      <td>0.00001</td>\n",
       "      <td>0.00060</td>\n",
       "      <td>1.07303</td>\n",
       "      <td>1.07309</td>\n",
       "      <td>1.07250</td>\n",
       "      <td>1.07303</td>\n",
       "      <td>0.00000</td>\n",
       "      <td>0.00059</td>\n",
       "      <td>EUR_USD</td>\n",
       "      <td>H1</td>\n",
       "    </tr>\n",
       "  </tbody>\n",
       "</table>\n",
       "<p>5 rows × 26 columns</p>\n",
       "</div>"
      ],
      "text/plain": [
       "   complete  volume        time                   time_iso  weekday  hour  \\\n",
       "0      True    8045  1719842400  2024-07-01T10:00:00-04:00        0    10   \n",
       "1      True    4910  1719846000  2024-07-01T11:00:00-04:00        0    11   \n",
       "2      True    2600  1719849600  2024-07-01T12:00:00-04:00        0    12   \n",
       "3      True    2099  1719853200  2024-07-01T13:00:00-04:00        0    13   \n",
       "4      True    2151  1719856800  2024-07-01T14:00:00-04:00        0    14   \n",
       "\n",
       "     bid_o    bid_h    bid_l    bid_c  ...  mid_return  mid_volatility  \\\n",
       "0  1.07553  1.07692  1.07278  1.07294  ...    -0.00259         0.00414   \n",
       "1  1.07295  1.07298  1.07189  1.07262  ...    -0.00033         0.00109   \n",
       "2  1.07263  1.07324  1.07235  1.07307  ...     0.00045         0.00090   \n",
       "3  1.07308  1.07328  1.07272  1.07286  ...    -0.00022         0.00055   \n",
       "4  1.07287  1.07295  1.07234  1.07289  ...     0.00001         0.00060   \n",
       "\n",
       "     ask_o    ask_h    ask_l    ask_c  ask_return  ask_volatility  instrument  \\\n",
       "0  1.07567  1.07716  1.07293  1.07308    -0.00259         0.00423     EUR_USD   \n",
       "1  1.07309  1.07312  1.07203  1.07276    -0.00033         0.00109     EUR_USD   \n",
       "2  1.07278  1.07340  1.07250  1.07323     0.00045         0.00090     EUR_USD   \n",
       "3  1.07323  1.07343  1.07288  1.07301    -0.00022         0.00055     EUR_USD   \n",
       "4  1.07303  1.07309  1.07250  1.07303     0.00000         0.00059     EUR_USD   \n",
       "\n",
       "   granularity  \n",
       "0           H1  \n",
       "1           H1  \n",
       "2           H1  \n",
       "3           H1  \n",
       "4           H1  \n",
       "\n",
       "[5 rows x 26 columns]"
      ]
     },
     "execution_count": 27,
     "metadata": {},
     "output_type": "execute_result"
    }
   ],
   "source": [
    "df_new.head()"
   ]
  },
  {
   "cell_type": "markdown",
   "id": "935e99b8-4f4e-47de-b08a-d0f8eec31db0",
   "metadata": {
    "editable": true,
    "slideshow": {
     "slide_type": ""
    },
    "tags": []
   },
   "source": [
    "## Calculate the complete dataframe\n",
    "\n",
    "Result should combine previously and newly obtained results, whilst removing duplicates:"
   ]
  },
  {
   "cell_type": "code",
   "execution_count": 28,
   "id": "eaef9ace-f0bb-45e5-9247-c487e1cc9bca",
   "metadata": {
    "editable": true,
    "slideshow": {
     "slide_type": ""
    },
    "tags": []
   },
   "outputs": [],
   "source": [
    "df_full = pd.concat([df, df_new]).sort_values(['time', 'instrument']).drop_duplicates()\n",
    "\n",
    "count = 0\n",
    "for instrument in instrument_list:\n",
    "    df_temp = df_full[df_full['instrument'] == instrument]\n",
    "    count += len(df_temp['time'].unique())"
   ]
  },
  {
   "cell_type": "markdown",
   "id": "178cbff1-05cc-48d8-8a1c-8385b449b948",
   "metadata": {
    "editable": true,
    "slideshow": {
     "slide_type": ""
    },
    "tags": []
   },
   "source": [
    "## More QA"
   ]
  },
  {
   "cell_type": "code",
   "execution_count": 29,
   "id": "5bdd3552-ea7e-4317-89f9-6e1625aaf163",
   "metadata": {
    "editable": true,
    "slideshow": {
     "slide_type": ""
    },
    "tags": []
   },
   "outputs": [
    {
     "name": "stdout",
     "output_type": "stream",
     "text": [
      "True\n"
     ]
    }
   ],
   "source": [
    "print(len(df_full.index) == count)"
   ]
  },
  {
   "cell_type": "code",
   "execution_count": 30,
   "id": "e13eec54-dedc-41cb-87e0-16df04b74c35",
   "metadata": {
    "editable": true,
    "slideshow": {
     "slide_type": ""
    },
    "tags": []
   },
   "outputs": [
    {
     "name": "stdout",
     "output_type": "stream",
     "text": [
      "942007\n",
      "942007\n",
      "907238\n"
     ]
    }
   ],
   "source": [
    "print(len(df.index) + len(df_new.index))\n",
    "print(len(pd.concat([df, df_new]).sort_values(['time', 'instrument']).index))\n",
    "print(len(df_full.index))"
   ]
  },
  {
   "cell_type": "code",
   "execution_count": null,
   "id": "f7d680ad-e206-4838-9073-b6cb4961f88e",
   "metadata": {
    "editable": true,
    "slideshow": {
     "slide_type": ""
    },
    "tags": []
   },
   "outputs": [],
   "source": []
  }
 ],
 "metadata": {
  "kernelspec": {
   "display_name": "Python 3 (ipykernel)",
   "language": "python",
   "name": "python3"
  },
  "language_info": {
   "codemirror_mode": {
    "name": "ipython",
    "version": 3
   },
   "file_extension": ".py",
   "mimetype": "text/x-python",
   "name": "python",
   "nbconvert_exporter": "python",
   "pygments_lexer": "ipython3",
   "version": "3.10.12"
  }
 },
 "nbformat": 4,
 "nbformat_minor": 5
}
