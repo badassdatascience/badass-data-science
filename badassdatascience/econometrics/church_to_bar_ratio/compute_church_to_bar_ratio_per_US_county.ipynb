{
 "cells": [
  {
   "cell_type": "code",
   "execution_count": null,
   "id": "134a3b3b-45e8-4739-aa72-5207320de089",
   "metadata": {},
   "outputs": [],
   "source": []
  },
  {
   "cell_type": "code",
   "execution_count": null,
   "id": "b68eb0fb-75de-438b-af3f-bb74b0e3a62a",
   "metadata": {},
   "outputs": [],
   "source": []
  },
  {
   "cell_type": "markdown",
   "id": "60e3f786-9775-400a-94b6-566a5e007838",
   "metadata": {},
   "source": [
    "## Load the libraries we need"
   ]
  },
  {
   "cell_type": "code",
   "execution_count": null,
   "id": "23d4e532-d257-41e2-9d70-d6653651456b",
   "metadata": {},
   "outputs": [],
   "source": [
    "import pandas as pd\n",
    "import numpy as np\n",
    "import os\n",
    "from bs4 import BeautifulSoup"
   ]
  },
  {
   "cell_type": "markdown",
   "id": "0c51e633-ef1a-40f1-8f54-13ac9bb17895",
   "metadata": {},
   "source": [
    "## User settings"
   ]
  },
  {
   "cell_type": "code",
   "execution_count": null,
   "id": "498f5dc5-5075-4514-b499-b4ebd88e2f15",
   "metadata": {},
   "outputs": [],
   "source": [
    "year = 2022\n",
    "\n",
    "filename_cbp = os.environ['BDS_HOME'] + '/badassdatascience/econometrics/church_to_bar_ratio/' + str(year) + '/data' + '/CBP2022.CB2200CBP-Data.csv'\n",
    "output_directory = os.environ['BDS_HOME'] + '/badassdatascience/econometrics/church_to_bar_ratio/' + str(year) + '/output'\n",
    "data_directory = os.environ['BDS_HOME'] + '/badassdatascience/econometrics/church_to_bar_ratio/' + str(year) + '/data'\n",
    "\n",
    "output_file = output_directory + '/church_to_bar_ratio_by_US_county_' + str(year) + '.svg'\n",
    "\n",
    "# these are imported as strings due to non-numeric characters in a few rows for this column\n",
    "naics_drinking_places = '722410'\n",
    "naics_religious_organizations = '813110'\n",
    "\n",
    "number_of_groups = 9\n",
    "map_svg = data_directory + '/Usa_counties_large.svg'\n",
    "colors = ['#000000', '#F7F4F9', '#E7E1EF', '#D4B9DA', '#C994C7', '#DF65B0', '#E7298A', '#CE1256', '#980043', '#67001F']\n",
    "\n",
    "path_style = 'font-size:12px;fill-rule:nonzero;stroke:#FFFFFF;stroke-opacity:1;stroke-width:0.1;stroke-miterlimit:4;stroke-dasharray:none;stroke-linecap:butt;marker-start:none;stroke-linejoin:bevel;fill:'"
   ]
  },
  {
   "cell_type": "markdown",
   "id": "ab9e5a2b-c35c-41b5-a59a-718201280b55",
   "metadata": {},
   "source": [
    "## Define a function to obtain the FIPS code from a GEO_ID"
   ]
  },
  {
   "cell_type": "code",
   "execution_count": null,
   "id": "0d344027-22fe-4dd4-9302-7591c39051a0",
   "metadata": {},
   "outputs": [],
   "source": [
    "def get_FIPS(item):\n",
    "    new_item = item.strip().split('US')[-1]\n",
    "    if len(new_item) < 5:\n",
    "        return np.nan\n",
    "    else:\n",
    "        return new_item\n",
    "    return new_item"
   ]
  },
  {
   "cell_type": "markdown",
   "id": "1ae52f74-d8c4-45b6-8d67-cf1cf035bced",
   "metadata": {},
   "source": [
    "## Load and pre-process the County Business Patterns data\n",
    "\n",
    "As of 2025-01-18, the most recent year the US Census Bureau put this information out is 2022."
   ]
  },
  {
   "cell_type": "code",
   "execution_count": null,
   "id": "a0586910-6121-41e9-91d5-f03bca1cc4ef",
   "metadata": {},
   "outputs": [],
   "source": [
    "naics_list = [naics_drinking_places, naics_religious_organizations]\n",
    "\n",
    "df = (\n",
    "    pd.read_csv(filename_cbp, low_memory=False)\n",
    "    .iloc[1:, :]\n",
    "    .astype(\n",
    "        {\n",
    "            'ESTAB' : 'int64',\n",
    "            'YEAR' : 'int64',\n",
    "        }\n",
    "    )\n",
    ")\n",
    "\n",
    "df = df[(df['YEAR'] == year) & (df['NAICS2017'].isin(naics_list))]\n",
    "df['FIPS'] = df['GEO_ID'].apply(get_FIPS)\n",
    "df = df[['FIPS', 'NAICS2017', 'ESTAB']]\n",
    "df = df.dropna()"
   ]
  },
  {
   "cell_type": "code",
   "execution_count": null,
   "id": "ae57beab-7fa2-465f-9ec4-695ca42080c1",
   "metadata": {},
   "outputs": [],
   "source": [
    "df"
   ]
  },
  {
   "cell_type": "markdown",
   "id": "90201cb8-b53f-44e3-aab1-d9095f4c7ccd",
   "metadata": {},
   "source": [
    "## Aggregate to compute the count of establishments per (FIPS, NAICS) pair\n",
    "\n",
    "It looks like the NAICS values considered were specified in 2017 and the source data explicitly says so in that columns header name:"
   ]
  },
  {
   "cell_type": "code",
   "execution_count": null,
   "id": "eeff4e91-8eac-4981-a28c-6877cbe44894",
   "metadata": {},
   "outputs": [],
   "source": [
    "df_agg = (\n",
    "    df\n",
    "    .groupby(['FIPS', 'NAICS2017'])\n",
    "    ['ESTAB']\n",
    "    .agg(\n",
    "        'sum'\n",
    "    )\n",
    ")\n",
    "\n",
    "df_agg = df_agg.reset_index()"
   ]
  },
  {
   "cell_type": "code",
   "execution_count": null,
   "id": "45145a2c-68a6-43da-9952-f3b2593755ab",
   "metadata": {},
   "outputs": [],
   "source": [
    "df_agg"
   ]
  },
  {
   "cell_type": "markdown",
   "id": "3e541607-61ed-4861-92cc-be303107a1d6",
   "metadata": {},
   "source": [
    "## Divide the set by NAICS to prepare for join by FIPS code\n",
    "\n",
    "I suppose we could create a pivot table instead for this task, but this works and is easy to understand:"
   ]
  },
  {
   "cell_type": "code",
   "execution_count": null,
   "id": "52f81017-f597-405d-81a7-b12066455e45",
   "metadata": {},
   "outputs": [],
   "source": [
    "df_drinking_places = df_agg[df_agg['NAICS2017'] == naics_drinking_places].copy()\n",
    "df_drinking_places['drinking_places'] = df_drinking_places['ESTAB']\n",
    "df_drinking_places = df_drinking_places.drop(columns = ['ESTAB']).sort_values(by = ['FIPS'])\n",
    "\n",
    "df_religious_organizations = df_agg[df_agg['NAICS2017'] == naics_religious_organizations].copy()\n",
    "df_religious_organizations['religious_organizations'] = df_religious_organizations['ESTAB']\n",
    "df_religious_organizations = df_religious_organizations.drop(columns = ['ESTAB']).sort_values(by = ['FIPS'])"
   ]
  },
  {
   "cell_type": "code",
   "execution_count": null,
   "id": "939f500b-0ff2-44c0-9386-0d44af8e6af5",
   "metadata": {},
   "outputs": [],
   "source": [
    "df_drinking_places"
   ]
  },
  {
   "cell_type": "code",
   "execution_count": null,
   "id": "a30be54e-f880-42aa-9643-fb09153c3987",
   "metadata": {},
   "outputs": [],
   "source": [
    "df_religious_organizations"
   ]
  },
  {
   "cell_type": "markdown",
   "id": "c080b069-4e70-4ab0-ba96-c4f3707ea3ac",
   "metadata": {},
   "source": [
    "## Join so we obtain both counts per FIPS code on the same row"
   ]
  },
  {
   "cell_type": "code",
   "execution_count": null,
   "id": "23c05216-c27c-4a37-bdcf-a8402ebe687c",
   "metadata": {},
   "outputs": [],
   "source": [
    "df_cbr = pd.merge(\n",
    "    df_religious_organizations[['FIPS', 'religious_organizations']],\n",
    "    df_drinking_places[['FIPS', 'drinking_places']],\n",
    "    on = ['FIPS'],\n",
    "    how = 'left',\n",
    ").sort_values(by = ['FIPS'])"
   ]
  },
  {
   "cell_type": "code",
   "execution_count": null,
   "id": "9ba9a0a6-8cdf-4c0f-85ef-f60f1963b49d",
   "metadata": {},
   "outputs": [],
   "source": [
    "df_cbr"
   ]
  },
  {
   "cell_type": "markdown",
   "id": "c8ee6653-59f7-4211-8921-40c3a1a17169",
   "metadata": {},
   "source": [
    "## Add a pseudocount to prevent divide by zero issues\n",
    "\n",
    "We first fill the NaN values with zeros."
   ]
  },
  {
   "cell_type": "code",
   "execution_count": null,
   "id": "60b8de70-14b1-4e08-aefb-27f18b2d22e6",
   "metadata": {},
   "outputs": [],
   "source": [
    "df_cbr = df_cbr.fillna(0.)\n",
    "df_cbr['religious_organizations'] = df_cbr['religious_organizations'] + 1.\n",
    "df_cbr['drinking_places'] = df_cbr['drinking_places'] + 1."
   ]
  },
  {
   "cell_type": "code",
   "execution_count": null,
   "id": "182f89a0-c1b6-4d38-a931-ce833f25ca25",
   "metadata": {},
   "outputs": [],
   "source": [
    "df_cbr"
   ]
  },
  {
   "cell_type": "markdown",
   "id": "2c4b29d7-2443-4a80-95b8-81a21e580b81",
   "metadata": {},
   "source": [
    "## Compute the church to bar ratio and its log10"
   ]
  },
  {
   "cell_type": "code",
   "execution_count": null,
   "id": "d76dcc75-716e-4af8-b87f-8fea2fd1ffd1",
   "metadata": {},
   "outputs": [],
   "source": [
    "df_cbr['church_to_bar_ratio'] = df_cbr['religious_organizations'] / df_cbr['drinking_places']\n",
    "df_cbr['log10_church_to_bar_ratio'] = np.log10(df_cbr['church_to_bar_ratio'])"
   ]
  },
  {
   "cell_type": "code",
   "execution_count": null,
   "id": "e45a4528-bb71-422e-905e-94233c63973f",
   "metadata": {},
   "outputs": [],
   "source": [
    "df_cbr"
   ]
  },
  {
   "cell_type": "markdown",
   "id": "9da2d0a9-20aa-4d7f-a9ee-c36bb9275289",
   "metadata": {},
   "source": [
    "## QA"
   ]
  },
  {
   "cell_type": "markdown",
   "id": "368fa9af-3cb1-4262-9e3e-116d2d14653f",
   "metadata": {},
   "source": [
    "#### Should be empty"
   ]
  },
  {
   "cell_type": "code",
   "execution_count": null,
   "id": "f8e02fec-1685-4790-b3e1-f17c1d9fc541",
   "metadata": {},
   "outputs": [],
   "source": [
    "df_cbr[df_cbr['church_to_bar_ratio'].isna()]"
   ]
  },
  {
   "cell_type": "code",
   "execution_count": null,
   "id": "93f21eeb-e1d1-4afe-8d86-8aa0a48e85e4",
   "metadata": {},
   "outputs": [],
   "source": [
    "df_cbr[df_cbr['log10_church_to_bar_ratio'].isna()]"
   ]
  },
  {
   "cell_type": "markdown",
   "id": "479c158d-7a30-41d3-bd9f-9bca4dfe4c0e",
   "metadata": {},
   "source": [
    "#### Review the value ranges"
   ]
  },
  {
   "cell_type": "code",
   "execution_count": null,
   "id": "21bdb963-2772-41e6-a17b-3dfe073b515c",
   "metadata": {},
   "outputs": [],
   "source": [
    "print(np.min(df_cbr['church_to_bar_ratio']), np.max(df_cbr['church_to_bar_ratio']))"
   ]
  },
  {
   "cell_type": "code",
   "execution_count": null,
   "id": "b60e3028-beda-44e0-8365-1240f598b78d",
   "metadata": {},
   "outputs": [],
   "source": [
    "print(np.min(df_cbr['log10_church_to_bar_ratio']), np.max(df_cbr['log10_church_to_bar_ratio']))"
   ]
  },
  {
   "cell_type": "markdown",
   "id": "3b7a435a-cdd6-4357-96ab-b12eb7a52d8e",
   "metadata": {},
   "source": [
    "## Shift the values so no negative ones remain"
   ]
  },
  {
   "cell_type": "code",
   "execution_count": null,
   "id": "d8a438fe-5520-407d-851c-7d88aa4d6774",
   "metadata": {},
   "outputs": [],
   "source": [
    "min_log10 = np.min(df_cbr['log10_church_to_bar_ratio'])\n",
    "df_cbr['zeroed_log10_church_to_bar_ratio'] = df_cbr['log10_church_to_bar_ratio'] - min_log10"
   ]
  },
  {
   "cell_type": "markdown",
   "id": "f62cc818-8b8e-4256-a0cb-ba685d485c88",
   "metadata": {},
   "source": [
    "## Define the color cutpoints"
   ]
  },
  {
   "cell_type": "code",
   "execution_count": null,
   "id": "60ce712e-ce15-4f5c-8d83-81d9a3034035",
   "metadata": {},
   "outputs": [],
   "source": [
    "color_interval = np.max(df_cbr['zeroed_log10_church_to_bar_ratio']) / np.float64(number_of_groups)\n",
    "\n",
    "cutpoints = []\n",
    "for n in range(0, np.int32(number_of_groups)):\n",
    "    start = color_interval * np.float64(n)\n",
    "    end = color_interval * np.float64(n + 1)\n",
    "    cutpoints.append( (n, start, end) )"
   ]
  },
  {
   "cell_type": "code",
   "execution_count": null,
   "id": "0cf39d02-2b97-437d-8fc9-25013496c4cc",
   "metadata": {},
   "outputs": [],
   "source": [
    "cutpoints"
   ]
  },
  {
   "cell_type": "markdown",
   "id": "19ad1a57-2ae4-449a-a654-9f150d077986",
   "metadata": {},
   "source": [
    "## Assign the per-county color using the cutpoints"
   ]
  },
  {
   "cell_type": "code",
   "execution_count": null,
   "id": "7e9140d7-bbce-4c15-a87d-189f9d9c327e",
   "metadata": {},
   "outputs": [],
   "source": [
    "def assign_color_group(item):\n",
    "    for n, start, end in cutpoints:\n",
    "        if item >= start and item <= end:\n",
    "            return np.int32(n)\n",
    "\n",
    "df_cbr['color_group'] = df_cbr['zeroed_log10_church_to_bar_ratio'].apply(assign_color_group)"
   ]
  },
  {
   "cell_type": "markdown",
   "id": "f10fc6c8-ce21-4ab0-88ec-3d7e57748ee0",
   "metadata": {},
   "source": [
    "## More QA"
   ]
  },
  {
   "cell_type": "markdown",
   "id": "5b2e56c3-1553-4510-8c37-a2a2b3a6391c",
   "metadata": {},
   "source": [
    "#### DataFrame should now have a color assignment for each row"
   ]
  },
  {
   "cell_type": "code",
   "execution_count": null,
   "id": "af88311c-e7fc-4778-8b7c-aa542dcfe479",
   "metadata": {},
   "outputs": [],
   "source": [
    "df_cbr"
   ]
  },
  {
   "cell_type": "markdown",
   "id": "988b966d-7c39-46bd-81a6-77c6a1221855",
   "metadata": {},
   "source": [
    "#### Should report an empty set\n",
    "\n",
    "I.e., there are no NaNs in the \"color_group\" column:"
   ]
  },
  {
   "cell_type": "code",
   "execution_count": null,
   "id": "98a1e6e8-ee6b-4951-80a7-22006ffc24a3",
   "metadata": {},
   "outputs": [],
   "source": [
    "df_cbr[df_cbr['color_group'].isna()]"
   ]
  },
  {
   "cell_type": "markdown",
   "id": "27333af7-6f2b-4dfe-b181-bcd0f532e814",
   "metadata": {},
   "source": [
    "## Create a lookup dictionary matching FIPS to color\n",
    "\n",
    "There might be a more elegant way to do this completely in Pandas, but that is left as an exercise for the reader!"
   ]
  },
  {
   "cell_type": "code",
   "execution_count": null,
   "id": "9aa8a721-0436-4e40-95e0-c5dbf3d69480",
   "metadata": {},
   "outputs": [],
   "source": [
    "color_group = {}\n",
    "for v, g in zip(df_cbr['FIPS'], df_cbr['color_group']):\n",
    "    color_group[v] = g"
   ]
  },
  {
   "cell_type": "markdown",
   "id": "a59abf5c-e12f-404a-8813-fa4e5e758a12",
   "metadata": {},
   "source": [
    "## Create the map"
   ]
  },
  {
   "cell_type": "code",
   "execution_count": null,
   "id": "5b5fcfe1-fe87-4ad5-bae0-3304b678bfbc",
   "metadata": {},
   "outputs": [],
   "source": [
    "svg = open(map_svg, 'r').read()\n",
    "soup = BeautifulSoup(svg, selfClosingTags=['defs','sodipodi:namedview'])\n",
    "paths = soup.findAll('path')\n",
    "colors.reverse()\n",
    "\n",
    "for p in paths:\n",
    "\n",
    "    plot = False\n",
    "    if p['class'][0].replace('c', '') in color_group:\n",
    "        color_class = color_group[p['class'][0].replace('c', '')]\n",
    "        plot = True\n",
    "\n",
    "    elif p['class'][0] == 'c':\n",
    "        color_class = 9\n",
    "        plot = True\n",
    "\n",
    "    if plot:\n",
    "        color = colors[color_class]\n",
    "        p['style'] = path_style + color"
   ]
  },
  {
   "cell_type": "markdown",
   "id": "7ab9e5e8-33e7-40a0-b14d-29b6068b771e",
   "metadata": {},
   "source": [
    "## Save the map"
   ]
  },
  {
   "cell_type": "code",
   "execution_count": null,
   "id": "597a53dd-5269-4875-9d86-1c74b8abf8a5",
   "metadata": {},
   "outputs": [],
   "source": [
    "with open(output_file, 'w') as f:\n",
    "    f.write(str(soup.prettify()))"
   ]
  },
  {
   "cell_type": "markdown",
   "id": "994edd87-9410-47b5-8020-c8956574c1e2",
   "metadata": {},
   "source": [
    "## Display the map"
   ]
  },
  {
   "cell_type": "code",
   "execution_count": null,
   "id": "67305bd3-121b-4cda-80fc-36d11805a564",
   "metadata": {},
   "outputs": [],
   "source": [
    "from IPython.display import SVG\n",
    "SVG(output_file)"
   ]
  }
 ],
 "metadata": {
  "kernelspec": {
   "display_name": "Python 3 (ipykernel)",
   "language": "python",
   "name": "python3"
  },
  "language_info": {
   "codemirror_mode": {
    "name": "ipython",
    "version": 3
   },
   "file_extension": ".py",
   "mimetype": "text/x-python",
   "name": "python",
   "nbconvert_exporter": "python",
   "pygments_lexer": "ipython3",
   "version": "3.10.12"
  }
 },
 "nbformat": 4,
 "nbformat_minor": 5
}
