{
 "cells": [
  {
   "cell_type": "code",
   "execution_count": null,
   "id": "c01257b4-03fe-4495-abb4-e6587afdabf6",
   "metadata": {},
   "outputs": [],
   "source": []
  },
  {
   "cell_type": "markdown",
   "id": "0dd916a8-ba98-4ea4-addc-d2ae62ada312",
   "metadata": {},
   "source": [
    "## Load useful libraries"
   ]
  },
  {
   "cell_type": "code",
   "execution_count": null,
   "id": "b88131dd-92d7-4a0c-bd5e-60c73af99067",
   "metadata": {},
   "outputs": [],
   "source": [
    "import pickle\n",
    "import json\n",
    "\n",
    "from tensorflow.keras.models import model_from_json\n",
    "\n",
    "from plotting_utilities import plot_basic_loss"
   ]
  },
  {
   "cell_type": "markdown",
   "id": "2eec3320-82dc-4318-9e3c-f65d4ee29048",
   "metadata": {},
   "source": [
    "## Specify which training run we are investigating"
   ]
  },
  {
   "cell_type": "code",
   "execution_count": null,
   "id": "dd708caf-a73a-4003-bc68-0daa7b5b3bb4",
   "metadata": {},
   "outputs": [],
   "source": [
    "application_root_directory = '/home/emily/Desktop/projects/test/badass-data-science/badassdatascience/forecasting/deep_learning'\n",
    "model_training_output_directory = application_root_directory + '/output/'"
   ]
  },
  {
   "cell_type": "code",
   "execution_count": null,
   "id": "047ea58a-73f0-44fb-9e01-f99f962c8a54",
   "metadata": {},
   "outputs": [],
   "source": [
    "#training_run = '57f47108-380d-4e78-aeb9-7ebccd07ec65----afc4d8d7-e500-4a07-9063-4e46cdecea7e'\n",
    "#training_run = '57f47108-380d-4e78-aeb9-7ebccd07ec65----3946abec-9ef2-43b8-a0dd-930e0a93471e'\n",
    "\n",
    "# 200 epochs, constant learning rate\n",
    "#training_run = '57f47108-380d-4e78-aeb9-7ebccd07ec65----eb540bb2-a954-49c0-addc-bcbf85cda01b'\n",
    "\n",
    "# 200 epochs, shrinking learning rate\n",
    "training_run = '57f47108-380d-4e78-aeb9-7ebccd07ec65----4695ac3c-439c-4043-af60-b809d13dbca5'"
   ]
  },
  {
   "cell_type": "code",
   "execution_count": null,
   "id": "9391a64b-7474-478f-a040-ca96799af028",
   "metadata": {},
   "outputs": [],
   "source": [
    "history_file = model_training_output_directory + '/' + training_run + '_final_history_regressor.pickled'"
   ]
  },
  {
   "cell_type": "markdown",
   "id": "3b1aa74c-ac16-4cbf-93b3-8322ce246fa7",
   "metadata": {},
   "source": [
    "## Load the training history"
   ]
  },
  {
   "cell_type": "code",
   "execution_count": null,
   "id": "33d9a3c1-f68a-4e5c-a0a3-c136c4501e59",
   "metadata": {},
   "outputs": [],
   "source": [
    "with open(history_file, 'rb') as f:\n",
    "    history = pickle.load(f)"
   ]
  },
  {
   "cell_type": "markdown",
   "id": "9d00a78c-86f1-4156-bd45-a1708d199db6",
   "metadata": {},
   "source": [
    "## Plot loss"
   ]
  },
  {
   "cell_type": "code",
   "execution_count": null,
   "id": "e106a1a4-d9c6-4885-8f0f-562dacf97c6b",
   "metadata": {},
   "outputs": [],
   "source": [
    "plot_basic_loss(history)"
   ]
  },
  {
   "cell_type": "code",
   "execution_count": null,
   "id": "1b87ac81-3e8e-45f0-9933-4792fcb7c4e7",
   "metadata": {},
   "outputs": [],
   "source": []
  },
  {
   "cell_type": "code",
   "execution_count": null,
   "id": "dec0109e-1000-449b-94da-d96d67e6d9c4",
   "metadata": {},
   "outputs": [],
   "source": []
  },
  {
   "cell_type": "code",
   "execution_count": null,
   "id": "8858793b-b742-4a68-ab8b-4f76b3a193b3",
   "metadata": {},
   "outputs": [],
   "source": []
  },
  {
   "cell_type": "code",
   "execution_count": null,
   "id": "91e2594a-da75-46b6-ab8b-94a9131ea61a",
   "metadata": {},
   "outputs": [],
   "source": [
    "model_json_filename = model_training_output_directory + '/' + training_run + '_model_regressor.json'\n",
    "model_final_weights_filename = model_training_output_directory + '/' + training_run + '_final_weights_regressor.pickled'\n",
    "\n",
    "# Load the JSON file containing the model architecture\n",
    "with open(model_json_filename, 'r') as json_file:\n",
    "    loaded_model_json = json_file.read()\n",
    "\n",
    "# Create a new model from the JSON\n",
    "model = model_from_json(loaded_model_json)\n",
    "\n",
    "# Load the weights into the new model\n",
    "model.load_weights(model_final_weights_filename)"
   ]
  },
  {
   "cell_type": "code",
   "execution_count": null,
   "id": "bf3328d6-3fba-472a-95a5-595aa652a22e",
   "metadata": {},
   "outputs": [],
   "source": [
    "model"
   ]
  },
  {
   "cell_type": "code",
   "execution_count": null,
   "id": "a7483f4f-b722-4373-b005-12e37d1351c0",
   "metadata": {},
   "outputs": [],
   "source": []
  },
  {
   "cell_type": "code",
   "execution_count": null,
   "id": "39a6170b-d21b-495a-9039-df36cf249dc8",
   "metadata": {},
   "outputs": [],
   "source": []
  },
  {
   "cell_type": "code",
   "execution_count": null,
   "id": "9cae21a8-9d27-4c52-9d12-68bd8ba72c80",
   "metadata": {},
   "outputs": [],
   "source": [
    "filename_train_val_test_data = (\n",
    "    model_training_output_directory \n",
    "    + training_run.split('----')[0]\n",
    "    + '_train_val_test_dict.pickled'\n",
    ")\n",
    "\n",
    "with open(filename_train_val_test_data, 'rb') as f:\n",
    "    train_val_test_dict = pickle.load(f)"
   ]
  },
  {
   "cell_type": "code",
   "execution_count": null,
   "id": "0c2cfe8c-7974-4317-a85d-faf5777c2429",
   "metadata": {},
   "outputs": [],
   "source": [
    "M_test = train_val_test_dict['test']['M']\n",
    "y_test = train_val_test_dict['test']['y']\n",
    "n_test = train_val_test_dict['test']['n']\n",
    "position_test = train_val_test_dict['test']['position']"
   ]
  },
  {
   "cell_type": "code",
   "execution_count": null,
   "id": "b4e0ed2f-c3be-45f2-9dc1-d327ec06fe7d",
   "metadata": {},
   "outputs": [],
   "source": [
    "M_test.shape"
   ]
  },
  {
   "cell_type": "code",
   "execution_count": null,
   "id": "85345f18-84fb-4826-9bda-294024b92d6d",
   "metadata": {},
   "outputs": [],
   "source": []
  },
  {
   "cell_type": "code",
   "execution_count": null,
   "id": "de4ecd13-4fc2-40a5-9c33-9ae5decfc24c",
   "metadata": {},
   "outputs": [],
   "source": [
    "y_predicted = model.predict(M_test)\n",
    "y_predicted.shape"
   ]
  },
  {
   "cell_type": "code",
   "execution_count": null,
   "id": "0409b742-4cf2-475a-a1d2-b462710a22f9",
   "metadata": {},
   "outputs": [],
   "source": []
  },
  {
   "cell_type": "code",
   "execution_count": null,
   "id": "725bf0cd-f0a3-4679-a862-fc3c29bfd9e5",
   "metadata": {},
   "outputs": [],
   "source": []
  },
  {
   "cell_type": "code",
   "execution_count": null,
   "id": "58e263eb-1556-43f7-b119-40c6bd33cccf",
   "metadata": {},
   "outputs": [],
   "source": []
  },
  {
   "cell_type": "code",
   "execution_count": null,
   "id": "cb4766fd-5c9d-425c-96c6-26c72f6311fc",
   "metadata": {},
   "outputs": [],
   "source": [
    "import matplotlib.pyplot as plt\n",
    "\n",
    "def plot_a_prediction(\n",
    "    M,\n",
    "    y,\n",
    "    y_predicted,\n",
    "    index = 5,\n",
    "    n_y_forward = 15, # get this from somewhere else\n",
    "    color_known_y = 'purple',\n",
    "    color_predicted_y = 'magenta',\n",
    "):\n",
    "\n",
    "    X_all_scaled_index = 0  # this is the index for the main time series we are predicted\n",
    "\n",
    "    x = M_test[index, :, X_all_scaled_index]\n",
    "    y_known_min = y_test[index, 0]\n",
    "    y_known_max = y_test[index, 1]\n",
    "    y_predicted_min = y_predicted[index, 0]\n",
    "    y_predicted_max = y_predicted[index, 1]\n",
    "\n",
    "    n_full = len(x) + n_y_forward + 1\n",
    "    xmin = 120. / n_full\n",
    "    xmax = (120 + n_y_forward) / n_full\n",
    "\n",
    "    plt.figure()\n",
    "    plt.plot(x, label = 'Known Past')\n",
    "\n",
    "    plt.axhline(y = y_known_min, xmin = xmin, xmax=xmax, color = color_known_y, label = 'Known Future')\n",
    "    plt.axhline(y = y_known_max, xmin = xmin, xmax=xmax, color = color_known_y)\n",
    "\n",
    "    plt.axhline(y = y_predicted_min, xmin = xmin, xmax=xmax, color = color_predicted_y, label = 'Predicted Future')\n",
    "    plt.axhline(y = y_predicted_max, xmin = xmin, xmax=xmax, color = color_predicted_y)\n",
    "\n",
    "    plt.xlim(0, n_full)\n",
    "    \n",
    "    plt.legend()\n",
    "    plt.tight_layout()\n",
    "    plt.show()\n",
    "    plt.close()"
   ]
  },
  {
   "cell_type": "code",
   "execution_count": null,
   "id": "8f423b8e-be88-41c3-ba3a-9198203f7f18",
   "metadata": {},
   "outputs": [],
   "source": [
    "plot_a_prediction(M_test, y_test, y_predicted)"
   ]
  },
  {
   "cell_type": "code",
   "execution_count": null,
   "id": "818a121b-7770-45b3-86b5-13d1e885708d",
   "metadata": {},
   "outputs": [],
   "source": [
    "plot_a_prediction(M_test, y_test, y_predicted, index = 1000)"
   ]
  },
  {
   "cell_type": "code",
   "execution_count": null,
   "id": "e338c930-3ac3-48ed-bb66-e72bc8cb32a8",
   "metadata": {},
   "outputs": [],
   "source": [
    "plot_a_prediction(M_test, y_test, y_predicted, index = 500)"
   ]
  },
  {
   "cell_type": "code",
   "execution_count": null,
   "id": "a5da29b6-35bc-4324-81c8-feaf027c64b0",
   "metadata": {},
   "outputs": [],
   "source": [
    "plot_a_prediction(M_test, y_test, y_predicted, index = 700)"
   ]
  },
  {
   "cell_type": "code",
   "execution_count": null,
   "id": "2284a95d-a423-4fe0-b35f-34be3dce6cc1",
   "metadata": {},
   "outputs": [],
   "source": [
    "plot_a_prediction(M_test, y_test, y_predicted, index = 1200)"
   ]
  },
  {
   "cell_type": "code",
   "execution_count": null,
   "id": "fe423138-6838-46b2-915e-ada667253642",
   "metadata": {},
   "outputs": [],
   "source": []
  }
 ],
 "metadata": {
  "kernelspec": {
   "display_name": "Python 3 (ipykernel)",
   "language": "python",
   "name": "python3"
  },
  "language_info": {
   "codemirror_mode": {
    "name": "ipython",
    "version": 3
   },
   "file_extension": ".py",
   "mimetype": "text/x-python",
   "name": "python",
   "nbconvert_exporter": "python",
   "pygments_lexer": "ipython3",
   "version": "3.10.12"
  }
 },
 "nbformat": 4,
 "nbformat_minor": 5
}
