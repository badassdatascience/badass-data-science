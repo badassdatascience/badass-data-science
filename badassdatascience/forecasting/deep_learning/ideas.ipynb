{
 "cells": [
  {
   "cell_type": "code",
   "execution_count": null,
   "id": "7e9fda1d-d968-462a-a280-6e80cc261d51",
   "metadata": {},
   "outputs": [],
   "source": []
  },
  {
   "cell_type": "code",
   "execution_count": 1,
   "id": "f9bac003-6d89-493b-ad67-8b0bf1d17dd5",
   "metadata": {},
   "outputs": [],
   "source": [
    "import pandas as pd\n",
    "import numpy as np\n",
    "import matplotlib.pyplot as plt\n",
    "import datetime\n",
    "import pytz\n",
    "import os\n",
    "import sys\n",
    "import pickle\n",
    "\n",
    "from pyspark import SparkConf\n",
    "from pyspark.sql import SparkSession\n",
    "import pyspark.sql.functions as f\n",
    "from pyspark.sql.types import ArrayType, IntegerType, FloatType"
   ]
  },
  {
   "cell_type": "code",
   "execution_count": null,
   "id": "23c55096-0df3-430d-b802-206009f48c4a",
   "metadata": {},
   "outputs": [],
   "source": []
  },
  {
   "cell_type": "code",
   "execution_count": 2,
   "id": "3b405a44-6064-446a-96d7-221d86799c2c",
   "metadata": {},
   "outputs": [],
   "source": [
    "application_root_directory = os.environ['BDS_HOME']\n",
    "sys.path.append(application_root_directory)\n",
    "\n",
    "application_django_directory = application_root_directory + '/badassdatascience/django'\n",
    "sys.path.append(application_django_directory)\n",
    "\n",
    "os.environ['DJANGO_ALLOW_ASYNC_UNSAFE'] = 'true'\n",
    "\n",
    "import boilerplate"
   ]
  },
  {
   "cell_type": "code",
   "execution_count": 3,
   "id": "fb7798aa-9a1e-416f-83b3-4786636cc070",
   "metadata": {},
   "outputs": [],
   "source": [
    "from utilities.date_and_time_related_calculations import compute_datetime_information\n",
    "from utilities.make_dataframe_from_db import make_candlestick_dataframe\n",
    "\n",
    "from utilities.basic import udf_difference_an_array, udf_deal_with_offset, nan_helper, nan_count_spark"
   ]
  },
  {
   "cell_type": "code",
   "execution_count": null,
   "id": "ba0d5334-de18-4186-8468-b03a23ecd52c",
   "metadata": {},
   "outputs": [],
   "source": []
  },
  {
   "cell_type": "code",
   "execution_count": 4,
   "id": "b8a9b439-59a1-473f-91c0-1c7337e3ce5c",
   "metadata": {},
   "outputs": [],
   "source": [
    "config = {\n",
    "    'pull_and_compute_data' : False,\n",
    "    \n",
    "    'price_type_name' : 'mid',\n",
    "    'instrument_name' : 'EUR/USD',\n",
    "    'interval_name' : 'Minute',\n",
    "    'tz' : pytz.timezone('US/Eastern'),\n",
    "\n",
    "    'halflife' : 10,\n",
    "    'seconds_divisor' : 60,\n",
    "\n",
    "    'reduce_vector_sizes' : True,\n",
    "    'modulus_integer' : 30,\n",
    "    \n",
    "    'reduce_size_for_debugging' : False,\n",
    "\n",
    "    'n_back' : 180,\n",
    "    'n_forward' : 30,\n",
    "\n",
    "    'train_val_test_split' : {\n",
    "        'train' : 0.75,\n",
    "        'val' : 0.125,\n",
    "        'test' : 0.125,\n",
    "    },\n",
    "    \n",
    "    'output_directory' : '/home/emily/Desktop/projects/test/badass-data-science/badassdatascience/forecasting/deep_learning/output',\n",
    "}"
   ]
  },
  {
   "cell_type": "code",
   "execution_count": 5,
   "id": "8f6b98e5-482b-41af-a796-26e070d2756b",
   "metadata": {},
   "outputs": [],
   "source": [
    "spark_config = SparkConf().setAll(\n",
    "    [\n",
    "        ('spark.executor.memory', '15g'),\n",
    "        ('spark.executor.cores', '3'),\n",
    "        ('spark.cores.max', '3'),\n",
    "        ('spark.driver.memory', '15g'),\n",
    "        ('spark.sql.execution.arrow.pyspark.enabled', 'true'),\n",
    "    ]\n",
    ")"
   ]
  },
  {
   "cell_type": "code",
   "execution_count": null,
   "id": "f6936f89-78db-48a4-9f80-70ddfe1e622a",
   "metadata": {},
   "outputs": [],
   "source": []
  },
  {
   "cell_type": "code",
   "execution_count": null,
   "id": "1908f203-5f5d-4ff3-8daf-e2f9ea5d62f6",
   "metadata": {},
   "outputs": [],
   "source": [
    "def make_initial_pdf(config):\n",
    "    pdf = (\n",
    "        compute_datetime_information(\n",
    "            make_candlestick_dataframe(config['price_type_name'], config['instrument_name'], config['interval_name']),\n",
    "            config['tz'],\n",
    "        )\n",
    "    )\n",
    "\n",
    "    pdf['timestamp'] = pdf.index\n",
    "\n",
    "    pdf = (\n",
    "        pd.merge(\n",
    "            pdf,\n",
    "\n",
    "            # FIX:\n",
    "            #pd.read_csv(self.config['output_directory'] + '/' + self.config['shifted_weekday_lookup_table_filename']),\n",
    "            pd.read_csv('/home/emily/Desktop/projects/test/badass-data-science/badassdatascience/forecasting/deep_learning/output/df_weekday_shift_lookup_table.csv'),\n",
    "\n",
    "            on = ['weekday_tz', 'hour_tz'],\n",
    "            how = 'left',\n",
    "        )\n",
    "            .sort_values(by = 'datetime_tz')\n",
    "    )\n",
    "\n",
    "    #pdf['lhc'] = pdf[['l', 'h', 'c']].mean(axis=1)\n",
    "    \n",
    "    return pdf.copy()"
   ]
  },
  {
   "cell_type": "code",
   "execution_count": null,
   "id": "3d016169-dbde-436e-ac34-4f83f38290e1",
   "metadata": {},
   "outputs": [],
   "source": []
  },
  {
   "cell_type": "code",
   "execution_count": null,
   "id": "e1d2b7f6-d801-4388-9cbb-b4e389fc3cb5",
   "metadata": {},
   "outputs": [],
   "source": [
    "def shift_days_and_hours_as_needed(df):\n",
    "    df['original_date'] = [x.date() for x in df['datetime_tz']]\n",
    "    df['to_shift'] = df['weekday_shifted'] - df['weekday_tz']\n",
    "\n",
    "    pdf_date_to_shift = (\n",
    "        df\n",
    "        .sort_values(by = 'datetime_tz')\n",
    "        [['weekday_tz', 'hour_tz', 'weekday_shifted', 'original_date', 'to_shift']]\n",
    "        .drop_duplicates()\n",
    "    )\n",
    "\n",
    "    new_date_list = []\n",
    "    for i, row in pdf_date_to_shift.iterrows():\n",
    "        if row['to_shift'] > 0:\n",
    "            delta = datetime.timedelta(days = row['to_shift'])\n",
    "            new_date_list.append(row['original_date'] + delta)\n",
    "        elif row['to_shift'] == -6:\n",
    "            delta = datetime.timedelta(days = 1)\n",
    "            new_date_list.append(row['original_date'] + delta)\n",
    "        else:\n",
    "            new_date_list.append(row['original_date'])\n",
    "\n",
    "    pdf_date_to_shift['original_date_shifted'] = new_date_list\n",
    "\n",
    "    pdf = (\n",
    "        pd.merge(\n",
    "            df.drop(columns = ['to_shift']),\n",
    "            pdf_date_to_shift,\n",
    "            on = ['weekday_tz', 'hour_tz', 'weekday_shifted', 'original_date'],\n",
    "            how = 'left',\n",
    "        )\n",
    "        .drop(columns = ['original_date', 'to_shift'])\n",
    "        .sort_values(by = ['datetime_tz'])\n",
    "    )\n",
    "\n",
    "    return pdf.copy()"
   ]
  },
  {
   "cell_type": "code",
   "execution_count": null,
   "id": "a572e7ad-547b-4db1-8165-c611fab7ca53",
   "metadata": {},
   "outputs": [],
   "source": []
  },
  {
   "cell_type": "code",
   "execution_count": null,
   "id": "d8ec410b-5eda-4b0a-bd3c-0ed53db64449",
   "metadata": {},
   "outputs": [],
   "source": [
    "initial_df_filepath = (\n",
    "    config['output_directory']\n",
    "    + '/' \n",
    "    + config['price_type_name'] + '-' \n",
    "    + config['instrument_name'].replace('/', '_') + '-' \n",
    "    +  config['interval_name']\n",
    "    + '.parquet'\n",
    ")\n",
    "\n",
    "if config['pull_and_compute_data']:\n",
    "\n",
    "    df = make_initial_pdf(config)\n",
    "    df = shift_days_and_hours_as_needed(df)\n",
    "\n",
    "    df = (\n",
    "        df\n",
    "        [~df['weekday_shifted'].isna()]\n",
    "    ).copy()\n",
    "\n",
    "    df['Return'] = df['c'] - df['o']\n",
    "    df['Volatility'] = df['h'] - df['l']\n",
    "\n",
    "    df.to_parquet(initial_df_filepath)\n",
    "\n",
    "else:\n",
    "    df = pd.read_parquet(initial_df_filepath)"
   ]
  },
  {
   "cell_type": "code",
   "execution_count": null,
   "id": "2d95fb23-905e-4958-bd05-d83dc8ef968c",
   "metadata": {},
   "outputs": [],
   "source": []
  },
  {
   "cell_type": "code",
   "execution_count": null,
   "id": "4c4cd898-c7ef-47fc-ba2f-d88b2382e9f6",
   "metadata": {},
   "outputs": [],
   "source": [
    "df.drop(\n",
    "    columns = [\n",
    "        'o', 'l', 'h', 'c',\n",
    "        'instrument', 'weekday_tz', 'hour_tz', 'weekday_shifted',\n",
    "    ],https://stackoverflow.com/questions/58002668/pandas-groupby-ewm\n",
    "    inplace = True,\n",
    ")"
   ]
  },
  {
   "cell_type": "code",
   "execution_count": null,
   "id": "d76b8a45-357d-4efd-bf52-70ce6cb62a62",
   "metadata": {},
   "outputs": [],
   "source": [
    "df"
   ]
  },
  {
   "cell_type": "code",
   "execution_count": null,
   "id": "0a0a9eb0-ba18-44ed-b4af-9458d8fd02cb",
   "metadata": {},
   "outputs": [],
   "source": []
  },
  {
   "cell_type": "code",
   "execution_count": null,
   "id": "0e7b9299-cc6a-4c25-bfba-7df3c3db8517",
   "metadata": {},
   "outputs": [],
   "source": [
    "# https://stackoverflow.com/questions/58002668/pandas-groupby-ewm\n",
    "\n",
    "def calculate_emw_mean(df, column_name, halflife = 10):\n",
    "    result = (\n",
    "        df\n",
    "        .sort_values(by = 'timestamp')\n",
    "        .groupby(['original_date_shifted'])\n",
    "        [column_name]\n",
    "        .transform(\n",
    "            lambda x : x.ewm(\n",
    "                halflife = halflife\n",
    "            )\n",
    "            .mean()\n",
    "        )\n",
    "        .values\n",
    "    )\n",
    "    return result\n",
    "\n",
    "def calculate_emw_var(df, column_name, halflife = 10):\n",
    "    result = (\n",
    "        df\n",
    "        .sort_values(by = 'timestamp')\n",
    "        .groupby(['original_date_shifted'])\n",
    "        [column_name]\n",
    "        .transform(\n",
    "            lambda x : x.ewm(\n",
    "                halflife = halflife\n",
    "            )\n",
    "            .var()\n",
    "        )\n",
    "        .values\n",
    "    )\n",
    "    return result"
   ]
  },
  {
   "cell_type": "code",
   "execution_count": null,
   "id": "d1acf377-209f-4792-b52d-ac6f6a89c6b4",
   "metadata": {},
   "outputs": [],
   "source": [
    "df['emw_volume_mean'] = calculate_emw_mean(df, 'volume')\n",
    "df['emw_return_mean'] = calculate_emw_mean(df, 'Return')\n",
    "df['emw_volatility_mean'] = calculate_emw_mean(df, 'Volatility')\n",
    "\n",
    "df['emw_volume_var'] = calculate_emw_var(df, 'volume')\n",
    "df['emw_return_var'] = calculate_emw_var(df, 'Return')\n",
    "df['emw_volatility_var'] = calculate_emw_var(df, 'Volatility')\n",
    "\n",
    "df = df.dropna()\n",
    "\n",
    "df = df.copy()\n",
    "\n",
    "for i in ['volume', 'Return', 'Volatility']:\n",
    "    df['scaled_' + i.lower()] = (df[i] - df['emw_' + i.lower() + '_mean']) / (df['emw_' + i.lower() + '_var']**0.5)"
   ]
  },
  {
   "cell_type": "code",
   "execution_count": null,
   "id": "a4885e35-efab-4e73-a221-2cd45011967c",
   "metadata": {},
   "outputs": [],
   "source": []
  },
  {
   "cell_type": "code",
   "execution_count": null,
   "id": "db30c6d1-34e3-4e2a-b2c0-93e2cebfc206",
   "metadata": {},
   "outputs": [],
   "source": [
    "df = df[\n",
    "    [\n",
    "        'timestamp', 'original_date_shifted',\n",
    "        'scaled_volume', 'scaled_return', 'scaled_volatility',\n",
    "        'datetime_tz',\n",
    "    ]\n",
    "].copy()\n",
    "\n",
    "df"
   ]
  },
  {
   "cell_type": "code",
   "execution_count": null,
   "id": "f005c360-8a99-4ba0-81f6-8eb81369a97d",
   "metadata": {},
   "outputs": [],
   "source": []
  },
  {
   "cell_type": "code",
   "execution_count": 7,
   "id": "945eb6fb-7e41-459c-be31-d9ad9cec3b65",
   "metadata": {},
   "outputs": [
    {
     "name": "stderr",
     "output_type": "stream",
     "text": [
      "25/02/10 02:30:21 WARN Utils: Your hostname, emily-MS-7B96 resolves to a loopback address: 127.0.1.1; using 192.168.1.251 instead (on interface wlp5s0)\n",
      "25/02/10 02:30:21 WARN Utils: Set SPARK_LOCAL_IP if you need to bind to another address\n",
      "Setting default log level to \"WARN\".\n",
      "To adjust logging level use sc.setLogLevel(newLevel). For SparkR, use setLogLevel(newLevel).\n",
      "25/02/10 02:30:21 WARN NativeCodeLoader: Unable to load native-hadoop library for your platform... using builtin-java classes where applicable\n"
     ]
    }
   ],
   "source": [
    "spark = (\n",
    "    SparkSession\n",
    "    .builder\n",
    "    .master('local[*]')\n",
    "    .appName('badass')\n",
    "    .config(conf = spark_config)\n",
    "    .getOrCreate()\n",
    ")    "
   ]
  },
  {
   "cell_type": "code",
   "execution_count": null,
   "id": "866fa46d-21c4-41fc-a66f-bb0025c64c11",
   "metadata": {},
   "outputs": [],
   "source": []
  },
  {
   "cell_type": "code",
   "execution_count": null,
   "id": "e9fda73d-5ec8-455e-bbf1-544c1226f4ed",
   "metadata": {},
   "outputs": [],
   "source": [
    "def move_to_spark(pdf, spark):\n",
    "        \n",
    "    sdf = spark.createDataFrame(pdf)\n",
    "\n",
    "    sdf_timestamps = (\n",
    "        sdf\n",
    "        .select('timestamp')\n",
    "        .distinct()\n",
    "        .withColumn('dummy_variable', f.lit(True))    \n",
    "        .orderBy('timestamp')\n",
    "    )\n",
    "\n",
    "    #\n",
    "    # check to see if we used this later\n",
    "    #\n",
    "    sdf_all_possible_timestamps = (\n",
    "        sdf_timestamps\n",
    "        .join(\n",
    "            sdf,\n",
    "            ['timestamp'],\n",
    "            'outer',\n",
    "        )\n",
    "        .drop('dummy_variable')\n",
    "        .orderBy('timestamp')\n",
    "    )\n",
    "\n",
    "    return sdf, sdf_all_possible_timestamps"
   ]
  },
  {
   "cell_type": "code",
   "execution_count": null,
   "id": "a8c3f9d7-7860-45dd-854b-ae3379c736b9",
   "metadata": {},
   "outputs": [],
   "source": [
    "sdf, sdf_all_possible_timestamps = move_to_spark(df, spark)"
   ]
  },
  {
   "cell_type": "code",
   "execution_count": null,
   "id": "d3cf51b3-ab54-4832-b51f-d508239ca3f0",
   "metadata": {},
   "outputs": [],
   "source": [
    "sdf.show(5)"
   ]
  },
  {
   "cell_type": "code",
   "execution_count": null,
   "id": "cd6b9263-c148-4a2a-bb8c-b264aefa876f",
   "metadata": {},
   "outputs": [],
   "source": [
    "sdf_all_possible_timestamps.show(5)"
   ]
  },
  {
   "cell_type": "code",
   "execution_count": null,
   "id": "b914e73a-f010-419d-a832-41b583972ad4",
   "metadata": {},
   "outputs": [],
   "source": []
  },
  {
   "cell_type": "code",
   "execution_count": null,
   "id": "1375e018-80e3-4ed7-88b5-47e481511de1",
   "metadata": {},
   "outputs": [],
   "source": []
  },
  {
   "cell_type": "code",
   "execution_count": null,
   "id": "8ba89aeb-20e8-428c-95b7-91fe3d8d0179",
   "metadata": {},
   "outputs": [],
   "source": [
    "sdf_arrays = (\n",
    "    sdf\n",
    "    .orderBy('datetime_tz')\n",
    "    .groupBy('original_date_shifted')\n",
    "    .agg(\n",
    "        f.collect_list('scaled_return').alias('return'),\n",
    "        f.collect_list('scaled_volume').alias('volume'),\n",
    "        f.collect_list('scaled_volatility').alias('volatility'),\n",
    "        f.collect_list('timestamp').alias('timestamp')\n",
    "    )\n",
    "    .orderBy('original_date_shifted')\n",
    "\n",
    "    .withColumn('array_length_return', f.array_size(f.col('return')))\n",
    "    .withColumn('array_length_volume', f.array_size(f.col('volume')))\n",
    "    .withColumn('array_length_volatility', f.array_size(f.col('volatility')))\n",
    "    .withColumn('array_length_timestamp', f.array_size(f.col('timestamp')))\n",
    "\n",
    "    .withColumn(\n",
    "        'length_test',\n",
    "        (\n",
    "            (f.col('array_length_return') == f.col('array_length_volume')) &\n",
    "            (f.col('array_length_return') == f.col('array_length_timestamp'))\n",
    "        )\n",
    "    )\n",
    "    .where(f.col('length_test') == True)\n",
    "    .withColumnRenamed('array_length_return', 'array_length')\n",
    "    .drop('array_length_volume', 'array_length_timestamp', 'array_length_volatility',)\n",
    "            \n",
    "    .withColumn('seconds_divisor', f.lit(config['seconds_divisor']))\n",
    "    .withColumn('diff_timestamp', udf_difference_an_array(f.col('timestamp'), f.col('seconds_divisor')))\n",
    "\n",
    "    # maybe?\n",
    "    .withColumn('array_length_diff_timestamp', f.array_size(f.col('diff_timestamp')))\n",
    "\n",
    "    .drop('seconds_divisor')\n",
    "            \n",
    "    .orderBy('original_date_shifted')\n",
    "    \n",
    "    \n",
    ")"
   ]
  },
  {
   "cell_type": "code",
   "execution_count": null,
   "id": "578ad906-eb4c-455b-8a78-1380736b8f2e",
   "metadata": {},
   "outputs": [],
   "source": [
    "sdf_arrays.show(5)"
   ]
  },
  {
   "cell_type": "code",
   "execution_count": null,
   "id": "1c29faf2-0ae2-4210-ae95-0f4ae254d4fe",
   "metadata": {},
   "outputs": [],
   "source": []
  },
  {
   "cell_type": "code",
   "execution_count": null,
   "id": "05abc961-748e-47b7-8f30-86a2330b0f96",
   "metadata": {},
   "outputs": [],
   "source": []
  },
  {
   "cell_type": "code",
   "execution_count": null,
   "id": "087633e4-7b02-4a52-8d10-c0cafab08e8d",
   "metadata": {},
   "outputs": [],
   "source": [
    "#from utilities.seasonal_calculations import udf_normalized_spark_friendly_sine_with_24_hour_period\n",
    "#from utilities.seasonal_calculations import udf_normalized_spark_friendly_cosine_with_24_hour_period"
   ]
  },
  {
   "cell_type": "code",
   "execution_count": null,
   "id": "440c95b9-5fdd-4c1a-ad22-1251fb98c609",
   "metadata": {},
   "outputs": [],
   "source": [
    "#sdf_arrays = (\n",
    "#    sdf_arrays\n",
    "#    .withColumn('sine_for_full_day', udf_get_the_sine_for_full_day(f.col('timestamp')))\n",
    "#    .withColumn('cosine_for_full_day', udf_get_the_cosine_for_full_day(f.col('timestamp')))\n",
    "#    .orderBy('original_date_shifted')\n",
    "#)"
   ]
  },
  {
   "cell_type": "code",
   "execution_count": null,
   "id": "49c8cfdc-e00d-4b9e-aad8-9dea23e1fbf9",
   "metadata": {},
   "outputs": [],
   "source": []
  },
  {
   "cell_type": "code",
   "execution_count": null,
   "id": "d04efc49-259b-4abc-9e0e-af75dee382c2",
   "metadata": {},
   "outputs": [],
   "source": []
  },
  {
   "cell_type": "code",
   "execution_count": 8,
   "id": "b9a06cad-4912-42b6-b5cb-253e5aa659f1",
   "metadata": {},
   "outputs": [],
   "source": [
    "#\n",
    "# TEMP\n",
    "#\n",
    "#sdf_arrays.write.parquet('output/proto.parquet')\n",
    "\n",
    "#\n",
    "# temp loading from saved waypoint\n",
    "#\n",
    "sdf_arrays = spark.read.parquet('output/proto.parquet')\n"
   ]
  },
  {
   "cell_type": "code",
   "execution_count": 9,
   "id": "d65979cd-51da-4aba-8ed8-a9c120d3bd65",
   "metadata": {},
   "outputs": [
    {
     "name": "stdout",
     "output_type": "stream",
     "text": [
      "+---------------------+--------------------+--------------------+--------------------+--------------------+------------+-----------+--------------------+---------------------------+\n",
      "|original_date_shifted|              return|              volume|          volatility|           timestamp|array_length|length_test|      diff_timestamp|array_length_diff_timestamp|\n",
      "+---------------------+--------------------+--------------------+--------------------+--------------------+------------+-----------+--------------------+---------------------------+\n",
      "|           2013-05-24|[0.68261013472090...|[0.68261013472090...|[0.68261013472090...|[1369342860, 1369...|        1434|       true|[1, 1, 1, 1, 1, 1...|                       1433|\n",
      "|           2013-05-27|[-0.6826101347209...|[0.68261013472090...|[-0.6826101347209...|[1369602060, 1369...|        1424|       true|[1, 1, 1, 1, 1, 1...|                       1423|\n",
      "|           2013-05-28|[-0.6826101347209...|[-0.6826101347209...|[-0.6826101347209...|[1369688460, 1369...|        1433|       true|[1, 1, 1, 1, 1, 1...|                       1432|\n",
      "|           2013-05-29|[0.68261013472090...|[-0.6826101347209...|[-0.6826101347209...|[1369774860, 1369...|        1438|       true|[1, 1, 1, 1, 1, 1...|                       1437|\n",
      "|           2013-05-30|[0.68261013472090...|[0.68261013472090...|[0.68261013472090...|[1369861260, 1369...|        1439|       true|[1, 1, 1, 1, 1, 1...|                       1438|\n",
      "+---------------------+--------------------+--------------------+--------------------+--------------------+------------+-----------+--------------------+---------------------------+\n",
      "only showing top 5 rows\n",
      "\n"
     ]
    }
   ],
   "source": [
    "sdf_arrays.show(5)"
   ]
  },
  {
   "cell_type": "code",
   "execution_count": null,
   "id": "bc80ef66-89a1-4465-8e59-56d69662a299",
   "metadata": {},
   "outputs": [],
   "source": []
  },
  {
   "cell_type": "code",
   "execution_count": 10,
   "id": "102e603b-749c-4371-9622-5c737894c728",
   "metadata": {},
   "outputs": [],
   "source": [
    "if config['reduce_size_for_debugging']:\n",
    "    sdf_arrays = sdf_arrays.limit(10)"
   ]
  },
  {
   "cell_type": "code",
   "execution_count": null,
   "id": "9a5714c0-3327-4866-a11d-bf13b9e5c115",
   "metadata": {},
   "outputs": [],
   "source": []
  },
  {
   "cell_type": "code",
   "execution_count": 11,
   "id": "09566568-2071-47a5-be49-96aa1dfd5f1b",
   "metadata": {},
   "outputs": [],
   "source": [
    "min_array_length = sdf_arrays.select(f.min(f.col('array_length')).alias('min_array_length')).take(1)[0]['min_array_length']        \n",
    "max_array_length = 1 + sdf_arrays.select(f.max(f.col('array_length')).alias('max_array_length')).take(1)[0]['max_array_length']\n",
    "\n",
    "sdf_arrays = (\n",
    "    sdf_arrays\n",
    "    .withColumn('min_array_length', f.lit(min_array_length))\n",
    "    .withColumn('max_array_length', f.lit(max_array_length))\n",
    ")"
   ]
  },
  {
   "cell_type": "code",
   "execution_count": null,
   "id": "8a01c4a5-97e8-4d93-b388-c67ba936f7e7",
   "metadata": {},
   "outputs": [],
   "source": []
  },
  {
   "cell_type": "code",
   "execution_count": 12,
   "id": "094e4a5f-213e-4a8d-8d36-ec1bee3dfd4a",
   "metadata": {},
   "outputs": [],
   "source": [
    "sdf_sum_diff = (\n",
    "    sdf_arrays\n",
    "    .select(\n",
    "        'original_date_shifted',\n",
    "        'diff_timestamp',\n",
    "    )\n",
    "    .withColumn('sum_diff_timestamp', f.expr('AGGREGATE(diff_timestamp, 0, (acc, x) -> acc + x)'))\n",
    ")\n",
    "\n",
    "max_sum_diff_timestamp = np.max(np.array(sdf_sum_diff.select('sum_diff_timestamp').collect()))\n",
    "\n",
    "sdf_arrays = (\n",
    "    sdf_arrays\n",
    "    .withColumn('max_sum_diff_timestamp', f.lit(max_sum_diff_timestamp))\n",
    ")"
   ]
  },
  {
   "cell_type": "code",
   "execution_count": 13,
   "id": "2bd8586d-e9e5-49db-a63f-9957d1c4ed7c",
   "metadata": {},
   "outputs": [
    {
     "name": "stdout",
     "output_type": "stream",
     "text": [
      "+---------------------+--------------------+--------------------+--------------------+--------------------+------------+-----------+--------------------+---------------------------+----------------+----------------+----------------------+\n",
      "|original_date_shifted|              return|              volume|          volatility|           timestamp|array_length|length_test|      diff_timestamp|array_length_diff_timestamp|min_array_length|max_array_length|max_sum_diff_timestamp|\n",
      "+---------------------+--------------------+--------------------+--------------------+--------------------+------------+-----------+--------------------+---------------------------+----------------+----------------+----------------------+\n",
      "|           2013-05-24|[0.68261013472090...|[0.68261013472090...|[0.68261013472090...|[1369342860, 1369...|        1434|       true|[1, 1, 1, 1, 1, 1...|                       1433|              76|            1440|                  1438|\n",
      "|           2013-05-27|[-0.6826101347209...|[0.68261013472090...|[-0.6826101347209...|[1369602060, 1369...|        1424|       true|[1, 1, 1, 1, 1, 1...|                       1423|              76|            1440|                  1438|\n",
      "+---------------------+--------------------+--------------------+--------------------+--------------------+------------+-----------+--------------------+---------------------------+----------------+----------------+----------------------+\n",
      "only showing top 2 rows\n",
      "\n"
     ]
    }
   ],
   "source": [
    "sdf_arrays.show(2)"
   ]
  },
  {
   "cell_type": "code",
   "execution_count": 14,
   "id": "414bae20-890c-47bc-b738-08088bd8b727",
   "metadata": {},
   "outputs": [],
   "source": [
    "sdf_arrays = (\n",
    "    sdf_arrays\n",
    "    .withColumn('corrected_offset_return', udf_deal_with_offset(f.col('return'), f.col('diff_timestamp'), f.col('max_array_length')))\n",
    "    .withColumn('corrected_offset_volume', udf_deal_with_offset(f.col('volume'), f.col('diff_timestamp'), f.col('max_array_length')))\n",
    "    .withColumn('corrected_offset_volatility', udf_deal_with_offset(f.col('volatility'), f.col('diff_timestamp'), f.col('max_array_length')))\n",
    "    .withColumn('corrected_offset_length', f.size(f.col('corrected_offset_volume')))\n",
    "    .drop(\n",
    "        'return', 'volume', 'volatility',\n",
    "        'timestamp', 'diff_timestamp', 'diff_sum' #, 'max_sum_diff_timestamp'\n",
    "        )\n",
    "    )"
   ]
  },
  {
   "cell_type": "code",
   "execution_count": null,
   "id": "62c91561-e215-4c2f-a5dc-3c6f36bcc1cf",
   "metadata": {},
   "outputs": [],
   "source": []
  },
  {
   "cell_type": "code",
   "execution_count": 15,
   "id": "7221f86a-8ac7-432a-9924-8c978c7ea0f3",
   "metadata": {},
   "outputs": [
    {
     "data": {
      "text/plain": [
       "1440"
      ]
     },
     "execution_count": 15,
     "metadata": {},
     "output_type": "execute_result"
    }
   ],
   "source": [
    "max_array_length"
   ]
  },
  {
   "cell_type": "code",
   "execution_count": null,
   "id": "9c7187b9-ef22-4360-a3ba-9af662c6dec3",
   "metadata": {},
   "outputs": [],
   "source": []
  },
  {
   "cell_type": "code",
   "execution_count": 16,
   "id": "e4ecc3d0-80ed-405c-aa3b-54e4ead23dd4",
   "metadata": {},
   "outputs": [
    {
     "name": "stdout",
     "output_type": "stream",
     "text": [
      "+---------------------------+\n",
      "|corrected_offset_volatility|\n",
      "+---------------------------+\n",
      "|       [0.68261015, 0.38...|\n",
      "|       [-0.68261015, 1.0...|\n",
      "|       [-0.68261015, 1.0...|\n",
      "|       [-0.68261015, -0....|\n",
      "|       [0.68261015, -0.5...|\n",
      "|       [-0.68261015, -0....|\n",
      "|       [-0.68261015, -0....|\n",
      "|       [0.68261015, -1.0...|\n",
      "|       [0.68261015, 0.83...|\n",
      "|       [-0.68261015, -0....|\n",
      "|       [-0.68261015, 0.9...|\n",
      "|       [0.68261015, -0.7...|\n",
      "|       [NaN, 0.68261015,...|\n",
      "|       [-0.68261015, 1.0...|\n",
      "|       [-0.68261015, 0.8...|\n",
      "|       [-0.68261015, 0.0...|\n",
      "|       [0.68261015, -1.0...|\n",
      "|       [-0.68261015, -1....|\n",
      "|       [-0.68261015, -0....|\n",
      "|       [-0.68261015, -0....|\n",
      "+---------------------------+\n",
      "only showing top 20 rows\n",
      "\n"
     ]
    },
    {
     "name": "stderr",
     "output_type": "stream",
     "text": [
      "                                                                                \r"
     ]
    }
   ],
   "source": [
    "sdf_arrays.select('corrected_offset_volatility').show()"
   ]
  },
  {
   "cell_type": "code",
   "execution_count": 17,
   "id": "bb7f7e46-a822-4490-8818-ee323cb96cb1",
   "metadata": {},
   "outputs": [
    {
     "name": "stderr",
     "output_type": "stream",
     "text": [
      "                                                                                \r"
     ]
    }
   ],
   "source": [
    "# there is probably a better way to convert a 2D np.array to a 2D np.matrix:\n",
    "\n",
    "M_unscaled_dict = {}\n",
    "       \n",
    "for ci, column_name in enumerate(\n",
    "    [\n",
    "        #'corrected_offset_volatility',\n",
    "        'corrected_offset_return', 'corrected_offset_volume', # 'corrected_offset_volatility',\n",
    "    ]\n",
    "):\n",
    "\n",
    "    M_pre = np.array(sdf_arrays.select(column_name).toPandas()[column_name].to_list())\n",
    "    M = np.zeros([M_pre.shape[0], M_pre.shape[1]])\n",
    "\n",
    "    for i in range(0, M.shape[0]):\n",
    "        M[i, :] = M_pre[i]\n",
    "\n",
    "    M_unscaled_dict[column_name] = M"
   ]
  },
  {
   "cell_type": "code",
   "execution_count": null,
   "id": "e5ef2cd3-6b81-47ec-ab74-f059d42c2626",
   "metadata": {},
   "outputs": [],
   "source": []
  },
  {
   "cell_type": "code",
   "execution_count": 18,
   "id": "34b2ad5c-fb1a-49ff-9615-a415f2ba45a7",
   "metadata": {},
   "outputs": [],
   "source": [
    "X_list = {}\n",
    "y_list = {}\n",
    "y_full_list = {}\n",
    "\n",
    "for signal_name in [\n",
    "    'corrected_offset_return', 'corrected_offset_volume',\n",
    "]:\n",
    "    n_rows, n_cols = M_unscaled_dict[signal_name].shape\n",
    "\n",
    "    X_list[signal_name] = []\n",
    "    y_list[signal_name] = []\n",
    "    y_full_list[signal_name] = []\n",
    "    \n",
    "    for r in range(0, n_rows):\n",
    "        signal = M_unscaled_dict[signal_name][r]\n",
    "\n",
    "\n",
    "        i = len(signal) - 1\n",
    "        while np.isnan(signal[i]):\n",
    "            i -= 1\n",
    "\n",
    "            # refactor this\n",
    "            if i < 1:\n",
    "                break\n",
    "\n",
    "                    \n",
    "        signal = signal[0:(i + 1)]\n",
    "\n",
    "        # https://stackoverflow.com/questions/6518811/interpolate-nan-values-in-a-numpy-array\n",
    "        nans, x = nan_helper(signal)\n",
    "                                \n",
    "        signal[nans] = np.interp(x(nans), x(~nans), signal[~nans])\n",
    "                                \n",
    "        for i in range(\n",
    "            config['n_back'],\n",
    "            len(signal) - config['n_back'] - config['n_forward']\n",
    "        ):\n",
    "            back = np.array(signal[(i - config['n_back']):i])\n",
    "            forward = np.array(signal[i:(i + config['n_forward'])])\n",
    "            \n",
    "            the_min = min(forward)\n",
    "            the_max = max(forward)\n",
    "            the_mean = np.mean(forward)\n",
    "            the_median = np.median(forward)\n",
    "        \n",
    "            X_list[signal_name].append(back)\n",
    "            y_list[signal_name].append([the_min, the_max]) # the_mean, the_median])\n",
    "            y_full_list[signal_name].append(forward)\n",
    "\n",
    "X_all = np.array(X_list['corrected_offset_return'])\n",
    "X_volume_all = np.array(X_list['corrected_offset_volume'])\n",
    "y_all = np.array(y_list['corrected_offset_return'])\n",
    "y_forward_all = np.array(y_full_list['corrected_offset_return'])\n",
    "row_count_all = X_all.shape[0]"
   ]
  },
  {
   "cell_type": "code",
   "execution_count": 19,
   "id": "4b1776bf-048a-4826-a31c-36fbd4a2119a",
   "metadata": {},
   "outputs": [
    {
     "data": {
      "text/plain": [
       "array([[ 0.68261015,  0.91768098,  1.1117444 , ..., -1.54086685,\n",
       "        -0.32889849,  1.03203094],\n",
       "       [ 0.91768098,  1.1117444 ,  0.241974  , ..., -0.32889849,\n",
       "         1.03203094,  0.40129489],\n",
       "       [ 1.1117444 ,  0.241974  , -0.7741307 , ...,  1.03203094,\n",
       "         0.40129489,  1.14176559],\n",
       "       ...,\n",
       "       [ 0.79034519,  0.71972829,  0.65465862, ..., -1.83234978,\n",
       "         0.07136966,  0.13814551],\n",
       "       [ 0.71972829,  0.65465862, -0.66465914, ...,  0.07136966,\n",
       "         0.13814551, -0.43700972],\n",
       "       [ 0.65465862, -0.66465914, -0.86472833, ...,  0.13814551,\n",
       "        -0.43700972, -0.05362904]])"
      ]
     },
     "execution_count": 19,
     "metadata": {},
     "output_type": "execute_result"
    }
   ],
   "source": [
    "X_all"
   ]
  },
  {
   "cell_type": "code",
   "execution_count": 20,
   "id": "81c020ea-b84c-4997-8d46-a1a403b23477",
   "metadata": {},
   "outputs": [
    {
     "data": {
      "text/plain": [
       "array([[-2.70081162,  1.80636013],\n",
       "       [-2.70081162,  1.80636013],\n",
       "       [-2.70081162,  1.80636013],\n",
       "       ...,\n",
       "       [-1.97096598,  1.20855021],\n",
       "       [-1.97096598,  1.20855021],\n",
       "       [-1.97096598,  1.22635496]])"
      ]
     },
     "execution_count": 20,
     "metadata": {},
     "output_type": "execute_result"
    }
   ],
   "source": [
    "y_all"
   ]
  },
  {
   "cell_type": "code",
   "execution_count": 21,
   "id": "1b6759ea-267a-4718-a5ef-acb1059b9510",
   "metadata": {},
   "outputs": [
    {
     "data": {
      "text/plain": [
       "array([-0.04465225, -0.06476689, -0.06433952, ..., -0.04953714,\n",
       "       -0.02290949,  0.01975664])"
      ]
     },
     "execution_count": 21,
     "metadata": {},
     "output_type": "execute_result"
    }
   ],
   "source": [
    "np.mean(y_forward_all, axis=1)"
   ]
  },
  {
   "cell_type": "code",
   "execution_count": null,
   "id": "feb77d00-6fa1-4fcc-9faf-d939d9dc2566",
   "metadata": {},
   "outputs": [],
   "source": []
  },
  {
   "cell_type": "code",
   "execution_count": null,
   "id": "ca41de75-33b8-4c6f-a41a-bcfea5b404ad",
   "metadata": {},
   "outputs": [],
   "source": []
  },
  {
   "cell_type": "code",
   "execution_count": 22,
   "id": "2e8b597c-af22-4f65-a044-80c1fa0ad78d",
   "metadata": {},
   "outputs": [],
   "source": [
    "\n",
    "indices = np.arange(0, X_all.shape[0])\n",
    "np.random.shuffle(indices)\n",
    "\n",
    "shuffled_indices = indices\n",
    "\n",
    "X_all = X_all[indices, :]\n",
    "X_volume_all = X_volume_all[indices, :]\n",
    "y_all = y_all[indices]\n",
    "y_forward_all = y_forward_all[indices]\n",
    "\n",
    "\n",
    "#scaled_dict['y_all_scaled'] = scaled_dict['y_all_scaled'][indices, :]\n",
    "#scaled_dict['y_forward_all_scaled'] = scaled_dict['y_forward_all_scaled'][indices, :]\n",
    "        \n",
    "#scaled_dict['X_all_scaled'] = scaled_dict['X_all_scaled'][indices, :]\n",
    "#scaled_dict['X_all_scaled_mean'] = scaled_dict['X_all_scaled_mean'][indices, :]\n",
    "#scaled_dict['X_all_scaled_std'] = scaled_dict['X_all_scaled_std'][indices, :]\n",
    "    \n",
    "#scaled_dict['X_volume_all_scaled'] = scaled_dict['X_volume_all_scaled'][indices, :]\n",
    "#scaled_dict['X_volume_all_scaled_mean'] = scaled_dict['X_volume_all_scaled_mean'][indices, :]\n",
    "#scaled_dict['X_volume_all_scaled_std'] = scaled_dict['X_volume_all_scaled_std'][indices, :]\n",
    "    \n",
    "##self.scaled_dict['MSS_all_scaled'] = self.scaled_dict['MSS_all_scaled'][indices, :]\n",
    "##self.scaled_dict['MSS_all_scaled_mean'] = self.scaled_dict['MSS_all_scaled_mean'][indices, :]\n",
    "##self.scaled_dict['MSS_all_scaled_std'] = self.scaled_dict['MSS_all_scaled_std'][indices, :]"
   ]
  },
  {
   "cell_type": "code",
   "execution_count": null,
   "id": "27ea4ba5-f991-4dd3-8dfa-6d1b4ab64193",
   "metadata": {},
   "outputs": [],
   "source": []
  },
  {
   "cell_type": "code",
   "execution_count": 23,
   "id": "a7d79af2-3bc0-410b-b657-68e2371a2693",
   "metadata": {},
   "outputs": [],
   "source": [
    "# figure out a way to compute this rather than hard code it\n",
    "n_features = 2\n",
    "        \n",
    "n_samples = X_all.shape[0]\n",
    "n_timepoints = config['n_back']\n",
    "\n",
    "M = np.zeros([n_samples, n_timepoints, n_features])\n",
    "\n",
    "for i in range(0, n_samples):\n",
    "    M[i, :, 0] = X_all[i, :]\n",
    "    M[i, :, 1] = X_volume_all[i, :]"
   ]
  },
  {
   "cell_type": "code",
   "execution_count": null,
   "id": "8a378c9c-8b94-487f-afc7-65792b4d6572",
   "metadata": {},
   "outputs": [],
   "source": []
  },
  {
   "cell_type": "code",
   "execution_count": null,
   "id": "db6d1a6b-43d5-4997-946a-8f09a38fd5a9",
   "metadata": {},
   "outputs": [],
   "source": []
  },
  {
   "cell_type": "code",
   "execution_count": 24,
   "id": "3ef67faa-5022-4edc-aa57-933755aca454",
   "metadata": {},
   "outputs": [],
   "source": [
    "if config['reduce_vector_sizes']:\n",
    "    indices_modulus = np.array([x % config['modulus_integer'] for x in range(0, M.shape[0])])\n",
    "    indices_modulus_selected = np.where(indices_modulus == 0)[0]\n",
    "else:\n",
    "    indices_modulus_selected = np.array(range(0, M.shape[0]))\n",
    "\n",
    "M_after_modulus_operation = M[indices_modulus_selected, :, :]\n",
    "y_after_modulus_operation = y_all[indices_modulus_selected, :]\n",
    "y_forward_after_modulus_operation = y_forward_all[indices_modulus_selected, :]"
   ]
  },
  {
   "cell_type": "code",
   "execution_count": null,
   "id": "c8902439-8938-4f7c-afa0-c65914ba4449",
   "metadata": {},
   "outputs": [],
   "source": []
  },
  {
   "cell_type": "code",
   "execution_count": null,
   "id": "d38235a0-cc49-41a1-81bd-dc231dfabfe9",
   "metadata": {},
   "outputs": [],
   "source": []
  },
  {
   "cell_type": "code",
   "execution_count": 25,
   "id": "6b5472b7-6110-4528-bb56-fd9d5f449336",
   "metadata": {},
   "outputs": [],
   "source": [
    "row_count = M_after_modulus_operation.shape[0]\n",
    "\n",
    "train_val_test_dict = {}\n",
    "position = 0\n",
    "for group in ['train', 'val', 'test']:\n",
    "    n = int(config['train_val_test_split'][group] * row_count)\n",
    "\n",
    "    train_val_test_dict[group] = {\n",
    "                \n",
    "        'M' : M_after_modulus_operation[position:(position + n), :, :],\n",
    "        'y' : y_after_modulus_operation[position:(position + n), :],\n",
    "        'y_forward' : y_forward_after_modulus_operation[position:(position + n), :],\n",
    "        'n' : n,\n",
    "        'position' : position,\n",
    "    }\n",
    "            \n",
    "    position += n"
   ]
  },
  {
   "cell_type": "code",
   "execution_count": null,
   "id": "4c0f3594-2fd1-452c-9f88-6d146795eb1d",
   "metadata": {},
   "outputs": [],
   "source": []
  },
  {
   "cell_type": "code",
   "execution_count": 26,
   "id": "fd6a4933-d196-44de-a3a8-67e4f9e15807",
   "metadata": {},
   "outputs": [],
   "source": [
    "with open('output/booger.pickled', 'wb') as fff:\n",
    "    pickle.dump(train_val_test_dict, fff)"
   ]
  },
  {
   "cell_type": "code",
   "execution_count": null,
   "id": "5d66e594-83e9-46af-8585-41e510b110a8",
   "metadata": {},
   "outputs": [],
   "source": []
  },
  {
   "cell_type": "code",
   "execution_count": 27,
   "id": "856850d7-1bd4-41d6-8ab4-6f6855f2b332",
   "metadata": {},
   "outputs": [
    {
     "data": {
      "text/plain": [
       "(3777202, 180, 2)"
      ]
     },
     "execution_count": 27,
     "metadata": {},
     "output_type": "execute_result"
    }
   ],
   "source": [
    "M.shape"
   ]
  },
  {
   "cell_type": "code",
   "execution_count": 28,
   "id": "d3e6852b-a08a-4f71-b681-afe63aca88eb",
   "metadata": {},
   "outputs": [
    {
     "data": {
      "text/plain": [
       "(94430, 180, 2)"
      ]
     },
     "execution_count": 28,
     "metadata": {},
     "output_type": "execute_result"
    }
   ],
   "source": [
    "train_val_test_dict['train']['M'].shape"
   ]
  },
  {
   "cell_type": "code",
   "execution_count": 29,
   "id": "13c90d41-4134-4201-a5d5-bb4560db2398",
   "metadata": {},
   "outputs": [
    {
     "data": {
      "text/plain": [
       "(94430, 2)"
      ]
     },
     "execution_count": 29,
     "metadata": {},
     "output_type": "execute_result"
    }
   ],
   "source": [
    "train_val_test_dict['train']['y'].shape"
   ]
  },
  {
   "cell_type": "code",
   "execution_count": null,
   "id": "9d8cb2d7-7b42-49c0-ba45-cedc194160e5",
   "metadata": {},
   "outputs": [],
   "source": []
  }
 ],
 "metadata": {
  "kernelspec": {
   "display_name": "Python 3 (ipykernel)",
   "language": "python",
   "name": "python3"
  },
  "language_info": {
   "codemirror_mode": {
    "name": "ipython",
    "version": 3
   },
   "file_extension": ".py",
   "mimetype": "text/x-python",
   "name": "python",
   "nbconvert_exporter": "python",
   "pygments_lexer": "ipython3",
   "version": "3.10.12"
  }
 },
 "nbformat": 4,
 "nbformat_minor": 5
}
