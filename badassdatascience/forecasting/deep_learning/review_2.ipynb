{
 "cells": [
  {
   "cell_type": "code",
   "execution_count": null,
   "id": "d7606f25-a9b5-48ff-9678-eecdf22e68f4",
   "metadata": {},
   "outputs": [],
   "source": []
  },
  {
   "cell_type": "code",
   "execution_count": null,
   "id": "b9b4adac-cb0b-48b0-aab5-42dae8824258",
   "metadata": {},
   "outputs": [],
   "source": []
  },
  {
   "cell_type": "markdown",
   "id": "9ff40d11-9102-4ba5-b29d-8d3af54b9c56",
   "metadata": {},
   "source": [
    "## Load required modules"
   ]
  },
  {
   "cell_type": "code",
   "execution_count": null,
   "id": "32854d3e-1019-40ce-8b91-67ddb7807aaf",
   "metadata": {},
   "outputs": [],
   "source": [
    "import matplotlib.pyplot as plt\n",
    "import json\n",
    "import pickle\n",
    "import numpy as np\n",
    "import pprint as pp\n",
    "\n",
    "from tensorflow.keras.models import model_from_json"
   ]
  },
  {
   "cell_type": "markdown",
   "id": "4074ceb1-e7a7-47cd-846c-5316761ff692",
   "metadata": {},
   "source": [
    "## User settings"
   ]
  },
  {
   "cell_type": "code",
   "execution_count": null,
   "id": "7327bf4c-5380-44a2-8fe0-54210ca66366",
   "metadata": {},
   "outputs": [],
   "source": [
    "application_root_directory = '/home/emily/Desktop/projects/test/badass-data-science/badassdatascience/forecasting/deep_learning'\n",
    "training_run = 'blah----71807266-3119-4e24-b788-f97511b82567'\n",
    "data_source_root_directory = '/home/emily/Desktop/projects/test/badass-data-science/badassdatascience/forecasting/deep_learning/pipeline_components/output/queries'\n",
    "data_source_id = '309457bc-a227-4332-8c0b-2cf5dd38749c'"
   ]
  },
  {
   "cell_type": "markdown",
   "id": "c8bfaccd-eb5c-4476-8a48-b111af6d2e8a",
   "metadata": {},
   "source": [
    "## Initialize"
   ]
  },
  {
   "cell_type": "code",
   "execution_count": null,
   "id": "c4492b79-b6e1-4995-ae2c-8e11e998fc97",
   "metadata": {},
   "outputs": [],
   "source": [
    "model_training_output_directory = application_root_directory + '/output/'\n",
    "\n",
    "filename_config_json = model_training_output_directory + '/' + training_run + '_lstm_regressor_config.json'\n",
    "filename_model_json = model_training_output_directory + '/' + training_run + '_model_regressor.json'\n",
    "filename_model_final_weights = model_training_output_directory + '/' + training_run + '_final_weights_regressor.pickled'\n",
    "filename_history = model_training_output_directory + '/' + training_run + '_final_history_regressor.pickled'\n",
    "\n",
    "filename_train_val_test_data = data_source_root_directory + '/full_train_val_test_' + data_source_id + '.pickled'"
   ]
  },
  {
   "cell_type": "markdown",
   "id": "6072a9f5-1939-4d90-bad9-7a8fc8c7e213",
   "metadata": {},
   "source": [
    "## Define function to load the configuration used for training the model"
   ]
  },
  {
   "cell_type": "code",
   "execution_count": null,
   "id": "2afe154a-84de-4c8e-ad32-c4f44210016b",
   "metadata": {},
   "outputs": [],
   "source": [
    "def load_training_run_config(filename_config_json):\n",
    "    with open(filename_config_json) as fff:\n",
    "        config = json.load(fff)\n",
    "    return config"
   ]
  },
  {
   "cell_type": "markdown",
   "id": "4ab08ae7-40a8-4262-8402-949a92b82356",
   "metadata": {},
   "source": [
    "## Define function to load the trained model"
   ]
  },
  {
   "cell_type": "code",
   "execution_count": null,
   "id": "c1e63c3d-a94a-4ea1-9787-0ac5ebfd6d81",
   "metadata": {},
   "outputs": [],
   "source": [
    "def load_model(filename_model_json, filename_model_final_weights):\n",
    "    with open(filename_model_json, 'r') as json_file:\n",
    "        loaded_model_json = json_file.read()\n",
    "\n",
    "    # Create a new model from the JSON\n",
    "    model = model_from_json(loaded_model_json)\n",
    "\n",
    "    # Load the weights into the new model\n",
    "    model.load_weights(filename_model_final_weights)\n",
    "\n",
    "    return model"
   ]
  },
  {
   "cell_type": "markdown",
   "id": "712fbf3e-d9fb-4ef3-82b6-2cf5d2c67928",
   "metadata": {},
   "source": [
    "## Define function to load the training history"
   ]
  },
  {
   "cell_type": "code",
   "execution_count": null,
   "id": "9baa7da5-1432-4220-9501-98b0194f2734",
   "metadata": {},
   "outputs": [],
   "source": [
    "def load_training_history(filename_history):\n",
    "    try:\n",
    "        with open(filename_history, 'rb') as fff:\n",
    "            history = pickle.load(fff)\n",
    "    except Exception as exception:\n",
    "        print(exception)\n",
    "        sys.exit(-1)\n",
    "    return history  "
   ]
  },
  {
   "cell_type": "markdown",
   "id": "9dde4d5c-a4ef-48b5-846e-57bf88046272",
   "metadata": {},
   "source": [
    "## Define function to plot training loss function"
   ]
  },
  {
   "cell_type": "code",
   "execution_count": null,
   "id": "ad196a21-2ab3-40b7-9110-679b8d986dfd",
   "metadata": {},
   "outputs": [],
   "source": [
    "def plot_basic_loss(history, config, metric_base = 'loss', ylabel = 'Loss'):\n",
    "    epochs = range(1, len(history[metric_base]) + 1)\n",
    "\n",
    "    plt.figure()\n",
    "    plt.plot(epochs, history[metric_base], '-.', label = ylabel)\n",
    "    plt.plot(epochs, history['val_' + metric_base], '-.', label = 'Validation ' + ylabel)\n",
    "    plt.xlabel('Training Epoch')\n",
    "    \n",
    "    plt.ylabel(ylabel)\n",
    "    plt.title('Training Run: ' + training_run.split('----')[-1] + '\\nBatch Size = ' + str(config['batch_size']))\n",
    "    \n",
    "    plt.legend()\n",
    "    plt.tight_layout()\n",
    "    plt.show()\n",
    "    plt.close()"
   ]
  },
  {
   "cell_type": "markdown",
   "id": "cb2c7698-bac1-4c91-ab77-dc6687157ba6",
   "metadata": {},
   "source": [
    "## Define function to load the training, validation and testing sets"
   ]
  },
  {
   "cell_type": "code",
   "execution_count": null,
   "id": "fd77f310-8a3b-4422-b32e-bd9f5da499d6",
   "metadata": {},
   "outputs": [],
   "source": [
    "def load_train_val_test_data(filename_train_val_test):\n",
    "    with open(filename_train_val_test_data, 'rb') as fff:\n",
    "        train_val_test_dict = pickle.load(fff)\n",
    "    return train_val_test_dict"
   ]
  },
  {
   "cell_type": "markdown",
   "id": "44901bed-bb68-40bc-a16d-e5ced0605a93",
   "metadata": {},
   "source": [
    "## Define function to predict results using the model"
   ]
  },
  {
   "cell_type": "code",
   "execution_count": null,
   "id": "9f48a66d-b07f-4858-a297-4bd131b6a2ff",
   "metadata": {},
   "outputs": [],
   "source": [
    "def predict(X, model):\n",
    "    y_predicted = model.predict(X)\n",
    "    return y_predicted"
   ]
  },
  {
   "cell_type": "markdown",
   "id": "4583ccae-ebb9-458b-94ab-3a34a61b5eca",
   "metadata": {},
   "source": [
    "## Define function to plot a given forecast"
   ]
  },
  {
   "cell_type": "code",
   "execution_count": null,
   "id": "cce9988e-bb32-40b9-b072-6fefdffee1d8",
   "metadata": {},
   "outputs": [],
   "source": [
    "def plot_a_forecast(X, y_known, y_predicted, y_forward, model, index = 20, predictor_line = 0):\n",
    "\n",
    "    indices = np.arange(0, X[index].shape[0])\n",
    "    indices_forward = np.arange(len(indices), len(indices) + len(y_forward[index, :]))\n",
    "\n",
    "    X_mean = np.mean(X[index, :, predictor_line])\n",
    "\n",
    "    y_predicted_min = y_predicted[index, 0]\n",
    "    y_predicted_mean = y_predicted[index, 1]  # check index of n = 1\n",
    "    y_predicted_median = y_predicted[index, 2]  # check index of n = 1\n",
    "    y_predicted_max = y_predicted[index, 3]\n",
    "    \n",
    "    plt.figure()\n",
    "    plt.plot(indices, X[index, :, predictor_line])\n",
    "    plt.plot(indices, [X_mean] * len(indices))\n",
    "    \n",
    "    plt.plot(indices_forward, y_forward[index, :])\n",
    "    plt.plot(indices_forward, [y_predicted_min] * len(indices_forward))\n",
    "    plt.plot(indices_forward, [y_predicted_mean] * len(indices_forward))\n",
    "    plt.plot(indices_forward, [y_predicted_median] * len(indices_forward))\n",
    "    plt.plot(indices_forward, [y_predicted_max] * len(indices_forward))\n",
    "    \n",
    "    plt.show()\n",
    "    plt.close()"
   ]
  },
  {
   "cell_type": "markdown",
   "id": "3a3e850b-3056-46f2-b8a9-b27b16b60d7c",
   "metadata": {},
   "source": [
    "## Load and display the training configuration file"
   ]
  },
  {
   "cell_type": "code",
   "execution_count": null,
   "id": "8fd86955-c6c2-47c8-ab0b-1dc0901a4a62",
   "metadata": {},
   "outputs": [],
   "source": [
    "config = load_training_run_config(filename_config_json)"
   ]
  },
  {
   "cell_type": "code",
   "execution_count": null,
   "id": "61493c8a-daae-496c-bf87-bb26d59355b9",
   "metadata": {},
   "outputs": [],
   "source": [
    "pp.pprint(config)"
   ]
  },
  {
   "cell_type": "markdown",
   "id": "9bce016b-496f-4d56-a0db-7c317bad5efb",
   "metadata": {},
   "source": [
    "## Load the trained model"
   ]
  },
  {
   "cell_type": "code",
   "execution_count": null,
   "id": "ac6e58ec-68d7-49e6-8ba4-31b0f6b1d29e",
   "metadata": {},
   "outputs": [],
   "source": [
    "model = load_model(filename_model_json, filename_model_final_weights)"
   ]
  },
  {
   "cell_type": "markdown",
   "id": "c4720535-d5e8-4418-b5c0-c3e87785d935",
   "metadata": {},
   "source": [
    "## Load and plot the training history"
   ]
  },
  {
   "cell_type": "code",
   "execution_count": null,
   "id": "412ba174-1f79-4249-a3da-fc907751e84c",
   "metadata": {},
   "outputs": [],
   "source": [
    "history = load_training_history(filename_history)"
   ]
  },
  {
   "cell_type": "code",
   "execution_count": null,
   "id": "a78367ab-e58b-465b-82d4-1b016cd1bc4c",
   "metadata": {},
   "outputs": [],
   "source": [
    "plot_basic_loss(history, config)"
   ]
  },
  {
   "cell_type": "markdown",
   "id": "63f61bbc-1e82-49a8-83d9-8e9201447a29",
   "metadata": {},
   "source": [
    "## Load the training, validation and testing data"
   ]
  },
  {
   "cell_type": "code",
   "execution_count": null,
   "id": "ce16884d-3167-4e36-b5c4-7d1bc318025c",
   "metadata": {},
   "outputs": [],
   "source": [
    "train_val_test_dict = load_train_val_test_data(filename_train_val_test_data)"
   ]
  },
  {
   "cell_type": "markdown",
   "id": "6e24f94d-3400-4806-b96f-af33e7d4dd2a",
   "metadata": {},
   "source": [
    "## Predict the y values for the test set"
   ]
  },
  {
   "cell_type": "code",
   "execution_count": null,
   "id": "f8b09013-0a21-4473-bda8-8c82ffbbd19d",
   "metadata": {},
   "outputs": [],
   "source": [
    "y_predicted = predict(train_val_test_dict['test']['X'], model)"
   ]
  },
  {
   "cell_type": "markdown",
   "id": "36d2e0c0-e902-449a-a895-fea06107e18b",
   "metadata": {},
   "source": [
    "## Plot a forecast"
   ]
  },
  {
   "cell_type": "code",
   "execution_count": null,
   "id": "e065e5ad-648a-4579-8473-f1a096ab81b2",
   "metadata": {},
   "outputs": [],
   "source": [
    "plot_a_forecast(\n",
    "    train_val_test_dict['test']['X'],\n",
    "    train_val_test_dict['test'][config['y_set']],\n",
    "    y_predicted,\n",
    "    train_val_test_dict['test'][config['y_forward_set']],\n",
    "    model,\n",
    ")"
   ]
  },
  {
   "cell_type": "code",
   "execution_count": null,
   "id": "3299d83e-0f53-45d9-8ba5-d40d8cff4c91",
   "metadata": {},
   "outputs": [],
   "source": []
  }
 ],
 "metadata": {
  "kernelspec": {
   "display_name": "Python 3 (ipykernel)",
   "language": "python",
   "name": "python3"
  },
  "language_info": {
   "codemirror_mode": {
    "name": "ipython",
    "version": 3
   },
   "file_extension": ".py",
   "mimetype": "text/x-python",
   "name": "python",
   "nbconvert_exporter": "python",
   "pygments_lexer": "ipython3",
   "version": "3.10.12"
  }
 },
 "nbformat": 4,
 "nbformat_minor": 5
}
