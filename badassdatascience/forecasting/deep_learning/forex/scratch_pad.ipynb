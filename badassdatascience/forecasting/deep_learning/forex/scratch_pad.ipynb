{
 "cells": [
  {
   "cell_type": "code",
   "execution_count": null,
   "id": "0a696865-0400-4a18-a8dc-8f9927d6a08e",
   "metadata": {},
   "outputs": [],
   "source": []
  },
  {
   "cell_type": "code",
   "execution_count": 1,
   "id": "c4d4027f-2bc5-45d6-87a5-970646d17cf1",
   "metadata": {},
   "outputs": [],
   "source": [
    "import pandas as pd\n",
    "import datetime\n",
    "import numpy as np\n",
    "\n",
    "from forex.pre_training_data_prep.config import config\n",
    "\n",
    "import pyspark.sql.functions as f\n",
    "#from pyspark.sql.types import BooleanType, IntegerType, ArrayType, FloatType"
   ]
  },
  {
   "cell_type": "code",
   "execution_count": 2,
   "id": "5a3034e5-9d8f-4af2-bf9d-0633beb3e782",
   "metadata": {},
   "outputs": [
    {
     "data": {
      "text/plain": [
       "{'database_name': 'django',\n",
       " 'dag_id': 'NEW_prepare_forex_data',\n",
       " 'tz_name': 'US/Eastern',\n",
       " 'price_type_name': 'mid',\n",
       " 'instrument_name': 'EUR/USD',\n",
       " 'interval_name': 'Minute',\n",
       " 'retries_pull_forex_data': 1,\n",
       " 'retry_delay_minutes_pull_forex_data': 5,\n",
       " 'directory_output': '/home/emily/Desktop/projects/test/badass-data-science/badassdatascience/forecasting/deep_learning/forex/output',\n",
       " 'filename_candlesticks_query_results': 'candlesticks_query_results.parquet',\n",
       " 'filename_timezone_added': 'candlesticks_timezone_added.parquet',\n",
       " 'filename_offset': 'candlesticks_timezone_weekday_offset.parquet',\n",
       " 'filename_weekday_shift_merged': 'candlesticks_weekday_offset_merged.parquet',\n",
       " 'filename_shift_days_and_hours_as_needed': 'candlesticks_shifted_as_needed.parquet',\n",
       " 'filename_finalized_pandas': 'candlesticks_finalized_pandas.parquet',\n",
       " 'filename_conversion_to_spark': 'spark_converted.parquet',\n",
       " 'filename_pivot_and_sort': 'spark_pivot_and_sort.parquet',\n",
       " 'filename_timestamp_diff': 'spark_timestamp_diff.parquet',\n",
       " 'filename_full_day_nans': 'spark_full_day_nans.parquet',\n",
       " 'spark_config': [('spark.executor.memory', '75g'),\n",
       "  ('spark.executor.cores', '20'),\n",
       "  ('spark.cores.max', '20'),\n",
       "  ('spark.driver.memory', '75g'),\n",
       "  ('spark.sql.execution.arrow.pyspark.enabled', 'true')],\n",
       " 'n_processors_to_coalesce': 20,\n",
       " 'seconds_divisor': 60}"
      ]
     },
     "execution_count": 2,
     "metadata": {},
     "output_type": "execute_result"
    }
   ],
   "source": [
    "config"
   ]
  },
  {
   "cell_type": "markdown",
   "id": "6190f488-156a-4d7b-ae34-f0a00aadc11b",
   "metadata": {},
   "source": [
    "## Get previous Pandas dataframe and put it into Spark"
   ]
  },
  {
   "cell_type": "code",
   "execution_count": null,
   "id": "5e3a293b-d431-40d2-9702-dc282eba073b",
   "metadata": {},
   "outputs": [],
   "source": [
    "from utilities.spark_session import get_spark_session\n",
    "from utilities.spark_session import load_pandas_df_parquet_into_spark_df\n",
    "\n",
    "spark = get_spark_session(config['spark_config'])\n",
    "\n",
    "sdf_arrays = load_pandas_df_parquet_into_spark_df(\n",
    "    config['directory_output'] + '/' + config['filename_finalized_pandas'],\n",
    "    spark,\n",
    "    truncate_to_row_number = None, #10,\n",
    "    n_processors_to_coalesce = config['n_processors_to_coalesce'],\n",
    ")\n",
    "\n",
    "sdf_arrays.write.mode('overwrite').parquet(config['directory_output'] + '/' + config['filename_conversion_to_spark'])"
   ]
  },
  {
   "cell_type": "code",
   "execution_count": null,
   "id": "55387e24-06da-4aa1-82e1-e7c19bb86410",
   "metadata": {},
   "outputs": [],
   "source": [
    "sdf_arrays.show(5)\n",
    "spark.stop()"
   ]
  },
  {
   "cell_type": "code",
   "execution_count": null,
   "id": "c8461e3f-e59e-49fd-ada9-67c88443003b",
   "metadata": {},
   "outputs": [],
   "source": []
  },
  {
   "cell_type": "code",
   "execution_count": null,
   "id": "a2a29b58-d7ea-479d-b384-ddf9ce587223",
   "metadata": {},
   "outputs": [],
   "source": []
  },
  {
   "cell_type": "code",
   "execution_count": null,
   "id": "919521e9-e627-4455-a687-1ddfd93b28e6",
   "metadata": {},
   "outputs": [],
   "source": []
  },
  {
   "cell_type": "code",
   "execution_count": null,
   "id": "1439a3d0-26d5-4fcc-94b8-9d5414db99d0",
   "metadata": {},
   "outputs": [],
   "source": []
  },
  {
   "cell_type": "code",
   "execution_count": null,
   "id": "acdbc941-5a94-4484-99ab-bdde6e1be946",
   "metadata": {},
   "outputs": [],
   "source": [
    "from pyspark.sql.types import ArrayType, IntegerType, FloatType"
   ]
  },
  {
   "cell_type": "code",
   "execution_count": null,
   "id": "62c30c92-0ddf-40da-b7a8-2785b36680eb",
   "metadata": {},
   "outputs": [],
   "source": [
    "def difference_an_array(the_array, seconds_divisor):\n",
    "    return [int((y - x) / seconds_divisor) for x, y in zip(the_array[0:-1], the_array[1:])]\n",
    "\n",
    "udf_difference_an_array = f.udf(difference_an_array, ArrayType(IntegerType()))\n",
    "\n",
    "def argsort_an_array(the_array):\n",
    "    the_sort_order = np.argsort(np.array(the_array))\n",
    "    return [int(x) for x in the_sort_order]\n",
    "\n",
    "udf_argsort_an_array = f.udf(argsort_an_array, ArrayType(IntegerType()))\n",
    "\n",
    "def apply_argsort_integer(the_array, argsort_array):\n",
    "    return [int(x) for x in np.array(the_array)[argsort_array]]\n",
    "\n",
    "def apply_argsort_float(the_array, argsort_array):\n",
    "    return [float(x) for x in np.array(the_array)[argsort_array]]\n",
    "\n",
    "udf_apply_argsort_integer = f.udf(apply_argsort_integer, ArrayType(IntegerType()))\n",
    "udf_apply_argsort_float = f.udf(apply_argsort_float, ArrayType(FloatType()))"
   ]
  },
  {
   "cell_type": "code",
   "execution_count": null,
   "id": "c3cbba97-317f-4ce4-957e-5d8f71e800f8",
   "metadata": {},
   "outputs": [],
   "source": [
    "def task_pivot_and_sort_arrays(**config):\n",
    "\n",
    "    spark = get_spark_session(config['spark_config'])\n",
    "    sdf_arrays = (\n",
    "\n",
    "        #\n",
    "        # load\n",
    "        #\n",
    "        spark.read.parquet(config['directory_output'] + '/' + config['filename_conversion_to_spark'])\n",
    "        \n",
    "        #\n",
    "        # pivot\n",
    "        #\n",
    "        .select('original_date_shifted', 'timestamp', 'Return', 'Volatility', 'lhc_mean', 'volume')\n",
    "        .withColumnRenamed('original_date_shifted', 'date_post_shift')\n",
    "        .orderBy('timestamp')\n",
    "        .groupBy('date_post_shift')\n",
    "        .agg(\n",
    "            f.collect_list('timestamp').alias('timestamp_array'),\n",
    "            f.collect_list('Return').alias('return_array'),\n",
    "            f.collect_list('Volatility').alias('volatility_array'),\n",
    "            f.collect_list('lhc_mean').alias('lhc_mean_array'),\n",
    "            f.collect_list('volume').alias('volume_array'),\n",
    "        )\n",
    "\n",
    "        #\n",
    "        # ensure proper sorting (probably not necessary but insurance)\n",
    "        #\n",
    "        .withColumn(\n",
    "            'timestamp_argsort',\n",
    "            udf_argsort_an_array(f.col('timestamp_array'))\n",
    "        )\n",
    "        .withColumn('sorted_timestamp_array', udf_apply_argsort_integer(f.col('timestamp_array'), f.col('timestamp_argsort')))\n",
    "        .withColumn('sorted_return_array', udf_apply_argsort_float(f.col('return_array'), f.col('timestamp_argsort')))\n",
    "        .withColumn('sorted_volatility_array', udf_apply_argsort_float(f.col('volatility_array'), f.col('timestamp_argsort')))\n",
    "        .withColumn('sorted_lhc_mean_array', udf_apply_argsort_float(f.col('lhc_mean_array'), f.col('timestamp_argsort')))\n",
    "        .withColumn('sorted_volume_array', udf_apply_argsort_float(f.col('volume_array'), f.col('timestamp_argsort')))\n",
    "\n",
    "        .drop('timestamp_argsort', 'timestamp_array', 'return_array', 'volatility_array', 'lhc_mean_array', 'volume_array')\n",
    "        .orderBy('date_post_shift')\n",
    "    )\n",
    "    sdf_arrays.write.mode('overwrite').parquet(config['directory_output'] + '/' + config['filename_pivot_and_sort'])\n",
    "    spark.stop()\n",
    "\n",
    "def task_diff_the_timestamp_arrays(**config):\n",
    "    spark = get_spark_session(config['spark_config'])\n",
    "    sdf_arrays = (\n",
    "        spark.read.parquet(config['directory_output'] + '/' + config['filename_pivot_and_sort'])\n",
    "        .withColumn('seconds_divisor', f.lit(config['seconds_divisor']))\n",
    "        .withColumn(\n",
    "            'diff_sorted_timestamp_array',\n",
    "            udf_difference_an_array(\n",
    "                f.col('sorted_timestamp_array'),\n",
    "                f.col('seconds_divisor'),\n",
    "            )\n",
    "        )\n",
    "        .drop('seconds_divisor')\n",
    "        .orderBy('date_post_shift')\n",
    "    )\n",
    "    sdf_arrays.write.mode('overwrite').parquet(config['directory_output'] + '/' + config['filename_timestamp_diff'])\n",
    "    spark.stop()"
   ]
  },
  {
   "cell_type": "code",
   "execution_count": null,
   "id": "e1e0fc35-1b7b-4a0e-986e-a19c6da0d8a1",
   "metadata": {},
   "outputs": [],
   "source": [
    "task_pivot_and_sort_arrays(**config)"
   ]
  },
  {
   "cell_type": "code",
   "execution_count": null,
   "id": "8532645b-85ef-421e-8ee1-a7f30b83a8c2",
   "metadata": {},
   "outputs": [],
   "source": [
    "task_diff_the_timestamp_arrays(**config)"
   ]
  },
  {
   "cell_type": "code",
   "execution_count": null,
   "id": "041391e9-06d3-4d18-9ead-426ae1322623",
   "metadata": {},
   "outputs": [],
   "source": []
  },
  {
   "cell_type": "code",
   "execution_count": null,
   "id": "b3b5091c-7f32-461d-be98-70672b2296a9",
   "metadata": {},
   "outputs": [],
   "source": []
  },
  {
   "cell_type": "code",
   "execution_count": null,
   "id": "1f010901-6f60-45fa-855f-1eb17e96acb1",
   "metadata": {},
   "outputs": [],
   "source": []
  },
  {
   "cell_type": "code",
   "execution_count": null,
   "id": "b7c755d6-4493-46ed-bbc5-137ebc838bc3",
   "metadata": {},
   "outputs": [],
   "source": []
  },
  {
   "cell_type": "code",
   "execution_count": 4,
   "id": "5b111045-53b0-49b1-a0f1-4cc1fb92c43d",
   "metadata": {},
   "outputs": [],
   "source": [
    "from pyspark.sql.types import ArrayType, IntegerType, FloatType"
   ]
  },
  {
   "cell_type": "code",
   "execution_count": 5,
   "id": "079e5d6e-c904-43e6-ad48-bfc5a70ecc8a",
   "metadata": {},
   "outputs": [],
   "source": [
    "def get_all_timestamps(timestamp_array, seconds_divisor):\n",
    "    return [int(x) for x in range(min(timestamp_array), max(timestamp_array) + seconds_divisor, seconds_divisor)]\n",
    "\n",
    "udf_get_all_timestamps = f.udf(get_all_timestamps, ArrayType(IntegerType()))\n",
    "\n",
    "##https://stackoverflow.com/questions/41190852/most-efficient-way-to-forward-fill-nan-values-in-numpy-array\n",
    "#def do_nans_exist(values_array):\n",
    "#    values_array = np.array([np.array(values_array)])\n",
    "#    mask = np.isnan(values_array)\n",
    "#    has_nan_0_or_1 = np.max([int(x) for x in mask[0]])\n",
    "#    return int(has_nan_0_or_1)\n",
    "#\n",
    "#udf_do_nans_exist = f.udf(do_nans_exist, IntegerType())\n",
    "\n",
    "##https://stackoverflow.com/questions/41190852/most-efficient-way-to-forward-fill-nan-values-in-numpy-array\n",
    "#def do_non_nans_exist(values_array):\n",
    "#    values_array = np.array([np.array(values_array)])\n",
    "#    mask = ~np.isnan(values_array)\n",
    "#    has_non_nan_0_or_1 = np.max([int(x) for x in mask[0]])\n",
    "#    return int(has_non_nan_0_or_1)\n",
    "#    \n",
    "#udf_do_non_nans_exist = f.udf(do_non_nans_exist, IntegerType())\n",
    "\n",
    "\n",
    "def count_nans_in_array(values_array):\n",
    "    values_array = np.array([np.array(values_array)])\n",
    "    mask = np.isnan(values_array)\n",
    "    nan_count = np.sum([int(x) for x in mask[0]])\n",
    "    return int(nan_count)\n",
    "    \n",
    "udf_count_nans_in_array = f.udf(count_nans_in_array, IntegerType())\n",
    "\n",
    "\n",
    "\n",
    "##https://stackoverflow.com/questions/41190852/most-efficient-way-to-forward-fill-nan-values-in-numpy-array\n",
    "#def forward_fill(values_array):\n",
    "#    arr = np.array([values_array])\n",
    "#    mask = np.isnan(arr)\n",
    "#    idx = np.where(~mask, np.arange(mask.shape[1]), 0)\n",
    "#    np.maximum.accumulate(idx, axis = 1, out = idx)\n",
    "#    arr[mask] = arr[np.nonzero(mask)[0], idx[mask]]\n",
    "#    to_return = list([float(x) for x in arr[0]])\n",
    "#    return to_return\n",
    "#\n",
    "#udf_forward_fill = f.udf(forward_fill, ArrayType(FloatType()))\n",
    "\n",
    "\n",
    "def locate_nans(timestamp_array, timestamp_all_array, values_array):\n",
    "\n",
    "    # make sure we get an argsort in here later to ensure order of values is correct\n",
    "\n",
    "    ts = np.array(timestamp_array, dtype = np.uint64) # ??\n",
    "    ts_all = np.array(timestamp_all_array, dtype = np.uint64)  # we can probably make this smaller\n",
    "    v = np.array(values_array, dtype = np.float64)  # we can probably make this smaller\n",
    "    \n",
    "    pdf = pd.DataFrame({'timestamp' : ts, 'values' : v})\n",
    "    pdf_all = pd.DataFrame({'timestamp' : ts_all})\n",
    "\n",
    "    pdf_joined = (\n",
    "        pd.merge(\n",
    "            pdf_all,\n",
    "            pdf,\n",
    "            on = 'timestamp',\n",
    "            how = 'left',\n",
    "        )\n",
    "    )\n",
    "\n",
    "    to_return = pdf_joined['values'].to_list()\n",
    "    \n",
    "    return to_return\n",
    "\n",
    "udf_locate_nans = f.udf(locate_nans, ArrayType(FloatType()))"
   ]
  },
  {
   "cell_type": "code",
   "execution_count": 6,
   "id": "1140de41-d08c-43a6-bda2-c9449c586e41",
   "metadata": {},
   "outputs": [
    {
     "name": "stderr",
     "output_type": "stream",
     "text": [
      "25/03/10 09:25:15 WARN Utils: Your hostname, emily-MS-7B96 resolves to a loopback address: 127.0.1.1; using 192.168.1.82 instead (on interface wlp5s0)\n",
      "25/03/10 09:25:15 WARN Utils: Set SPARK_LOCAL_IP if you need to bind to another address\n",
      "Setting default log level to \"WARN\".\n",
      "To adjust logging level use sc.setLogLevel(newLevel). For SparkR, use setLogLevel(newLevel).\n",
      "25/03/10 09:25:15 WARN NativeCodeLoader: Unable to load native-hadoop library for your platform... using builtin-java classes where applicable\n",
      "                                                                                \r"
     ]
    }
   ],
   "source": [
    "from utilities.spark_session import get_spark_session\n",
    "\n",
    "def meh(**config):\n",
    "\n",
    "    spark = get_spark_session(config['spark_config'])\n",
    "    sdf_arrays = (\n",
    "        spark.read.parquet(config['directory_output'] + '/' + config['filename_timestamp_diff'])\n",
    "        .coalesce(config['n_processors_to_coalesce'])\n",
    "        .orderBy('date_post_shift')\n",
    "\n",
    "        .drop('timestamp_argsort')   # done above just not reflected in the saved data\n",
    "\n",
    "        .withColumn(\n",
    "            'timestamps_all',\n",
    "            udf_get_all_timestamps(f.col('sorted_timestamp_array'), f.lit(config['seconds_divisor']))\n",
    "        )\n",
    "    )\n",
    "\n",
    "    items_list = ['return', 'volatility', 'volume', 'lhc_mean']\n",
    "    \n",
    "    for item in items_list:\n",
    "        sdf_arrays = (\n",
    "            sdf_arrays\n",
    "            .withColumn(\n",
    "                item + '_and_nans',\n",
    "                udf_locate_nans(f.col('sorted_timestamp_array'), f.col('timestamps_all'), f.col('sorted_' + item + '_array'))\n",
    "            )\n",
    "            #.withColumn(\n",
    "            #    item + '_forward_filled',\n",
    "            #    udf_forward_fill(f.col(item + '_and_nans'))\n",
    "            #)\n",
    "        )\n",
    "\n",
    "    for item in items_list:\n",
    "        sdf_arrays = (\n",
    "            sdf_arrays\n",
    "            .withColumn(\n",
    "                item + '_nan_count',\n",
    "                udf_count_nans_in_array(f.col(item + '_and_nans'))\n",
    "            )\n",
    "        )\n",
    "\n",
    "    # QA\n",
    "    #sdf_arrays = (\n",
    "    #    sdf_arrays\n",
    "    #    .withColumn(\n",
    "    #        'test_nan_count_equality',\n",
    "    #        (\n",
    "    #            (f.col('return_nan_count') == f.col('volatility_nan_count')) &\n",
    "    #            (f.col('volatility_nan_count') == f.col('volume_nan_count')) &\n",
    "    #            (f.col('volume_nan_count') == f.col('lhc_mean_nan_count'))\n",
    "    #        )\n",
    "    #    )\n",
    "    #)\n",
    "    #sdf_test = sdf_arrays.groupBy('test_nan_count_equality').agg(f.count(f.col('date_post_shift').alias('test_nan_count_equality_aggregated')))\n",
    "    #sdf_test.show()\n",
    "    #sdf_test = sdf_test.drop('test_nan_count_equality')\n",
    "\n",
    "    sdf_arrays = sdf_arrays.withColumn('nan_count_full_day', f.col('return_nan_count'))\n",
    "    for item in items_list:\n",
    "        sdf_arrays = sdf_arrays.drop(item + '_nan_count')\n",
    "\n",
    "    sdf_arrays.write.mode('overwrite').parquet(config['directory_output'] + '/' + config['filename_full_day_nans'])\n",
    "    spark.stop()\n",
    "\n",
    "meh(**config)"
   ]
  },
  {
   "cell_type": "code",
   "execution_count": null,
   "id": "ae7d577b-a702-42d0-a599-6602e3368b95",
   "metadata": {},
   "outputs": [],
   "source": []
  },
  {
   "cell_type": "code",
   "execution_count": 32,
   "id": "ed24ce60-af98-4caa-91f4-0ef296219213",
   "metadata": {},
   "outputs": [
    {
     "name": "stdout",
     "output_type": "stream",
     "text": [
      "+--------+--------------+\n",
      "|has_nans|number_of_days|\n",
      "+--------+--------------+\n",
      "|    true|          4119|\n",
      "|   false|           128|\n",
      "+--------+--------------+\n",
      "\n"
     ]
    }
   ],
   "source": [
    "from utilities.spark_session import get_spark_session\n",
    "spark = get_spark_session(config['spark_config'])\n",
    "sdf_qa = (\n",
    "    spark.read.parquet(config['directory_output'] + '/' + config['filename_full_day_nans'])\n",
    "    .select('nan_count_full_day', 'date_post_shift')\n",
    "    .orderBy(f.col('nan_count_full_day').desc())\n",
    "    .withColumn('has_nans', f.col('nan_count_full_day') > 0)\n",
    "    .groupBy('has_nans').agg(f.count('date_post_shift').alias('number_of_days'))\n",
    ")\n",
    "sdf_qa.show()"
   ]
  },
  {
   "cell_type": "code",
   "execution_count": 33,
   "id": "505aa66a-0472-4613-90d9-a9fc2c60344f",
   "metadata": {},
   "outputs": [
    {
     "name": "stdout",
     "output_type": "stream",
     "text": [
      "+------------------+---------------+\n",
      "|nan_count_full_day|date_post_shift|\n",
      "+------------------+---------------+\n",
      "|              1363|     2009-01-01|\n",
      "|               671|     2019-04-19|\n",
      "|               653|     2011-12-26|\n",
      "|               502|     2016-03-25|\n",
      "|               471|     2019-12-26|\n",
      "|               467|     2019-05-27|\n",
      "|               453|     2009-12-25|\n",
      "|               422|     2014-09-01|\n",
      "|               389|     2019-04-22|\n",
      "|               388|     2012-01-02|\n",
      "|               371|     2019-07-04|\n",
      "|               370|     2023-01-02|\n",
      "|               367|     2014-08-11|\n",
      "|               357|     2018-03-30|\n",
      "|               343|     2014-08-13|\n",
      "|               335|     2014-12-26|\n",
      "|               332|     2010-12-24|\n",
      "|               324|     2019-11-29|\n",
      "|               319|     2019-11-28|\n",
      "|               316|     2011-04-22|\n",
      "+------------------+---------------+\n",
      "only showing top 20 rows\n",
      "\n"
     ]
    }
   ],
   "source": [
    "spark = get_spark_session(config['spark_config'])\n",
    "sdf_qa_counts = (\n",
    "    spark.read.parquet(config['directory_output'] + '/' + config['filename_full_day_nans'])\n",
    "    .select('nan_count_full_day', 'date_post_shift')\n",
    "    .orderBy(f.col('nan_count_full_day').desc())\n",
    ")\n",
    "sdf_qa_counts.show()"
   ]
  },
  {
   "cell_type": "code",
   "execution_count": 34,
   "id": "ca4746b9-3cb9-4765-8eab-f5d521c77e6c",
   "metadata": {},
   "outputs": [
    {
     "data": {
      "image/png": "[encoded data removed]",
      "text/plain": [
       "<Figure size 640x480 with 1 Axes>"
      ]
     },
     "metadata": {},
     "output_type": "display_data"
    }
   ],
   "source": [
    "import matplotlib.pyplot as plt\n",
    "nan_counts_per_day = [x['nan_count_full_day'] for x in sdf_qa_counts.select('nan_count_full_day').collect()]\n",
    "\n",
    "#plt.figure()\n",
    "#plt.hist(nan_counts_per_day)\n",
    "#plt.show()\n",
    "#plt.close()\n",
    "\n",
    "plt.figure()\n",
    "plt.boxplot([nan_counts_per_day], widths=0.95)\n",
    "plt.show()\n",
    "plt.close()"
   ]
  },
  {
   "cell_type": "code",
   "execution_count": 28,
   "id": "0d39ed94-8001-4b0a-bdfe-888a7c2d0b8b",
   "metadata": {},
   "outputs": [
    {
     "name": "stdout",
     "output_type": "stream",
     "text": [
      "46.816105486225574 32.0\n"
     ]
    }
   ],
   "source": [
    "print(np.mean(nan_counts_per_day), np.median(nan_counts_per_day))"
   ]
  },
  {
   "cell_type": "code",
   "execution_count": 52,
   "id": "dfe322e8-0724-4d34-b6c7-29647d9c10a2",
   "metadata": {},
   "outputs": [],
   "source": [
    "pdf_qa_dates = sdf_qa_counts.toPandas()"
   ]
  },
  {
   "cell_type": "code",
   "execution_count": 56,
   "id": "5c97eb5c-455e-4996-931d-668cacb9df98",
   "metadata": {},
   "outputs": [
    {
     "data": {
      "text/plain": [
       "<Figure size 640x480 with 0 Axes>"
      ]
     },
     "metadata": {},
     "output_type": "display_data"
    },
    {
     "data": {
      "image/png": "[encoded data removed]",
      "text/plain": [
       "<Figure size 640x480 with 1 Axes>"
      ]
     },
     "metadata": {},
     "output_type": "display_data"
    }
   ],
   "source": [
    "pdf_qa_dates['weekday'] = [x.weekday() for x in pdf_qa_dates['date_post_shift']]\n",
    "\n",
    "plt.figure()\n",
    "pdf_qa_dates.boxplot(by = 'weekday')\n",
    "plt.show()\n",
    "plt.close()"
   ]
  },
  {
   "cell_type": "code",
   "execution_count": null,
   "id": "5e15a7d5-147e-4b43-839f-c393d83874fb",
   "metadata": {},
   "outputs": [],
   "source": []
  },
  {
   "cell_type": "code",
   "execution_count": null,
   "id": "b45f97ad-492d-4398-a441-6ec94ce07380",
   "metadata": {},
   "outputs": [],
   "source": []
  },
  {
   "cell_type": "code",
   "execution_count": null,
   "id": "245cf166-fd76-4b7d-b84f-04fb1aa86e28",
   "metadata": {},
   "outputs": [],
   "source": []
  },
  {
   "cell_type": "code",
   "execution_count": 59,
   "id": "8e79399d-9637-4d4b-bfd2-7d77505054a7",
   "metadata": {},
   "outputs": [
    {
     "name": "stdout",
     "output_type": "stream",
     "text": [
      "+---------------+----------------------+--------------------+-----------------------+---------------------+--------------------+---------------------------+--------------------+--------------------+--------------------+--------------------+--------------------+------------------+\n",
      "|date_post_shift|sorted_timestamp_array| sorted_return_array|sorted_volatility_array|sorted_lhc_mean_array| sorted_volume_array|diff_sorted_timestamp_array|      timestamps_all|     return_and_nans| volatility_and_nans|     volume_and_nans|   lhc_mean_and_nans|nan_count_full_day|\n",
      "+---------------+----------------------+--------------------+-----------------------+---------------------+--------------------+---------------------------+--------------------+--------------------+--------------------+--------------------+--------------------+------------------+\n",
      "|     2014-11-19|  [1416348120, 1416...|[-2.2E-4, 1.8E-4,...|   [3.4E-4, 2.2E-4, ...| [1.2532933, 1.253...|[17.0, 18.0, 5.0,...|       [1, 1, 1, 1, 1, 1...|[1416348120, 1416...|[-2.2E-4, 1.8E-4,...|[3.4E-4, 2.2E-4, ...|[17.0, 18.0, 5.0,...|[1.2532933, 1.253...|                75|\n",
      "|     2014-11-20|  [1416434520, 1416...|[4.0E-5, 4.0E-5, ...|   [8.0E-5, 4.0E-5, ...| [1.25536, 1.25538...|[4.0, 3.0, 2.0, 1...|       [1, 1, 1, 1, 1, 1...|[1416434520, 1416...|[4.0E-5, 4.0E-5, ...|[8.0E-5, 4.0E-5, ...|[4.0, 3.0, 2.0, 1...|[1.25536, 1.25538...|                63|\n",
      "|     2014-11-21|  [1416520920, 1416...|[-1.0E-4, 3.0E-5,...|   [1.0E-4, 3.0E-5, ...| [1.2540333, 1.254...|[4.0, 2.0, 14.0, ...|       [1, 1, 1, 1, 1, 1...|[1416520920, 1416...|[-1.0E-4, 3.0E-5,...|[1.0E-4, 3.0E-5, ...|[4.0, 2.0, 14.0, ...|[1.2540333, 1.254...|                66|\n",
      "|     2014-11-24|  [1416780000, 1416...|[2.0E-4, 1.2E-4, ...|   [3.3E-4, 2.0E-4, ...| [1.2364167, 1.236...|[20.0, 8.0, 5.0, ...|       [1, 1, 1, 2, 1, 1...|[1416780000, 1416...|[2.0E-4, 1.2E-4, ...|[3.3E-4, 2.0E-4, ...|[20.0, 8.0, 5.0, ...|[1.2364167, 1.236...|               111|\n",
      "|     2014-11-25|  [1416866520, 1416...|[0.0, -2.0E-5, 0....|   [0.0, 2.0E-5, 0.0...| [1.24424, 1.24426...|[1.0, 2.0, 2.0, 1...|       [2, 1, 1, 1, 1, 3...|[1416866520, 1416...|[0.0, NaN, -2.0E-...|[0.0, NaN, 2.0E-5...|[1.0, NaN, 2.0, 2...|[1.24424, NaN, 1....|                78|\n",
      "+---------------+----------------------+--------------------+-----------------------+---------------------+--------------------+---------------------------+--------------------+--------------------+--------------------+--------------------+--------------------+------------------+\n",
      "only showing top 5 rows\n",
      "\n"
     ]
    }
   ],
   "source": [
    "sdf_arrays = spark.read.parquet(config['directory_output'] + '/' + config['filename_full_day_nans'])\n",
    "sdf_arrays.show(5)"
   ]
  },
  {
   "cell_type": "code",
   "execution_count": null,
   "id": "3956fa66-fab3-4bb3-b2a1-8daed3ebf833",
   "metadata": {},
   "outputs": [],
   "source": []
  },
  {
   "cell_type": "code",
   "execution_count": 83,
   "id": "0cf757bb-d3d6-47c0-8cd8-b18af202c711",
   "metadata": {},
   "outputs": [
    {
     "data": {
      "text/plain": [
       "[-0.00022000000171829015,\n",
       " 0.00018000000272877514,\n",
       " 7.999999797903001e-05,\n",
       " -0.00013000000035390258,\n",
       " 0.00015999999595806003,\n",
       " -9.999999747378752e-06,\n",
       " 0.0,\n",
       " 0.0,\n",
       " 9.999999747378752e-06,\n",
       " 1.9999999494757503e-05,\n",
       " nan,\n",
       " -2.9999999242136255e-05,\n",
       " -0.00011999999696854502,\n",
       " -0.00011000000085914508,\n",
       " -9.999999747378752e-06,\n",
       " 1.9999999494757503e-05,\n",
       " nan,\n",
       " nan,\n",
       " 4.999999873689376e-05,\n",
       " 0.0002300000051036477]"
      ]
     },
     "execution_count": 83,
     "metadata": {},
     "output_type": "execute_result"
    }
   ],
   "source": [
    "[x['return_and_nans'] for x in sdf_arrays.select('return_and_nans').take(1)][0][0:20]\n",
    "#[x['return_and_nans'] for x in sdf_arrays.select('return_and_nans').take(1)]"
   ]
  },
  {
   "cell_type": "code",
   "execution_count": null,
   "id": "12362466-8b6f-4629-bfc5-bad1bcea0fe7",
   "metadata": {},
   "outputs": [],
   "source": []
  },
  {
   "cell_type": "code",
   "execution_count": null,
   "id": "f5ff321f-53d5-43f9-9a8d-24fcd5ab0c7b",
   "metadata": {},
   "outputs": [],
   "source": []
  },
  {
   "cell_type": "code",
   "execution_count": 70,
   "id": "30e9b21c-3068-4ebf-ac36-458399c46225",
   "metadata": {},
   "outputs": [],
   "source": [
    "# https://stackoverflow.com/questions/6352425/whats-the-most-pythonic-way-to-identify-consecutive-duplicates-in-a-list\n",
    "\n"
   ]
  },
  {
   "cell_type": "code",
   "execution_count": 137,
   "id": "6f37ef64-72d4-4ed3-91a8-2d75bd2c4de4",
   "metadata": {},
   "outputs": [
    {
     "name": "stdout",
     "output_type": "stream",
     "text": [
      "+---------------+----------------------+--------------------+-----------------------+---------------------+--------------------+---------------------------+--------------------+--------------------+--------------------+--------------------+--------------------+------------------+------+\n",
      "|date_post_shift|sorted_timestamp_array| sorted_return_array|sorted_volatility_array|sorted_lhc_mean_array| sorted_volume_array|diff_sorted_timestamp_array|      timestamps_all|     return_and_nans| volatility_and_nans|     volume_and_nans|   lhc_mean_and_nans|nan_count_full_day|booger|\n",
      "+---------------+----------------------+--------------------+-----------------------+---------------------+--------------------+---------------------------+--------------------+--------------------+--------------------+--------------------+--------------------+------------------+------+\n",
      "|     2014-11-19|  [1416348120, 1416...|[-2.2E-4, 1.8E-4,...|   [3.4E-4, 2.2E-4, ...| [1.2532933, 1.253...|[17.0, 18.0, 5.0,...|       [1, 1, 1, 1, 1, 1...|[1416348120, 1416...|[-2.2E-4, 1.8E-4,...|[3.4E-4, 2.2E-4, ...|[17.0, 18.0, 5.0,...|[1.2532933, 1.253...|                75|     4|\n",
      "|     2014-11-20|  [1416434520, 1416...|[4.0E-5, 4.0E-5, ...|   [8.0E-5, 4.0E-5, ...| [1.25536, 1.25538...|[4.0, 3.0, 2.0, 1...|       [1, 1, 1, 1, 1, 1...|[1416434520, 1416...|[4.0E-5, 4.0E-5, ...|[8.0E-5, 4.0E-5, ...|[4.0, 3.0, 2.0, 1...|[1.25536, 1.25538...|                63|     2|\n",
      "|     2014-11-21|  [1416520920, 1416...|[-1.0E-4, 3.0E-5,...|   [1.0E-4, 3.0E-5, ...| [1.2540333, 1.254...|[4.0, 2.0, 14.0, ...|       [1, 1, 1, 1, 1, 1...|[1416520920, 1416...|[-1.0E-4, 3.0E-5,...|[1.0E-4, 3.0E-5, ...|[4.0, 2.0, 14.0, ...|[1.2540333, 1.254...|                66|     5|\n",
      "|     2014-11-24|  [1416780000, 1416...|[2.0E-4, 1.2E-4, ...|   [3.3E-4, 2.0E-4, ...| [1.2364167, 1.236...|[20.0, 8.0, 5.0, ...|       [1, 1, 1, 2, 1, 1...|[1416780000, 1416...|[2.0E-4, 1.2E-4, ...|[3.3E-4, 2.0E-4, ...|[20.0, 8.0, 5.0, ...|[1.2364167, 1.236...|               111|     5|\n",
      "|     2014-11-25|  [1416866520, 1416...|[0.0, -2.0E-5, 0....|   [0.0, 2.0E-5, 0.0...| [1.24424, 1.24426...|[1.0, 2.0, 2.0, 1...|       [2, 1, 1, 1, 1, 3...|[1416866520, 1416...|[0.0, NaN, -2.0E-...|[0.0, NaN, 2.0E-5...|[1.0, NaN, 2.0, 2...|[1.24424, NaN, 1....|                78|     3|\n",
      "+---------------+----------------------+--------------------+-----------------------+---------------------+--------------------+---------------------------+--------------------+--------------------+--------------------+--------------------+--------------------+------------------+------+\n",
      "only showing top 5 rows\n",
      "\n"
     ]
    }
   ],
   "source": [
    "sdf_arrays.show(5)"
   ]
  },
  {
   "cell_type": "code",
   "execution_count": 142,
   "id": "93dbe6d6-cbfa-4cac-bb64-7f24c19affab",
   "metadata": {},
   "outputs": [
    {
     "name": "stdout",
     "output_type": "stream",
     "text": [
      "+------------------+----------------------+------------------+--------------------+\n",
      "|consec_nans_return|consec_nans_volatility|consec_nans_volume|consec_nans_lhc_mean|\n",
      "+------------------+----------------------+------------------+--------------------+\n",
      "|                 4|                     4|                 4|                   4|\n",
      "|                 2|                     2|                 2|                   2|\n",
      "|                 5|                     5|                 5|                   5|\n",
      "|                 5|                     5|                 5|                   5|\n",
      "|                 3|                     3|                 3|                   3|\n",
      "+------------------+----------------------+------------------+--------------------+\n",
      "only showing top 5 rows\n",
      "\n"
     ]
    }
   ],
   "source": [
    "#\n",
    "# Had to implement a crude method to get this to work in Spark.\n",
    "#\n",
    "# A more elegant solution is described at:\n",
    "# https://stackoverflow.com/questions/6352425/whats-the-most-pythonic-way-to-identify-consecutive-duplicates-in-a-list\n",
    "#\n",
    "def get_max_consecutive_NaNs(a_list):\n",
    "\n",
    "    n_consec_nan_list = []\n",
    "    count = 0\n",
    "    is_in_nan_group = False\n",
    "    for item in np.array(a_list):\n",
    "        if np.isnan(item) or item == None:\n",
    "            is_in_nan_group = True\n",
    "            count += 1\n",
    "        if not np.isnan(item) and is_in_nan_group:\n",
    "            is_in_nan_group = False\n",
    "            n_consec_nan_list.append(count)\n",
    "            count = 0\n",
    "        \n",
    "    return max(n_consec_nan_list)\n",
    "    \n",
    "udf_get_max_consecutive_NaNs = f.udf(get_max_consecutive_NaNs, IntegerType())\n",
    "sdf_arrays = (\n",
    "    sdf_arrays\n",
    "   .withColumn('consec_nans_return', udf_get_max_consecutive_NaNs(f.col('return_and_nans')))\n",
    "   .withColumn('consec_nans_volatility', udf_get_max_consecutive_NaNs(f.col('volatility_and_nans')))\n",
    "   .withColumn('consec_nans_volume', udf_get_max_consecutive_NaNs(f.col('volume_and_nans')))\n",
    "   .withColumn('consec_nans_lhc_mean', udf_get_max_consecutive_NaNs(f.col('lhc_mean_and_nans')))\n",
    "\n",
    ")\n",
    "sdf_arrays.select('consec_nans_return', 'consec_nans_volatility', 'consec_nans_volume', 'consec_nans_lhc_mean').show(5)"
   ]
  },
  {
   "cell_type": "code",
   "execution_count": null,
   "id": "a347f9e9-05dc-4339-a30b-510b7986f038",
   "metadata": {},
   "outputs": [],
   "source": []
  },
  {
   "cell_type": "code",
   "execution_count": null,
   "id": "8118b8b1-ecd4-4b86-80d6-7319f9621a22",
   "metadata": {},
   "outputs": [],
   "source": []
  }
 ],
 "metadata": {
  "kernelspec": {
   "display_name": "Python 3 (ipykernel)",
   "language": "python",
   "name": "python3"
  },
  "language_info": {
   "codemirror_mode": {
    "name": "ipython",
    "version": 3
   },
   "file_extension": ".py",
   "mimetype": "text/x-python",
   "name": "python",
   "nbconvert_exporter": "python",
   "pygments_lexer": "ipython3",
   "version": "3.10.12"
  }
 },
 "nbformat": 4,
 "nbformat_minor": 5
}
