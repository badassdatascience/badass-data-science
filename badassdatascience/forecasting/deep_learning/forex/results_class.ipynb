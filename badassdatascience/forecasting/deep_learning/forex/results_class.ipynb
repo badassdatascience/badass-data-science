{
 "cells": [
  {
   "cell_type": "code",
   "execution_count": null,
   "id": "22aabc46-4769-4aee-9731-5568ad3214ae",
   "metadata": {},
   "outputs": [],
   "source": []
  },
  {
   "cell_type": "code",
   "execution_count": 63,
   "id": "02299080-a5ca-457c-8632-23e030cef375",
   "metadata": {},
   "outputs": [],
   "source": [
    "import pickle\n",
    "import numpy as np\n",
    "import matplotlib.pyplot as plt\n",
    "\n",
    "from forex.pre_training_data_prep.config import config"
   ]
  },
  {
   "cell_type": "code",
   "execution_count": 2,
   "id": "64eafa02-2431-4f95-a26f-0d69f31762fd",
   "metadata": {},
   "outputs": [
    {
     "data": {
      "text/plain": [
       "{'database_name': 'django',\n",
       " 'dag_id': 'NEW_prepare_forex_data',\n",
       " 'list_data_columns': ['return', 'volatility', 'volume', 'lhc_mean'],\n",
       " 'list_data_columns_no_scale': ['sin_24', 'cos_24'],\n",
       " 'n_back': 180,\n",
       " 'n_forward': 30,\n",
       " 'offset': 1,\n",
       " 'n_step': 10,\n",
       " 'tz_name': 'US/Eastern',\n",
       " 'price_type_name': 'mid',\n",
       " 'instrument_name': 'EUR/USD',\n",
       " 'interval_name': 'Minute',\n",
       " 'retries_pull_forex_data': 1,\n",
       " 'retry_delay_minutes_pull_forex_data': 5,\n",
       " 'cutoff_max_consec_nans': 2,\n",
       " 'cutoff_total_nan_count': 5,\n",
       " 'shuffle_random_seed': 42,\n",
       " 'train_val_test_split': [0.7, 0.15, 0.15],\n",
       " 'shuffle_X_train_and_val': True,\n",
       " 'directory_output': '/home/emily/Desktop/projects/test/badass-data-science/badassdatascience/forecasting/deep_learning/forex/output',\n",
       " 'filename_candlesticks_query_results': 'candlesticks_query_results.parquet',\n",
       " 'filename_timezone_added': 'candlesticks_timezone_added.parquet',\n",
       " 'filename_offset': 'candlesticks_timezone_weekday_offset.parquet',\n",
       " 'filename_weekday_shift_merged': 'candlesticks_weekday_offset_merged.parquet',\n",
       " 'filename_shift_days_and_hours_as_needed': 'candlesticks_shifted_as_needed.parquet',\n",
       " 'filename_finalized_pandas': 'candlesticks_finalized_pandas.parquet',\n",
       " 'filename_conversion_to_spark': 'spark_converted.parquet',\n",
       " 'filename_pivot_and_sort': 'spark_pivot_and_sort.parquet',\n",
       " 'filename_timestamp_diff': 'spark_timestamp_diff.parquet',\n",
       " 'filename_full_day_nans': 'spark_full_day_nans.parquet',\n",
       " 'filename_post_trig': 'spark_post_trig.parquet',\n",
       " 'filename_sliding_window_space_check': 'spark_sliding_window_space_check.parquet',\n",
       " 'filename_sliding_window_QA': 'spark_sliding_window_QA.parquet',\n",
       " 'filename_sliding_window': 'spark_sliding_window.parquet',\n",
       " 'filename_explode_array': 'spark_explode_array.parquet',\n",
       " 'filename_post_sw_nans': 'spark_post_sw_nans.parquet',\n",
       " 'filename_post_nan_filters': 'spark_post_nan_filters.parquet',\n",
       " 'filename_scaling_stats': 'spark_scaling_stats.parquet',\n",
       " 'filename_forward_filled': 'spark_forward_filled',\n",
       " 'filename_scaled': 'spark_scaled',\n",
       " 'filename_final_pandas_df': 'pandas_final_df.parquet',\n",
       " 'filename_numpy_final_dict': 'dict_final_numpy.pickled',\n",
       " 'spark_config': [('spark.executor.memory', '100g'),\n",
       "  ('spark.executor.cores', '20'),\n",
       "  ('spark.cores.max', '20'),\n",
       "  ('spark.driver.memory', '100g'),\n",
       "  ('spark.sql.execution.arrow.pyspark.enabled', 'true')],\n",
       " 'n_processors_to_coalesce': 20,\n",
       " 'seconds_divisor': 60}"
      ]
     },
     "execution_count": 2,
     "metadata": {},
     "output_type": "execute_result"
    }
   ],
   "source": [
    "config"
   ]
  },
  {
   "cell_type": "code",
   "execution_count": null,
   "id": "5cce5b08-bead-4c88-9b81-61d6caf5bd30",
   "metadata": {},
   "outputs": [],
   "source": [
    "        stat_function_to_name_map = {\n",
    "            np.mean : 'Mean',\n",
    "            np.median : 'Median',\n",
    "        }"
   ]
  },
  {
   "cell_type": "code",
   "execution_count": null,
   "id": "b1d34c24-79f3-4f22-a4c3-734cde51acad",
   "metadata": {},
   "outputs": [],
   "source": []
  },
  {
   "cell_type": "code",
   "execution_count": 3,
   "id": "6b9a8207-65b8-4273-b42c-2f7690ff3a87",
   "metadata": {},
   "outputs": [],
   "source": [
    "filename_train_val_test_dict = '/home/emily/Desktop/projects/test/badass-data-science/badassdatascience/forecasting/deep_learning/forex/output/dict_final_numpy.pickled'"
   ]
  },
  {
   "cell_type": "code",
   "execution_count": null,
   "id": "221541ed-a8de-44b7-81a6-31163f097586",
   "metadata": {},
   "outputs": [],
   "source": []
  },
  {
   "cell_type": "code",
   "execution_count": 364,
   "id": "7267b58e-29da-45d0-a689-b63ac0ff9847",
   "metadata": {},
   "outputs": [],
   "source": [
    "import datetime\n",
    "import pytz\n",
    "\n",
    "class TimeSeries():\n",
    "\n",
    "    def __init__(self, filename_train_val_test_dict, config):\n",
    "\n",
    "        with open(filename_train_val_test_dict, 'rb') as fff:\n",
    "            train_val_test_dict = pickle.load(fff)\n",
    "\n",
    "        self.config = config\n",
    "        self.features_list = train_val_test_dict['features']['features_list']\n",
    "        self.features_name_to_index = train_val_test_dict['features']['features_index_lookup']['name_to_index']\n",
    "        self.features_index_to_name = train_val_test_dict['features']['features_index_lookup']['index_to_name']\n",
    "        self.matrices = train_val_test_dict['matrices']\n",
    "        self.timestamps = train_val_test_dict['list_of_timestamps']\n",
    "        \n",
    "       \n",
    "        # need to refactor this\n",
    "        self.stat_function_to_name_map = {\n",
    "            np.mean : 'Mean',\n",
    "            np.median : 'Median',\n",
    "        }\n",
    "\n",
    "    def get_feature_index_from_feature_name(self, feature_name = 'lhc_mean'):\n",
    "        return self.features_name_to_index[feature_name]\n",
    "    \n",
    "    def get_X_for_a_row(self, set_name = 'train', feature_name = 'lhc_mean', row_index = 0):\n",
    "        return self.matrices[set_name]['X'][row_index, :, self.get_feature_index_from_feature_name(feature_name = feature_name)]\n",
    "\n",
    "    def get_y_for_a_row(self, set_name = 'train', feature_name = 'lhc_mean', row_index = 0):\n",
    "        return self.matrices[set_name]['y'][row_index, :, self.get_feature_index_from_feature_name(feature_name = feature_name)]\n",
    "\n",
    "    def get_y_summary_statistic_array(self, set_name = 'train', feature_name = 'lhc_mean', function = np.mean):\n",
    "        y_temp = self.matrices[set_name]['y'][:, :, self.get_feature_index_from_feature_name(feature_name = feature_name)]\n",
    "        return function(y_temp, axis = 1)\n",
    "    \n",
    "    def plot_it(\n",
    "        self,\n",
    "        index_panel = 0,\n",
    "        feature_name = 'lhc_mean',\n",
    "        summary_statistic_function = np.mean,\n",
    "        predicted_y = None,\n",
    "        marker = 'o',\n",
    "        markersize = 10,\n",
    "    ):\n",
    "        static_function_name = self.stat_function_to_name_map[summary_statistic_function]\n",
    "        \n",
    "        X_test = self.get_X_for_a_row(set_name = 'test', feature_name = feature_name, row_index = index_panel)\n",
    "        y_test = self.get_y_for_a_row(set_name = 'test', feature_name = feature_name, row_index = index_panel)\n",
    "\n",
    "        X_range = np.arange(0, config['n_back'])\n",
    "        y_range = np.arange(config['n_back'], (config['n_back'] + config['n_forward']))\n",
    "\n",
    "        #labels_xticks = list(X_range - config['n_back'])\n",
    "        #labels_xticks.extend(list(y_range - config['n_back']))\n",
    "        #labels_xticks = np.array(labels_xticks)\n",
    "        #labels_xticks = labels_xticks[::10]  # hard coded\n",
    "        #xticks = labels_xticks + config['n_back']\n",
    "        \n",
    "        y_summary_statistic_value = self.get_y_summary_statistic_array(set_name = 'test', feature_name = feature_name)[index_panel]\n",
    "\n",
    "        plt.figure()\n",
    "        plt.plot(X_range, X_test, label = 'Known X')\n",
    "        plt.plot(y_range, y_test, label = 'Known Y')\n",
    "        plt.plot(y_range, [y_summary_statistic_value] * config['n_forward'], label = static_function_name + '(Known Y)')\n",
    "        plt.plot([config['n_back']], y_test[0], marker = marker, markersize = markersize, label = 'Trade Execution Time')\n",
    "        \n",
    "        plt.ylabel(feature_name.replace('_', ' ') + ' (scaled)')\n",
    "        plt.xlabel('Minutes')\n",
    "        #plt.xticks(ticks = xticks, labels = labels_xticks)\n",
    "        \n",
    "        plt.legend()\n",
    "        plt.tight_layout()\n",
    "        plt.show()\n",
    "        plt.close()"
   ]
  },
  {
   "cell_type": "code",
   "execution_count": 365,
   "id": "cc9b28d7-3e72-4b7a-a921-82b2034b4112",
   "metadata": {},
   "outputs": [],
   "source": [
    "ts = TimeSeries(filename_train_val_test_dict, config)"
   ]
  },
  {
   "cell_type": "code",
   "execution_count": 363,
   "id": "6e6a67cc-1596-4916-b8f4-abb7695f23c5",
   "metadata": {},
   "outputs": [
    {
     "data": {
      "image/png": "[encoded data removed]",
      "text/plain": [
       "<Figure size 640x480 with 1 Axes>"
      ]
     },
     "metadata": {},
     "output_type": "display_data"
    }
   ],
   "source": [
    "ts.plot_it(index_panel = 2000)"
   ]
  },
  {
   "cell_type": "code",
   "execution_count": null,
   "id": "4f46a372-5671-4ecb-a80d-7c39bab122d4",
   "metadata": {},
   "outputs": [],
   "source": []
  },
  {
   "cell_type": "code",
   "execution_count": null,
   "id": "b9e2f5e1-2408-47d5-b6c8-205461c48d7b",
   "metadata": {},
   "outputs": [],
   "source": []
  },
  {
   "cell_type": "code",
   "execution_count": null,
   "id": "dcfcd5cf-963a-4118-8259-d74b6aed8938",
   "metadata": {},
   "outputs": [],
   "source": []
  },
  {
   "cell_type": "code",
   "execution_count": null,
   "id": "fd05900d-af32-4329-a5b6-62a2af212d95",
   "metadata": {},
   "outputs": [],
   "source": []
  },
  {
   "cell_type": "code",
   "execution_count": null,
   "id": "e0a71ab0-ebff-426a-afb1-4c56a4887ba9",
   "metadata": {},
   "outputs": [],
   "source": []
  },
  {
   "cell_type": "code",
   "execution_count": null,
   "id": "b7fc04b0-9151-49b2-83e1-98e42c1aea72",
   "metadata": {},
   "outputs": [],
   "source": []
  }
 ],
 "metadata": {
  "kernelspec": {
   "display_name": "Python 3 (ipykernel)",
   "language": "python",
   "name": "python3"
  },
  "language_info": {
   "codemirror_mode": {
    "name": "ipython",
    "version": 3
   },
   "file_extension": ".py",
   "mimetype": "text/x-python",
   "name": "python",
   "nbconvert_exporter": "python",
   "pygments_lexer": "ipython3",
   "version": "3.10.12"
  }
 },
 "nbformat": 4,
 "nbformat_minor": 5
}
