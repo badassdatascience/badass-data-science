{
 "cells": [
  {
   "cell_type": "markdown",
   "id": "51a6e007-a739-44c9-b408-7d77d4f4d78f",
   "metadata": {},
   "source": [
    "# Generate Weekday/Hour Offset Mapping\n",
    "\n",
    "This code ensures that a \"trading day\" starts at 17:00 on one day and runs through 16:59 on the following day.\n",
    "\n",
    "Oanda trading hours:  Sunday 17:05 through Friday 16:59 (New York time)"
   ]
  },
  {
   "cell_type": "markdown",
   "id": "98bc6823-ef3a-4ce0-adc1-89438f72da26",
   "metadata": {},
   "source": [
    "## Load useful libraries"
   ]
  },
  {
   "cell_type": "code",
   "execution_count": 1,
   "id": "ee9b87bd-1a59-4333-8616-4a7d0810a267",
   "metadata": {},
   "outputs": [],
   "source": [
    "import pandas as pd\n",
    "import datetime\n",
    "import pytz\n",
    "import os"
   ]
  },
  {
   "cell_type": "code",
   "execution_count": 2,
   "id": "0954b3c8-7079-4452-9841-c637d28b9883",
   "metadata": {},
   "outputs": [],
   "source": [
    "import boilerplate\n",
    "from timeseries.models import Interval, Instrument, PriceType, Candlestick\n",
    "from utilities.make_dataframe_from_db import make_candlestick_dataframe\n",
    "from utilities.date_and_time_related_calculations import compute_datetime_information"
   ]
  },
  {
   "cell_type": "code",
   "execution_count": 3,
   "id": "9de5f1d4-19bb-4479-b80c-a7f25e4ee938",
   "metadata": {},
   "outputs": [],
   "source": [
    "os.environ['DJANGO_ALLOW_ASYNC_UNSAFE'] = 'true'"
   ]
  },
  {
   "cell_type": "markdown",
   "id": "65ae6e1a-d3ec-408f-8fab-aa118970a240",
   "metadata": {},
   "source": [
    "## User settings"
   ]
  },
  {
   "cell_type": "code",
   "execution_count": 4,
   "id": "1b56b425-a077-4ef6-a560-765992509f1d",
   "metadata": {},
   "outputs": [],
   "source": [
    "#\n",
    "# the following criteria rely on the database having candlestick values for them:\n",
    "#\n",
    "price_type_name = 'mid'\n",
    "instrument_name = 'EUR/USD'\n",
    "interval_name = 'Minute'"
   ]
  },
  {
   "cell_type": "code",
   "execution_count": 5,
   "id": "9354daad-b756-4c92-a963-eecfd2fb3f6b",
   "metadata": {},
   "outputs": [],
   "source": [
    "tz = pytz.timezone('US/Eastern')\n",
    "output_directory = os.environ['APP_HOME'] + '/badassdatascience/forecasting/deep_learning/output'"
   ]
  },
  {
   "cell_type": "code",
   "execution_count": 6,
   "id": "41420b7d-f1aa-4e22-80a7-b811c4cb851a",
   "metadata": {},
   "outputs": [
    {
     "name": "stdout",
     "output_type": "stream",
     "text": [
      "/home/emily/Desktop/projects/test/badass-data-science/badassdatascience/forecasting/deep_learning/output\n"
     ]
    }
   ],
   "source": [
    "print(output_directory)"
   ]
  },
  {
   "cell_type": "markdown",
   "id": "87b60e6a-86fb-497b-9d72-ae6ee415bffd",
   "metadata": {},
   "source": [
    "## Generate the mapping from the data"
   ]
  },
  {
   "cell_type": "code",
   "execution_count": null,
   "id": "5aabac80-324b-4c18-9e91-08036ec8fe57",
   "metadata": {},
   "outputs": [],
   "source": [
    "df_from_data = make_candlestick_dataframe(price_type_name, instrument_name, interval_name)\n",
    "df_from_data = compute_datetime_information(df_from_data, tz)\n",
    "\n",
    "df_shifted_weekday_from_data = df_from_data[['weekday_tz', 'hour_tz']].drop_duplicates().sort_values(by = ['weekday_tz', 'hour_tz']).copy()\n",
    "\n",
    "df_shifted_weekday_from_data['weekday_shifted'] = (\n",
    "    df_shifted_weekday_from_data['weekday_tz'].shift(-7)\n",
    "    .fillna(0.)\n",
    "    .astype('int32')\n",
    ")\n",
    "\n",
    "df_shifted_weekday_from_data['weekday_shifted'] = [4 if x == 6 else x for x in df_shifted_weekday_from_data['weekday_shifted']]\n",
    "\n",
    "print(df_shifted_weekday_from_data.to_string())"
   ]
  },
  {
   "cell_type": "markdown",
   "id": "e4ef4fa1-710d-4981-b479-9a2c3c1d3eb4",
   "metadata": {},
   "source": [
    "## Generate the mapping manually\n",
    "\n",
    "By creating the mapping twice we help QA along:"
   ]
  },
  {
   "cell_type": "code",
   "execution_count": null,
   "id": "60eb75b4-7bb1-4e89-ada6-46d7c390fdee",
   "metadata": {},
   "outputs": [],
   "source": [
    "hour_list = []\n",
    "weekday_list = []\n",
    "shifted_list = []\n",
    "\n",
    "shifted_list.extend([0] * 17)\n",
    "\n",
    "for i in range(0, 4):\n",
    "    weekday_list.extend([i] * 24)\n",
    "    hour_list.extend(sorted(list(range(0, 24))))\n",
    "\n",
    "    if i >= 1:\n",
    "        shifted_list.extend([i] * 24)\n",
    "\n",
    "shifted_list.extend([4] * 24)\n",
    "\n",
    "weekday_list.extend([4] * 17)\n",
    "hour_list.extend(sorted(list(range(0, 17))))\n",
    "\n",
    "weekday_list.extend([6] * 7)\n",
    "hour_list.extend(sorted(list(range(17, 24))))\n",
    "shifted_list.extend([0] * 7)\n",
    "\n",
    "df_shifted_weekday_manually_constructed = pd.DataFrame({'weekday_tz' : weekday_list, 'hour_tz' : hour_list, 'weekday_shifted' : shifted_list})"
   ]
  },
  {
   "cell_type": "markdown",
   "id": "144bfe5b-0aa3-4618-94bf-e3d084e40655",
   "metadata": {},
   "source": [
    "## QA"
   ]
  },
  {
   "cell_type": "markdown",
   "id": "c4f8e15e-222d-4b4a-b36d-7c6876315eb1",
   "metadata": {},
   "source": [
    "#### Test for dataframe equality"
   ]
  },
  {
   "cell_type": "code",
   "execution_count": null,
   "id": "df7c6a9a-8f9c-457c-99b4-4459a679d0e5",
   "metadata": {},
   "outputs": [],
   "source": [
    "for column_name in ['weekday_tz', 'hour_tz', 'weekday_shifted']:\n",
    "    print(list(df_shifted_weekday_from_data[column_name]) == list(df_shifted_weekday_manually_constructed[column_name]))\n",
    "    print(min([int(i) for i in [x == y for x, y in zip(df_shifted_weekday_from_data[column_name], df_shifted_weekday_manually_constructed[column_name])]]))"
   ]
  },
  {
   "cell_type": "markdown",
   "id": "795cc3dd-11fd-45ec-84d0-6b6f84da83aa",
   "metadata": {},
   "source": [
    "#### Aggregations"
   ]
  },
  {
   "cell_type": "code",
   "execution_count": null,
   "id": "4f8101db-8a6a-4dd2-96bf-83a464b6ad2b",
   "metadata": {},
   "outputs": [],
   "source": [
    "df_test = df_shifted_weekday_manually_constructed.copy()\n",
    "df_test['dummy_variable'] = 1\n",
    "\n",
    "(\n",
    "    df_test\n",
    "    .groupby(['weekday_tz'])\n",
    "    ['dummy_variable']\n",
    "    .agg('count')\n",
    "    .reset_index()\n",
    ")"
   ]
  },
  {
   "cell_type": "code",
   "execution_count": null,
   "id": "8f03d628-2629-4098-9aae-e654f7391056",
   "metadata": {},
   "outputs": [],
   "source": [
    "df_agg_hour_tz = (\n",
    "    df_test\n",
    "    .groupby(['hour_tz'])\n",
    "    ['dummy_variable']\n",
    "    .agg('count')\n",
    "    .reset_index()\n",
    ")\n",
    "\n",
    "df_agg_hour_tz"
   ]
  },
  {
   "cell_type": "code",
   "execution_count": null,
   "id": "86882ba3-ea83-4f56-8917-84d85fb3ca86",
   "metadata": {},
   "outputs": [],
   "source": [
    "print(min(df_agg_hour_tz['dummy_variable']), max(df_agg_hour_tz['dummy_variable']))"
   ]
  },
  {
   "cell_type": "code",
   "execution_count": null,
   "id": "d2541b14-8bc7-4e2c-9e3f-8b3d28106c55",
   "metadata": {},
   "outputs": [],
   "source": [
    "(\n",
    "    df_test\n",
    "    .groupby(['weekday_shifted'])\n",
    "    ['dummy_variable']\n",
    "    .agg('count')\n",
    "    .reset_index()\n",
    ")"
   ]
  },
  {
   "cell_type": "markdown",
   "id": "41c644f8-8e09-4a3b-bd26-4f99d6067931",
   "metadata": {},
   "source": [
    "## Save mapping"
   ]
  },
  {
   "cell_type": "code",
   "execution_count": null,
   "id": "6fac6b54-18e1-432a-bd0c-06d508fdbbdd",
   "metadata": {},
   "outputs": [],
   "source": [
    "df_shifted_weekday_manually_constructed.to_csv(output_directory + '/df_weekday_shift_lookup_table.csv', index=False)"
   ]
  }
 ],
 "metadata": {
  "kernelspec": {
   "display_name": "Python 3 (ipykernel)",
   "language": "python",
   "name": "python3"
  },
  "language_info": {
   "codemirror_mode": {
    "name": "ipython",
    "version": 3
   },
   "file_extension": ".py",
   "mimetype": "text/x-python",
   "name": "python",
   "nbconvert_exporter": "python",
   "pygments_lexer": "ipython3",
   "version": "3.10.12"
  }
 },
 "nbformat": 4,
 "nbformat_minor": 5
}
