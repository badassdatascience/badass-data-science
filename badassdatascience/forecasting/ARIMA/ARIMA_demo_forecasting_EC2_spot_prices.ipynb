{
 "cells": [
  {
   "cell_type": "code",
   "execution_count": null,
   "id": "5e8cbbd5-709b-4d5f-8847-c3fcee3f8aac",
   "metadata": {
    "editable": true,
    "slideshow": {
     "slide_type": ""
    },
    "tags": []
   },
   "outputs": [],
   "source": []
  },
  {
   "cell_type": "code",
   "execution_count": null,
   "id": "72a718e3-8619-464d-bfcb-5c9f93843d97",
   "metadata": {
    "editable": true,
    "slideshow": {
     "slide_type": ""
    },
    "tags": []
   },
   "outputs": [],
   "source": []
  },
  {
   "cell_type": "code",
   "execution_count": null,
   "id": "19744297-41c5-4cc8-81e9-9debf20600c5",
   "metadata": {
    "editable": true,
    "slideshow": {
     "slide_type": ""
    },
    "tags": []
   },
   "outputs": [],
   "source": []
  },
  {
   "cell_type": "markdown",
   "id": "8e5c92ec-3500-4f74-b8c5-01cf593f61a0",
   "metadata": {
    "editable": true,
    "slideshow": {
     "slide_type": ""
    },
    "tags": []
   },
   "source": [
    "## Load useful libraries"
   ]
  },
  {
   "cell_type": "code",
   "execution_count": null,
   "id": "8aee406c-646a-4f26-b0c4-9c6c76f599d8",
   "metadata": {
    "editable": true,
    "slideshow": {
     "slide_type": ""
    },
    "tags": []
   },
   "outputs": [],
   "source": [
    "import pandas as pd\n",
    "import numpy as np\n",
    "import datetime\n",
    "import matplotlib.pyplot as plt\n",
    "\n",
    "import warnings\n",
    "\n",
    "from statsmodels.tsa.stattools import adfuller\n",
    "from statsmodels.tsa.stattools import acf, pacf\n",
    "from statsmodels.tsa.arima.model import ARIMA\n",
    "from statsmodels.graphics.tsaplots import plot_acf, plot_pacf\n",
    "\n",
    "from pmdarima import auto_arima"
   ]
  },
  {
   "cell_type": "markdown",
   "id": "07bdf171-3799-4f0d-a6ab-5e0b7c0f5df7",
   "metadata": {
    "editable": true,
    "slideshow": {
     "slide_type": ""
    },
    "tags": []
   },
   "source": [
    "## Define user settings for CLI-based call to run this notebook\n",
    "\n",
    "I believe these are meant to be set to default values here, which can be overridden as part of the CLI-based call to run this notebook.\n",
    "\n",
    "Note that we have annotated this cell with a tag called \"parameters\" in the Jupyter interface (I believe that the comment \"#parameters\" in the code below is not the tag, just documentation):"
   ]
  },
  {
   "cell_type": "code",
   "execution_count": null,
   "id": "4089a674-d1a2-4173-8722-0be73c14abec",
   "metadata": {
    "editable": true,
    "slideshow": {
     "slide_type": ""
    },
    "tags": [
     "parameters"
    ]
   },
   "outputs": [],
   "source": [
    "#parameters\n",
    "filename_parquet = 'resampled.parquet'\n",
    "filename_adfuller = 'adfuller_test_result.csv'"
   ]
  },
  {
   "cell_type": "markdown",
   "id": "86569298-f0b4-4c3a-b7f8-ad25ac1b7d6e",
   "metadata": {
    "editable": true,
    "slideshow": {
     "slide_type": ""
    },
    "tags": []
   },
   "source": [
    "## Hard-coded user settings\n",
    "\n",
    "Crude:"
   ]
  },
  {
   "cell_type": "code",
   "execution_count": null,
   "id": "5c462077-f63a-4289-b7af-0c2e32abe1ed",
   "metadata": {
    "editable": true,
    "slideshow": {
     "slide_type": ""
    },
    "tags": []
   },
   "outputs": [],
   "source": [
    "p_value_cutoff_adfuller = 0.05\n",
    "alpha_acf_and_pacf = 0.05\n",
    "proportion_of_timestamps_to_train_model_with = 0.9\n",
    "time_series_frequency = 'D'"
   ]
  },
  {
   "cell_type": "markdown",
   "id": "0365d97c-f807-4938-b517-be66aa698255",
   "metadata": {
    "editable": true,
    "slideshow": {
     "slide_type": ""
    },
    "tags": []
   },
   "source": [
    "## Load the time-series data we are working with\n",
    "\n",
    "We assume that the current date's pre-resampled source values have not fully come in yet, so we also cut today's values from our time series.\n",
    "\n",
    "Note that we do not fuss about timezones here for this example, though in a production situation we should:"
   ]
  },
  {
   "cell_type": "code",
   "execution_count": null,
   "id": "fa7e3fac-221f-495d-bce8-e2d165f109d7",
   "metadata": {
    "editable": true,
    "slideshow": {
     "slide_type": ""
    },
    "tags": []
   },
   "outputs": [],
   "source": [
    "today = datetime.datetime.now().date()\n",
    "\n",
    "df = pd.read_parquet(filename_parquet)\n",
    "df['date'] = [x.to_pydatetime().date() for x in df.index]\n",
    "df = df[df['date'] != today].copy()\n",
    "df.drop(columns = ['date'], inplace=True)"
   ]
  },
  {
   "cell_type": "code",
   "execution_count": null,
   "id": "48de1559-d0ad-4a43-8504-5a6641195a97",
   "metadata": {
    "editable": true,
    "slideshow": {
     "slide_type": ""
    },
    "tags": []
   },
   "outputs": [],
   "source": [
    "df"
   ]
  },
  {
   "cell_type": "markdown",
   "id": "73c846cd-0b4e-46f0-9cb7-478d7bdef5fa",
   "metadata": {
    "editable": true,
    "slideshow": {
     "slide_type": ""
    },
    "tags": []
   },
   "source": [
    "## Divide into training and testing sets"
   ]
  },
  {
   "cell_type": "code",
   "execution_count": null,
   "id": "b00fad60-fa89-48c4-bc1c-9115f9bfffc8",
   "metadata": {
    "editable": true,
    "slideshow": {
     "slide_type": ""
    },
    "tags": []
   },
   "outputs": [],
   "source": [
    "n_train = np.int32(np.round(proportion_of_timestamps_to_train_model_with * len(df.index)))\n",
    "n_test = np.int32(np.round((1. - proportion_of_timestamps_to_train_model_with) * len(df.index)))\n",
    "\n",
    "df_train = df.iloc[0:n_train, :]\n",
    "df_test = df.iloc[n_train:, :]\n",
    "\n",
    "# QA\n",
    "print(len(df_train.index) + len(df_test.index))\n",
    "print(len(df.index))\n",
    "print(len(df_train.index), len(df_test.index))"
   ]
  },
  {
   "cell_type": "markdown",
   "id": "5946cd0f-754e-4a0a-a53f-624615bc9a31",
   "metadata": {
    "editable": true,
    "slideshow": {
     "slide_type": ""
    },
    "tags": []
   },
   "source": [
    "## Plot the full time series"
   ]
  },
  {
   "cell_type": "code",
   "execution_count": null,
   "id": "eccf6cdb-8373-4969-8074-ee3b3bb87b67",
   "metadata": {
    "editable": true,
    "slideshow": {
     "slide_type": ""
    },
    "tags": []
   },
   "outputs": [],
   "source": [
    "plt.figure()\n",
    "plt.plot(df_train.index, df_train['spot_price'], '.-', label = 'Training set')\n",
    "plt.plot(df_test.index, df_test['spot_price'], '.-', label = 'Testing set')\n",
    "plt.xticks(rotation = 80)\n",
    "plt.xlabel('Date')\n",
    "plt.ylabel('EC2 Spot Instance Price')\n",
    "plt.title('Full time series from database: EC2 spot instance price')\n",
    "plt.legend()\n",
    "plt.tight_layout()\n",
    "plt.show()\n",
    "plt.close()"
   ]
  },
  {
   "cell_type": "markdown",
   "id": "fe5a0580-efe8-46f8-8f2f-c3c7d913e347",
   "metadata": {
    "editable": true,
    "slideshow": {
     "slide_type": ""
    },
    "tags": []
   },
   "source": [
    "## Run an Augmented Dickey–Fuller test\n",
    "\n",
    "From Wikipedia (paraphrased):\n",
    "\n",
    "\"The augmented Dickey–Fuller test (ADF) tests the null hypothesis that a unit root is present in a time series sample. The alternative hypothesis depends on which version of the test is used, but is usually stationarity or trend-stationarity. It is an augmented version of the Dickey–Fuller test for a larger and more complicated set of time series models\" [https://en.wikipedia.org/wiki/Augmented_Dickey%E2%80%93Fuller_test]\n",
    "\n",
    "From AI-based Google output from a search on the terms \"python statsmodels best arima\":\n",
    "\n",
    "\"If the p-value is less than 0.05, your data is likely stationary. If not, you may need to apply differencing to make it stationary.\""
   ]
  },
  {
   "cell_type": "code",
   "execution_count": null,
   "id": "1eb3b7c1-ce8c-41fc-83f2-52b46535dca0",
   "metadata": {
    "editable": true,
    "slideshow": {
     "slide_type": ""
    },
    "tags": []
   },
   "outputs": [],
   "source": [
    "def compute_adfuller(timeseries):\n",
    "    result = adfuller(timeseries)\n",
    "    ADF_statistic = result[0]\n",
    "    p_value = result[1]\n",
    "    return ADF_statistic, p_value"
   ]
  },
  {
   "cell_type": "code",
   "execution_count": null,
   "id": "a902a4ca-695b-4757-8daa-731afe528284",
   "metadata": {
    "editable": true,
    "slideshow": {
     "slide_type": ""
    },
    "tags": []
   },
   "outputs": [],
   "source": [
    "computed_ADF_statistic, computed_p_value = compute_adfuller(df_train['spot_price'])\n",
    "computed_ADF_statistic, computed_p_value"
   ]
  },
  {
   "cell_type": "markdown",
   "id": "ddc3b182-3177-472e-bf1e-9fff025a7dd6",
   "metadata": {
    "editable": true,
    "slideshow": {
     "slide_type": ""
    },
    "tags": []
   },
   "source": [
    "##### Interpretation"
   ]
  },
  {
   "cell_type": "code",
   "execution_count": null,
   "id": "255dc35c-8fc0-4df0-80a9-c4607a274a58",
   "metadata": {
    "editable": true,
    "slideshow": {
     "slide_type": ""
    },
    "tags": []
   },
   "outputs": [],
   "source": [
    "if computed_p_value <= p_value_cutoff_adfuller:\n",
    "    print('We reject the null and conclude that the time series is likely stationary.')\n",
    "else:\n",
    "    print('We fail to reject the null and conclude that some differencing of the time series may be required to model this time series.')"
   ]
  },
  {
   "cell_type": "markdown",
   "id": "4ef3ed21-c4fe-4fd9-9a48-e9f203a367d5",
   "metadata": {
    "editable": true,
    "slideshow": {
     "slide_type": ""
    },
    "tags": []
   },
   "source": [
    "## Plot autocorrelation and partial autocorrelation functions\n",
    "\n",
    "We use the training set only to avoid a lookahead:"
   ]
  },
  {
   "cell_type": "code",
   "execution_count": null,
   "id": "52a8ab56-28e5-49c9-9836-6206a663a0ce",
   "metadata": {
    "editable": true,
    "slideshow": {
     "slide_type": ""
    },
    "tags": []
   },
   "outputs": [],
   "source": [
    "plot_acf(df_train['spot_price'])\n",
    "plt.show()"
   ]
  },
  {
   "cell_type": "code",
   "execution_count": null,
   "id": "8c2ece49-60c9-4608-a899-ef049aecd9ee",
   "metadata": {
    "editable": true,
    "slideshow": {
     "slide_type": ""
    },
    "tags": []
   },
   "outputs": [],
   "source": [
    "plot_pacf(df_train['spot_price'])\n",
    "plt.show()"
   ]
  },
  {
   "cell_type": "markdown",
   "id": "45bf1df6-0d22-45a1-8a95-4f7543b86b5d",
   "metadata": {
    "editable": true,
    "slideshow": {
     "slide_type": ""
    },
    "tags": []
   },
   "source": [
    "## \"Manually\" derive counts of points outside the CI in the (P)ACF"
   ]
  },
  {
   "cell_type": "code",
   "execution_count": null,
   "id": "47b888fb-da22-4e7d-b720-84c2d4d254a9",
   "metadata": {
    "editable": true,
    "slideshow": {
     "slide_type": ""
    },
    "tags": []
   },
   "outputs": [],
   "source": [
    "def manually_ish_read_autocorrelation_functions(function_a, ci_a):\n",
    "    count_outside_ci = list(\n",
    "        np.abs(\n",
    "            function_a[1:]\n",
    "        ) > (\n",
    "            function_a[1:] - ci_a[1:, 0]\n",
    "        )\n",
    "    ).index(False)\n",
    "    return count_outside_ci"
   ]
  },
  {
   "cell_type": "code",
   "execution_count": null,
   "id": "8d9b181e-dcfd-4fa8-88ff-f69fda5bdd4c",
   "metadata": {
    "editable": true,
    "slideshow": {
     "slide_type": ""
    },
    "tags": []
   },
   "outputs": [],
   "source": [
    "function_acf, ci_acf = acf(df_train['spot_price'], alpha = alpha_acf_and_pacf)\n",
    "function_pacf, ci_pacf = pacf(df_train['spot_price'], alpha = alpha_acf_and_pacf)\n",
    "\n",
    "outside_of_ci_acf = manually_ish_read_autocorrelation_functions(function_acf, ci_acf)\n",
    "outside_of_ci_pacf = manually_ish_read_autocorrelation_functions(function_pacf, ci_pacf)\n",
    "\n",
    "p_heuristic_AR = outside_of_ci_pacf  # Autoregression\n",
    "q_heuristic_MA = outside_of_ci_acf  # Moving average"
   ]
  },
  {
   "cell_type": "markdown",
   "id": "9675cd74-584c-48a5-a801-782b6312dcc0",
   "metadata": {
    "editable": true,
    "slideshow": {
     "slide_type": ""
    },
    "tags": []
   },
   "source": [
    "##### Review the heuristically selected p and q values"
   ]
  },
  {
   "cell_type": "code",
   "execution_count": null,
   "id": "a412537b-ac0a-4144-a3ca-3c67ff4d7ff0",
   "metadata": {
    "editable": true,
    "slideshow": {
     "slide_type": ""
    },
    "tags": []
   },
   "outputs": [],
   "source": [
    "p_heuristic_AR, q_heuristic_MA"
   ]
  },
  {
   "cell_type": "markdown",
   "id": "40a30f42-3c21-41a3-9249-6044f95b4576",
   "metadata": {
    "editable": true,
    "slideshow": {
     "slide_type": ""
    },
    "tags": []
   },
   "source": [
    "## Heuristically determine a good value for \"d\" for ARIMA model\n",
    "\n",
    "We count the number of times we need to difference the time series to arrive at weak stationarity:"
   ]
  },
  {
   "cell_type": "code",
   "execution_count": null,
   "id": "d34de12f-3d7d-42a3-92ec-51129036c61e",
   "metadata": {
    "editable": true,
    "slideshow": {
     "slide_type": ""
    },
    "tags": []
   },
   "outputs": [],
   "source": [
    "def difference_to_stationarity_ish(timeseries):\n",
    "    ts = np.array([x for x in timeseries]) # crude?\n",
    "    count_of_differencing_operations = 0\n",
    "    adf_statistic, adf_p = compute_adfuller(ts)\n",
    "\n",
    "    while adf_p > p_value_cutoff_adfuller:\n",
    "        ts = ts[1:] - ts[0:-1]\n",
    "        count_of_differencing_operations += 1\n",
    "        adf_statistic, adf_p = compute_adfuller(ts)\n",
    "        \n",
    "    return count_of_differencing_operations"
   ]
  },
  {
   "cell_type": "code",
   "execution_count": null,
   "id": "44007cf1-4fe8-4ce7-b3c4-6fa5650b63c9",
   "metadata": {
    "editable": true,
    "slideshow": {
     "slide_type": ""
    },
    "tags": []
   },
   "outputs": [],
   "source": [
    "d_heuristic_ARIMA = difference_to_stationarity_ish(df_train['spot_price'])"
   ]
  },
  {
   "cell_type": "markdown",
   "id": "41b175f4-d79f-4355-84f5-35b7b7c0357d",
   "metadata": {
    "editable": true,
    "slideshow": {
     "slide_type": ""
    },
    "tags": []
   },
   "source": [
    "## Report heuristically selected ARIMA order"
   ]
  },
  {
   "cell_type": "code",
   "execution_count": null,
   "id": "1a721d5b-b877-4beb-ac27-f14ec9e1589b",
   "metadata": {
    "editable": true,
    "slideshow": {
     "slide_type": ""
    },
    "tags": []
   },
   "outputs": [],
   "source": [
    "(p_heuristic_AR, d_heuristic_ARIMA, q_heuristic_MA)"
   ]
  },
  {
   "cell_type": "markdown",
   "id": "37f8189c-8065-4e5b-b671-00c3705a76d1",
   "metadata": {
    "editable": true,
    "slideshow": {
     "slide_type": ""
    },
    "tags": []
   },
   "source": [
    "## Define a plotting function for evaluating model fit(s)"
   ]
  },
  {
   "cell_type": "code",
   "execution_count": null,
   "id": "b35b32e8-f901-4c52-b924-e4904e39dbe9",
   "metadata": {
    "editable": true,
    "slideshow": {
     "slide_type": ""
    },
    "tags": []
   },
   "outputs": [],
   "source": [
    "def plot_it_all(\n",
    "    df_train,\n",
    "    df_test,\n",
    "    fit,\n",
    "    fit_best = None,\n",
    "    column_name = 'spot_price',\n",
    "    label_historical = 'Historical Values',\n",
    "    label_model_of_historical = 'ARIMA Fit on Historical Values',\n",
    "    label_known_future = 'Known Future',\n",
    "    label_forecast_future = 'Forecast Future',\n",
    "):\n",
    "\n",
    "    y_fit = fit.predict()\n",
    "    y_predicted = fit.forecast(steps = len(df_test.index))\n",
    "\n",
    "    if fit_best != None:\n",
    "        y_fit_best = fit_best.predict()\n",
    "    \n",
    "    plt.figure()\n",
    "\n",
    "    plt.plot(df_train.index, df_train[column_name], label = label_historical)\n",
    "    plt.plot(df_train.index[2:], y_fit[2:], label = label_model_of_historical)\n",
    "    plt.plot(df_test.index, df_test[column_name], label = label_known_future)\n",
    "    plt.plot(df_test.index, y_predicted, label = label_forecast_future)\n",
    "\n",
    "    if fit_best != None:\n",
    "        plt.plot(df_test.index, y_fit_best[0:-1], label = 'Best auto-ARIMA')\n",
    "    \n",
    "    plt.xticks(rotation = 85)\n",
    "    plt.legend()\n",
    "    plt.tight_layout()\n",
    "    plt.show()\n",
    "    plt.close()"
   ]
  },
  {
   "cell_type": "markdown",
   "id": "93236fdf-92f9-45e4-8f24-04ca68af07cf",
   "metadata": {
    "editable": true,
    "slideshow": {
     "slide_type": ""
    },
    "tags": []
   },
   "source": [
    "## Fit an ARIMA model using the heuristically (manually) derived order"
   ]
  },
  {
   "cell_type": "code",
   "execution_count": null,
   "id": "39eacace-c937-453e-9533-da7f53bbceae",
   "metadata": {
    "editable": true,
    "slideshow": {
     "slide_type": ""
    },
    "tags": []
   },
   "outputs": [],
   "source": [
    "import warnings\n",
    "warnings.filterwarnings('ignore')\n",
    "warnings.simplefilter('ignore')\n",
    "\n",
    "model = ARIMA(\n",
    "    df_train['spot_price'],\n",
    "    freq = time_series_frequency,\n",
    "    order = (p_heuristic_AR, d_heuristic_ARIMA, q_heuristic_MA),\n",
    ")\n",
    "\n",
    "fit = model.fit()"
   ]
  },
  {
   "cell_type": "code",
   "execution_count": null,
   "id": "232922fb-2799-44c8-9021-5e5a492c199b",
   "metadata": {
    "editable": true,
    "slideshow": {
     "slide_type": ""
    },
    "tags": []
   },
   "outputs": [],
   "source": [
    "plot_it_all(df_train, df_test, fit)"
   ]
  },
  {
   "cell_type": "markdown",
   "id": "979ee057-068c-415d-8a98-f0a680e939ca",
   "metadata": {
    "editable": true,
    "slideshow": {
     "slide_type": ""
    },
    "tags": []
   },
   "source": [
    "## Perform an automated search for the best ARIMA value"
   ]
  },
  {
   "cell_type": "code",
   "execution_count": null,
   "id": "b075d984-617d-4bb1-94ff-2f2d0677eaaa",
   "metadata": {
    "editable": true,
    "slideshow": {
     "slide_type": ""
    },
    "tags": []
   },
   "outputs": [],
   "source": [
    "model_best_arima = auto_arima(df_train['spot_price'], stepwise=True, trace=True)\n",
    "print(model_best_arima.summary())"
   ]
  },
  {
   "cell_type": "markdown",
   "id": "7de89cac-8b54-4b1b-9ce6-12e09f1d4c05",
   "metadata": {
    "editable": true,
    "slideshow": {
     "slide_type": ""
    },
    "tags": []
   },
   "source": [
    "## Report the order recommended by the automated stepwise model search\n",
    "\n",
    "We notice that \"p\" and \"q\" are smaller for the automatically selected model when compared to those of the heuristically \"manually\" selected values.\n",
    "\n",
    "Yay parsimony!"
   ]
  },
  {
   "cell_type": "code",
   "execution_count": null,
   "id": "88ab1e40-c688-471f-893c-e7dd6f43f554",
   "metadata": {
    "editable": true,
    "slideshow": {
     "slide_type": ""
    },
    "tags": []
   },
   "outputs": [],
   "source": [
    "model_best_arima.order"
   ]
  },
  {
   "cell_type": "markdown",
   "id": "151e4c18-3e4a-4c94-a38e-0e43d1bf698e",
   "metadata": {
    "editable": true,
    "slideshow": {
     "slide_type": ""
    },
    "tags": []
   },
   "source": [
    "## Forecast using \"best-auto\" ARIMA model\n",
    "\n",
    "And plot the results...\n",
    "\n",
    "Running this on 2025-01-07, we observe that the automated search for an optimal order beats my heuristically defined order, as I expected."
   ]
  },
  {
   "cell_type": "code",
   "execution_count": null,
   "id": "389c6828-e2b3-4321-98aa-033fa04aa488",
   "metadata": {
    "editable": true,
    "slideshow": {
     "slide_type": ""
    },
    "tags": []
   },
   "outputs": [],
   "source": [
    "fit_best_arima = model_best_arima.fit(df_train)\n",
    "\n",
    "plot_it_all(df_train, df_test, fit, fit_best = fit_best_arima)"
   ]
  }
 ],
 "metadata": {
  "kernelspec": {
   "display_name": "Python 3 (ipykernel)",
   "language": "python",
   "name": "python3"
  },
  "language_info": {
   "codemirror_mode": {
    "name": "ipython",
    "version": 3
   },
   "file_extension": ".py",
   "mimetype": "text/x-python",
   "name": "python",
   "nbconvert_exporter": "python",
   "pygments_lexer": "ipython3",
   "version": "3.10.12"
  }
 },
 "nbformat": 4,
 "nbformat_minor": 5
}
