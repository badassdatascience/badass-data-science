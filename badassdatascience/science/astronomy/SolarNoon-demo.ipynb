{
 "cells": [
  {
   "cell_type": "markdown",
   "id": "21f6558d-db7a-4bdb-8148-1d2d6aa1a722",
   "metadata": {},
   "source": [
    "## Load the SolarNoon class\n",
    "\n",
    "The Python file defining this class is available on GitHub [here](https://github.com/badassdatascience/badass-data-science/blob/main/badassdatascience/science/astronomy/SolarNoon.py)."
   ]
  },
  {
   "cell_type": "code",
   "execution_count": 1,
   "id": "4e18dbfb-9c8d-4576-99b9-8f0296df2d40",
   "metadata": {},
   "outputs": [],
   "source": [
    "from SolarNoon import SolarNoon"
   ]
  },
  {
   "cell_type": "markdown",
   "id": "5ffd8861-41bb-486f-812c-c3b209e38922",
   "metadata": {},
   "source": [
    "## Load additional modules we need"
   ]
  },
  {
   "cell_type": "code",
   "execution_count": 2,
   "id": "565bf870-6aad-4201-957a-21f2aeb697e4",
   "metadata": {},
   "outputs": [],
   "source": [
    "import datetime"
   ]
  },
  {
   "cell_type": "markdown",
   "id": "a56e37bc-92b0-476d-a1b6-561aaf1fd261",
   "metadata": {},
   "source": [
    "## Define an object of class SolarNoon\n",
    "\n",
    "The default settings for latitude, longitude, and timezone are shown here:"
   ]
  },
  {
   "cell_type": "code",
   "execution_count": 3,
   "id": "5189c2b0-d15e-4d06-8498-839605a77fa3",
   "metadata": {},
   "outputs": [],
   "source": [
    "sn = SolarNoon(\n",
    "    latitude = 32.7157,\n",
    "    longitude = -117.1611,\n",
    "    local_timezone = 'America/Los_Angeles',\n",
    "    date_to_use_local = datetime.date(2019, 9, 9),\n",
    ")"
   ]
  },
  {
   "cell_type": "markdown",
   "id": "1ce8cf82-05eb-4b55-87b1-b6e9c736a580",
   "metadata": {},
   "source": [
    "## Run the computation"
   ]
  },
  {
   "cell_type": "code",
   "execution_count": 4,
   "id": "02b9aa79-301d-4655-b32a-bdd8a1e28f5f",
   "metadata": {},
   "outputs": [],
   "source": [
    "sn.fit()"
   ]
  },
  {
   "cell_type": "markdown",
   "id": "6e7e55ec-29a6-458a-9b3d-e87032b0d41b",
   "metadata": {},
   "source": [
    "## See the results for an arbitrary date"
   ]
  },
  {
   "cell_type": "code",
   "execution_count": 5,
   "id": "bd55df94-b2e9-4d3b-98ca-acbe2a17a888",
   "metadata": {},
   "outputs": [
    {
     "name": "stdout",
     "output_type": "stream",
     "text": [
      "{'Date': '2019-09-09',\n",
      " 'Latitude': 32.7157,\n",
      " 'Longitude': -117.1611,\n",
      " 'Solar Noon': '12:46:17',\n",
      " 'Timezone': 'America/Los_Angeles'}\n"
     ]
    }
   ],
   "source": [
    "sn.summary()"
   ]
  }
 ],
 "metadata": {
  "kernelspec": {
   "display_name": "Python 3 (ipykernel)",
   "language": "python",
   "name": "python3"
  },
  "language_info": {
   "codemirror_mode": {
    "name": "ipython",
    "version": 3
   },
   "file_extension": ".py",
   "mimetype": "text/x-python",
   "name": "python",
   "nbconvert_exporter": "python",
   "pygments_lexer": "ipython3",
   "version": "3.10.12"
  }
 },
 "nbformat": 4,
 "nbformat_minor": 5
}
