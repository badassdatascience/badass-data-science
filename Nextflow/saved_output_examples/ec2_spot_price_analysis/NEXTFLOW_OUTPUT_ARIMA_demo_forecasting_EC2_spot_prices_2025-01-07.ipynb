{
 "cells": [
  {
   "cell_type": "markdown",
   "id": "8e5c92ec-3500-4f74-b8c5-01cf593f61a0",
   "metadata": {
    "editable": true,
    "papermill": {
     "duration": 0.00419,
     "end_time": "2025-01-07T20:43:32.512394",
     "exception": false,
     "start_time": "2025-01-07T20:43:32.508204",
     "status": "completed"
    },
    "slideshow": {
     "slide_type": ""
    },
    "tags": []
   },
   "source": [
    "## Load useful libraries"
   ]
  },
  {
   "cell_type": "code",
   "execution_count": 1,
   "id": "8aee406c-646a-4f26-b0c4-9c6c76f599d8",
   "metadata": {
    "editable": true,
    "execution": {
     "iopub.execute_input": "2025-01-07T20:43:32.521901Z",
     "iopub.status.busy": "2025-01-07T20:43:32.521580Z",
     "iopub.status.idle": "2025-01-07T20:43:33.495110Z",
     "shell.execute_reply": "2025-01-07T20:43:33.493835Z"
    },
    "papermill": {
     "duration": 0.98007,
     "end_time": "2025-01-07T20:43:33.496606",
     "exception": false,
     "start_time": "2025-01-07T20:43:32.516536",
     "status": "completed"
    },
    "slideshow": {
     "slide_type": ""
    },
    "tags": []
   },
   "outputs": [],
   "source": [
    "import pandas as pd\n",
    "import numpy as np\n",
    "import datetime\n",
    "import matplotlib.pyplot as plt\n",
    "\n",
    "import warnings\n",
    "\n",
    "from statsmodels.tsa.stattools import adfuller\n",
    "from statsmodels.tsa.stattools import acf, pacf\n",
    "from statsmodels.tsa.arima.model import ARIMA\n",
    "from statsmodels.graphics.tsaplots import plot_acf, plot_pacf\n",
    "\n",
    "from pmdarima import auto_arima"
   ]
  },
  {
   "cell_type": "markdown",
   "id": "07bdf171-3799-4f0d-a6ab-5e0b7c0f5df7",
   "metadata": {
    "editable": true,
    "papermill": {
     "duration": 0.00737,
     "end_time": "2025-01-07T20:43:33.508442",
     "exception": false,
     "start_time": "2025-01-07T20:43:33.501072",
     "status": "completed"
    },
    "slideshow": {
     "slide_type": ""
    },
    "tags": []
   },
   "source": [
    "## Define user settings for CLI-based call to run this notebook\n",
    "\n",
    "I believe these are meant to be set to default values here, which can be overridden as part of the CLI-based call to run this notebook.\n",
    "\n",
    "Note that we have annotated this cell with a tag called \"parameters\" in the Jupyter interface (I believe that the comment \"#parameters\" in the code below is not the tag, just documentation):"
   ]
  },
  {
   "cell_type": "code",
   "execution_count": 2,
   "id": "4089a674-d1a2-4173-8722-0be73c14abec",
   "metadata": {
    "editable": true,
    "execution": {
     "iopub.execute_input": "2025-01-07T20:43:33.517592Z",
     "iopub.status.busy": "2025-01-07T20:43:33.517331Z",
     "iopub.status.idle": "2025-01-07T20:43:33.520180Z",
     "shell.execute_reply": "2025-01-07T20:43:33.519709Z"
    },
    "papermill": {
     "duration": 0.008718,
     "end_time": "2025-01-07T20:43:33.521242",
     "exception": false,
     "start_time": "2025-01-07T20:43:33.512524",
     "status": "completed"
    },
    "slideshow": {
     "slide_type": ""
    },
    "tags": [
     "parameters"
    ]
   },
   "outputs": [],
   "source": [
    "#parameters\n",
    "filename_parquet = 'resampled.parquet'"
   ]
  },
  {
   "cell_type": "code",
   "execution_count": 3,
   "id": "f5003b46",
   "metadata": {
    "execution": {
     "iopub.execute_input": "2025-01-07T20:43:33.530551Z",
     "iopub.status.busy": "2025-01-07T20:43:33.530397Z",
     "iopub.status.idle": "2025-01-07T20:43:33.532727Z",
     "shell.execute_reply": "2025-01-07T20:43:33.532301Z"
    },
    "papermill": {
     "duration": 0.008286,
     "end_time": "2025-01-07T20:43:33.533708",
     "exception": false,
     "start_time": "2025-01-07T20:43:33.525422",
     "status": "completed"
    },
    "tags": [
     "injected-parameters"
    ]
   },
   "outputs": [],
   "source": [
    "# Parameters\n",
    "filename_parquet = \"resampled.parquet\"\n"
   ]
  },
  {
   "cell_type": "markdown",
   "id": "86569298-f0b4-4c3a-b7f8-ad25ac1b7d6e",
   "metadata": {
    "editable": true,
    "papermill": {
     "duration": 0.0042,
     "end_time": "2025-01-07T20:43:33.542101",
     "exception": false,
     "start_time": "2025-01-07T20:43:33.537901",
     "status": "completed"
    },
    "slideshow": {
     "slide_type": ""
    },
    "tags": []
   },
   "source": [
    "## Hard-coded user settings\n",
    "\n",
    "Crude:"
   ]
  },
  {
   "cell_type": "code",
   "execution_count": 4,
   "id": "5c462077-f63a-4289-b7af-0c2e32abe1ed",
   "metadata": {
    "editable": true,
    "execution": {
     "iopub.execute_input": "2025-01-07T20:43:33.551190Z",
     "iopub.status.busy": "2025-01-07T20:43:33.551044Z",
     "iopub.status.idle": "2025-01-07T20:43:33.554769Z",
     "shell.execute_reply": "2025-01-07T20:43:33.553755Z"
    },
    "papermill": {
     "duration": 0.009618,
     "end_time": "2025-01-07T20:43:33.555861",
     "exception": false,
     "start_time": "2025-01-07T20:43:33.546243",
     "status": "completed"
    },
    "slideshow": {
     "slide_type": ""
    },
    "tags": []
   },
   "outputs": [],
   "source": [
    "p_value_cutoff_adfuller = 0.05\n",
    "alpha_acf_and_pacf = 0.05\n",
    "proportion_of_timestamps_to_train_model_with = 0.9\n",
    "time_series_frequency = 'D'"
   ]
  },
  {
   "cell_type": "markdown",
   "id": "0365d97c-f807-4938-b517-be66aa698255",
   "metadata": {
    "editable": true,
    "papermill": {
     "duration": 0.004238,
     "end_time": "2025-01-07T20:43:33.564275",
     "exception": false,
     "start_time": "2025-01-07T20:43:33.560037",
     "status": "completed"
    },
    "slideshow": {
     "slide_type": ""
    },
    "tags": []
   },
   "source": [
    "## Load the time-series data we are working with\n",
    "\n",
    "We assume that the current date's pre-resampled source values have not fully come in yet, so we also cut today's values from our time series.\n",
    "\n",
    "Note that we do not fuss about timezones here for this example, though in a production situation we should:"
   ]
  },
  {
   "cell_type": "code",
   "execution_count": 5,
   "id": "fa7e3fac-221f-495d-bce8-e2d165f109d7",
   "metadata": {
    "editable": true,
    "execution": {
     "iopub.execute_input": "2025-01-07T20:43:33.573352Z",
     "iopub.status.busy": "2025-01-07T20:43:33.573207Z",
     "iopub.status.idle": "2025-01-07T20:43:33.592456Z",
     "shell.execute_reply": "2025-01-07T20:43:33.591646Z"
    },
    "papermill": {
     "duration": 0.025175,
     "end_time": "2025-01-07T20:43:33.593579",
     "exception": false,
     "start_time": "2025-01-07T20:43:33.568404",
     "status": "completed"
    },
    "slideshow": {
     "slide_type": ""
    },
    "tags": []
   },
   "outputs": [],
   "source": [
    "today = datetime.datetime.now().date()\n",
    "\n",
    "df = pd.read_parquet(filename_parquet)\n",
    "df['date'] = [x.to_pydatetime().date() for x in df.index]\n",
    "df = df[df['date'] != today].copy()\n",
    "df.drop(columns = ['date'], inplace=True)"
   ]
  },
  {
   "cell_type": "code",
   "execution_count": 6,
   "id": "48de1559-d0ad-4a43-8504-5a6641195a97",
   "metadata": {
    "editable": true,
    "execution": {
     "iopub.execute_input": "2025-01-07T20:43:33.602810Z",
     "iopub.status.busy": "2025-01-07T20:43:33.602653Z",
     "iopub.status.idle": "2025-01-07T20:43:33.614919Z",
     "shell.execute_reply": "2025-01-07T20:43:33.614486Z"
    },
    "papermill": {
     "duration": 0.018238,
     "end_time": "2025-01-07T20:43:33.616007",
     "exception": false,
     "start_time": "2025-01-07T20:43:33.597769",
     "status": "completed"
    },
    "slideshow": {
     "slide_type": ""
    },
    "tags": []
   },
   "outputs": [
    {
     "data": {
      "text/html": [
       "<div>\n",
       "<style scoped>\n",
       "    .dataframe tbody tr th:only-of-type {\n",
       "        vertical-align: middle;\n",
       "    }\n",
       "\n",
       "    .dataframe tbody tr th {\n",
       "        vertical-align: top;\n",
       "    }\n",
       "\n",
       "    .dataframe thead th {\n",
       "        text-align: right;\n",
       "    }\n",
       "</style>\n",
       "<table border=\"1\" class=\"dataframe\">\n",
       "  <thead>\n",
       "    <tr style=\"text-align: right;\">\n",
       "      <th></th>\n",
       "      <th>spot_price</th>\n",
       "    </tr>\n",
       "    <tr>\n",
       "      <th>timestamp</th>\n",
       "      <th></th>\n",
       "    </tr>\n",
       "  </thead>\n",
       "  <tbody>\n",
       "    <tr>\n",
       "      <th>2024-10-05 00:00:00+00:00</th>\n",
       "      <td>0.07000</td>\n",
       "    </tr>\n",
       "    <tr>\n",
       "      <th>2024-10-06 00:00:00+00:00</th>\n",
       "      <td>0.06975</td>\n",
       "    </tr>\n",
       "    <tr>\n",
       "      <th>2024-10-07 00:00:00+00:00</th>\n",
       "      <td>0.06950</td>\n",
       "    </tr>\n",
       "    <tr>\n",
       "      <th>2024-10-08 00:00:00+00:00</th>\n",
       "      <td>0.06975</td>\n",
       "    </tr>\n",
       "    <tr>\n",
       "      <th>2024-10-09 00:00:00+00:00</th>\n",
       "      <td>0.06930</td>\n",
       "    </tr>\n",
       "    <tr>\n",
       "      <th>...</th>\n",
       "      <td>...</td>\n",
       "    </tr>\n",
       "    <tr>\n",
       "      <th>2025-01-02 00:00:00+00:00</th>\n",
       "      <td>0.07580</td>\n",
       "    </tr>\n",
       "    <tr>\n",
       "      <th>2025-01-03 00:00:00+00:00</th>\n",
       "      <td>0.07666</td>\n",
       "    </tr>\n",
       "    <tr>\n",
       "      <th>2025-01-04 00:00:00+00:00</th>\n",
       "      <td>0.07760</td>\n",
       "    </tr>\n",
       "    <tr>\n",
       "      <th>2025-01-05 00:00:00+00:00</th>\n",
       "      <td>0.07845</td>\n",
       "    </tr>\n",
       "    <tr>\n",
       "      <th>2025-01-06 00:00:00+00:00</th>\n",
       "      <td>0.07925</td>\n",
       "    </tr>\n",
       "  </tbody>\n",
       "</table>\n",
       "<p>94 rows × 1 columns</p>\n",
       "</div>"
      ],
      "text/plain": [
       "                           spot_price\n",
       "timestamp                            \n",
       "2024-10-05 00:00:00+00:00     0.07000\n",
       "2024-10-06 00:00:00+00:00     0.06975\n",
       "2024-10-07 00:00:00+00:00     0.06950\n",
       "2024-10-08 00:00:00+00:00     0.06975\n",
       "2024-10-09 00:00:00+00:00     0.06930\n",
       "...                               ...\n",
       "2025-01-02 00:00:00+00:00     0.07580\n",
       "2025-01-03 00:00:00+00:00     0.07666\n",
       "2025-01-04 00:00:00+00:00     0.07760\n",
       "2025-01-05 00:00:00+00:00     0.07845\n",
       "2025-01-06 00:00:00+00:00     0.07925\n",
       "\n",
       "[94 rows x 1 columns]"
      ]
     },
     "execution_count": 6,
     "metadata": {},
     "output_type": "execute_result"
    }
   ],
   "source": [
    "df"
   ]
  },
  {
   "cell_type": "markdown",
   "id": "73c846cd-0b4e-46f0-9cb7-478d7bdef5fa",
   "metadata": {
    "editable": true,
    "papermill": {
     "duration": 0.004342,
     "end_time": "2025-01-07T20:43:33.624854",
     "exception": false,
     "start_time": "2025-01-07T20:43:33.620512",
     "status": "completed"
    },
    "slideshow": {
     "slide_type": ""
    },
    "tags": []
   },
   "source": [
    "## Divide into training and testing sets"
   ]
  },
  {
   "cell_type": "code",
   "execution_count": 7,
   "id": "b00fad60-fa89-48c4-bc1c-9115f9bfffc8",
   "metadata": {
    "editable": true,
    "execution": {
     "iopub.execute_input": "2025-01-07T20:43:33.634537Z",
     "iopub.status.busy": "2025-01-07T20:43:33.634347Z",
     "iopub.status.idle": "2025-01-07T20:43:33.638913Z",
     "shell.execute_reply": "2025-01-07T20:43:33.638473Z"
    },
    "papermill": {
     "duration": 0.010902,
     "end_time": "2025-01-07T20:43:33.640024",
     "exception": false,
     "start_time": "2025-01-07T20:43:33.629122",
     "status": "completed"
    },
    "slideshow": {
     "slide_type": ""
    },
    "tags": []
   },
   "outputs": [
    {
     "name": "stdout",
     "output_type": "stream",
     "text": [
      "94\n",
      "94\n",
      "85 9\n"
     ]
    }
   ],
   "source": [
    "n_train = np.int32(np.round(proportion_of_timestamps_to_train_model_with * len(df.index)))\n",
    "n_test = np.int32(np.round((1. - proportion_of_timestamps_to_train_model_with) * len(df.index)))\n",
    "\n",
    "df_train = df.iloc[0:n_train, :]\n",
    "df_test = df.iloc[n_train:, :]\n",
    "\n",
    "# QA\n",
    "print(len(df_train.index) + len(df_test.index))\n",
    "print(len(df.index))\n",
    "print(len(df_train.index), len(df_test.index))"
   ]
  },
  {
   "cell_type": "markdown",
   "id": "5946cd0f-754e-4a0a-a53f-624615bc9a31",
   "metadata": {
    "editable": true,
    "papermill": {
     "duration": 0.00441,
     "end_time": "2025-01-07T20:43:33.648923",
     "exception": false,
     "start_time": "2025-01-07T20:43:33.644513",
     "status": "completed"
    },
    "slideshow": {
     "slide_type": ""
    },
    "tags": []
   },
   "source": [
    "## Plot the full time series"
   ]
  },
  {
   "cell_type": "code",
   "execution_count": 8,
   "id": "eccf6cdb-8373-4969-8074-ee3b3bb87b67",
   "metadata": {
    "editable": true,
    "execution": {
     "iopub.execute_input": "2025-01-07T20:43:33.658796Z",
     "iopub.status.busy": "2025-01-07T20:43:33.658611Z",
     "iopub.status.idle": "2025-01-07T20:43:33.844731Z",
     "shell.execute_reply": "2025-01-07T20:43:33.843783Z"
    },
    "papermill": {
     "duration": 0.192709,
     "end_time": "2025-01-07T20:43:33.846054",
     "exception": false,
     "start_time": "2025-01-07T20:43:33.653345",
     "status": "completed"
    },
    "slideshow": {
     "slide_type": ""
    },
    "tags": []
   },
   "outputs": [
    {
     "data": {
      "image/png": "[encoded data removed]",
      "text/plain": [
       "<Figure size 640x480 with 1 Axes>"
      ]
     },
     "metadata": {},
     "output_type": "display_data"
    }
   ],
   "source": [
    "plt.figure()\n",
    "plt.plot(df_train.index, df_train['spot_price'], '.-', label = 'Training set')\n",
    "plt.plot(df_test.index, df_test['spot_price'], '.-', label = 'Testing set')\n",
    "plt.xticks(rotation = 80)\n",
    "plt.xlabel('Date')\n",
    "plt.ylabel('EC2 Spot Instance Price')\n",
    "plt.title('Full time series from database: EC2 spot instance price')\n",
    "plt.legend()\n",
    "plt.tight_layout()\n",
    "plt.show()\n",
    "plt.close()"
   ]
  },
  {
   "cell_type": "markdown",
   "id": "fe5a0580-efe8-46f8-8f2f-c3c7d913e347",
   "metadata": {
    "editable": true,
    "papermill": {
     "duration": 0.005156,
     "end_time": "2025-01-07T20:43:33.856570",
     "exception": false,
     "start_time": "2025-01-07T20:43:33.851414",
     "status": "completed"
    },
    "slideshow": {
     "slide_type": ""
    },
    "tags": []
   },
   "source": [
    "## Run an Augmented Dickey–Fuller test\n",
    "\n",
    "From Wikipedia (paraphrased):\n",
    "\n",
    "\"The augmented Dickey–Fuller test (ADF) tests the null hypothesis that a unit root is present in a time series sample. The alternative hypothesis depends on which version of the test is used, but is usually stationarity or trend-stationarity. It is an augmented version of the Dickey–Fuller test for a larger and more complicated set of time series models\" [https://en.wikipedia.org/wiki/Augmented_Dickey%E2%80%93Fuller_test]\n",
    "\n",
    "From AI-based Google output from a search on the terms \"python statsmodels best arima\":\n",
    "\n",
    "\"If the p-value is less than 0.05, your data is likely stationary. If not, you may need to apply differencing to make it stationary.\""
   ]
  },
  {
   "cell_type": "code",
   "execution_count": 9,
   "id": "1eb3b7c1-ce8c-41fc-83f2-52b46535dca0",
   "metadata": {
    "editable": true,
    "execution": {
     "iopub.execute_input": "2025-01-07T20:43:33.868365Z",
     "iopub.status.busy": "2025-01-07T20:43:33.867936Z",
     "iopub.status.idle": "2025-01-07T20:43:33.871370Z",
     "shell.execute_reply": "2025-01-07T20:43:33.870681Z"
    },
    "papermill": {
     "duration": 0.011044,
     "end_time": "2025-01-07T20:43:33.872653",
     "exception": false,
     "start_time": "2025-01-07T20:43:33.861609",
     "status": "completed"
    },
    "slideshow": {
     "slide_type": ""
    },
    "tags": []
   },
   "outputs": [],
   "source": [
    "def compute_adfuller(timeseries):\n",
    "    result = adfuller(timeseries)\n",
    "    ADF_statistic = result[0]\n",
    "    p_value = result[1]\n",
    "    return ADF_statistic, p_value"
   ]
  },
  {
   "cell_type": "code",
   "execution_count": 10,
   "id": "a902a4ca-695b-4757-8daa-731afe528284",
   "metadata": {
    "editable": true,
    "execution": {
     "iopub.execute_input": "2025-01-07T20:43:33.883731Z",
     "iopub.status.busy": "2025-01-07T20:43:33.883528Z",
     "iopub.status.idle": "2025-01-07T20:43:33.891095Z",
     "shell.execute_reply": "2025-01-07T20:43:33.890722Z"
    },
    "papermill": {
     "duration": 0.014492,
     "end_time": "2025-01-07T20:43:33.892185",
     "exception": false,
     "start_time": "2025-01-07T20:43:33.877693",
     "status": "completed"
    },
    "slideshow": {
     "slide_type": ""
    },
    "tags": []
   },
   "outputs": [
    {
     "data": {
      "text/plain": [
       "(-1.9292737008913967, 0.31841759714144)"
      ]
     },
     "execution_count": 10,
     "metadata": {},
     "output_type": "execute_result"
    }
   ],
   "source": [
    "computed_ADF_statistic, computed_p_value = compute_adfuller(df_train['spot_price'])\n",
    "computed_ADF_statistic, computed_p_value"
   ]
  },
  {
   "cell_type": "markdown",
   "id": "ddc3b182-3177-472e-bf1e-9fff025a7dd6",
   "metadata": {
    "editable": true,
    "papermill": {
     "duration": 0.005186,
     "end_time": "2025-01-07T20:43:33.902553",
     "exception": false,
     "start_time": "2025-01-07T20:43:33.897367",
     "status": "completed"
    },
    "slideshow": {
     "slide_type": ""
    },
    "tags": []
   },
   "source": [
    "##### Interpretation"
   ]
  },
  {
   "cell_type": "code",
   "execution_count": 11,
   "id": "255dc35c-8fc0-4df0-80a9-c4607a274a58",
   "metadata": {
    "editable": true,
    "execution": {
     "iopub.execute_input": "2025-01-07T20:43:33.913816Z",
     "iopub.status.busy": "2025-01-07T20:43:33.913631Z",
     "iopub.status.idle": "2025-01-07T20:43:33.916825Z",
     "shell.execute_reply": "2025-01-07T20:43:33.916388Z"
    },
    "papermill": {
     "duration": 0.010165,
     "end_time": "2025-01-07T20:43:33.917906",
     "exception": false,
     "start_time": "2025-01-07T20:43:33.907741",
     "status": "completed"
    },
    "slideshow": {
     "slide_type": ""
    },
    "tags": []
   },
   "outputs": [
    {
     "name": "stdout",
     "output_type": "stream",
     "text": [
      "We fail to reject the null and conclude that some differencing of the time series may be required to model this time series.\n"
     ]
    }
   ],
   "source": [
    "if computed_p_value <= p_value_cutoff_adfuller:\n",
    "    print('We reject the null and conclude that the time series is likely stationary.')\n",
    "else:\n",
    "    print('We fail to reject the null and conclude that some differencing of the time series may be required to model this time series.')"
   ]
  },
  {
   "cell_type": "markdown",
   "id": "4ef3ed21-c4fe-4fd9-9a48-e9f203a367d5",
   "metadata": {
    "editable": true,
    "papermill": {
     "duration": 0.005237,
     "end_time": "2025-01-07T20:43:33.928410",
     "exception": false,
     "start_time": "2025-01-07T20:43:33.923173",
     "status": "completed"
    },
    "slideshow": {
     "slide_type": ""
    },
    "tags": []
   },
   "source": [
    "## Plot autocorrelation and partial autocorrelation functions\n",
    "\n",
    "We use the training set only to avoid a lookahead:"
   ]
  },
  {
   "cell_type": "code",
   "execution_count": 12,
   "id": "52a8ab56-28e5-49c9-9836-6206a663a0ce",
   "metadata": {
    "editable": true,
    "execution": {
     "iopub.execute_input": "2025-01-07T20:43:33.939941Z",
     "iopub.status.busy": "2025-01-07T20:43:33.939709Z",
     "iopub.status.idle": "2025-01-07T20:43:34.046079Z",
     "shell.execute_reply": "2025-01-07T20:43:34.045260Z"
    },
    "papermill": {
     "duration": 0.113776,
     "end_time": "2025-01-07T20:43:34.047400",
     "exception": false,
     "start_time": "2025-01-07T20:43:33.933624",
     "status": "completed"
    },
    "slideshow": {
     "slide_type": ""
    },
    "tags": []
   },
   "outputs": [
    {
     "data": {
      "image/png": "[encoded data removed]",
      "text/plain": [
       "<Figure size 640x480 with 1 Axes>"
      ]
     },
     "metadata": {},
     "output_type": "display_data"
    }
   ],
   "source": [
    "plot_acf(df_train['spot_price'])\n",
    "plt.show()"
   ]
  },
  {
   "cell_type": "code",
   "execution_count": 13,
   "id": "8c2ece49-60c9-4608-a899-ef049aecd9ee",
   "metadata": {
    "editable": true,
    "execution": {
     "iopub.execute_input": "2025-01-07T20:43:34.059632Z",
     "iopub.status.busy": "2025-01-07T20:43:34.059471Z",
     "iopub.status.idle": "2025-01-07T20:43:34.181449Z",
     "shell.execute_reply": "2025-01-07T20:43:34.180707Z"
    },
    "papermill": {
     "duration": 0.129501,
     "end_time": "2025-01-07T20:43:34.182625",
     "exception": false,
     "start_time": "2025-01-07T20:43:34.053124",
     "status": "completed"
    },
    "slideshow": {
     "slide_type": ""
    },
    "tags": []
   },
   "outputs": [
    {
     "data": {
      "image/png": "[encoded data removed]",
      "text/plain": [
       "<Figure size 640x480 with 1 Axes>"
      ]
     },
     "metadata": {},
     "output_type": "display_data"
    }
   ],
   "source": [
    "plot_pacf(df_train['spot_price'])\n",
    "plt.show()"
   ]
  },
  {
   "cell_type": "markdown",
   "id": "45bf1df6-0d22-45a1-8a95-4f7543b86b5d",
   "metadata": {
    "editable": true,
    "papermill": {
     "duration": 0.005821,
     "end_time": "2025-01-07T20:43:34.194437",
     "exception": false,
     "start_time": "2025-01-07T20:43:34.188616",
     "status": "completed"
    },
    "slideshow": {
     "slide_type": ""
    },
    "tags": []
   },
   "source": [
    "## \"Manually\" derive counts of points outside the CI in the (P)ACF"
   ]
  },
  {
   "cell_type": "code",
   "execution_count": 14,
   "id": "47b888fb-da22-4e7d-b720-84c2d4d254a9",
   "metadata": {
    "editable": true,
    "execution": {
     "iopub.execute_input": "2025-01-07T20:43:34.207027Z",
     "iopub.status.busy": "2025-01-07T20:43:34.206854Z",
     "iopub.status.idle": "2025-01-07T20:43:34.210166Z",
     "shell.execute_reply": "2025-01-07T20:43:34.209672Z"
    },
    "papermill": {
     "duration": 0.010992,
     "end_time": "2025-01-07T20:43:34.211185",
     "exception": false,
     "start_time": "2025-01-07T20:43:34.200193",
     "status": "completed"
    },
    "slideshow": {
     "slide_type": ""
    },
    "tags": []
   },
   "outputs": [],
   "source": [
    "def manually_ish_read_autocorrelation_functions(function_a, ci_a):\n",
    "    count_outside_ci = list(\n",
    "        np.abs(\n",
    "            function_a[1:]\n",
    "        ) > (\n",
    "            function_a[1:] - ci_a[1:, 0]\n",
    "        )\n",
    "    ).index(False)\n",
    "    return count_outside_ci"
   ]
  },
  {
   "cell_type": "code",
   "execution_count": 15,
   "id": "8d9b181e-dcfd-4fa8-88ff-f69fda5bdd4c",
   "metadata": {
    "editable": true,
    "execution": {
     "iopub.execute_input": "2025-01-07T20:43:34.223645Z",
     "iopub.status.busy": "2025-01-07T20:43:34.223499Z",
     "iopub.status.idle": "2025-01-07T20:43:34.230019Z",
     "shell.execute_reply": "2025-01-07T20:43:34.229185Z"
    },
    "papermill": {
     "duration": 0.014165,
     "end_time": "2025-01-07T20:43:34.231242",
     "exception": false,
     "start_time": "2025-01-07T20:43:34.217077",
     "status": "completed"
    },
    "slideshow": {
     "slide_type": ""
    },
    "tags": []
   },
   "outputs": [],
   "source": [
    "function_acf, ci_acf = acf(df_train['spot_price'], alpha = alpha_acf_and_pacf)\n",
    "function_pacf, ci_pacf = pacf(df_train['spot_price'], alpha = alpha_acf_and_pacf)\n",
    "\n",
    "outside_of_ci_acf = manually_ish_read_autocorrelation_functions(function_acf, ci_acf)\n",
    "outside_of_ci_pacf = manually_ish_read_autocorrelation_functions(function_pacf, ci_pacf)\n",
    "\n",
    "p_heuristic_AR = outside_of_ci_pacf  # Autoregression\n",
    "q_heuristic_MA = outside_of_ci_acf  # Moving average"
   ]
  },
  {
   "cell_type": "markdown",
   "id": "9675cd74-584c-48a5-a801-782b6312dcc0",
   "metadata": {
    "editable": true,
    "papermill": {
     "duration": 0.009881,
     "end_time": "2025-01-07T20:43:34.247281",
     "exception": false,
     "start_time": "2025-01-07T20:43:34.237400",
     "status": "completed"
    },
    "slideshow": {
     "slide_type": ""
    },
    "tags": []
   },
   "source": [
    "##### Review the heuristically selected p and q values"
   ]
  },
  {
   "cell_type": "code",
   "execution_count": 16,
   "id": "a412537b-ac0a-4144-a3ca-3c67ff4d7ff0",
   "metadata": {
    "editable": true,
    "execution": {
     "iopub.execute_input": "2025-01-07T20:43:34.267711Z",
     "iopub.status.busy": "2025-01-07T20:43:34.267475Z",
     "iopub.status.idle": "2025-01-07T20:43:34.273212Z",
     "shell.execute_reply": "2025-01-07T20:43:34.271931Z"
    },
    "papermill": {
     "duration": 0.018764,
     "end_time": "2025-01-07T20:43:34.274726",
     "exception": false,
     "start_time": "2025-01-07T20:43:34.255962",
     "status": "completed"
    },
    "slideshow": {
     "slide_type": ""
    },
    "tags": []
   },
   "outputs": [
    {
     "data": {
      "text/plain": [
       "(2, 6)"
      ]
     },
     "execution_count": 16,
     "metadata": {},
     "output_type": "execute_result"
    }
   ],
   "source": [
    "p_heuristic_AR, q_heuristic_MA"
   ]
  },
  {
   "cell_type": "markdown",
   "id": "40a30f42-3c21-41a3-9249-6044f95b4576",
   "metadata": {
    "editable": true,
    "papermill": {
     "duration": 0.012387,
     "end_time": "2025-01-07T20:43:34.299637",
     "exception": false,
     "start_time": "2025-01-07T20:43:34.287250",
     "status": "completed"
    },
    "slideshow": {
     "slide_type": ""
    },
    "tags": []
   },
   "source": [
    "## Heuristically determine a good value for \"d\" for ARIMA model\n",
    "\n",
    "We count the number of times we need to difference the time series to arrive at weak stationarity:"
   ]
  },
  {
   "cell_type": "code",
   "execution_count": 17,
   "id": "d34de12f-3d7d-42a3-92ec-51129036c61e",
   "metadata": {
    "editable": true,
    "execution": {
     "iopub.execute_input": "2025-01-07T20:43:34.316626Z",
     "iopub.status.busy": "2025-01-07T20:43:34.316480Z",
     "iopub.status.idle": "2025-01-07T20:43:34.320708Z",
     "shell.execute_reply": "2025-01-07T20:43:34.319665Z"
    },
    "papermill": {
     "duration": 0.011847,
     "end_time": "2025-01-07T20:43:34.321896",
     "exception": false,
     "start_time": "2025-01-07T20:43:34.310049",
     "status": "completed"
    },
    "slideshow": {
     "slide_type": ""
    },
    "tags": []
   },
   "outputs": [],
   "source": [
    "def difference_to_stationarity_ish(timeseries):\n",
    "    ts = np.array([x for x in timeseries]) # crude?\n",
    "    count_of_differencing_operations = 0\n",
    "    adf_statistic, adf_p = compute_adfuller(ts)\n",
    "\n",
    "    while adf_p > p_value_cutoff_adfuller:\n",
    "        ts = ts[1:] - ts[0:-1]\n",
    "        count_of_differencing_operations += 1\n",
    "        adf_statistic, adf_p = compute_adfuller(ts)\n",
    "        \n",
    "    return count_of_differencing_operations"
   ]
  },
  {
   "cell_type": "code",
   "execution_count": 18,
   "id": "44007cf1-4fe8-4ce7-b3c4-6fa5650b63c9",
   "metadata": {
    "editable": true,
    "execution": {
     "iopub.execute_input": "2025-01-07T20:43:34.334657Z",
     "iopub.status.busy": "2025-01-07T20:43:34.334473Z",
     "iopub.status.idle": "2025-01-07T20:43:34.344101Z",
     "shell.execute_reply": "2025-01-07T20:43:34.343700Z"
    },
    "papermill": {
     "duration": 0.017197,
     "end_time": "2025-01-07T20:43:34.345034",
     "exception": false,
     "start_time": "2025-01-07T20:43:34.327837",
     "status": "completed"
    },
    "slideshow": {
     "slide_type": ""
    },
    "tags": []
   },
   "outputs": [],
   "source": [
    "d_heuristic_ARIMA = difference_to_stationarity_ish(df_train['spot_price'])"
   ]
  },
  {
   "cell_type": "markdown",
   "id": "41b175f4-d79f-4355-84f5-35b7b7c0357d",
   "metadata": {
    "editable": true,
    "papermill": {
     "duration": 0.005867,
     "end_time": "2025-01-07T20:43:34.356847",
     "exception": false,
     "start_time": "2025-01-07T20:43:34.350980",
     "status": "completed"
    },
    "slideshow": {
     "slide_type": ""
    },
    "tags": []
   },
   "source": [
    "## Report heuristically selected ARIMA order"
   ]
  },
  {
   "cell_type": "code",
   "execution_count": 19,
   "id": "1a721d5b-b877-4beb-ac27-f14ec9e1589b",
   "metadata": {
    "editable": true,
    "execution": {
     "iopub.execute_input": "2025-01-07T20:43:34.369302Z",
     "iopub.status.busy": "2025-01-07T20:43:34.369116Z",
     "iopub.status.idle": "2025-01-07T20:43:34.373038Z",
     "shell.execute_reply": "2025-01-07T20:43:34.372546Z"
    },
    "papermill": {
     "duration": 0.011366,
     "end_time": "2025-01-07T20:43:34.374049",
     "exception": false,
     "start_time": "2025-01-07T20:43:34.362683",
     "status": "completed"
    },
    "slideshow": {
     "slide_type": ""
    },
    "tags": []
   },
   "outputs": [
    {
     "data": {
      "text/plain": [
       "(2, 1, 6)"
      ]
     },
     "execution_count": 19,
     "metadata": {},
     "output_type": "execute_result"
    }
   ],
   "source": [
    "(p_heuristic_AR, d_heuristic_ARIMA, q_heuristic_MA)"
   ]
  },
  {
   "cell_type": "markdown",
   "id": "37f8189c-8065-4e5b-b671-00c3705a76d1",
   "metadata": {
    "editable": true,
    "papermill": {
     "duration": 0.005872,
     "end_time": "2025-01-07T20:43:34.385824",
     "exception": false,
     "start_time": "2025-01-07T20:43:34.379952",
     "status": "completed"
    },
    "slideshow": {
     "slide_type": ""
    },
    "tags": []
   },
   "source": [
    "## Define a plotting function for evaluating model fit(s)"
   ]
  },
  {
   "cell_type": "code",
   "execution_count": 20,
   "id": "b35b32e8-f901-4c52-b924-e4904e39dbe9",
   "metadata": {
    "editable": true,
    "execution": {
     "iopub.execute_input": "2025-01-07T20:43:34.398764Z",
     "iopub.status.busy": "2025-01-07T20:43:34.398419Z",
     "iopub.status.idle": "2025-01-07T20:43:34.403955Z",
     "shell.execute_reply": "2025-01-07T20:43:34.403393Z"
    },
    "papermill": {
     "duration": 0.013402,
     "end_time": "2025-01-07T20:43:34.405059",
     "exception": false,
     "start_time": "2025-01-07T20:43:34.391657",
     "status": "completed"
    },
    "slideshow": {
     "slide_type": ""
    },
    "tags": []
   },
   "outputs": [],
   "source": [
    "def plot_it_all(\n",
    "    df_train,\n",
    "    df_test,\n",
    "    fit,\n",
    "    fit_best = None,\n",
    "    column_name = 'spot_price',\n",
    "    label_historical = 'Historical Values',\n",
    "    label_model_of_historical = 'ARIMA Fit on Historical Values',\n",
    "    label_known_future = 'Known Future',\n",
    "    label_forecast_future = 'Forecast Future',\n",
    "):\n",
    "\n",
    "    y_fit = fit.predict()\n",
    "    y_predicted = fit.forecast(steps = len(df_test.index))\n",
    "\n",
    "    if fit_best != None:\n",
    "        y_fit_best = fit_best.predict()\n",
    "    \n",
    "    plt.figure()\n",
    "\n",
    "    plt.plot(df_train.index, df_train[column_name], label = label_historical)\n",
    "    plt.plot(df_train.index[2:], y_fit[2:], label = label_model_of_historical)\n",
    "    plt.plot(df_test.index, df_test[column_name], label = label_known_future)\n",
    "    plt.plot(df_test.index, y_predicted, label = label_forecast_future)\n",
    "\n",
    "    if fit_best != None:\n",
    "        plt.plot(df_test.index, y_fit_best[0:-1], label = 'Best auto-ARIMA')\n",
    "    \n",
    "    plt.xticks(rotation = 85)\n",
    "    plt.legend()\n",
    "    plt.tight_layout()\n",
    "    plt.show()\n",
    "    plt.close()"
   ]
  },
  {
   "cell_type": "markdown",
   "id": "93236fdf-92f9-45e4-8f24-04ca68af07cf",
   "metadata": {
    "editable": true,
    "papermill": {
     "duration": 0.006011,
     "end_time": "2025-01-07T20:43:34.417101",
     "exception": false,
     "start_time": "2025-01-07T20:43:34.411090",
     "status": "completed"
    },
    "slideshow": {
     "slide_type": ""
    },
    "tags": []
   },
   "source": [
    "## Fit an ARIMA model using the heuristically (manually) derived order"
   ]
  },
  {
   "cell_type": "code",
   "execution_count": 21,
   "id": "39eacace-c937-453e-9533-da7f53bbceae",
   "metadata": {
    "editable": true,
    "execution": {
     "iopub.execute_input": "2025-01-07T20:43:34.430335Z",
     "iopub.status.busy": "2025-01-07T20:43:34.430023Z",
     "iopub.status.idle": "2025-01-07T20:43:34.629112Z",
     "shell.execute_reply": "2025-01-07T20:43:34.628451Z"
    },
    "papermill": {
     "duration": 0.208772,
     "end_time": "2025-01-07T20:43:34.631890",
     "exception": false,
     "start_time": "2025-01-07T20:43:34.423118",
     "status": "completed"
    },
    "slideshow": {
     "slide_type": ""
    },
    "tags": []
   },
   "outputs": [],
   "source": [
    "import warnings\n",
    "warnings.filterwarnings('ignore')\n",
    "warnings.simplefilter('ignore')\n",
    "\n",
    "model = ARIMA(\n",
    "    df_train['spot_price'],\n",
    "    freq = time_series_frequency,\n",
    "    order = (p_heuristic_AR, d_heuristic_ARIMA, q_heuristic_MA),\n",
    ")\n",
    "\n",
    "fit = model.fit()"
   ]
  },
  {
   "cell_type": "code",
   "execution_count": 22,
   "id": "232922fb-2799-44c8-9021-5e5a492c199b",
   "metadata": {
    "editable": true,
    "execution": {
     "iopub.execute_input": "2025-01-07T20:43:34.652132Z",
     "iopub.status.busy": "2025-01-07T20:43:34.651939Z",
     "iopub.status.idle": "2025-01-07T20:43:34.826972Z",
     "shell.execute_reply": "2025-01-07T20:43:34.826335Z"
    },
    "papermill": {
     "duration": 0.186046,
     "end_time": "2025-01-07T20:43:34.830953",
     "exception": false,
     "start_time": "2025-01-07T20:43:34.644907",
     "status": "completed"
    },
    "slideshow": {
     "slide_type": ""
    },
    "tags": []
   },
   "outputs": [
    {
     "data": {
      "image/png": "[encoded data removed]",
      "text/plain": [
       "<Figure size 640x480 with 1 Axes>"
      ]
     },
     "metadata": {},
     "output_type": "display_data"
    }
   ],
   "source": [
    "plot_it_all(df_train, df_test, fit)"
   ]
  },
  {
   "cell_type": "markdown",
   "id": "979ee057-068c-415d-8a98-f0a680e939ca",
   "metadata": {
    "editable": true,
    "papermill": {
     "duration": 0.007029,
     "end_time": "2025-01-07T20:43:34.849499",
     "exception": false,
     "start_time": "2025-01-07T20:43:34.842470",
     "status": "completed"
    },
    "slideshow": {
     "slide_type": ""
    },
    "tags": []
   },
   "source": [
    "## Perform an automated search for the best ARIMA value"
   ]
  },
  {
   "cell_type": "code",
   "execution_count": 23,
   "id": "b075d984-617d-4bb1-94ff-2f2d0677eaaa",
   "metadata": {
    "editable": true,
    "execution": {
     "iopub.execute_input": "2025-01-07T20:43:34.864197Z",
     "iopub.status.busy": "2025-01-07T20:43:34.863755Z",
     "iopub.status.idle": "2025-01-07T20:43:35.426835Z",
     "shell.execute_reply": "2025-01-07T20:43:35.426138Z"
    },
    "papermill": {
     "duration": 0.572757,
     "end_time": "2025-01-07T20:43:35.428801",
     "exception": false,
     "start_time": "2025-01-07T20:43:34.856044",
     "status": "completed"
    },
    "slideshow": {
     "slide_type": ""
    },
    "tags": []
   },
   "outputs": [
    {
     "name": "stdout",
     "output_type": "stream",
     "text": [
      "Performing stepwise search to minimize aic\n",
      " ARIMA(2,1,2)(0,0,0)[0] intercept   : AIC=-968.168, Time=0.05 sec\n",
      " ARIMA(0,1,0)(0,0,0)[0] intercept   : AIC=-921.204, Time=0.04 sec\n",
      " ARIMA(1,1,0)(0,0,0)[0] intercept   : AIC=-973.563, Time=0.05 sec\n",
      " ARIMA(0,1,1)(0,0,0)[0] intercept   : AIC=-961.576, Time=0.05 sec\n"
     ]
    },
    {
     "name": "stdout",
     "output_type": "stream",
     "text": [
      " ARIMA(0,1,0)(0,0,0)[0]             : AIC=-923.148, Time=0.03 sec\n",
      " ARIMA(2,1,0)(0,0,0)[0] intercept   : AIC=-971.999, Time=0.03 sec\n",
      " ARIMA(1,1,1)(0,0,0)[0] intercept   : AIC=-971.990, Time=0.05 sec\n",
      " ARIMA(2,1,1)(0,0,0)[0] intercept   : AIC=-970.429, Time=0.07 sec\n",
      " ARIMA(1,1,0)(0,0,0)[0]             : AIC=-975.524, Time=0.04 sec\n"
     ]
    },
    {
     "name": "stdout",
     "output_type": "stream",
     "text": [
      " ARIMA(2,1,0)(0,0,0)[0]             : AIC=-973.958, Time=0.04 sec\n",
      " ARIMA(1,1,1)(0,0,0)[0]             : AIC=-973.948, Time=0.05 sec\n",
      " ARIMA(0,1,1)(0,0,0)[0]             : AIC=-963.508, Time=0.02 sec\n",
      " ARIMA(2,1,1)(0,0,0)[0]             : AIC=-972.421, Time=0.03 sec\n",
      "\n",
      "Best model:  ARIMA(1,1,0)(0,0,0)[0]          \n",
      "Total fit time: 0.553 seconds\n",
      "                               SARIMAX Results                                \n",
      "==============================================================================\n",
      "Dep. Variable:                      y   No. Observations:                   85\n",
      "Model:               SARIMAX(1, 1, 0)   Log Likelihood                 489.762\n",
      "Date:                Tue, 07 Jan 2025   AIC                           -975.524\n",
      "Time:                        12:43:35   BIC                           -970.662\n",
      "Sample:                    10-05-2024   HQIC                          -973.570\n",
      "                         - 12-28-2024                                         \n",
      "Covariance Type:                  opg                                         \n",
      "==============================================================================\n",
      "                 coef    std err          z      P>|z|      [0.025      0.975]\n",
      "------------------------------------------------------------------------------\n",
      "ar.L1          0.7000      0.051     13.836      0.000       0.601       0.799\n",
      "sigma2      4.973e-07    6.6e-08      7.541      0.000    3.68e-07    6.27e-07\n",
      "===================================================================================\n",
      "Ljung-Box (L1) (Q):                   0.22   Jarque-Bera (JB):                 5.47\n",
      "Prob(Q):                              0.64   Prob(JB):                         0.06\n",
      "Heteroskedasticity (H):               1.65   Skew:                            -0.18\n",
      "Prob(H) (two-sided):                  0.19   Kurtosis:                         4.20\n",
      "===================================================================================\n",
      "\n",
      "Warnings:\n",
      "[1] Covariance matrix calculated using the outer product of gradients (complex-step).\n"
     ]
    }
   ],
   "source": [
    "model_best_arima = auto_arima(df_train['spot_price'], stepwise=True, trace=True)\n",
    "print(model_best_arima.summary())"
   ]
  },
  {
   "cell_type": "markdown",
   "id": "7de89cac-8b54-4b1b-9ce6-12e09f1d4c05",
   "metadata": {
    "editable": true,
    "papermill": {
     "duration": 0.007261,
     "end_time": "2025-01-07T20:43:35.443305",
     "exception": false,
     "start_time": "2025-01-07T20:43:35.436044",
     "status": "completed"
    },
    "slideshow": {
     "slide_type": ""
    },
    "tags": []
   },
   "source": [
    "## Report the order recommended by the automated stepwise model search\n",
    "\n",
    "We notice that \"p\" and \"q\" are smaller for the automatically selected model when compared to those of the heuristically \"manually\" selected values.\n",
    "\n",
    "Yay parsimony!"
   ]
  },
  {
   "cell_type": "code",
   "execution_count": 24,
   "id": "88ab1e40-c688-471f-893c-e7dd6f43f554",
   "metadata": {
    "editable": true,
    "execution": {
     "iopub.execute_input": "2025-01-07T20:43:35.458186Z",
     "iopub.status.busy": "2025-01-07T20:43:35.458013Z",
     "iopub.status.idle": "2025-01-07T20:43:35.462712Z",
     "shell.execute_reply": "2025-01-07T20:43:35.461839Z"
    },
    "papermill": {
     "duration": 0.013628,
     "end_time": "2025-01-07T20:43:35.463915",
     "exception": false,
     "start_time": "2025-01-07T20:43:35.450287",
     "status": "completed"
    },
    "slideshow": {
     "slide_type": ""
    },
    "tags": []
   },
   "outputs": [
    {
     "data": {
      "text/plain": [
       "(1, 1, 0)"
      ]
     },
     "execution_count": 24,
     "metadata": {},
     "output_type": "execute_result"
    }
   ],
   "source": [
    "model_best_arima.order"
   ]
  },
  {
   "cell_type": "markdown",
   "id": "151e4c18-3e4a-4c94-a38e-0e43d1bf698e",
   "metadata": {
    "editable": true,
    "papermill": {
     "duration": 0.007022,
     "end_time": "2025-01-07T20:43:35.477977",
     "exception": false,
     "start_time": "2025-01-07T20:43:35.470955",
     "status": "completed"
    },
    "slideshow": {
     "slide_type": ""
    },
    "tags": []
   },
   "source": [
    "## Forecast using \"best-auto\" ARIMA model\n",
    "\n",
    "And plot the results...\n",
    "\n",
    "Running this on 2025-01-07, we observe that the automated search for an optimal order beats my heuristically defined order, as I expected."
   ]
  },
  {
   "cell_type": "code",
   "execution_count": 25,
   "id": "389c6828-e2b3-4321-98aa-033fa04aa488",
   "metadata": {
    "editable": true,
    "execution": {
     "iopub.execute_input": "2025-01-07T20:43:35.492988Z",
     "iopub.status.busy": "2025-01-07T20:43:35.492636Z",
     "iopub.status.idle": "2025-01-07T20:43:35.719727Z",
     "shell.execute_reply": "2025-01-07T20:43:35.718356Z"
    },
    "papermill": {
     "duration": 0.236026,
     "end_time": "2025-01-07T20:43:35.720957",
     "exception": false,
     "start_time": "2025-01-07T20:43:35.484931",
     "status": "completed"
    },
    "slideshow": {
     "slide_type": ""
    },
    "tags": []
   },
   "outputs": [
    {
     "data": {
      "image/png": "[encoded data removed]",
      "text/plain": [
       "<Figure size 640x480 with 1 Axes>"
      ]
     },
     "metadata": {},
     "output_type": "display_data"
    }
   ],
   "source": [
    "fit_best_arima = model_best_arima.fit(df_train)\n",
    "\n",
    "plot_it_all(df_train, df_test, fit, fit_best = fit_best_arima)"
   ]
  }
 ],
 "metadata": {
  "kernelspec": {
   "display_name": "Python 3 (ipykernel)",
   "language": "python",
   "name": "python3"
  },
  "language_info": {
   "codemirror_mode": {
    "name": "ipython",
    "version": 3
   },
   "file_extension": ".py",
   "mimetype": "text/x-python",
   "name": "python",
   "nbconvert_exporter": "python",
   "pygments_lexer": "ipython3",
   "version": "3.10.12"
  },
  "papermill": {
   "default_parameters": {},
   "duration": 4.406135,
   "end_time": "2025-01-07T20:43:36.148605",
   "environment_variables": {},
   "exception": null,
   "input_path": "/home/emily/Desktop/projects/test/badassdatascience/badassdatascience/forecasting/ARIMA/ARIMA_demo_forecasting_EC2_spot_prices.ipynb",
   "output_path": "NEXTFLOW_OUTPUT_ARIMA_demo_forecasting_EC2_spot_prices.ipynb",
   "parameters": {
    "filename_parquet": "resampled.parquet"
   },
   "start_time": "2025-01-07T20:43:31.742470",
   "version": "2.6.0"
  }
 },
 "nbformat": 4,
 "nbformat_minor": 5
}
